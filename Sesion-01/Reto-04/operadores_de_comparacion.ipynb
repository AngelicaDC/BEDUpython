{
  "nbformat": 4,
  "nbformat_minor": 0,
  "metadata": {
    "kernelspec": {
      "display_name": "Python (data_science)",
      "language": "python",
      "name": "data_science"
    },
    "language_info": {
      "codemirror_mode": {
        "name": "ipython",
        "version": 3
      },
      "file_extension": ".py",
      "mimetype": "text/x-python",
      "name": "python",
      "nbconvert_exporter": "python",
      "pygments_lexer": "ipython3",
      "version": "3.8.5"
    },
    "colab": {
      "name": "operadores_de_comparacion.ipynb",
      "provenance": []
    }
  },
  "cells": [
    {
      "cell_type": "markdown",
      "metadata": {
        "id": "4PbzJP-FD7BI"
      },
      "source": [
        "## Reto 4: Operadores de comparación\n",
        "\n",
        "### 1. Objetivos:\n",
        "    - Practicar la comparación de números, strings y booleanos\n",
        " \n",
        "---\n",
        "    \n",
        "### 2. Desarrollo:"
      ]
    },
    {
      "cell_type": "markdown",
      "metadata": {
        "id": "d82o6JMjD7BK"
      },
      "source": [
        "A continuación tienes algunas variables que han sido asignadas:"
      ]
    },
    {
      "cell_type": "code",
      "metadata": {
        "id": "gP-yqh2TD7BL"
      },
      "source": [
        "var_1 = 3\n",
        "var_2 = 5\n",
        "var_3 = 9\n",
        "var_4 = 1\n",
        "var_5 = 9\n",
        "var_6 = -6\n",
        "var_7 = 5\n",
        "var_8 = 4"
      ],
      "execution_count": 1,
      "outputs": []
    },
    {
      "cell_type": "markdown",
      "metadata": {
        "id": "uCQIXdUxD7BL"
      },
      "source": [
        "A continuación tienes algunas comparaciones que se encuentran incompletas, junto con el resultado que se espera de dicha comparación. Agrega los `operadores de comparación` adecuados, en medio de las variables, para que al correr las celdas se obtengan los `Resultados esperados`. Para este reto, los operadores `==` y `!=` no están permitidos."
      ]
    },
    {
      "cell_type": "code",
      "metadata": {
        "id": "pdUp3AfwD7BM",
        "outputId": "39ee0698-a0e9-490c-b58f-e61f398b064a",
        "colab": {
          "base_uri": "https://localhost:8080/"
        }
      },
      "source": [
        "var_1 > var_3  # Resultado esperado: False"
      ],
      "execution_count": 4,
      "outputs": [
        {
          "output_type": "execute_result",
          "data": {
            "text/plain": [
              "False"
            ]
          },
          "metadata": {
            "tags": []
          },
          "execution_count": 4
        }
      ]
    },
    {
      "cell_type": "code",
      "metadata": {
        "id": "wZZYvF8aD7BM",
        "outputId": "5eb39a86-18d6-41e8-a373-3686ad668ad4",
        "colab": {
          "base_uri": "https://localhost:8080/"
        }
      },
      "source": [
        "var_1 > var_4 # Resultado esperado: True"
      ],
      "execution_count": 3,
      "outputs": [
        {
          "output_type": "execute_result",
          "data": {
            "text/plain": [
              "True"
            ]
          },
          "metadata": {
            "tags": []
          },
          "execution_count": 3
        }
      ]
    },
    {
      "cell_type": "code",
      "metadata": {
        "id": "T8CsN97wD7BM",
        "outputId": "0230b664-0c1d-4188-a05e-c7a055c66616",
        "colab": {
          "base_uri": "https://localhost:8080/"
        }
      },
      "source": [
        "var_2%var_7 == 0  # Resultado esperado: True"
      ],
      "execution_count": 2,
      "outputs": [
        {
          "output_type": "execute_result",
          "data": {
            "text/plain": [
              "True"
            ]
          },
          "metadata": {
            "tags": []
          },
          "execution_count": 2
        }
      ]
    },
    {
      "cell_type": "code",
      "metadata": {
        "id": "XMaLXE22D7BN",
        "outputId": "19bf405f-bf3f-4433-dad9-d3c86c7d4523",
        "colab": {
          "base_uri": "https://localhost:8080/"
        }
      },
      "source": [
        "var_8 > var_6  # Resultado esperado: True"
      ],
      "execution_count": 5,
      "outputs": [
        {
          "output_type": "execute_result",
          "data": {
            "text/plain": [
              "True"
            ]
          },
          "metadata": {
            "tags": []
          },
          "execution_count": 5
        }
      ]
    },
    {
      "cell_type": "code",
      "metadata": {
        "id": "_ykrwFE1D7BN",
        "outputId": "0f66443c-19d8-4d2e-d4cb-58d701bb07ca",
        "colab": {
          "base_uri": "https://localhost:8080/"
        }
      },
      "source": [
        "var_3 > var_5  # Resultado esperado: False"
      ],
      "execution_count": 6,
      "outputs": [
        {
          "output_type": "execute_result",
          "data": {
            "text/plain": [
              "False"
            ]
          },
          "metadata": {
            "tags": []
          },
          "execution_count": 6
        }
      ]
    },
    {
      "cell_type": "code",
      "metadata": {
        "id": "VnzJAqRhD7BO",
        "outputId": "550e9c68-26b0-4fd3-db13-9049bd788f6d",
        "colab": {
          "base_uri": "https://localhost:8080/"
        }
      },
      "source": [
        "var_1 < var_3  # Resultado esperado: True"
      ],
      "execution_count": 9,
      "outputs": [
        {
          "output_type": "execute_result",
          "data": {
            "text/plain": [
              "True"
            ]
          },
          "metadata": {
            "tags": []
          },
          "execution_count": 9
        }
      ]
    },
    {
      "cell_type": "code",
      "metadata": {
        "id": "AdEM8fvED7BO",
        "outputId": "614602ba-ff45-433b-a57d-ba088a7157c4",
        "colab": {
          "base_uri": "https://localhost:8080/"
        }
      },
      "source": [
        "var_5 < var_4  # Resultado esperado: False"
      ],
      "execution_count": 7,
      "outputs": [
        {
          "output_type": "execute_result",
          "data": {
            "text/plain": [
              "False"
            ]
          },
          "metadata": {
            "tags": []
          },
          "execution_count": 7
        }
      ]
    },
    {
      "cell_type": "code",
      "metadata": {
        "id": "QrIkK-A0D7BO",
        "outputId": "91d09040-e1bc-472f-a078-604dc53edfde",
        "colab": {
          "base_uri": "https://localhost:8080/"
        }
      },
      "source": [
        "var_3 / var_5 ==1  # Resultado esperado: True"
      ],
      "execution_count": 14,
      "outputs": [
        {
          "output_type": "execute_result",
          "data": {
            "text/plain": [
              "True"
            ]
          },
          "metadata": {
            "tags": []
          },
          "execution_count": 14
        }
      ]
    },
    {
      "cell_type": "markdown",
      "metadata": {
        "id": "huRwKTp9D7BP"
      },
      "source": [
        "<details><summary>Solución</summary>\n",
        "\n",
        "```python\n",
        "var_1 > var_3\n",
        "var_1 > var_4\n",
        "var_2 >= var_7\n",
        "var_8 > var_6\n",
        "var_3 > var_5\n",
        "var_1 < var_3\n",
        "var_5 < var_4\n",
        "var_3 <= var_5\n",
        "```\n",
        "    \n",
        "</details>"
      ]
    },
    {
      "cell_type": "code",
      "metadata": {
        "id": "AKx75dGGD7BP"
      },
      "source": [
        ""
      ],
      "execution_count": null,
      "outputs": []
    }
  ]
}