{
  "nbformat": 4,
  "nbformat_minor": 0,
  "metadata": {
    "kernelspec": {
      "display_name": "Python (data_science)",
      "language": "python",
      "name": "data_science"
    },
    "language_info": {
      "codemirror_mode": {
        "name": "ipython",
        "version": 3
      },
      "file_extension": ".py",
      "mimetype": "text/x-python",
      "name": "python",
      "nbconvert_exporter": "python",
      "pygments_lexer": "ipython3",
      "version": "3.8.5"
    },
    "colab": {
      "name": "variables.ipynb",
      "provenance": []
    }
  },
  "cells": [
    {
      "cell_type": "markdown",
      "metadata": {
        "id": "I1uSgeWXsYlX"
      },
      "source": [
        "## Reto 1: Variables\n",
        "\n",
        "### 1. Objetivos:\n",
        "    - Practicar convención de nombramiento y asignación de variables\n",
        " \n",
        "---\n",
        "    \n",
        "### 2. Desarrollo:"
      ]
    },
    {
      "cell_type": "markdown",
      "metadata": {
        "id": "ULQxneECsYlZ"
      },
      "source": [
        "Indica cuáles nombres de variables son válidos y cuáles con inválidos. Puedes hacerlo colocando un comentario al lado de cada asignación (`# esto es un comentario`). Los comentarios son texto que Python ignora a la hora de correr una celda. Nos sirven para hacer anotaciones."
      ]
    },
    {
      "cell_type": "code",
      "metadata": {
        "id": "7FoZVSa-sYla"
      },
      "source": [
        "#Todas las variables deben de llevar solo minusculas\n",
        "\n",
        "var_1 = 5 #valido\n",
        "\n",
        "variable_nueva_2 = 10 #valido\n",
        "\n",
        "Variable_nueva_3 = 11 #invalido\n",
        "\n",
        "var_3_1 = 14 #valido\n",
        "\n",
        "varNueva4 = 44 #invalido\n",
        "\n",
        "var_nuevaNumero = 98 #invalido\n",
        "\n",
        "var_num = 22 #valido\n",
        "\n",
        "VarNum = 11 #invalido\n",
        "\n",
        "soyUnaVariable = 14 #invalido"
      ],
      "execution_count": 3,
      "outputs": []
    },
    {
      "cell_type": "markdown",
      "metadata": {
        "id": "pLj6Jo6hsYla"
      },
      "source": [
        "<details><summary>Solución</summary>\n",
        "\n",
        "```python\n",
        "var_1 = 5  # Válida\n",
        "\n",
        "variable_nueva_2 = 10  # Válida\n",
        "\n",
        "Variable_nueva_3 = 11  # Inválida\n",
        "\n",
        "var_3_1 = 14  # Válida\n",
        "\n",
        "varNueva4 = 44  # Inválida\n",
        "\n",
        "var_nuevaNumero = 98  # Inválida\n",
        "\n",
        "var_num = 22  # Válida\n",
        "\n",
        "VarNum = 11  # Inválida\n",
        "\n",
        "soyUnaVariable = 14  # Inválida\n",
        "```\n",
        "\n",
        "</details>"
      ]
    },
    {
      "cell_type": "markdown",
      "metadata": {
        "id": "n0Uzxg-BsYlb"
      },
      "source": [
        "Ahora practica realizar algunas asignaciones en la celda de abajo. ¡Puedes asignarle a tus variables números enteros y también decimales!"
      ]
    },
    {
      "cell_type": "code",
      "metadata": {
        "id": "VcCJUi-ksYlb"
      },
      "source": [
        "# Asigna el número 12345 a una variable llamada variable_locochona\n",
        "\n",
        "variable_locochona = 12345\n",
        "\n",
        "# Asigna el número 14.567 a una variable llamada var_decimal\n",
        "\n",
        "var_decimal = 14.567\n",
        "\n",
        "# Asigna cualquier número a una varible que tenga 5 palabras en su nombre (recuerda las convenciones)\n",
        "\n",
        "mi_variable_favorita_es_esta = 1008\n",
        "\n",
        "# Asigna cualquier número a una variable que incluya palabras y números en su nombre\n",
        "\n",
        "var_10_0 = 10.0\n",
        "\n",
        "# Asigna variables a discreción\n",
        "\n",
        "nuevo_mes = 10\n",
        "\n",
        "nueva_variable = 15"
      ],
      "execution_count": 4,
      "outputs": []
    },
    {
      "cell_type": "markdown",
      "metadata": {
        "id": "DfNZYPncsYlc"
      },
      "source": [
        "<details><summary>Solución</summary>\n",
        "\n",
        "```python\n",
        "variable_locochona = 12345\n",
        "\n",
        "var_decimal = 14.567\n",
        "\n",
        "var_hecha_de_cinco_palabras = 5234\n",
        "\n",
        "variable_con_numeros_3_4 = 12342\n",
        "```\n",
        "    \n",
        "</details>"
      ]
    },
    {
      "cell_type": "code",
      "metadata": {
        "colab": {
          "base_uri": "https://localhost:8080/"
        },
        "id": "cQ_RcjvNsYlc",
        "outputId": "1d9149c7-985e-4c4a-97f1-bc2f3e5418d0"
      },
      "source": [
        "4%3"
      ],
      "execution_count": 6,
      "outputs": [
        {
          "output_type": "execute_result",
          "data": {
            "text/plain": [
              "1"
            ]
          },
          "metadata": {
            "tags": []
          },
          "execution_count": 6
        }
      ]
    }
  ]
}