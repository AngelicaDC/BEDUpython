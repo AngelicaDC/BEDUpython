{
  "nbformat": 4,
  "nbformat_minor": 0,
  "metadata": {
    "kernelspec": {
      "display_name": "Python (data_science)",
      "language": "python",
      "name": "data_science"
    },
    "language_info": {
      "codemirror_mode": {
        "name": "ipython",
        "version": 3
      },
      "file_extension": ".py",
      "mimetype": "text/x-python",
      "name": "python",
      "nbconvert_exporter": "python",
      "pygments_lexer": "ipython3",
      "version": "3.8.5"
    },
    "colab": {
      "name": "operaciones_numericas.ipynb",
      "provenance": []
    }
  },
  "cells": [
    {
      "cell_type": "markdown",
      "metadata": {
        "id": "fOhdyJ7I1nG3"
      },
      "source": [
        "## Reto 2: Operaciones numéricas\n",
        "\n",
        "### 1. Objetivos:\n",
        "    - Practicar asignación de variables y operaciones aritméticas en Python\n",
        " \n",
        "---\n",
        "    \n",
        "### 2. Desarrollo:"
      ]
    },
    {
      "cell_type": "markdown",
      "metadata": {
        "id": "Quep-Hb51nG5"
      },
      "source": [
        "#### 1. Asignación de los números correctos\n",
        "\n",
        "A continuación, verás unas variables que tienen nombre pero que todavía no tienen ningún valor asignado:"
      ]
    },
    {
      "cell_type": "code",
      "metadata": {
        "id": "RrNiNIGi1nG5"
      },
      "source": [
        "var_1 = 4\n",
        "\n",
        "var_2 = 10\n",
        "\n",
        "var_3 =  6\n",
        "\n",
        "var_4 = 8\n",
        "\n",
        "var_5 = 2"
      ],
      "execution_count": 1,
      "outputs": []
    },
    {
      "cell_type": "markdown",
      "metadata": {
        "id": "bPBnDB_F1nG6"
      },
      "source": [
        "Ahora, tenemos debajo operaciones aritméticas que se han realizado con estas variables, junto a los resultados numéricos que esperamos obtener de estas operaciones:"
      ]
    },
    {
      "cell_type": "code",
      "metadata": {
        "id": "_pVNgHJM1nG6",
        "outputId": "a92a3832-dbcb-4f64-9aff-f883e19e2078",
        "colab": {
          "base_uri": "https://localhost:8080/"
        }
      },
      "source": [
        "var_1 + var_2  # Resultado esperado: 14"
      ],
      "execution_count": 2,
      "outputs": [
        {
          "output_type": "execute_result",
          "data": {
            "text/plain": [
              "14"
            ]
          },
          "metadata": {
            "tags": []
          },
          "execution_count": 2
        }
      ]
    },
    {
      "cell_type": "code",
      "metadata": {
        "id": "YsSrZqKc1nG6",
        "outputId": "cdd0a878-e710-47b0-e089-a1a6640e22e2",
        "colab": {
          "base_uri": "https://localhost:8080/"
        }
      },
      "source": [
        "var_3 - var_2  # Resultado esperado: -4"
      ],
      "execution_count": 3,
      "outputs": [
        {
          "output_type": "execute_result",
          "data": {
            "text/plain": [
              "-4"
            ]
          },
          "metadata": {
            "tags": []
          },
          "execution_count": 3
        }
      ]
    },
    {
      "cell_type": "code",
      "metadata": {
        "id": "D_ae_lil1nG7",
        "outputId": "efe4a5b1-89ca-436f-ee0b-7a88adba5ce3",
        "colab": {
          "base_uri": "https://localhost:8080/"
        }
      },
      "source": [
        "var_3 * var_1  # Resultado esperado: 24"
      ],
      "execution_count": 4,
      "outputs": [
        {
          "output_type": "execute_result",
          "data": {
            "text/plain": [
              "24"
            ]
          },
          "metadata": {
            "tags": []
          },
          "execution_count": 4
        }
      ]
    },
    {
      "cell_type": "code",
      "metadata": {
        "id": "MdBsbQCq1nG7",
        "outputId": "dfc48621-e36a-45d8-8ecd-e22e3b8f93fb",
        "colab": {
          "base_uri": "https://localhost:8080/"
        }
      },
      "source": [
        "var_5 + var_3  # Resultado esperado: 8"
      ],
      "execution_count": 5,
      "outputs": [
        {
          "output_type": "execute_result",
          "data": {
            "text/plain": [
              "8"
            ]
          },
          "metadata": {
            "tags": []
          },
          "execution_count": 5
        }
      ]
    },
    {
      "cell_type": "code",
      "metadata": {
        "id": "Y3KAWJzX1nG8",
        "outputId": "97b0a631-aa51-48aa-e318-1b8229b93c03",
        "colab": {
          "base_uri": "https://localhost:8080/"
        }
      },
      "source": [
        "var_4 / var_5  # Resultado esperado: 4"
      ],
      "execution_count": 6,
      "outputs": [
        {
          "output_type": "execute_result",
          "data": {
            "text/plain": [
              "4.0"
            ]
          },
          "metadata": {
            "tags": []
          },
          "execution_count": 6
        }
      ]
    },
    {
      "cell_type": "markdown",
      "metadata": {
        "id": "C70OnNRp1nG8"
      },
      "source": [
        "El reto es asignar los números correctos a las variables de arriba de manera que al correr las celdas que contienen operaciones numéricas obtengamos los `Resultados esperados`.\n",
        "\n",
        ">*Tip*: Todos los números son pares"
      ]
    },
    {
      "cell_type": "markdown",
      "metadata": {
        "id": "a3YglLPx1nG9"
      },
      "source": [
        "<details><summary>Solución</summary>\n",
        "\n",
        "```python\n",
        "var_1 = 4\n",
        "\n",
        "var_2 = 10\n",
        "\n",
        "var_3 = 6\n",
        "\n",
        "var_4 = 8\n",
        "\n",
        "var_5 = 2\n",
        "```\n",
        "    \n",
        "</details>"
      ]
    },
    {
      "cell_type": "code",
      "metadata": {
        "id": "K0cdgCdi1nG9"
      },
      "source": [
        ""
      ],
      "execution_count": null,
      "outputs": []
    }
  ]
}