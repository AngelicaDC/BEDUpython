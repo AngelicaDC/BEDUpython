{
  "nbformat": 4,
  "nbformat_minor": 0,
  "metadata": {
    "kernelspec": {
      "display_name": "Python (data_science)",
      "language": "python",
      "name": "data_science"
    },
    "language_info": {
      "codemirror_mode": {
        "name": "ipython",
        "version": 3
      },
      "file_extension": ".py",
      "mimetype": "text/x-python",
      "name": "python",
      "nbconvert_exporter": "python",
      "pygments_lexer": "ipython3",
      "version": "3.8.5"
    },
    "colab": {
      "name": "treemaps.ipynb",
      "provenance": []
    }
  },
  "cells": [
    {
      "cell_type": "markdown",
      "metadata": {
        "id": "H-gFrpM6oBO1"
      },
      "source": [
        "## Ejemplo 2: Treemaps\n",
        "\n",
        "### 1. Objetivos:\n",
        "    - Aprender a generar e interpretar treemaps\n",
        " \n",
        "---\n",
        "    \n",
        "### 2. Desarrollo:"
      ]
    },
    {
      "cell_type": "code",
      "metadata": {
        "id": "KMlfuMhvoBO4"
      },
      "source": [
        "import plotly.express as px\n",
        "import pandas as pd"
      ],
      "execution_count": 1,
      "outputs": []
    },
    {
      "cell_type": "code",
      "metadata": {
        "colab": {
          "base_uri": "https://localhost:8080/",
          "height": 349
        },
        "id": "2EfRRwAzoM1Z",
        "outputId": "7f14ad4a-5b51-44b2-c686-bc0ad7ffd212"
      },
      "source": [
        "!pip install plotly --upgrade"
      ],
      "execution_count": 4,
      "outputs": [
        {
          "output_type": "stream",
          "name": "stdout",
          "text": [
            "Requirement already satisfied: plotly in /usr/local/lib/python3.7/dist-packages (4.4.1)\n",
            "Collecting plotly\n",
            "  Downloading plotly-5.3.1-py2.py3-none-any.whl (23.9 MB)\n",
            "\u001b[K     |████████████████████████████████| 23.9 MB 13 kB/s \n",
            "\u001b[?25hRequirement already satisfied: six in /usr/local/lib/python3.7/dist-packages (from plotly) (1.15.0)\n",
            "Collecting tenacity>=6.2.0\n",
            "  Downloading tenacity-8.0.1-py3-none-any.whl (24 kB)\n",
            "Installing collected packages: tenacity, plotly\n",
            "  Attempting uninstall: plotly\n",
            "    Found existing installation: plotly 4.4.1\n",
            "    Uninstalling plotly-4.4.1:\n",
            "      Successfully uninstalled plotly-4.4.1\n",
            "Successfully installed plotly-5.3.1 tenacity-8.0.1\n"
          ]
        },
        {
          "output_type": "display_data",
          "data": {
            "application/vnd.colab-display-data+json": {
              "pip_warning": {
                "packages": [
                  "_plotly_utils",
                  "plotly"
                ]
              }
            }
          },
          "metadata": {}
        }
      ]
    },
    {
      "cell_type": "code",
      "metadata": {
        "colab": {
          "base_uri": "https://localhost:8080/"
        },
        "id": "ujQGbrn1oFKT",
        "outputId": "69c21525-0249-4567-b0e3-6a07536d7c8e"
      },
      "source": [
        "from google.colab import drive\n",
        "drive.mount('/content/drive')"
      ],
      "execution_count": 2,
      "outputs": [
        {
          "output_type": "stream",
          "name": "stdout",
          "text": [
            "Drive already mounted at /content/drive; to attempt to forcibly remount, call drive.mount(\"/content/drive\", force_remount=True).\n"
          ]
        }
      ]
    },
    {
      "cell_type": "markdown",
      "metadata": {
        "id": "bQVo1MdkoBO6"
      },
      "source": [
        "Existen dos maneras  de generar treemaps. La primera solamente es una manera de visualizar una jerarquía. Usando `plotly.express` podemos visualizar jerarquías tipo estructura de árbol.\n",
        "\n",
        "Por ejemplo, tenemos esta estructura:"
      ]
    },
    {
      "cell_type": "code",
      "metadata": {
        "colab": {
          "base_uri": "https://localhost:8080/",
          "height": 35
        },
        "id": "PfI92yqnoBO6",
        "outputId": "89377a48-0c70-411c-e1e0-becda6477b56"
      },
      "source": [
        "from IPython.display import Image\n",
        "Image('../Imgs/sesion_6-7.png')"
      ],
      "execution_count": 3,
      "outputs": [
        {
          "output_type": "execute_result",
          "data": {
            "image/png": "../Imgs/sesion_6-7.png",
            "text/plain": [
              "<IPython.core.display.Image object>"
            ]
          },
          "metadata": {},
          "execution_count": 3
        }
      ]
    },
    {
      "cell_type": "markdown",
      "metadata": {
        "id": "DuDVHf83oBO8"
      },
      "source": [
        "Podemos crear un treemap para visualizarla de otra manera que resulte más clara:"
      ]
    },
    {
      "cell_type": "code",
      "metadata": {
        "colab": {
          "base_uri": "https://localhost:8080/",
          "height": 542
        },
        "id": "bjzCmMCcoBO9",
        "outputId": "f060cf60-0a0f-4b7d-811e-a015fb20d82a"
      },
      "source": [
        "fig = px.treemap(\n",
        "    names=['A', 'B', 'C', 'D', 'E', 'a', 'b', 'c', 'd', 'x', 'y', 'z'],\n",
        "    parents=['', '', '', '', '', 'A', 'B', 'B', 'E', 'b', 'a', 'd']\n",
        ")\n",
        "\n",
        "fig.show()"
      ],
      "execution_count": 4,
      "outputs": [
        {
          "output_type": "display_data",
          "data": {
            "text/html": [
              "<html>\n",
              "<head><meta charset=\"utf-8\" /></head>\n",
              "<body>\n",
              "    <div>            <script src=\"https://cdnjs.cloudflare.com/ajax/libs/mathjax/2.7.5/MathJax.js?config=TeX-AMS-MML_SVG\"></script><script type=\"text/javascript\">if (window.MathJax) {MathJax.Hub.Config({SVG: {font: \"STIX-Web\"}});}</script>                <script type=\"text/javascript\">window.PlotlyConfig = {MathJaxConfig: 'local'};</script>\n",
              "        <script src=\"https://cdn.plot.ly/plotly-2.4.2.min.js\"></script>                <div id=\"74cea35a-7d36-42c9-9fd6-e560955c8b76\" class=\"plotly-graph-div\" style=\"height:525px; width:100%;\"></div>            <script type=\"text/javascript\">                                    window.PLOTLYENV=window.PLOTLYENV || {};                                    if (document.getElementById(\"74cea35a-7d36-42c9-9fd6-e560955c8b76\")) {                    Plotly.newPlot(                        \"74cea35a-7d36-42c9-9fd6-e560955c8b76\",                        [{\"domain\":{\"x\":[0.0,1.0],\"y\":[0.0,1.0]},\"hovertemplate\":\"label=%{label}<br>parent=%{parent}<extra></extra>\",\"labels\":[\"A\",\"B\",\"C\",\"D\",\"E\",\"a\",\"b\",\"c\",\"d\",\"x\",\"y\",\"z\"],\"name\":\"\",\"parents\":[\"\",\"\",\"\",\"\",\"\",\"A\",\"B\",\"B\",\"E\",\"b\",\"a\",\"d\"],\"type\":\"treemap\"}],                        {\"legend\":{\"tracegroupgap\":0},\"margin\":{\"t\":60},\"template\":{\"data\":{\"bar\":[{\"error_x\":{\"color\":\"#2a3f5f\"},\"error_y\":{\"color\":\"#2a3f5f\"},\"marker\":{\"line\":{\"color\":\"#E5ECF6\",\"width\":0.5},\"pattern\":{\"fillmode\":\"overlay\",\"size\":10,\"solidity\":0.2}},\"type\":\"bar\"}],\"barpolar\":[{\"marker\":{\"line\":{\"color\":\"#E5ECF6\",\"width\":0.5},\"pattern\":{\"fillmode\":\"overlay\",\"size\":10,\"solidity\":0.2}},\"type\":\"barpolar\"}],\"carpet\":[{\"aaxis\":{\"endlinecolor\":\"#2a3f5f\",\"gridcolor\":\"white\",\"linecolor\":\"white\",\"minorgridcolor\":\"white\",\"startlinecolor\":\"#2a3f5f\"},\"baxis\":{\"endlinecolor\":\"#2a3f5f\",\"gridcolor\":\"white\",\"linecolor\":\"white\",\"minorgridcolor\":\"white\",\"startlinecolor\":\"#2a3f5f\"},\"type\":\"carpet\"}],\"choropleth\":[{\"colorbar\":{\"outlinewidth\":0,\"ticks\":\"\"},\"type\":\"choropleth\"}],\"contour\":[{\"colorbar\":{\"outlinewidth\":0,\"ticks\":\"\"},\"colorscale\":[[0.0,\"#0d0887\"],[0.1111111111111111,\"#46039f\"],[0.2222222222222222,\"#7201a8\"],[0.3333333333333333,\"#9c179e\"],[0.4444444444444444,\"#bd3786\"],[0.5555555555555556,\"#d8576b\"],[0.6666666666666666,\"#ed7953\"],[0.7777777777777778,\"#fb9f3a\"],[0.8888888888888888,\"#fdca26\"],[1.0,\"#f0f921\"]],\"type\":\"contour\"}],\"contourcarpet\":[{\"colorbar\":{\"outlinewidth\":0,\"ticks\":\"\"},\"type\":\"contourcarpet\"}],\"heatmap\":[{\"colorbar\":{\"outlinewidth\":0,\"ticks\":\"\"},\"colorscale\":[[0.0,\"#0d0887\"],[0.1111111111111111,\"#46039f\"],[0.2222222222222222,\"#7201a8\"],[0.3333333333333333,\"#9c179e\"],[0.4444444444444444,\"#bd3786\"],[0.5555555555555556,\"#d8576b\"],[0.6666666666666666,\"#ed7953\"],[0.7777777777777778,\"#fb9f3a\"],[0.8888888888888888,\"#fdca26\"],[1.0,\"#f0f921\"]],\"type\":\"heatmap\"}],\"heatmapgl\":[{\"colorbar\":{\"outlinewidth\":0,\"ticks\":\"\"},\"colorscale\":[[0.0,\"#0d0887\"],[0.1111111111111111,\"#46039f\"],[0.2222222222222222,\"#7201a8\"],[0.3333333333333333,\"#9c179e\"],[0.4444444444444444,\"#bd3786\"],[0.5555555555555556,\"#d8576b\"],[0.6666666666666666,\"#ed7953\"],[0.7777777777777778,\"#fb9f3a\"],[0.8888888888888888,\"#fdca26\"],[1.0,\"#f0f921\"]],\"type\":\"heatmapgl\"}],\"histogram\":[{\"marker\":{\"pattern\":{\"fillmode\":\"overlay\",\"size\":10,\"solidity\":0.2}},\"type\":\"histogram\"}],\"histogram2d\":[{\"colorbar\":{\"outlinewidth\":0,\"ticks\":\"\"},\"colorscale\":[[0.0,\"#0d0887\"],[0.1111111111111111,\"#46039f\"],[0.2222222222222222,\"#7201a8\"],[0.3333333333333333,\"#9c179e\"],[0.4444444444444444,\"#bd3786\"],[0.5555555555555556,\"#d8576b\"],[0.6666666666666666,\"#ed7953\"],[0.7777777777777778,\"#fb9f3a\"],[0.8888888888888888,\"#fdca26\"],[1.0,\"#f0f921\"]],\"type\":\"histogram2d\"}],\"histogram2dcontour\":[{\"colorbar\":{\"outlinewidth\":0,\"ticks\":\"\"},\"colorscale\":[[0.0,\"#0d0887\"],[0.1111111111111111,\"#46039f\"],[0.2222222222222222,\"#7201a8\"],[0.3333333333333333,\"#9c179e\"],[0.4444444444444444,\"#bd3786\"],[0.5555555555555556,\"#d8576b\"],[0.6666666666666666,\"#ed7953\"],[0.7777777777777778,\"#fb9f3a\"],[0.8888888888888888,\"#fdca26\"],[1.0,\"#f0f921\"]],\"type\":\"histogram2dcontour\"}],\"mesh3d\":[{\"colorbar\":{\"outlinewidth\":0,\"ticks\":\"\"},\"type\":\"mesh3d\"}],\"parcoords\":[{\"line\":{\"colorbar\":{\"outlinewidth\":0,\"ticks\":\"\"}},\"type\":\"parcoords\"}],\"pie\":[{\"automargin\":true,\"type\":\"pie\"}],\"scatter\":[{\"marker\":{\"colorbar\":{\"outlinewidth\":0,\"ticks\":\"\"}},\"type\":\"scatter\"}],\"scatter3d\":[{\"line\":{\"colorbar\":{\"outlinewidth\":0,\"ticks\":\"\"}},\"marker\":{\"colorbar\":{\"outlinewidth\":0,\"ticks\":\"\"}},\"type\":\"scatter3d\"}],\"scattercarpet\":[{\"marker\":{\"colorbar\":{\"outlinewidth\":0,\"ticks\":\"\"}},\"type\":\"scattercarpet\"}],\"scattergeo\":[{\"marker\":{\"colorbar\":{\"outlinewidth\":0,\"ticks\":\"\"}},\"type\":\"scattergeo\"}],\"scattergl\":[{\"marker\":{\"colorbar\":{\"outlinewidth\":0,\"ticks\":\"\"}},\"type\":\"scattergl\"}],\"scattermapbox\":[{\"marker\":{\"colorbar\":{\"outlinewidth\":0,\"ticks\":\"\"}},\"type\":\"scattermapbox\"}],\"scatterpolar\":[{\"marker\":{\"colorbar\":{\"outlinewidth\":0,\"ticks\":\"\"}},\"type\":\"scatterpolar\"}],\"scatterpolargl\":[{\"marker\":{\"colorbar\":{\"outlinewidth\":0,\"ticks\":\"\"}},\"type\":\"scatterpolargl\"}],\"scatterternary\":[{\"marker\":{\"colorbar\":{\"outlinewidth\":0,\"ticks\":\"\"}},\"type\":\"scatterternary\"}],\"surface\":[{\"colorbar\":{\"outlinewidth\":0,\"ticks\":\"\"},\"colorscale\":[[0.0,\"#0d0887\"],[0.1111111111111111,\"#46039f\"],[0.2222222222222222,\"#7201a8\"],[0.3333333333333333,\"#9c179e\"],[0.4444444444444444,\"#bd3786\"],[0.5555555555555556,\"#d8576b\"],[0.6666666666666666,\"#ed7953\"],[0.7777777777777778,\"#fb9f3a\"],[0.8888888888888888,\"#fdca26\"],[1.0,\"#f0f921\"]],\"type\":\"surface\"}],\"table\":[{\"cells\":{\"fill\":{\"color\":\"#EBF0F8\"},\"line\":{\"color\":\"white\"}},\"header\":{\"fill\":{\"color\":\"#C8D4E3\"},\"line\":{\"color\":\"white\"}},\"type\":\"table\"}]},\"layout\":{\"annotationdefaults\":{\"arrowcolor\":\"#2a3f5f\",\"arrowhead\":0,\"arrowwidth\":1},\"autotypenumbers\":\"strict\",\"coloraxis\":{\"colorbar\":{\"outlinewidth\":0,\"ticks\":\"\"}},\"colorscale\":{\"diverging\":[[0,\"#8e0152\"],[0.1,\"#c51b7d\"],[0.2,\"#de77ae\"],[0.3,\"#f1b6da\"],[0.4,\"#fde0ef\"],[0.5,\"#f7f7f7\"],[0.6,\"#e6f5d0\"],[0.7,\"#b8e186\"],[0.8,\"#7fbc41\"],[0.9,\"#4d9221\"],[1,\"#276419\"]],\"sequential\":[[0.0,\"#0d0887\"],[0.1111111111111111,\"#46039f\"],[0.2222222222222222,\"#7201a8\"],[0.3333333333333333,\"#9c179e\"],[0.4444444444444444,\"#bd3786\"],[0.5555555555555556,\"#d8576b\"],[0.6666666666666666,\"#ed7953\"],[0.7777777777777778,\"#fb9f3a\"],[0.8888888888888888,\"#fdca26\"],[1.0,\"#f0f921\"]],\"sequentialminus\":[[0.0,\"#0d0887\"],[0.1111111111111111,\"#46039f\"],[0.2222222222222222,\"#7201a8\"],[0.3333333333333333,\"#9c179e\"],[0.4444444444444444,\"#bd3786\"],[0.5555555555555556,\"#d8576b\"],[0.6666666666666666,\"#ed7953\"],[0.7777777777777778,\"#fb9f3a\"],[0.8888888888888888,\"#fdca26\"],[1.0,\"#f0f921\"]]},\"colorway\":[\"#636efa\",\"#EF553B\",\"#00cc96\",\"#ab63fa\",\"#FFA15A\",\"#19d3f3\",\"#FF6692\",\"#B6E880\",\"#FF97FF\",\"#FECB52\"],\"font\":{\"color\":\"#2a3f5f\"},\"geo\":{\"bgcolor\":\"white\",\"lakecolor\":\"white\",\"landcolor\":\"#E5ECF6\",\"showlakes\":true,\"showland\":true,\"subunitcolor\":\"white\"},\"hoverlabel\":{\"align\":\"left\"},\"hovermode\":\"closest\",\"mapbox\":{\"style\":\"light\"},\"paper_bgcolor\":\"white\",\"plot_bgcolor\":\"#E5ECF6\",\"polar\":{\"angularaxis\":{\"gridcolor\":\"white\",\"linecolor\":\"white\",\"ticks\":\"\"},\"bgcolor\":\"#E5ECF6\",\"radialaxis\":{\"gridcolor\":\"white\",\"linecolor\":\"white\",\"ticks\":\"\"}},\"scene\":{\"xaxis\":{\"backgroundcolor\":\"#E5ECF6\",\"gridcolor\":\"white\",\"gridwidth\":2,\"linecolor\":\"white\",\"showbackground\":true,\"ticks\":\"\",\"zerolinecolor\":\"white\"},\"yaxis\":{\"backgroundcolor\":\"#E5ECF6\",\"gridcolor\":\"white\",\"gridwidth\":2,\"linecolor\":\"white\",\"showbackground\":true,\"ticks\":\"\",\"zerolinecolor\":\"white\"},\"zaxis\":{\"backgroundcolor\":\"#E5ECF6\",\"gridcolor\":\"white\",\"gridwidth\":2,\"linecolor\":\"white\",\"showbackground\":true,\"ticks\":\"\",\"zerolinecolor\":\"white\"}},\"shapedefaults\":{\"line\":{\"color\":\"#2a3f5f\"}},\"ternary\":{\"aaxis\":{\"gridcolor\":\"white\",\"linecolor\":\"white\",\"ticks\":\"\"},\"baxis\":{\"gridcolor\":\"white\",\"linecolor\":\"white\",\"ticks\":\"\"},\"bgcolor\":\"#E5ECF6\",\"caxis\":{\"gridcolor\":\"white\",\"linecolor\":\"white\",\"ticks\":\"\"}},\"title\":{\"x\":0.05},\"xaxis\":{\"automargin\":true,\"gridcolor\":\"white\",\"linecolor\":\"white\",\"ticks\":\"\",\"title\":{\"standoff\":15},\"zerolinecolor\":\"white\",\"zerolinewidth\":2},\"yaxis\":{\"automargin\":true,\"gridcolor\":\"white\",\"linecolor\":\"white\",\"ticks\":\"\",\"title\":{\"standoff\":15},\"zerolinecolor\":\"white\",\"zerolinewidth\":2}}}},                        {\"responsive\": true}                    ).then(function(){\n",
              "                            \n",
              "var gd = document.getElementById('74cea35a-7d36-42c9-9fd6-e560955c8b76');\n",
              "var x = new MutationObserver(function (mutations, observer) {{\n",
              "        var display = window.getComputedStyle(gd).display;\n",
              "        if (!display || display === 'none') {{\n",
              "            console.log([gd, 'removed!']);\n",
              "            Plotly.purge(gd);\n",
              "            observer.disconnect();\n",
              "        }}\n",
              "}});\n",
              "\n",
              "// Listen for the removal of the full notebook cells\n",
              "var notebookContainer = gd.closest('#notebook-container');\n",
              "if (notebookContainer) {{\n",
              "    x.observe(notebookContainer, {childList: true});\n",
              "}}\n",
              "\n",
              "// Listen for the clearing of the current output cell\n",
              "var outputEl = gd.closest('.output');\n",
              "if (outputEl) {{\n",
              "    x.observe(outputEl, {childList: true});\n",
              "}}\n",
              "\n",
              "                        })                };                            </script>        </div>\n",
              "</body>\n",
              "</html>"
            ]
          },
          "metadata": {}
        }
      ]
    },
    {
      "cell_type": "markdown",
      "metadata": {
        "id": "R08hODH8oBO-"
      },
      "source": [
        "La segunda manera de utilizar un treemap consiste en modificar el tamaño de los rectángulos proporcionalmente al tamaño de una variable numérica. Por ejemplo:"
      ]
    },
    {
      "cell_type": "code",
      "metadata": {
        "colab": {
          "base_uri": "https://localhost:8080/",
          "height": 517
        },
        "id": "GKt1usMioBO_",
        "outputId": "fad1e9a7-f369-4c63-f7a7-80a9a42ab344"
      },
      "source": [
        "df = pd.read_csv('/content/drive/MyDrive/BEDU/Remoto Datasets/Remoto athlete_olympic_events-clean.csv', index_col=0)\n",
        "\n",
        "df.head()"
      ],
      "execution_count": 5,
      "outputs": [
        {
          "output_type": "execute_result",
          "data": {
            "text/html": [
              "<div>\n",
              "<style scoped>\n",
              "    .dataframe tbody tr th:only-of-type {\n",
              "        vertical-align: middle;\n",
              "    }\n",
              "\n",
              "    .dataframe tbody tr th {\n",
              "        vertical-align: top;\n",
              "    }\n",
              "\n",
              "    .dataframe thead th {\n",
              "        text-align: right;\n",
              "    }\n",
              "</style>\n",
              "<table border=\"1\" class=\"dataframe\">\n",
              "  <thead>\n",
              "    <tr style=\"text-align: right;\">\n",
              "      <th></th>\n",
              "      <th>name</th>\n",
              "      <th>sex</th>\n",
              "      <th>age</th>\n",
              "      <th>height</th>\n",
              "      <th>weight</th>\n",
              "      <th>team</th>\n",
              "      <th>noc</th>\n",
              "      <th>games</th>\n",
              "      <th>year</th>\n",
              "      <th>season</th>\n",
              "      <th>city</th>\n",
              "      <th>sport</th>\n",
              "      <th>event</th>\n",
              "      <th>medal</th>\n",
              "    </tr>\n",
              "    <tr>\n",
              "      <th>athlete_id</th>\n",
              "      <th></th>\n",
              "      <th></th>\n",
              "      <th></th>\n",
              "      <th></th>\n",
              "      <th></th>\n",
              "      <th></th>\n",
              "      <th></th>\n",
              "      <th></th>\n",
              "      <th></th>\n",
              "      <th></th>\n",
              "      <th></th>\n",
              "      <th></th>\n",
              "      <th></th>\n",
              "      <th></th>\n",
              "    </tr>\n",
              "  </thead>\n",
              "  <tbody>\n",
              "    <tr>\n",
              "      <th>1</th>\n",
              "      <td>A Dijiang</td>\n",
              "      <td>M</td>\n",
              "      <td>24.0</td>\n",
              "      <td>180.0</td>\n",
              "      <td>80.0</td>\n",
              "      <td>China</td>\n",
              "      <td>CHN</td>\n",
              "      <td>1992 Summer</td>\n",
              "      <td>1992</td>\n",
              "      <td>Summer</td>\n",
              "      <td>Barcelona</td>\n",
              "      <td>Basketball</td>\n",
              "      <td>Basketball Men's Basketball</td>\n",
              "      <td>None</td>\n",
              "    </tr>\n",
              "    <tr>\n",
              "      <th>2</th>\n",
              "      <td>A Lamusi</td>\n",
              "      <td>M</td>\n",
              "      <td>23.0</td>\n",
              "      <td>170.0</td>\n",
              "      <td>60.0</td>\n",
              "      <td>China</td>\n",
              "      <td>CHN</td>\n",
              "      <td>2012 Summer</td>\n",
              "      <td>2012</td>\n",
              "      <td>Summer</td>\n",
              "      <td>London</td>\n",
              "      <td>Judo</td>\n",
              "      <td>Judo Men's Extra-Lightweight</td>\n",
              "      <td>None</td>\n",
              "    </tr>\n",
              "    <tr>\n",
              "      <th>5</th>\n",
              "      <td>Christine Jacoba Aaftink</td>\n",
              "      <td>F</td>\n",
              "      <td>21.0</td>\n",
              "      <td>185.0</td>\n",
              "      <td>82.0</td>\n",
              "      <td>Netherlands</td>\n",
              "      <td>NED</td>\n",
              "      <td>1988 Winter</td>\n",
              "      <td>1988</td>\n",
              "      <td>Winter</td>\n",
              "      <td>Calgary</td>\n",
              "      <td>Speed Skating</td>\n",
              "      <td>Speed Skating Women's 500 metres</td>\n",
              "      <td>None</td>\n",
              "    </tr>\n",
              "    <tr>\n",
              "      <th>5</th>\n",
              "      <td>Christine Jacoba Aaftink</td>\n",
              "      <td>F</td>\n",
              "      <td>21.0</td>\n",
              "      <td>185.0</td>\n",
              "      <td>82.0</td>\n",
              "      <td>Netherlands</td>\n",
              "      <td>NED</td>\n",
              "      <td>1988 Winter</td>\n",
              "      <td>1988</td>\n",
              "      <td>Winter</td>\n",
              "      <td>Calgary</td>\n",
              "      <td>Speed Skating</td>\n",
              "      <td>Speed Skating Women's 1,000 metres</td>\n",
              "      <td>None</td>\n",
              "    </tr>\n",
              "    <tr>\n",
              "      <th>5</th>\n",
              "      <td>Christine Jacoba Aaftink</td>\n",
              "      <td>F</td>\n",
              "      <td>25.0</td>\n",
              "      <td>185.0</td>\n",
              "      <td>82.0</td>\n",
              "      <td>Netherlands</td>\n",
              "      <td>NED</td>\n",
              "      <td>1992 Winter</td>\n",
              "      <td>1992</td>\n",
              "      <td>Winter</td>\n",
              "      <td>Albertville</td>\n",
              "      <td>Speed Skating</td>\n",
              "      <td>Speed Skating Women's 500 metres</td>\n",
              "      <td>None</td>\n",
              "    </tr>\n",
              "  </tbody>\n",
              "</table>\n",
              "</div>"
            ],
            "text/plain": [
              "                                name  ... medal\n",
              "athlete_id                            ...      \n",
              "1                          A Dijiang  ...  None\n",
              "2                           A Lamusi  ...  None\n",
              "5           Christine Jacoba Aaftink  ...  None\n",
              "5           Christine Jacoba Aaftink  ...  None\n",
              "5           Christine Jacoba Aaftink  ...  None\n",
              "\n",
              "[5 rows x 14 columns]"
            ]
          },
          "metadata": {},
          "execution_count": 5
        }
      ]
    },
    {
      "cell_type": "code",
      "metadata": {
        "colab": {
          "base_uri": "https://localhost:8080/",
          "height": 237
        },
        "id": "ljfbfkCaoBPB",
        "outputId": "0080212c-0b27-4d59-d0a3-f1dd125ad7dd"
      },
      "source": [
        "df_grouped = df.groupby('name')[['sex', 'sport']].max()\n",
        "\n",
        "df_grouped.head(50)"
      ],
      "execution_count": 6,
      "outputs": [
        {
          "output_type": "execute_result",
          "data": {
            "text/html": [
              "<div>\n",
              "<style scoped>\n",
              "    .dataframe tbody tr th:only-of-type {\n",
              "        vertical-align: middle;\n",
              "    }\n",
              "\n",
              "    .dataframe tbody tr th {\n",
              "        vertical-align: top;\n",
              "    }\n",
              "\n",
              "    .dataframe thead th {\n",
              "        text-align: right;\n",
              "    }\n",
              "</style>\n",
              "<table border=\"1\" class=\"dataframe\">\n",
              "  <thead>\n",
              "    <tr style=\"text-align: right;\">\n",
              "      <th></th>\n",
              "      <th>sex</th>\n",
              "      <th>sport</th>\n",
              "    </tr>\n",
              "    <tr>\n",
              "      <th>name</th>\n",
              "      <th></th>\n",
              "      <th></th>\n",
              "    </tr>\n",
              "  </thead>\n",
              "  <tbody>\n",
              "    <tr>\n",
              "      <th>Th Anh</th>\n",
              "      <td>F</td>\n",
              "      <td>Fencing</td>\n",
              "    </tr>\n",
              "    <tr>\n",
              "      <th>Th Ngn Thng</th>\n",
              "      <td>F</td>\n",
              "      <td>Gymnastics</td>\n",
              "    </tr>\n",
              "    <tr>\n",
              "      <th>Tin Tun</th>\n",
              "      <td>M</td>\n",
              "      <td>Boxing</td>\n",
              "    </tr>\n",
              "    <tr>\n",
              "      <th>A Dijiang</th>\n",
              "      <td>M</td>\n",
              "      <td>Basketball</td>\n",
              "    </tr>\n",
              "    <tr>\n",
              "      <th>A Lamusi</th>\n",
              "      <td>M</td>\n",
              "      <td>Judo</td>\n",
              "    </tr>\n",
              "  </tbody>\n",
              "</table>\n",
              "</div>"
            ],
            "text/plain": [
              "             sex       sport\n",
              "name                        \n",
              " Th Anh        F     Fencing\n",
              " Th Ngn Thng   F  Gymnastics\n",
              " Tin Tun       M      Boxing\n",
              "A Dijiang      M  Basketball\n",
              "A Lamusi       M        Judo"
            ]
          },
          "metadata": {},
          "execution_count": 6
        }
      ]
    },
    {
      "cell_type": "code",
      "metadata": {
        "colab": {
          "base_uri": "https://localhost:8080/",
          "height": 1000
        },
        "id": "GGKubu2CpAPW",
        "outputId": "b11ff810-d77e-4a03-c4eb-ac60781c5874"
      },
      "source": [
        "df_grouped.head(50)"
      ],
      "execution_count": 9,
      "outputs": [
        {
          "output_type": "execute_result",
          "data": {
            "text/html": [
              "<div>\n",
              "<style scoped>\n",
              "    .dataframe tbody tr th:only-of-type {\n",
              "        vertical-align: middle;\n",
              "    }\n",
              "\n",
              "    .dataframe tbody tr th {\n",
              "        vertical-align: top;\n",
              "    }\n",
              "\n",
              "    .dataframe thead th {\n",
              "        text-align: right;\n",
              "    }\n",
              "</style>\n",
              "<table border=\"1\" class=\"dataframe\">\n",
              "  <thead>\n",
              "    <tr style=\"text-align: right;\">\n",
              "      <th></th>\n",
              "      <th>sex</th>\n",
              "      <th>sport</th>\n",
              "      <th>count</th>\n",
              "    </tr>\n",
              "    <tr>\n",
              "      <th>name</th>\n",
              "      <th></th>\n",
              "      <th></th>\n",
              "      <th></th>\n",
              "    </tr>\n",
              "  </thead>\n",
              "  <tbody>\n",
              "    <tr>\n",
              "      <th>Th Anh</th>\n",
              "      <td>F</td>\n",
              "      <td>Fencing</td>\n",
              "      <td>1</td>\n",
              "    </tr>\n",
              "    <tr>\n",
              "      <th>Th Ngn Thng</th>\n",
              "      <td>F</td>\n",
              "      <td>Gymnastics</td>\n",
              "      <td>1</td>\n",
              "    </tr>\n",
              "    <tr>\n",
              "      <th>Tin Tun</th>\n",
              "      <td>M</td>\n",
              "      <td>Boxing</td>\n",
              "      <td>1</td>\n",
              "    </tr>\n",
              "    <tr>\n",
              "      <th>A Dijiang</th>\n",
              "      <td>M</td>\n",
              "      <td>Basketball</td>\n",
              "      <td>1</td>\n",
              "    </tr>\n",
              "    <tr>\n",
              "      <th>A Lamusi</th>\n",
              "      <td>M</td>\n",
              "      <td>Judo</td>\n",
              "      <td>1</td>\n",
              "    </tr>\n",
              "    <tr>\n",
              "      <th>A. J. Tyronne Benildus \"Benny\" Fernando</th>\n",
              "      <td>M</td>\n",
              "      <td>Athletics</td>\n",
              "      <td>1</td>\n",
              "    </tr>\n",
              "    <tr>\n",
              "      <th>A. Joshua \"Josh\" West</th>\n",
              "      <td>M</td>\n",
              "      <td>Rowing</td>\n",
              "      <td>1</td>\n",
              "    </tr>\n",
              "    <tr>\n",
              "      <th>A. W. Nancy \"Nan\" Rae</th>\n",
              "      <td>F</td>\n",
              "      <td>Swimming</td>\n",
              "      <td>1</td>\n",
              "    </tr>\n",
              "    <tr>\n",
              "      <th>Aadam Ismaeel Khamis</th>\n",
              "      <td>M</td>\n",
              "      <td>Athletics</td>\n",
              "      <td>1</td>\n",
              "    </tr>\n",
              "    <tr>\n",
              "      <th>Aadolf Fredrik Svanstrm</th>\n",
              "      <td>M</td>\n",
              "      <td>Athletics</td>\n",
              "      <td>1</td>\n",
              "    </tr>\n",
              "    <tr>\n",
              "      <th>Aafke Hament</th>\n",
              "      <td>F</td>\n",
              "      <td>Volleyball</td>\n",
              "      <td>1</td>\n",
              "    </tr>\n",
              "    <tr>\n",
              "      <th>Aage Birch</th>\n",
              "      <td>M</td>\n",
              "      <td>Sailing</td>\n",
              "      <td>1</td>\n",
              "    </tr>\n",
              "    <tr>\n",
              "      <th>Aage Brge Poulsen</th>\n",
              "      <td>M</td>\n",
              "      <td>Athletics</td>\n",
              "      <td>1</td>\n",
              "    </tr>\n",
              "    <tr>\n",
              "      <th>Aage Carl Christian Lassen</th>\n",
              "      <td>M</td>\n",
              "      <td>Sailing</td>\n",
              "      <td>1</td>\n",
              "    </tr>\n",
              "    <tr>\n",
              "      <th>Aage Rasmussen (-Remfeldt)</th>\n",
              "      <td>M</td>\n",
              "      <td>Athletics</td>\n",
              "      <td>1</td>\n",
              "    </tr>\n",
              "    <tr>\n",
              "      <th>Aagje \"Ada\" Kok (-van der Linden)</th>\n",
              "      <td>F</td>\n",
              "      <td>Swimming</td>\n",
              "      <td>1</td>\n",
              "    </tr>\n",
              "    <tr>\n",
              "      <th>Aagje Vanwalleghem</th>\n",
              "      <td>F</td>\n",
              "      <td>Gymnastics</td>\n",
              "      <td>1</td>\n",
              "    </tr>\n",
              "    <tr>\n",
              "      <th>Aaltje Grietje \"Alie\" Boorsma</th>\n",
              "      <td>F</td>\n",
              "      <td>Speed Skating</td>\n",
              "      <td>1</td>\n",
              "    </tr>\n",
              "    <tr>\n",
              "      <th>Aapo Kustaa Perko</th>\n",
              "      <td>M</td>\n",
              "      <td>Athletics</td>\n",
              "      <td>1</td>\n",
              "    </tr>\n",
              "    <tr>\n",
              "      <th>Aarik Wilson</th>\n",
              "      <td>M</td>\n",
              "      <td>Athletics</td>\n",
              "      <td>1</td>\n",
              "    </tr>\n",
              "    <tr>\n",
              "      <th>Aarn Galindo Rubio</th>\n",
              "      <td>M</td>\n",
              "      <td>Football</td>\n",
              "      <td>1</td>\n",
              "    </tr>\n",
              "    <tr>\n",
              "      <th>Aarn Sarmiento Padilla</th>\n",
              "      <td>M</td>\n",
              "      <td>Sailing</td>\n",
              "      <td>1</td>\n",
              "    </tr>\n",
              "    <tr>\n",
              "      <th>Aarne Aatami \"Arvo\" Peussa</th>\n",
              "      <td>M</td>\n",
              "      <td>Athletics</td>\n",
              "      <td>1</td>\n",
              "    </tr>\n",
              "    <tr>\n",
              "      <th>Aarne Eino Henrik Vehkonen</th>\n",
              "      <td>M</td>\n",
              "      <td>Weightlifting</td>\n",
              "      <td>1</td>\n",
              "    </tr>\n",
              "    <tr>\n",
              "      <th>Aarne Erik Kallberg</th>\n",
              "      <td>M</td>\n",
              "      <td>Athletics</td>\n",
              "      <td>1</td>\n",
              "    </tr>\n",
              "    <tr>\n",
              "      <th>Aarne Kainlauri</th>\n",
              "      <td>M</td>\n",
              "      <td>Athletics</td>\n",
              "      <td>1</td>\n",
              "    </tr>\n",
              "    <tr>\n",
              "      <th>Aarne Ulf Kristian Lindroos</th>\n",
              "      <td>M</td>\n",
              "      <td>Rowing</td>\n",
              "      <td>1</td>\n",
              "    </tr>\n",
              "    <tr>\n",
              "      <th>Aarne Vin Edward Honkavaara</th>\n",
              "      <td>M</td>\n",
              "      <td>Ice Hockey</td>\n",
              "      <td>1</td>\n",
              "    </tr>\n",
              "    <tr>\n",
              "      <th>Aaron Arthur Cook</th>\n",
              "      <td>M</td>\n",
              "      <td>Taekwondo</td>\n",
              "      <td>1</td>\n",
              "    </tr>\n",
              "    <tr>\n",
              "      <th>Aaron Benjamin Herman</th>\n",
              "      <td>M</td>\n",
              "      <td>Rowing</td>\n",
              "      <td>1</td>\n",
              "    </tr>\n",
              "    <tr>\n",
              "      <th>Aaron Blunck</th>\n",
              "      <td>M</td>\n",
              "      <td>Freestyle Skiing</td>\n",
              "      <td>1</td>\n",
              "    </tr>\n",
              "    <tr>\n",
              "      <th>Aaron Brown</th>\n",
              "      <td>M</td>\n",
              "      <td>Athletics</td>\n",
              "      <td>1</td>\n",
              "    </tr>\n",
              "    <tr>\n",
              "      <th>Aaron Cleare</th>\n",
              "      <td>M</td>\n",
              "      <td>Athletics</td>\n",
              "      <td>1</td>\n",
              "    </tr>\n",
              "    <tr>\n",
              "      <th>Aaron Duane Olson</th>\n",
              "      <td>M</td>\n",
              "      <td>Basketball</td>\n",
              "      <td>1</td>\n",
              "    </tr>\n",
              "    <tr>\n",
              "      <th>Aaron Dupnai</th>\n",
              "      <td>M</td>\n",
              "      <td>Athletics</td>\n",
              "      <td>1</td>\n",
              "    </tr>\n",
              "    <tr>\n",
              "      <th>Aaron E. Pollock</th>\n",
              "      <td>M</td>\n",
              "      <td>Rowing</td>\n",
              "      <td>1</td>\n",
              "    </tr>\n",
              "    <tr>\n",
              "      <th>Aaron Egbele</th>\n",
              "      <td>M</td>\n",
              "      <td>Athletics</td>\n",
              "      <td>1</td>\n",
              "    </tr>\n",
              "    <tr>\n",
              "      <th>Aaron Feltham</th>\n",
              "      <td>M</td>\n",
              "      <td>Water Polo</td>\n",
              "      <td>1</td>\n",
              "    </tr>\n",
              "    <tr>\n",
              "      <th>Aaron Gate</th>\n",
              "      <td>M</td>\n",
              "      <td>Cycling</td>\n",
              "      <td>1</td>\n",
              "    </tr>\n",
              "    <tr>\n",
              "      <th>Aaron J. \"AJ\" Bear</th>\n",
              "      <td>M</td>\n",
              "      <td>Alpine Skiing</td>\n",
              "      <td>1</td>\n",
              "    </tr>\n",
              "    <tr>\n",
              "      <th>Aaron James Ramsey</th>\n",
              "      <td>M</td>\n",
              "      <td>Football</td>\n",
              "      <td>1</td>\n",
              "    </tr>\n",
              "    <tr>\n",
              "      <th>Aaron James Scott</th>\n",
              "      <td>M</td>\n",
              "      <td>Football</td>\n",
              "      <td>1</td>\n",
              "    </tr>\n",
              "    <tr>\n",
              "      <th>Aaron John McIntosh</th>\n",
              "      <td>M</td>\n",
              "      <td>Sailing</td>\n",
              "      <td>1</td>\n",
              "    </tr>\n",
              "    <tr>\n",
              "      <th>Aaron John Royle</th>\n",
              "      <td>M</td>\n",
              "      <td>Triathlon</td>\n",
              "      <td>1</td>\n",
              "    </tr>\n",
              "    <tr>\n",
              "      <th>Aaron Kenneth Myette</th>\n",
              "      <td>M</td>\n",
              "      <td>Baseball</td>\n",
              "      <td>1</td>\n",
              "    </tr>\n",
              "    <tr>\n",
              "      <th>Aaron March</th>\n",
              "      <td>M</td>\n",
              "      <td>Snowboarding</td>\n",
              "      <td>1</td>\n",
              "    </tr>\n",
              "    <tr>\n",
              "      <th>Aaron Michael Miller</th>\n",
              "      <td>M</td>\n",
              "      <td>Ice Hockey</td>\n",
              "      <td>1</td>\n",
              "    </tr>\n",
              "    <tr>\n",
              "      <th>Aaron Nigel Armstrong</th>\n",
              "      <td>M</td>\n",
              "      <td>Athletics</td>\n",
              "      <td>1</td>\n",
              "    </tr>\n",
              "    <tr>\n",
              "      <th>Aaron Parchem</th>\n",
              "      <td>M</td>\n",
              "      <td>Figure Skating</td>\n",
              "      <td>1</td>\n",
              "    </tr>\n",
              "    <tr>\n",
              "      <th>Aaron Popoola</th>\n",
              "      <td>M</td>\n",
              "      <td>Boxing</td>\n",
              "      <td>1</td>\n",
              "    </tr>\n",
              "  </tbody>\n",
              "</table>\n",
              "</div>"
            ],
            "text/plain": [
              "                                        sex             sport  count\n",
              "name                                                                \n",
              " Th Anh                                   F           Fencing      1\n",
              " Th Ngn Thng                              F        Gymnastics      1\n",
              " Tin Tun                                  M            Boxing      1\n",
              "A Dijiang                                 M        Basketball      1\n",
              "A Lamusi                                  M              Judo      1\n",
              "A. J. Tyronne Benildus \"Benny\" Fernando   M         Athletics      1\n",
              "A. Joshua \"Josh\" West                     M            Rowing      1\n",
              "A. W. Nancy \"Nan\" Rae                     F          Swimming      1\n",
              "Aadam Ismaeel Khamis                      M         Athletics      1\n",
              "Aadolf Fredrik Svanstrm                   M         Athletics      1\n",
              "Aafke Hament                              F        Volleyball      1\n",
              "Aage Birch                                M           Sailing      1\n",
              "Aage Brge Poulsen                         M         Athletics      1\n",
              "Aage Carl Christian Lassen                M           Sailing      1\n",
              "Aage Rasmussen (-Remfeldt)                M         Athletics      1\n",
              "Aagje \"Ada\" Kok (-van der Linden)         F          Swimming      1\n",
              "Aagje Vanwalleghem                        F        Gymnastics      1\n",
              "Aaltje Grietje \"Alie\" Boorsma             F     Speed Skating      1\n",
              "Aapo Kustaa Perko                         M         Athletics      1\n",
              "Aarik Wilson                              M         Athletics      1\n",
              "Aarn Galindo Rubio                        M          Football      1\n",
              "Aarn Sarmiento Padilla                    M           Sailing      1\n",
              "Aarne Aatami \"Arvo\" Peussa                M         Athletics      1\n",
              "Aarne Eino Henrik Vehkonen                M     Weightlifting      1\n",
              "Aarne Erik Kallberg                       M         Athletics      1\n",
              "Aarne Kainlauri                           M         Athletics      1\n",
              "Aarne Ulf Kristian Lindroos               M            Rowing      1\n",
              "Aarne Vin Edward Honkavaara               M        Ice Hockey      1\n",
              "Aaron Arthur Cook                         M         Taekwondo      1\n",
              "Aaron Benjamin Herman                     M            Rowing      1\n",
              "Aaron Blunck                              M  Freestyle Skiing      1\n",
              "Aaron Brown                               M         Athletics      1\n",
              "Aaron Cleare                              M         Athletics      1\n",
              "Aaron Duane Olson                         M        Basketball      1\n",
              "Aaron Dupnai                              M         Athletics      1\n",
              "Aaron E. Pollock                          M            Rowing      1\n",
              "Aaron Egbele                              M         Athletics      1\n",
              "Aaron Feltham                             M        Water Polo      1\n",
              "Aaron Gate                                M           Cycling      1\n",
              "Aaron J. \"AJ\" Bear                        M     Alpine Skiing      1\n",
              "Aaron James Ramsey                        M          Football      1\n",
              "Aaron James Scott                         M          Football      1\n",
              "Aaron John McIntosh                       M           Sailing      1\n",
              "Aaron John Royle                          M         Triathlon      1\n",
              "Aaron Kenneth Myette                      M          Baseball      1\n",
              "Aaron March                               M      Snowboarding      1\n",
              "Aaron Michael Miller                      M        Ice Hockey      1\n",
              "Aaron Nigel Armstrong                     M         Athletics      1\n",
              "Aaron Parchem                             M    Figure Skating      1\n",
              "Aaron Popoola                             M            Boxing      1"
            ]
          },
          "metadata": {},
          "execution_count": 9
        }
      ]
    },
    {
      "cell_type": "code",
      "metadata": {
        "id": "oWwo_Cq_oBPC"
      },
      "source": [
        "df_grouped['count'] = 1"
      ],
      "execution_count": 8,
      "outputs": []
    },
    {
      "cell_type": "code",
      "metadata": {
        "colab": {
          "base_uri": "https://localhost:8080/",
          "height": 542
        },
        "id": "FvrCEqWsoBPC",
        "outputId": "e8d61434-94bf-4505-c020-7ad2d38c8d05"
      },
      "source": [
        "fig = px.treemap(df_grouped, path=['sport', 'sex'], values='count')\n",
        "\n",
        "fig.show()"
      ],
      "execution_count": 10,
      "outputs": [
        {
          "output_type": "display_data",
          "data": {
            "text/html": [
              "<html>\n",
              "<head><meta charset=\"utf-8\" /></head>\n",
              "<body>\n",
              "    <div>            <script src=\"https://cdnjs.cloudflare.com/ajax/libs/mathjax/2.7.5/MathJax.js?config=TeX-AMS-MML_SVG\"></script><script type=\"text/javascript\">if (window.MathJax) {MathJax.Hub.Config({SVG: {font: \"STIX-Web\"}});}</script>                <script type=\"text/javascript\">window.PlotlyConfig = {MathJaxConfig: 'local'};</script>\n",
              "        <script src=\"https://cdn.plot.ly/plotly-2.4.2.min.js\"></script>                <div id=\"3431b790-1fbc-4be0-bd56-0010c34e23f4\" class=\"plotly-graph-div\" style=\"height:525px; width:100%;\"></div>            <script type=\"text/javascript\">                                    window.PLOTLYENV=window.PLOTLYENV || {};                                    if (document.getElementById(\"3431b790-1fbc-4be0-bd56-0010c34e23f4\")) {                    Plotly.newPlot(                        \"3431b790-1fbc-4be0-bd56-0010c34e23f4\",                        [{\"branchvalues\":\"total\",\"domain\":{\"x\":[0.0,1.0],\"y\":[0.0,1.0]},\"hovertemplate\":\"labels=%{label}<br>count=%{value}<br>parent=%{parent}<br>id=%{id}<extra></extra>\",\"ids\":[\"Alpine Skiing/F\",\"Archery/F\",\"Athletics/F\",\"Badminton/F\",\"Basketball/F\",\"Beach Volleyball/F\",\"Biathlon/F\",\"Bobsleigh/F\",\"Boxing/F\",\"Canoeing/F\",\"Cross Country Skiing/F\",\"Curling/F\",\"Cycling/F\",\"Diving/F\",\"Equestrianism/F\",\"Fencing/F\",\"Figure Skating/F\",\"Football/F\",\"Freestyle Skiing/F\",\"Golf/F\",\"Gymnastics/F\",\"Handball/F\",\"Hockey/F\",\"Ice Hockey/F\",\"Judo/F\",\"Luge/F\",\"Modern Pentathlon/F\",\"Rhythmic Gymnastics/F\",\"Rowing/F\",\"Rugby Sevens/F\",\"Sailing/F\",\"Shooting/F\",\"Short Track Speed Skating/F\",\"Skeleton/F\",\"Ski Jumping/F\",\"Snowboarding/F\",\"Softball/F\",\"Speed Skating/F\",\"Swimming/F\",\"Synchronized Swimming/F\",\"Table Tennis/F\",\"Taekwondo/F\",\"Tennis/F\",\"Trampolining/F\",\"Triathlon/F\",\"Volleyball/F\",\"Water Polo/F\",\"Weightlifting/F\",\"Wrestling/F\",\"Alpine Skiing/M\",\"Archery/M\",\"Art Competitions/M\",\"Athletics/M\",\"Badminton/M\",\"Baseball/M\",\"Basketball/M\",\"Beach Volleyball/M\",\"Biathlon/M\",\"Bobsleigh/M\",\"Boxing/M\",\"Canoeing/M\",\"Cross Country Skiing/M\",\"Curling/M\",\"Cycling/M\",\"Diving/M\",\"Equestrianism/M\",\"Fencing/M\",\"Figure Skating/M\",\"Football/M\",\"Freestyle Skiing/M\",\"Golf/M\",\"Gymnastics/M\",\"Handball/M\",\"Hockey/M\",\"Ice Hockey/M\",\"Judo/M\",\"Lacrosse/M\",\"Luge/M\",\"Modern Pentathlon/M\",\"Motorboating/M\",\"Nordic Combined/M\",\"Rowing/M\",\"Rugby/M\",\"Rugby Sevens/M\",\"Sailing/M\",\"Shooting/M\",\"Short Track Speed Skating/M\",\"Skeleton/M\",\"Ski Jumping/M\",\"Snowboarding/M\",\"Softball/M\",\"Speed Skating/M\",\"Swimming/M\",\"Synchronized Swimming/M\",\"Table Tennis/M\",\"Taekwondo/M\",\"Tennis/M\",\"Trampolining/M\",\"Triathlon/M\",\"Tug-Of-War/M\",\"Volleyball/M\",\"Water Polo/M\",\"Weightlifting/M\",\"Wrestling/M\",\"Alpine Skiing\",\"Archery\",\"Art Competitions\",\"Athletics\",\"Badminton\",\"Baseball\",\"Basketball\",\"Beach Volleyball\",\"Biathlon\",\"Bobsleigh\",\"Boxing\",\"Canoeing\",\"Cross Country Skiing\",\"Curling\",\"Cycling\",\"Diving\",\"Equestrianism\",\"Fencing\",\"Figure Skating\",\"Football\",\"Freestyle Skiing\",\"Golf\",\"Gymnastics\",\"Handball\",\"Hockey\",\"Ice Hockey\",\"Judo\",\"Lacrosse\",\"Luge\",\"Modern Pentathlon\",\"Motorboating\",\"Nordic Combined\",\"Rhythmic Gymnastics\",\"Rowing\",\"Rugby\",\"Rugby Sevens\",\"Sailing\",\"Shooting\",\"Short Track Speed Skating\",\"Skeleton\",\"Ski Jumping\",\"Snowboarding\",\"Softball\",\"Speed Skating\",\"Swimming\",\"Synchronized Swimming\",\"Table Tennis\",\"Taekwondo\",\"Tennis\",\"Trampolining\",\"Triathlon\",\"Tug-Of-War\",\"Volleyball\",\"Water Polo\",\"Weightlifting\",\"Wrestling\"],\"labels\":[\"F\",\"F\",\"F\",\"F\",\"F\",\"F\",\"F\",\"F\",\"F\",\"F\",\"F\",\"F\",\"F\",\"F\",\"F\",\"F\",\"F\",\"F\",\"F\",\"F\",\"F\",\"F\",\"F\",\"F\",\"F\",\"F\",\"F\",\"F\",\"F\",\"F\",\"F\",\"F\",\"F\",\"F\",\"F\",\"F\",\"F\",\"F\",\"F\",\"F\",\"F\",\"F\",\"F\",\"F\",\"F\",\"F\",\"F\",\"F\",\"F\",\"M\",\"M\",\"M\",\"M\",\"M\",\"M\",\"M\",\"M\",\"M\",\"M\",\"M\",\"M\",\"M\",\"M\",\"M\",\"M\",\"M\",\"M\",\"M\",\"M\",\"M\",\"M\",\"M\",\"M\",\"M\",\"M\",\"M\",\"M\",\"M\",\"M\",\"M\",\"M\",\"M\",\"M\",\"M\",\"M\",\"M\",\"M\",\"M\",\"M\",\"M\",\"M\",\"M\",\"M\",\"M\",\"M\",\"M\",\"M\",\"M\",\"M\",\"M\",\"M\",\"M\",\"M\",\"M\",\"Alpine Skiing\",\"Archery\",\"Art Competitions\",\"Athletics\",\"Badminton\",\"Baseball\",\"Basketball\",\"Beach Volleyball\",\"Biathlon\",\"Bobsleigh\",\"Boxing\",\"Canoeing\",\"Cross Country Skiing\",\"Curling\",\"Cycling\",\"Diving\",\"Equestrianism\",\"Fencing\",\"Figure Skating\",\"Football\",\"Freestyle Skiing\",\"Golf\",\"Gymnastics\",\"Handball\",\"Hockey\",\"Ice Hockey\",\"Judo\",\"Lacrosse\",\"Luge\",\"Modern Pentathlon\",\"Motorboating\",\"Nordic Combined\",\"Rhythmic Gymnastics\",\"Rowing\",\"Rugby\",\"Rugby Sevens\",\"Sailing\",\"Shooting\",\"Short Track Speed Skating\",\"Skeleton\",\"Ski Jumping\",\"Snowboarding\",\"Softball\",\"Speed Skating\",\"Swimming\",\"Synchronized Swimming\",\"Table Tennis\",\"Taekwondo\",\"Tennis\",\"Trampolining\",\"Triathlon\",\"Tug-Of-War\",\"Volleyball\",\"Water Polo\",\"Weightlifting\",\"Wrestling\"],\"name\":\"\",\"parents\":[\"Alpine Skiing\",\"Archery\",\"Athletics\",\"Badminton\",\"Basketball\",\"Beach Volleyball\",\"Biathlon\",\"Bobsleigh\",\"Boxing\",\"Canoeing\",\"Cross Country Skiing\",\"Curling\",\"Cycling\",\"Diving\",\"Equestrianism\",\"Fencing\",\"Figure Skating\",\"Football\",\"Freestyle Skiing\",\"Golf\",\"Gymnastics\",\"Handball\",\"Hockey\",\"Ice Hockey\",\"Judo\",\"Luge\",\"Modern Pentathlon\",\"Rhythmic Gymnastics\",\"Rowing\",\"Rugby Sevens\",\"Sailing\",\"Shooting\",\"Short Track Speed Skating\",\"Skeleton\",\"Ski Jumping\",\"Snowboarding\",\"Softball\",\"Speed Skating\",\"Swimming\",\"Synchronized Swimming\",\"Table Tennis\",\"Taekwondo\",\"Tennis\",\"Trampolining\",\"Triathlon\",\"Volleyball\",\"Water Polo\",\"Weightlifting\",\"Wrestling\",\"Alpine Skiing\",\"Archery\",\"Art Competitions\",\"Athletics\",\"Badminton\",\"Baseball\",\"Basketball\",\"Beach Volleyball\",\"Biathlon\",\"Bobsleigh\",\"Boxing\",\"Canoeing\",\"Cross Country Skiing\",\"Curling\",\"Cycling\",\"Diving\",\"Equestrianism\",\"Fencing\",\"Figure Skating\",\"Football\",\"Freestyle Skiing\",\"Golf\",\"Gymnastics\",\"Handball\",\"Hockey\",\"Ice Hockey\",\"Judo\",\"Lacrosse\",\"Luge\",\"Modern Pentathlon\",\"Motorboating\",\"Nordic Combined\",\"Rowing\",\"Rugby\",\"Rugby Sevens\",\"Sailing\",\"Shooting\",\"Short Track Speed Skating\",\"Skeleton\",\"Ski Jumping\",\"Snowboarding\",\"Softball\",\"Speed Skating\",\"Swimming\",\"Synchronized Swimming\",\"Table Tennis\",\"Taekwondo\",\"Tennis\",\"Trampolining\",\"Triathlon\",\"Tug-Of-War\",\"Volleyball\",\"Water Polo\",\"Weightlifting\",\"Wrestling\",\"\",\"\",\"\",\"\",\"\",\"\",\"\",\"\",\"\",\"\",\"\",\"\",\"\",\"\",\"\",\"\",\"\",\"\",\"\",\"\",\"\",\"\",\"\",\"\",\"\",\"\",\"\",\"\",\"\",\"\",\"\",\"\",\"\",\"\",\"\",\"\",\"\",\"\",\"\",\"\",\"\",\"\",\"\",\"\",\"\",\"\",\"\",\"\",\"\",\"\",\"\",\"\",\"\",\"\",\"\",\"\"],\"type\":\"treemap\",\"values\":[680,398,6004,350,877,163,320,105,51,624,592,142,657,449,405,711,488,703,261,55,1122,908,922,490,662,204,112,521,1416,145,579,686,192,44,26,236,325,466,2898,504,321,220,385,43,172,1074,335,351,220,1048,435,7,11965,383,703,1730,173,605,971,3587,2124,998,149,3519,470,1139,1599,450,3290,341,53,1025,1444,1862,2573,1645,2,484,453,1,342,3842,29,151,2554,2522,218,77,545,319,3,694,3537,1,333,240,471,47,179,15,1300,1339,1725,3221,1728,833,7,17969,733,703,2607,336,925,1076,3638,2748,1590,291,4176,919,1544,2310,938,3993,602,108,2147,2352,2784,3063,2307,2,688,565,1,342,521,5258,29,296,3133,3208,410,121,571,555,328,1160,6435,505,654,460,856,90,351,15,2374,1674,2076,3441]}],                        {\"legend\":{\"tracegroupgap\":0},\"margin\":{\"t\":60},\"template\":{\"data\":{\"bar\":[{\"error_x\":{\"color\":\"#2a3f5f\"},\"error_y\":{\"color\":\"#2a3f5f\"},\"marker\":{\"line\":{\"color\":\"#E5ECF6\",\"width\":0.5},\"pattern\":{\"fillmode\":\"overlay\",\"size\":10,\"solidity\":0.2}},\"type\":\"bar\"}],\"barpolar\":[{\"marker\":{\"line\":{\"color\":\"#E5ECF6\",\"width\":0.5},\"pattern\":{\"fillmode\":\"overlay\",\"size\":10,\"solidity\":0.2}},\"type\":\"barpolar\"}],\"carpet\":[{\"aaxis\":{\"endlinecolor\":\"#2a3f5f\",\"gridcolor\":\"white\",\"linecolor\":\"white\",\"minorgridcolor\":\"white\",\"startlinecolor\":\"#2a3f5f\"},\"baxis\":{\"endlinecolor\":\"#2a3f5f\",\"gridcolor\":\"white\",\"linecolor\":\"white\",\"minorgridcolor\":\"white\",\"startlinecolor\":\"#2a3f5f\"},\"type\":\"carpet\"}],\"choropleth\":[{\"colorbar\":{\"outlinewidth\":0,\"ticks\":\"\"},\"type\":\"choropleth\"}],\"contour\":[{\"colorbar\":{\"outlinewidth\":0,\"ticks\":\"\"},\"colorscale\":[[0.0,\"#0d0887\"],[0.1111111111111111,\"#46039f\"],[0.2222222222222222,\"#7201a8\"],[0.3333333333333333,\"#9c179e\"],[0.4444444444444444,\"#bd3786\"],[0.5555555555555556,\"#d8576b\"],[0.6666666666666666,\"#ed7953\"],[0.7777777777777778,\"#fb9f3a\"],[0.8888888888888888,\"#fdca26\"],[1.0,\"#f0f921\"]],\"type\":\"contour\"}],\"contourcarpet\":[{\"colorbar\":{\"outlinewidth\":0,\"ticks\":\"\"},\"type\":\"contourcarpet\"}],\"heatmap\":[{\"colorbar\":{\"outlinewidth\":0,\"ticks\":\"\"},\"colorscale\":[[0.0,\"#0d0887\"],[0.1111111111111111,\"#46039f\"],[0.2222222222222222,\"#7201a8\"],[0.3333333333333333,\"#9c179e\"],[0.4444444444444444,\"#bd3786\"],[0.5555555555555556,\"#d8576b\"],[0.6666666666666666,\"#ed7953\"],[0.7777777777777778,\"#fb9f3a\"],[0.8888888888888888,\"#fdca26\"],[1.0,\"#f0f921\"]],\"type\":\"heatmap\"}],\"heatmapgl\":[{\"colorbar\":{\"outlinewidth\":0,\"ticks\":\"\"},\"colorscale\":[[0.0,\"#0d0887\"],[0.1111111111111111,\"#46039f\"],[0.2222222222222222,\"#7201a8\"],[0.3333333333333333,\"#9c179e\"],[0.4444444444444444,\"#bd3786\"],[0.5555555555555556,\"#d8576b\"],[0.6666666666666666,\"#ed7953\"],[0.7777777777777778,\"#fb9f3a\"],[0.8888888888888888,\"#fdca26\"],[1.0,\"#f0f921\"]],\"type\":\"heatmapgl\"}],\"histogram\":[{\"marker\":{\"pattern\":{\"fillmode\":\"overlay\",\"size\":10,\"solidity\":0.2}},\"type\":\"histogram\"}],\"histogram2d\":[{\"colorbar\":{\"outlinewidth\":0,\"ticks\":\"\"},\"colorscale\":[[0.0,\"#0d0887\"],[0.1111111111111111,\"#46039f\"],[0.2222222222222222,\"#7201a8\"],[0.3333333333333333,\"#9c179e\"],[0.4444444444444444,\"#bd3786\"],[0.5555555555555556,\"#d8576b\"],[0.6666666666666666,\"#ed7953\"],[0.7777777777777778,\"#fb9f3a\"],[0.8888888888888888,\"#fdca26\"],[1.0,\"#f0f921\"]],\"type\":\"histogram2d\"}],\"histogram2dcontour\":[{\"colorbar\":{\"outlinewidth\":0,\"ticks\":\"\"},\"colorscale\":[[0.0,\"#0d0887\"],[0.1111111111111111,\"#46039f\"],[0.2222222222222222,\"#7201a8\"],[0.3333333333333333,\"#9c179e\"],[0.4444444444444444,\"#bd3786\"],[0.5555555555555556,\"#d8576b\"],[0.6666666666666666,\"#ed7953\"],[0.7777777777777778,\"#fb9f3a\"],[0.8888888888888888,\"#fdca26\"],[1.0,\"#f0f921\"]],\"type\":\"histogram2dcontour\"}],\"mesh3d\":[{\"colorbar\":{\"outlinewidth\":0,\"ticks\":\"\"},\"type\":\"mesh3d\"}],\"parcoords\":[{\"line\":{\"colorbar\":{\"outlinewidth\":0,\"ticks\":\"\"}},\"type\":\"parcoords\"}],\"pie\":[{\"automargin\":true,\"type\":\"pie\"}],\"scatter\":[{\"marker\":{\"colorbar\":{\"outlinewidth\":0,\"ticks\":\"\"}},\"type\":\"scatter\"}],\"scatter3d\":[{\"line\":{\"colorbar\":{\"outlinewidth\":0,\"ticks\":\"\"}},\"marker\":{\"colorbar\":{\"outlinewidth\":0,\"ticks\":\"\"}},\"type\":\"scatter3d\"}],\"scattercarpet\":[{\"marker\":{\"colorbar\":{\"outlinewidth\":0,\"ticks\":\"\"}},\"type\":\"scattercarpet\"}],\"scattergeo\":[{\"marker\":{\"colorbar\":{\"outlinewidth\":0,\"ticks\":\"\"}},\"type\":\"scattergeo\"}],\"scattergl\":[{\"marker\":{\"colorbar\":{\"outlinewidth\":0,\"ticks\":\"\"}},\"type\":\"scattergl\"}],\"scattermapbox\":[{\"marker\":{\"colorbar\":{\"outlinewidth\":0,\"ticks\":\"\"}},\"type\":\"scattermapbox\"}],\"scatterpolar\":[{\"marker\":{\"colorbar\":{\"outlinewidth\":0,\"ticks\":\"\"}},\"type\":\"scatterpolar\"}],\"scatterpolargl\":[{\"marker\":{\"colorbar\":{\"outlinewidth\":0,\"ticks\":\"\"}},\"type\":\"scatterpolargl\"}],\"scatterternary\":[{\"marker\":{\"colorbar\":{\"outlinewidth\":0,\"ticks\":\"\"}},\"type\":\"scatterternary\"}],\"surface\":[{\"colorbar\":{\"outlinewidth\":0,\"ticks\":\"\"},\"colorscale\":[[0.0,\"#0d0887\"],[0.1111111111111111,\"#46039f\"],[0.2222222222222222,\"#7201a8\"],[0.3333333333333333,\"#9c179e\"],[0.4444444444444444,\"#bd3786\"],[0.5555555555555556,\"#d8576b\"],[0.6666666666666666,\"#ed7953\"],[0.7777777777777778,\"#fb9f3a\"],[0.8888888888888888,\"#fdca26\"],[1.0,\"#f0f921\"]],\"type\":\"surface\"}],\"table\":[{\"cells\":{\"fill\":{\"color\":\"#EBF0F8\"},\"line\":{\"color\":\"white\"}},\"header\":{\"fill\":{\"color\":\"#C8D4E3\"},\"line\":{\"color\":\"white\"}},\"type\":\"table\"}]},\"layout\":{\"annotationdefaults\":{\"arrowcolor\":\"#2a3f5f\",\"arrowhead\":0,\"arrowwidth\":1},\"autotypenumbers\":\"strict\",\"coloraxis\":{\"colorbar\":{\"outlinewidth\":0,\"ticks\":\"\"}},\"colorscale\":{\"diverging\":[[0,\"#8e0152\"],[0.1,\"#c51b7d\"],[0.2,\"#de77ae\"],[0.3,\"#f1b6da\"],[0.4,\"#fde0ef\"],[0.5,\"#f7f7f7\"],[0.6,\"#e6f5d0\"],[0.7,\"#b8e186\"],[0.8,\"#7fbc41\"],[0.9,\"#4d9221\"],[1,\"#276419\"]],\"sequential\":[[0.0,\"#0d0887\"],[0.1111111111111111,\"#46039f\"],[0.2222222222222222,\"#7201a8\"],[0.3333333333333333,\"#9c179e\"],[0.4444444444444444,\"#bd3786\"],[0.5555555555555556,\"#d8576b\"],[0.6666666666666666,\"#ed7953\"],[0.7777777777777778,\"#fb9f3a\"],[0.8888888888888888,\"#fdca26\"],[1.0,\"#f0f921\"]],\"sequentialminus\":[[0.0,\"#0d0887\"],[0.1111111111111111,\"#46039f\"],[0.2222222222222222,\"#7201a8\"],[0.3333333333333333,\"#9c179e\"],[0.4444444444444444,\"#bd3786\"],[0.5555555555555556,\"#d8576b\"],[0.6666666666666666,\"#ed7953\"],[0.7777777777777778,\"#fb9f3a\"],[0.8888888888888888,\"#fdca26\"],[1.0,\"#f0f921\"]]},\"colorway\":[\"#636efa\",\"#EF553B\",\"#00cc96\",\"#ab63fa\",\"#FFA15A\",\"#19d3f3\",\"#FF6692\",\"#B6E880\",\"#FF97FF\",\"#FECB52\"],\"font\":{\"color\":\"#2a3f5f\"},\"geo\":{\"bgcolor\":\"white\",\"lakecolor\":\"white\",\"landcolor\":\"#E5ECF6\",\"showlakes\":true,\"showland\":true,\"subunitcolor\":\"white\"},\"hoverlabel\":{\"align\":\"left\"},\"hovermode\":\"closest\",\"mapbox\":{\"style\":\"light\"},\"paper_bgcolor\":\"white\",\"plot_bgcolor\":\"#E5ECF6\",\"polar\":{\"angularaxis\":{\"gridcolor\":\"white\",\"linecolor\":\"white\",\"ticks\":\"\"},\"bgcolor\":\"#E5ECF6\",\"radialaxis\":{\"gridcolor\":\"white\",\"linecolor\":\"white\",\"ticks\":\"\"}},\"scene\":{\"xaxis\":{\"backgroundcolor\":\"#E5ECF6\",\"gridcolor\":\"white\",\"gridwidth\":2,\"linecolor\":\"white\",\"showbackground\":true,\"ticks\":\"\",\"zerolinecolor\":\"white\"},\"yaxis\":{\"backgroundcolor\":\"#E5ECF6\",\"gridcolor\":\"white\",\"gridwidth\":2,\"linecolor\":\"white\",\"showbackground\":true,\"ticks\":\"\",\"zerolinecolor\":\"white\"},\"zaxis\":{\"backgroundcolor\":\"#E5ECF6\",\"gridcolor\":\"white\",\"gridwidth\":2,\"linecolor\":\"white\",\"showbackground\":true,\"ticks\":\"\",\"zerolinecolor\":\"white\"}},\"shapedefaults\":{\"line\":{\"color\":\"#2a3f5f\"}},\"ternary\":{\"aaxis\":{\"gridcolor\":\"white\",\"linecolor\":\"white\",\"ticks\":\"\"},\"baxis\":{\"gridcolor\":\"white\",\"linecolor\":\"white\",\"ticks\":\"\"},\"bgcolor\":\"#E5ECF6\",\"caxis\":{\"gridcolor\":\"white\",\"linecolor\":\"white\",\"ticks\":\"\"}},\"title\":{\"x\":0.05},\"xaxis\":{\"automargin\":true,\"gridcolor\":\"white\",\"linecolor\":\"white\",\"ticks\":\"\",\"title\":{\"standoff\":15},\"zerolinecolor\":\"white\",\"zerolinewidth\":2},\"yaxis\":{\"automargin\":true,\"gridcolor\":\"white\",\"linecolor\":\"white\",\"ticks\":\"\",\"title\":{\"standoff\":15},\"zerolinecolor\":\"white\",\"zerolinewidth\":2}}}},                        {\"responsive\": true}                    ).then(function(){\n",
              "                            \n",
              "var gd = document.getElementById('3431b790-1fbc-4be0-bd56-0010c34e23f4');\n",
              "var x = new MutationObserver(function (mutations, observer) {{\n",
              "        var display = window.getComputedStyle(gd).display;\n",
              "        if (!display || display === 'none') {{\n",
              "            console.log([gd, 'removed!']);\n",
              "            Plotly.purge(gd);\n",
              "            observer.disconnect();\n",
              "        }}\n",
              "}});\n",
              "\n",
              "// Listen for the removal of the full notebook cells\n",
              "var notebookContainer = gd.closest('#notebook-container');\n",
              "if (notebookContainer) {{\n",
              "    x.observe(notebookContainer, {childList: true});\n",
              "}}\n",
              "\n",
              "// Listen for the clearing of the current output cell\n",
              "var outputEl = gd.closest('.output');\n",
              "if (outputEl) {{\n",
              "    x.observe(outputEl, {childList: true});\n",
              "}}\n",
              "\n",
              "                        })                };                            </script>        </div>\n",
              "</body>\n",
              "</html>"
            ]
          },
          "metadata": {}
        }
      ]
    },
    {
      "cell_type": "code",
      "metadata": {
        "colab": {
          "base_uri": "https://localhost:8080/",
          "height": 237
        },
        "id": "C_IHztyDoBPD",
        "outputId": "2d7c1c88-f67d-495e-b66d-64fced68a8ff"
      },
      "source": [
        "df_grouped_2 = df.groupby('name')[['team', 'sport']].max()\n",
        "\n",
        "df_grouped_2.head()"
      ],
      "execution_count": 11,
      "outputs": [
        {
          "output_type": "execute_result",
          "data": {
            "text/html": [
              "<div>\n",
              "<style scoped>\n",
              "    .dataframe tbody tr th:only-of-type {\n",
              "        vertical-align: middle;\n",
              "    }\n",
              "\n",
              "    .dataframe tbody tr th {\n",
              "        vertical-align: top;\n",
              "    }\n",
              "\n",
              "    .dataframe thead th {\n",
              "        text-align: right;\n",
              "    }\n",
              "</style>\n",
              "<table border=\"1\" class=\"dataframe\">\n",
              "  <thead>\n",
              "    <tr style=\"text-align: right;\">\n",
              "      <th></th>\n",
              "      <th>team</th>\n",
              "      <th>sport</th>\n",
              "    </tr>\n",
              "    <tr>\n",
              "      <th>name</th>\n",
              "      <th></th>\n",
              "      <th></th>\n",
              "    </tr>\n",
              "  </thead>\n",
              "  <tbody>\n",
              "    <tr>\n",
              "      <th>Th Anh</th>\n",
              "      <td>Vietnam</td>\n",
              "      <td>Fencing</td>\n",
              "    </tr>\n",
              "    <tr>\n",
              "      <th>Th Ngn Thng</th>\n",
              "      <td>Vietnam</td>\n",
              "      <td>Gymnastics</td>\n",
              "    </tr>\n",
              "    <tr>\n",
              "      <th>Tin Tun</th>\n",
              "      <td>Vietnam</td>\n",
              "      <td>Boxing</td>\n",
              "    </tr>\n",
              "    <tr>\n",
              "      <th>A Dijiang</th>\n",
              "      <td>China</td>\n",
              "      <td>Basketball</td>\n",
              "    </tr>\n",
              "    <tr>\n",
              "      <th>A Lamusi</th>\n",
              "      <td>China</td>\n",
              "      <td>Judo</td>\n",
              "    </tr>\n",
              "  </tbody>\n",
              "</table>\n",
              "</div>"
            ],
            "text/plain": [
              "                 team       sport\n",
              "name                             \n",
              " Th Anh       Vietnam     Fencing\n",
              " Th Ngn Thng  Vietnam  Gymnastics\n",
              " Tin Tun      Vietnam      Boxing\n",
              "A Dijiang       China  Basketball\n",
              "A Lamusi        China        Judo"
            ]
          },
          "metadata": {},
          "execution_count": 11
        }
      ]
    },
    {
      "cell_type": "code",
      "metadata": {
        "id": "6Jez-dipoBPD"
      },
      "source": [
        "df_grouped_2['count'] = 1"
      ],
      "execution_count": 12,
      "outputs": []
    },
    {
      "cell_type": "code",
      "metadata": {
        "id": "K4ShEIEZoBPE"
      },
      "source": [
        "top_5_sports = df_grouped_2['sport'].value_counts().head(5)"
      ],
      "execution_count": 13,
      "outputs": []
    },
    {
      "cell_type": "code",
      "metadata": {
        "id": "SNtwQdsJoBPE"
      },
      "source": [
        "top_5_df = df_grouped_2[df_grouped_2['sport'].isin(top_5_sports.index)]"
      ],
      "execution_count": 14,
      "outputs": []
    },
    {
      "cell_type": "code",
      "metadata": {
        "colab": {
          "base_uri": "https://localhost:8080/",
          "height": 542
        },
        "id": "aFc8MOfKoBPE",
        "outputId": "3dd901c2-ee8c-4a1e-a2ee-d575bcd0d95b"
      },
      "source": [
        "fig = px.treemap(top_5_df, path=['team', 'sport'], values='count')\n",
        "\n",
        "fig.show()"
      ],
      "execution_count": 15,
      "outputs": [
        {
          "output_type": "display_data",
          "data": {
            "text/html": [
              "<html>\n",
              "<head><meta charset=\"utf-8\" /></head>\n",
              "<body>\n",
              "    <div>            <script src=\"https://cdnjs.cloudflare.com/ajax/libs/mathjax/2.7.5/MathJax.js?config=TeX-AMS-MML_SVG\"></script><script type=\"text/javascript\">if (window.MathJax) {MathJax.Hub.Config({SVG: {font: \"STIX-Web\"}});}</script>                <script type=\"text/javascript\">window.PlotlyConfig = {MathJaxConfig: 'local'};</script>\n",
              "        <script src=\"https://cdn.plot.ly/plotly-2.4.2.min.js\"></script>                <div id=\"45dcc48d-843c-409c-8cbf-72382512ce86\" class=\"plotly-graph-div\" style=\"height:525px; width:100%;\"></div>            <script type=\"text/javascript\">                                    window.PLOTLYENV=window.PLOTLYENV || {};                                    if (document.getElementById(\"45dcc48d-843c-409c-8cbf-72382512ce86\")) {                    Plotly.newPlot(                        \"45dcc48d-843c-409c-8cbf-72382512ce86\",                        [{\"branchvalues\":\"total\",\"domain\":{\"x\":[0.0,1.0],\"y\":[0.0,1.0]},\"hovertemplate\":\"labels=%{label}<br>count=%{value}<br>parent=%{parent}<br>id=%{id}<extra></extra>\",\"ids\":[\"Afghanistan/Athletics\",\"Albania/Athletics\",\"Algeria/Athletics\",\"American Samoa/Athletics\",\"Andorra/Athletics\",\"Angola/Athletics\",\"Antigua and Barbuda/Athletics\",\"Argentina/Athletics\",\"Armenia/Athletics\",\"Aruba/Athletics\",\"Australasia/Athletics\",\"Australia/Athletics\",\"Austria/Athletics\",\"Azerbaijan/Athletics\",\"Bahamas/Athletics\",\"Bahrain/Athletics\",\"Bangladesh/Athletics\",\"Barbados/Athletics\",\"Belarus/Athletics\",\"Belgium/Athletics\",\"Belize/Athletics\",\"Benin/Athletics\",\"Bermuda/Athletics\",\"Bolivia/Athletics\",\"Bosnia and Herzegovina/Athletics\",\"Botswana/Athletics\",\"Brazil/Athletics\",\"British Virgin Islands/Athletics\",\"Brunei/Athletics\",\"Bulgaria/Athletics\",\"Burkina Faso/Athletics\",\"Burundi/Athletics\",\"Cambodia/Athletics\",\"Cameroon/Athletics\",\"Canada/Athletics\",\"Cape Verde/Athletics\",\"Cayman Islands/Athletics\",\"Central African Republic/Athletics\",\"Chad/Athletics\",\"Chile/Athletics\",\"China/Athletics\",\"Chinese Taipei/Athletics\",\"Colombia/Athletics\",\"Comoros/Athletics\",\"Congo (Brazzaville)/Athletics\",\"Congo (Kinshasa)/Athletics\",\"Cook Islands/Athletics\",\"Costa Rica/Athletics\",\"Cote d'Ivoire/Athletics\",\"Croatia/Athletics\",\"Cuba/Athletics\",\"Cyprus/Athletics\",\"Czech Republic/Athletics\",\"Czechoslovakia/Athletics\",\"Denmark/Athletics\",\"Djibouti/Athletics\",\"Dominica/Athletics\",\"Dominican Republic/Athletics\",\"East Germany/Athletics\",\"Ecuador/Athletics\",\"Egypt/Athletics\",\"El Salvador/Athletics\",\"Equatorial Guinea/Athletics\",\"Eritrea/Athletics\",\"Estonia/Athletics\",\"Ethiopia/Athletics\",\"Federated States of Micronesia/Athletics\",\"Fiji/Athletics\",\"Finland/Athletics\",\"France/Athletics\",\"Gabon/Athletics\",\"Gambia/Athletics\",\"Georgia/Athletics\",\"Germany/Athletics\",\"Ghana/Athletics\",\"Great Britain/Athletics\",\"Greece/Athletics\",\"Grenada/Athletics\",\"Guam/Athletics\",\"Guatemala/Athletics\",\"Guinea/Athletics\",\"Guinea Bissau/Athletics\",\"Guyana/Athletics\",\"Haiti/Athletics\",\"Honduras/Athletics\",\"Hong Kong/Athletics\",\"Hungary/Athletics\",\"Iceland/Athletics\",\"India/Athletics\",\"Individual Olympic Athletes/Athletics\",\"Indonesia/Athletics\",\"Iran/Athletics\",\"Iraq/Athletics\",\"Ireland/Athletics\",\"Israel/Athletics\",\"Italy/Athletics\",\"Jamaica/Athletics\",\"Japan/Athletics\",\"Jordan/Athletics\",\"Kazakhstan/Athletics\",\"Kenya/Athletics\",\"Kiribati/Athletics\",\"Kosovo/Athletics\",\"Kuwait/Athletics\",\"Kyrgyzstan/Athletics\",\"Laos/Athletics\",\"Latvia/Athletics\",\"Lebanon/Athletics\",\"Lesotho/Athletics\",\"Liberia/Athletics\",\"Libya/Athletics\",\"Liechtenstein/Athletics\",\"Lithuania/Athletics\",\"Luxembourg/Athletics\",\"Macedonia/Athletics\",\"Madagascar/Athletics\",\"Malawi/Athletics\",\"Malaya/Athletics\",\"Malaysia/Athletics\",\"Maldives/Athletics\",\"Mali/Athletics\",\"Malta/Athletics\",\"Marshall Islands/Athletics\",\"Mauritania/Athletics\",\"Mauritius/Athletics\",\"Mexico/Athletics\",\"Moldova/Athletics\",\"Monaco/Athletics\",\"Mongolia/Athletics\",\"Montenegro/Athletics\",\"Morocco/Athletics\",\"Mozambique/Athletics\",\"Myanmar/Athletics\",\"Namibia/Athletics\",\"Nepal/Athletics\",\"Netherlands/Athletics\",\"Netherlands Antilles/Athletics\",\"New Zealand/Athletics\",\"Nicaragua/Athletics\",\"Niger/Athletics\",\"Nigeria/Athletics\",\"North Korea/Athletics\",\"North Yemen/Athletics\",\"Norway/Athletics\",\"Oman/Athletics\",\"Pakistan/Athletics\",\"Palau/Athletics\",\"Palestine/Athletics\",\"Panama/Athletics\",\"Papua New Guinea/Athletics\",\"Paraguay/Athletics\",\"Peru/Athletics\",\"Philippines/Athletics\",\"Poland/Athletics\",\"Portugal/Athletics\",\"Puerto Rico/Athletics\",\"Qatar/Athletics\",\"Racing Club de France/Athletics\",\"Refugee Olympic Athletes/Athletics\",\"Rhodesia/Athletics\",\"Romania/Athletics\",\"Russia/Athletics\",\"Rwanda/Athletics\",\"Saar/Athletics\",\"Saint Kitts and Nevis/Athletics\",\"Saint Lucia/Athletics\",\"Saint Vincent and the Grenadines/Athletics\",\"Samoa/Athletics\",\"San Marino/Athletics\",\"Sao Tome and Principe/Athletics\",\"Saudi Arabia/Athletics\",\"Senegal/Athletics\",\"Serbia/Athletics\",\"Serbia and Montenegro/Athletics\",\"Seychelles/Athletics\",\"Sierra Leone/Athletics\",\"Singapore/Athletics\",\"Slovakia/Athletics\",\"Slovenia/Athletics\",\"Solomon Islands/Athletics\",\"Somalia/Athletics\",\"South Africa/Athletics\",\"South Korea/Athletics\",\"South Sudan/Athletics\",\"South Vietnam/Athletics\",\"South Yemen/Athletics\",\"Soviet Union/Athletics\",\"Spain/Athletics\",\"Sri Lanka/Athletics\",\"Sudan/Athletics\",\"Suriname/Athletics\",\"Swaziland/Athletics\",\"Sweden/Athletics\",\"Switzerland/Athletics\",\"Syria/Athletics\",\"Tajikistan/Athletics\",\"Tanzania/Athletics\",\"Thailand/Athletics\",\"Timor Leste/Athletics\",\"Togo/Athletics\",\"Tonga/Athletics\",\"Trinidad and Tobago/Athletics\",\"Tunisia/Athletics\",\"Turkey/Athletics\",\"Turkmenistan/Athletics\",\"Tuvalu/Athletics\",\"Uganda/Athletics\",\"Ukraine/Athletics\",\"Unified Team/Athletics\",\"United Arab Emirates/Athletics\",\"United States/Athletics\",\"United States Virgin Islands/Athletics\",\"Uruguay/Athletics\",\"Uzbekistan/Athletics\",\"Vanuatu/Athletics\",\"Venezuela/Athletics\",\"Vietnam/Athletics\",\"West Germany/Athletics\",\"West Indies Federation/Athletics\",\"Yemen/Athletics\",\"Yugoslavia/Athletics\",\"Zambia/Athletics\",\"Zimbabwe/Athletics\",\"Albania/Cycling\",\"Algeria/Cycling\",\"Andorra/Cycling\",\"Antigua and Barbuda/Cycling\",\"Argentina/Cycling\",\"Armenia/Cycling\",\"Aruba/Cycling\",\"Australia/Cycling\",\"Austria/Cycling\",\"Azerbaijan/Cycling\",\"Bahamas/Cycling\",\"Bahrain/Cycling\",\"Barbados/Cycling\",\"Belarus/Cycling\",\"Belgium/Cycling\",\"Belize/Cycling\",\"Benin/Cycling\",\"Bermuda/Cycling\",\"Bolivia/Cycling\",\"Brazil/Cycling\",\"Bulgaria/Cycling\",\"Cambodia/Cycling\",\"Cameroon/Cycling\",\"Canada/Cycling\",\"Cayman Islands/Cycling\",\"Chile/Cycling\",\"China/Cycling\",\"Chinese Taipei/Cycling\",\"Colombia/Cycling\",\"Congo (Kinshasa)/Cycling\",\"Costa Rica/Cycling\",\"Croatia/Cycling\",\"Cuba/Cycling\",\"Cyprus/Cycling\",\"Czech Republic/Cycling\",\"Czechoslovakia/Cycling\",\"Denmark/Cycling\",\"Dominican Republic/Cycling\",\"East Germany/Cycling\",\"Ecuador/Cycling\",\"Egypt/Cycling\",\"El Salvador/Cycling\",\"Eritrea/Cycling\",\"Estonia/Cycling\",\"Ethiopia/Cycling\",\"Fiji/Cycling\",\"Finland/Cycling\",\"France/Cycling\",\"Georgia/Cycling\",\"Germany/Cycling\",\"Germany-2/Cycling\",\"Great Britain/Cycling\",\"Greece/Cycling\",\"Guam/Cycling\",\"Guatemala/Cycling\",\"Guyana/Cycling\",\"Hong Kong/Cycling\",\"Hungary/Cycling\",\"India/Cycling\",\"Individual Olympic Athletes/Cycling\",\"Indonesia/Cycling\",\"Iran/Cycling\",\"Iraq/Cycling\",\"Ireland/Cycling\",\"Israel/Cycling\",\"Italy/Cycling\",\"Jamaica/Cycling\",\"Japan/Cycling\",\"Kazakhstan/Cycling\",\"Kenya/Cycling\",\"Kosovo/Cycling\",\"Kyrgyzstan/Cycling\",\"Laos/Cycling\",\"Latvia/Cycling\",\"Lebanon/Cycling\",\"Libya/Cycling\",\"Liechtenstein/Cycling\",\"Lithuania/Cycling\",\"Luxembourg/Cycling\",\"Madagascar/Cycling\",\"Malawi/Cycling\",\"Malaysia/Cycling\",\"Malta/Cycling\",\"Mauritius/Cycling\",\"Mexico/Cycling\",\"Moldova/Cycling\",\"Monaco/Cycling\",\"Mongolia/Cycling\",\"Morocco/Cycling\",\"Namibia/Cycling\",\"Netherlands/Cycling\",\"New Zealand/Cycling\",\"Norway/Cycling\",\"Oman/Cycling\",\"Pakistan/Cycling\",\"Peru/Cycling\",\"Philippines/Cycling\",\"Poland/Cycling\",\"Portugal/Cycling\",\"Puerto Rico/Cycling\",\"Romania/Cycling\",\"Russia/Cycling\",\"Rwanda/Cycling\",\"San Marino/Cycling\",\"Serbia/Cycling\",\"Serbia and Montenegro/Cycling\",\"Sierra Leone/Cycling\",\"Slovakia/Cycling\",\"Slovenia/Cycling\",\"South Africa/Cycling\",\"South Korea/Cycling\",\"South Vietnam/Cycling\",\"Soviet Union/Cycling\",\"Spain/Cycling\",\"Sri Lanka/Cycling\",\"Suriname/Cycling\",\"Sweden/Cycling\",\"Switzerland/Cycling\",\"Syria/Cycling\",\"Thailand/Cycling\",\"Togo/Cycling\",\"Trinidad and Tobago/Cycling\",\"Tunisia/Cycling\",\"Turkey/Cycling\",\"Ukraine/Cycling\",\"Unified Team/Cycling\",\"United Arab Emirates/Cycling\",\"United States/Cycling\",\"United States Virgin Islands/Cycling\",\"Uruguay/Cycling\",\"Uzbekistan/Cycling\",\"Venezuela/Cycling\",\"Vietnam/Cycling\",\"West Germany/Cycling\",\"West Indies Federation/Cycling\",\"Yugoslavia/Cycling\",\"Zimbabwe/Cycling\",\"Algeria/Football\",\"Argentina/Football\",\"Australia/Football\",\"Austria/Football\",\"Belarus/Football\",\"Belgium/Football\",\"Belgium-1/Football\",\"Brazil/Football\",\"Bulgaria/Football\",\"Cameroon/Football\",\"Canada/Football\",\"Chile/Football\",\"China/Football\",\"Chinese Taipei/Football\",\"Colombia/Football\",\"Costa Rica/Football\",\"Cote d'Ivoire/Football\",\"Cuba/Football\",\"Czech Republic/Football\",\"Czechoslovakia/Football\",\"Denmark/Football\",\"East Germany/Football\",\"Egypt/Football\",\"Estonia/Football\",\"Fiji/Football\",\"Finland/Football\",\"France/Football\",\"Gabon/Football\",\"Germany/Football\",\"Ghana/Football\",\"Great Britain/Football\",\"Greece/Football\",\"Guatemala/Football\",\"Guinea/Football\",\"Honduras/Football\",\"Hungary/Football\",\"Hungary-2/Football\",\"India/Football\",\"Iran/Football\",\"Iraq/Football\",\"Israel/Football\",\"Italy/Football\",\"Japan/Football\",\"Kuwait/Football\",\"Luxembourg/Football\",\"Mali/Football\",\"Mexico/Football\",\"Morocco/Football\",\"Myanmar/Football\",\"Netherlands/Football\",\"New Zealand/Football\",\"Nigeria/Football\",\"North Korea/Football\",\"Norway/Football\",\"Paraguay/Football\",\"Peru/Football\",\"Poland/Football\",\"Portugal/Football\",\"Qatar/Football\",\"Romania/Football\",\"Russia/Football\",\"Saudi Arabia/Football\",\"Senegal/Football\",\"Serbia/Football\",\"Serbia and Montenegro/Football\",\"Slovakia/Football\",\"South Africa/Football\",\"South Korea/Football\",\"Soviet Union/Football\",\"Spain/Football\",\"Sweden/Football\",\"Switzerland/Football\",\"Thailand/Football\",\"Tunisia/Football\",\"Turkey/Football\",\"United Arab Emirates/Football\",\"United States/Football\",\"Uruguay/Football\",\"Venezuela/Football\",\"West Germany/Football\",\"Yugoslavia/Football\",\"Zambia/Football\",\"Zimbabwe/Football\",\"Algeria/Rowing\",\"Angola/Rowing\",\"Argentina/Rowing\",\"Australia/Rowing\",\"Austria/Rowing\",\"Azerbaijan/Rowing\",\"Bahamas/Rowing\",\"Belarus/Rowing\",\"Belgium/Rowing\",\"Bermuda/Rowing\",\"Brazil/Rowing\",\"Bulgaria/Rowing\",\"Cameroon/Rowing\",\"Canada/Rowing\",\"Chile/Rowing\",\"China/Rowing\",\"China-2/Rowing\",\"Chinese Taipei/Rowing\",\"Colombia/Rowing\",\"Croatia/Rowing\",\"Cuba/Rowing\",\"Czech Republic/Rowing\",\"Czechoslovakia/Rowing\",\"Denmark/Rowing\",\"East Germany/Rowing\",\"Ecuador/Rowing\",\"Egypt/Rowing\",\"El Salvador/Rowing\",\"Estonia/Rowing\",\"Finland/Rowing\",\"France/Rowing\",\"Germany/Rowing\",\"Great Britain/Rowing\",\"Greece/Rowing\",\"Guam/Rowing\",\"Guatemala/Rowing\",\"Honduras/Rowing\",\"Hong Kong/Rowing\",\"Hungary/Rowing\",\"India/Rowing\",\"Indonesia/Rowing\",\"Iran/Rowing\",\"Iraq/Rowing\",\"Ireland/Rowing\",\"Italy/Rowing\",\"Jamaica/Rowing\",\"Japan/Rowing\",\"Kazakhstan/Rowing\",\"Kenya/Rowing\",\"Kuwait/Rowing\",\"Latvia/Rowing\",\"Libya/Rowing\",\"Lithuania/Rowing\",\"Mexico/Rowing\",\"Monaco/Rowing\",\"Myanmar/Rowing\",\"Netherlands/Rowing\",\"New Zealand/Rowing\",\"Niger/Rowing\",\"Nigeria/Rowing\",\"North Korea/Rowing\",\"Norway/Rowing\",\"Pakistan/Rowing\",\"Paraguay/Rowing\",\"Peru/Rowing\",\"Philippines/Rowing\",\"Poland/Rowing\",\"Portugal/Rowing\",\"Puerto Rico/Rowing\",\"Romania/Rowing\",\"Royal Club Nautique de Gand/Rowing\",\"Russia/Rowing\",\"Serbia/Rowing\",\"Serbia and Montenegro/Rowing\",\"Singapore/Rowing\",\"Slovakia/Rowing\",\"Slovenia/Rowing\",\"South Africa/Rowing\",\"South Korea/Rowing\",\"Soviet Union/Rowing\",\"Spain/Rowing\",\"Studenternes Roklub-2/Rowing\",\"Sweden/Rowing\",\"Switzerland/Rowing\",\"Sydney Rowing Club/Rowing\",\"Thailand/Rowing\",\"Toronto Argonauts/Rowing\",\"Trinidad and Tobago/Rowing\",\"Tunisia/Rowing\",\"Turkey/Rowing\",\"Ukraine/Rowing\",\"Unified Team/Rowing\",\"United States/Rowing\",\"Uruguay/Rowing\",\"Uzbekistan/Rowing\",\"Vanuatu/Rowing\",\"Venezuela/Rowing\",\"Vietnam/Rowing\",\"West Germany/Rowing\",\"Yugoslavia/Rowing\",\"Zimbabwe/Rowing\",\"Albania/Swimming\",\"Algeria/Swimming\",\"American Samoa/Swimming\",\"Andorra/Swimming\",\"Angola/Swimming\",\"Antigua and Barbuda/Swimming\",\"Argentina/Swimming\",\"Armenia/Swimming\",\"Aruba/Swimming\",\"Australia/Swimming\",\"Austria/Swimming\",\"Azerbaijan/Swimming\",\"Bahamas/Swimming\",\"Bahrain/Swimming\",\"Bangladesh/Swimming\",\"Barbados/Swimming\",\"Belarus/Swimming\",\"Belgium/Swimming\",\"Benin/Swimming\",\"Bermuda/Swimming\",\"Bolivia/Swimming\",\"Bosnia and Herzegovina/Swimming\",\"Botswana/Swimming\",\"Brazil/Swimming\",\"British Virgin Islands/Swimming\",\"Brunei/Swimming\",\"Bulgaria/Swimming\",\"Burkina Faso/Swimming\",\"Burundi/Swimming\",\"Cambodia/Swimming\",\"Cameroon/Swimming\",\"Canada/Swimming\",\"Cayman Islands/Swimming\",\"Central African Republic/Swimming\",\"Chile/Swimming\",\"China/Swimming\",\"Chinese Taipei/Swimming\",\"Colombia/Swimming\",\"Comoros/Swimming\",\"Congo (Brazzaville)/Swimming\",\"Cook Islands/Swimming\",\"Costa Rica/Swimming\",\"Cote d'Ivoire/Swimming\",\"Croatia/Swimming\",\"Cuba/Swimming\",\"Cyprus/Swimming\",\"Czech Republic/Swimming\",\"Czechoslovakia/Swimming\",\"Denmark/Swimming\",\"Djibouti/Swimming\",\"Dominica/Swimming\",\"Dominican Republic/Swimming\",\"East Germany/Swimming\",\"Ecuador/Swimming\",\"Egypt/Swimming\",\"El Salvador/Swimming\",\"Equatorial Guinea/Swimming\",\"Estonia/Swimming\",\"Ethiopia/Swimming\",\"Federated States of Micronesia/Swimming\",\"Fiji/Swimming\",\"Finland/Swimming\",\"France/Swimming\",\"Gabon/Swimming\",\"Georgia/Swimming\",\"Germany/Swimming\",\"Great Britain/Swimming\",\"Greece/Swimming\",\"Grenada/Swimming\",\"Guam/Swimming\",\"Guatemala/Swimming\",\"Guinea/Swimming\",\"Guyana/Swimming\",\"Haiti/Swimming\",\"Honduras/Swimming\",\"Hong Kong/Swimming\",\"Hungary/Swimming\",\"Iceland/Swimming\",\"India/Swimming\",\"Individual Olympic Athletes/Swimming\",\"Indonesia/Swimming\",\"Iran/Swimming\",\"Iraq/Swimming\",\"Ireland/Swimming\",\"Israel/Swimming\",\"Italy/Swimming\",\"Jamaica/Swimming\",\"Japan/Swimming\",\"Jordan/Swimming\",\"Kazakhstan/Swimming\",\"Kenya/Swimming\",\"Kosovo/Swimming\",\"Kuwait/Swimming\",\"Kyrgyzstan/Swimming\",\"Laos/Swimming\",\"Latvia/Swimming\",\"Lebanon/Swimming\",\"Libya/Swimming\",\"Liechtenstein/Swimming\",\"Lithuania/Swimming\",\"Luxembourg/Swimming\",\"Macedonia/Swimming\",\"Madagascar/Swimming\",\"Malawi/Swimming\",\"Malaya/Swimming\",\"Malaysia/Swimming\",\"Maldives/Swimming\",\"Mali/Swimming\",\"Malta/Swimming\",\"Marshall Islands/Swimming\",\"Mauritius/Swimming\",\"Mexico/Swimming\",\"Moldova/Swimming\",\"Monaco/Swimming\",\"Mongolia/Swimming\",\"Montenegro/Swimming\",\"Morocco/Swimming\",\"Mozambique/Swimming\",\"Myanmar/Swimming\",\"Namibia/Swimming\",\"Nepal/Swimming\",\"Netherlands/Swimming\",\"Netherlands Antilles/Swimming\",\"New Zealand/Swimming\",\"Nicaragua/Swimming\",\"Niger/Swimming\",\"Nigeria/Swimming\",\"Norway/Swimming\",\"Oman/Swimming\",\"Pakistan/Swimming\",\"Palau/Swimming\",\"Palestine/Swimming\",\"Panama/Swimming\",\"Papua New Guinea/Swimming\",\"Paraguay/Swimming\",\"Peru/Swimming\",\"Philippines/Swimming\",\"Poland/Swimming\",\"Portugal/Swimming\",\"Puerto Rico/Swimming\",\"Qatar/Swimming\",\"Refugee Olympic Athletes/Swimming\",\"Romania/Swimming\",\"Russia/Swimming\",\"Rwanda/Swimming\",\"Saint Lucia/Swimming\",\"Saint Vincent and the Grenadines/Swimming\",\"Samoa/Swimming\",\"San Marino/Swimming\",\"Saudi Arabia/Swimming\",\"Senegal/Swimming\",\"Serbia/Swimming\",\"Serbia and Montenegro/Swimming\",\"Seychelles/Swimming\",\"Singapore/Swimming\",\"Slovakia/Swimming\",\"Slovenia/Swimming\",\"South Africa/Swimming\",\"South Korea/Swimming\",\"South Vietnam/Swimming\",\"Soviet Union/Swimming\",\"Spain/Swimming\",\"Sri Lanka/Swimming\",\"Sudan/Swimming\",\"Suriname/Swimming\",\"Swaziland/Swimming\",\"Sweden/Swimming\",\"Switzerland/Swimming\",\"Syria/Swimming\",\"Tajikistan/Swimming\",\"Tanzania/Swimming\",\"Thailand/Swimming\",\"Togo/Swimming\",\"Tonga/Swimming\",\"Trinidad and Tobago/Swimming\",\"Tunisia/Swimming\",\"Turkey/Swimming\",\"Turkmenistan/Swimming\",\"Uganda/Swimming\",\"Ukraine/Swimming\",\"Unified Team/Swimming\",\"United Arab Emirates/Swimming\",\"United States/Swimming\",\"United States Virgin Islands/Swimming\",\"Uruguay/Swimming\",\"Uzbekistan/Swimming\",\"Venezuela/Swimming\",\"Vietnam/Swimming\",\"West Germany/Swimming\",\"Yemen/Swimming\",\"Yugoslavia/Swimming\",\"Zambia/Swimming\",\"Zimbabwe/Swimming\",\"Afghanistan\",\"Albania\",\"Algeria\",\"American Samoa\",\"Andorra\",\"Angola\",\"Antigua and Barbuda\",\"Argentina\",\"Armenia\",\"Aruba\",\"Australasia\",\"Australia\",\"Austria\",\"Azerbaijan\",\"Bahamas\",\"Bahrain\",\"Bangladesh\",\"Barbados\",\"Belarus\",\"Belgium\",\"Belgium-1\",\"Belize\",\"Benin\",\"Bermuda\",\"Bolivia\",\"Bosnia and Herzegovina\",\"Botswana\",\"Brazil\",\"British Virgin Islands\",\"Brunei\",\"Bulgaria\",\"Burkina Faso\",\"Burundi\",\"Cambodia\",\"Cameroon\",\"Canada\",\"Cape Verde\",\"Cayman Islands\",\"Central African Republic\",\"Chad\",\"Chile\",\"China\",\"China-2\",\"Chinese Taipei\",\"Colombia\",\"Comoros\",\"Congo (Brazzaville)\",\"Congo (Kinshasa)\",\"Cook Islands\",\"Costa Rica\",\"Cote d'Ivoire\",\"Croatia\",\"Cuba\",\"Cyprus\",\"Czech Republic\",\"Czechoslovakia\",\"Denmark\",\"Djibouti\",\"Dominica\",\"Dominican Republic\",\"East Germany\",\"Ecuador\",\"Egypt\",\"El Salvador\",\"Equatorial Guinea\",\"Eritrea\",\"Estonia\",\"Ethiopia\",\"Federated States of Micronesia\",\"Fiji\",\"Finland\",\"France\",\"Gabon\",\"Gambia\",\"Georgia\",\"Germany\",\"Germany-2\",\"Ghana\",\"Great Britain\",\"Greece\",\"Grenada\",\"Guam\",\"Guatemala\",\"Guinea\",\"Guinea Bissau\",\"Guyana\",\"Haiti\",\"Honduras\",\"Hong Kong\",\"Hungary\",\"Hungary-2\",\"Iceland\",\"India\",\"Individual Olympic Athletes\",\"Indonesia\",\"Iran\",\"Iraq\",\"Ireland\",\"Israel\",\"Italy\",\"Jamaica\",\"Japan\",\"Jordan\",\"Kazakhstan\",\"Kenya\",\"Kiribati\",\"Kosovo\",\"Kuwait\",\"Kyrgyzstan\",\"Laos\",\"Latvia\",\"Lebanon\",\"Lesotho\",\"Liberia\",\"Libya\",\"Liechtenstein\",\"Lithuania\",\"Luxembourg\",\"Macedonia\",\"Madagascar\",\"Malawi\",\"Malaya\",\"Malaysia\",\"Maldives\",\"Mali\",\"Malta\",\"Marshall Islands\",\"Mauritania\",\"Mauritius\",\"Mexico\",\"Moldova\",\"Monaco\",\"Mongolia\",\"Montenegro\",\"Morocco\",\"Mozambique\",\"Myanmar\",\"Namibia\",\"Nepal\",\"Netherlands\",\"Netherlands Antilles\",\"New Zealand\",\"Nicaragua\",\"Niger\",\"Nigeria\",\"North Korea\",\"North Yemen\",\"Norway\",\"Oman\",\"Pakistan\",\"Palau\",\"Palestine\",\"Panama\",\"Papua New Guinea\",\"Paraguay\",\"Peru\",\"Philippines\",\"Poland\",\"Portugal\",\"Puerto Rico\",\"Qatar\",\"Racing Club de France\",\"Refugee Olympic Athletes\",\"Rhodesia\",\"Romania\",\"Royal Club Nautique de Gand\",\"Russia\",\"Rwanda\",\"Saar\",\"Saint Kitts and Nevis\",\"Saint Lucia\",\"Saint Vincent and the Grenadines\",\"Samoa\",\"San Marino\",\"Sao Tome and Principe\",\"Saudi Arabia\",\"Senegal\",\"Serbia\",\"Serbia and Montenegro\",\"Seychelles\",\"Sierra Leone\",\"Singapore\",\"Slovakia\",\"Slovenia\",\"Solomon Islands\",\"Somalia\",\"South Africa\",\"South Korea\",\"South Sudan\",\"South Vietnam\",\"South Yemen\",\"Soviet Union\",\"Spain\",\"Sri Lanka\",\"Studenternes Roklub-2\",\"Sudan\",\"Suriname\",\"Swaziland\",\"Sweden\",\"Switzerland\",\"Sydney Rowing Club\",\"Syria\",\"Tajikistan\",\"Tanzania\",\"Thailand\",\"Timor Leste\",\"Togo\",\"Tonga\",\"Toronto Argonauts\",\"Trinidad and Tobago\",\"Tunisia\",\"Turkey\",\"Turkmenistan\",\"Tuvalu\",\"Uganda\",\"Ukraine\",\"Unified Team\",\"United Arab Emirates\",\"United States\",\"United States Virgin Islands\",\"Uruguay\",\"Uzbekistan\",\"Vanuatu\",\"Venezuela\",\"Vietnam\",\"West Germany\",\"West Indies Federation\",\"Yemen\",\"Yugoslavia\",\"Zambia\",\"Zimbabwe\"],\"labels\":[\"Athletics\",\"Athletics\",\"Athletics\",\"Athletics\",\"Athletics\",\"Athletics\",\"Athletics\",\"Athletics\",\"Athletics\",\"Athletics\",\"Athletics\",\"Athletics\",\"Athletics\",\"Athletics\",\"Athletics\",\"Athletics\",\"Athletics\",\"Athletics\",\"Athletics\",\"Athletics\",\"Athletics\",\"Athletics\",\"Athletics\",\"Athletics\",\"Athletics\",\"Athletics\",\"Athletics\",\"Athletics\",\"Athletics\",\"Athletics\",\"Athletics\",\"Athletics\",\"Athletics\",\"Athletics\",\"Athletics\",\"Athletics\",\"Athletics\",\"Athletics\",\"Athletics\",\"Athletics\",\"Athletics\",\"Athletics\",\"Athletics\",\"Athletics\",\"Athletics\",\"Athletics\",\"Athletics\",\"Athletics\",\"Athletics\",\"Athletics\",\"Athletics\",\"Athletics\",\"Athletics\",\"Athletics\",\"Athletics\",\"Athletics\",\"Athletics\",\"Athletics\",\"Athletics\",\"Athletics\",\"Athletics\",\"Athletics\",\"Athletics\",\"Athletics\",\"Athletics\",\"Athletics\",\"Athletics\",\"Athletics\",\"Athletics\",\"Athletics\",\"Athletics\",\"Athletics\",\"Athletics\",\"Athletics\",\"Athletics\",\"Athletics\",\"Athletics\",\"Athletics\",\"Athletics\",\"Athletics\",\"Athletics\",\"Athletics\",\"Athletics\",\"Athletics\",\"Athletics\",\"Athletics\",\"Athletics\",\"Athletics\",\"Athletics\",\"Athletics\",\"Athletics\",\"Athletics\",\"Athletics\",\"Athletics\",\"Athletics\",\"Athletics\",\"Athletics\",\"Athletics\",\"Athletics\",\"Athletics\",\"Athletics\",\"Athletics\",\"Athletics\",\"Athletics\",\"Athletics\",\"Athletics\",\"Athletics\",\"Athletics\",\"Athletics\",\"Athletics\",\"Athletics\",\"Athletics\",\"Athletics\",\"Athletics\",\"Athletics\",\"Athletics\",\"Athletics\",\"Athletics\",\"Athletics\",\"Athletics\",\"Athletics\",\"Athletics\",\"Athletics\",\"Athletics\",\"Athletics\",\"Athletics\",\"Athletics\",\"Athletics\",\"Athletics\",\"Athletics\",\"Athletics\",\"Athletics\",\"Athletics\",\"Athletics\",\"Athletics\",\"Athletics\",\"Athletics\",\"Athletics\",\"Athletics\",\"Athletics\",\"Athletics\",\"Athletics\",\"Athletics\",\"Athletics\",\"Athletics\",\"Athletics\",\"Athletics\",\"Athletics\",\"Athletics\",\"Athletics\",\"Athletics\",\"Athletics\",\"Athletics\",\"Athletics\",\"Athletics\",\"Athletics\",\"Athletics\",\"Athletics\",\"Athletics\",\"Athletics\",\"Athletics\",\"Athletics\",\"Athletics\",\"Athletics\",\"Athletics\",\"Athletics\",\"Athletics\",\"Athletics\",\"Athletics\",\"Athletics\",\"Athletics\",\"Athletics\",\"Athletics\",\"Athletics\",\"Athletics\",\"Athletics\",\"Athletics\",\"Athletics\",\"Athletics\",\"Athletics\",\"Athletics\",\"Athletics\",\"Athletics\",\"Athletics\",\"Athletics\",\"Athletics\",\"Athletics\",\"Athletics\",\"Athletics\",\"Athletics\",\"Athletics\",\"Athletics\",\"Athletics\",\"Athletics\",\"Athletics\",\"Athletics\",\"Athletics\",\"Athletics\",\"Athletics\",\"Athletics\",\"Athletics\",\"Athletics\",\"Athletics\",\"Athletics\",\"Athletics\",\"Athletics\",\"Athletics\",\"Athletics\",\"Athletics\",\"Athletics\",\"Athletics\",\"Athletics\",\"Athletics\",\"Athletics\",\"Athletics\",\"Athletics\",\"Athletics\",\"Athletics\",\"Athletics\",\"Athletics\",\"Athletics\",\"Athletics\",\"Athletics\",\"Cycling\",\"Cycling\",\"Cycling\",\"Cycling\",\"Cycling\",\"Cycling\",\"Cycling\",\"Cycling\",\"Cycling\",\"Cycling\",\"Cycling\",\"Cycling\",\"Cycling\",\"Cycling\",\"Cycling\",\"Cycling\",\"Cycling\",\"Cycling\",\"Cycling\",\"Cycling\",\"Cycling\",\"Cycling\",\"Cycling\",\"Cycling\",\"Cycling\",\"Cycling\",\"Cycling\",\"Cycling\",\"Cycling\",\"Cycling\",\"Cycling\",\"Cycling\",\"Cycling\",\"Cycling\",\"Cycling\",\"Cycling\",\"Cycling\",\"Cycling\",\"Cycling\",\"Cycling\",\"Cycling\",\"Cycling\",\"Cycling\",\"Cycling\",\"Cycling\",\"Cycling\",\"Cycling\",\"Cycling\",\"Cycling\",\"Cycling\",\"Cycling\",\"Cycling\",\"Cycling\",\"Cycling\",\"Cycling\",\"Cycling\",\"Cycling\",\"Cycling\",\"Cycling\",\"Cycling\",\"Cycling\",\"Cycling\",\"Cycling\",\"Cycling\",\"Cycling\",\"Cycling\",\"Cycling\",\"Cycling\",\"Cycling\",\"Cycling\",\"Cycling\",\"Cycling\",\"Cycling\",\"Cycling\",\"Cycling\",\"Cycling\",\"Cycling\",\"Cycling\",\"Cycling\",\"Cycling\",\"Cycling\",\"Cycling\",\"Cycling\",\"Cycling\",\"Cycling\",\"Cycling\",\"Cycling\",\"Cycling\",\"Cycling\",\"Cycling\",\"Cycling\",\"Cycling\",\"Cycling\",\"Cycling\",\"Cycling\",\"Cycling\",\"Cycling\",\"Cycling\",\"Cycling\",\"Cycling\",\"Cycling\",\"Cycling\",\"Cycling\",\"Cycling\",\"Cycling\",\"Cycling\",\"Cycling\",\"Cycling\",\"Cycling\",\"Cycling\",\"Cycling\",\"Cycling\",\"Cycling\",\"Cycling\",\"Cycling\",\"Cycling\",\"Cycling\",\"Cycling\",\"Cycling\",\"Cycling\",\"Cycling\",\"Cycling\",\"Cycling\",\"Cycling\",\"Cycling\",\"Cycling\",\"Cycling\",\"Cycling\",\"Cycling\",\"Cycling\",\"Cycling\",\"Cycling\",\"Cycling\",\"Cycling\",\"Cycling\",\"Cycling\",\"Cycling\",\"Football\",\"Football\",\"Football\",\"Football\",\"Football\",\"Football\",\"Football\",\"Football\",\"Football\",\"Football\",\"Football\",\"Football\",\"Football\",\"Football\",\"Football\",\"Football\",\"Football\",\"Football\",\"Football\",\"Football\",\"Football\",\"Football\",\"Football\",\"Football\",\"Football\",\"Football\",\"Football\",\"Football\",\"Football\",\"Football\",\"Football\",\"Football\",\"Football\",\"Football\",\"Football\",\"Football\",\"Football\",\"Football\",\"Football\",\"Football\",\"Football\",\"Football\",\"Football\",\"Football\",\"Football\",\"Football\",\"Football\",\"Football\",\"Football\",\"Football\",\"Football\",\"Football\",\"Football\",\"Football\",\"Football\",\"Football\",\"Football\",\"Football\",\"Football\",\"Football\",\"Football\",\"Football\",\"Football\",\"Football\",\"Football\",\"Football\",\"Football\",\"Football\",\"Football\",\"Football\",\"Football\",\"Football\",\"Football\",\"Football\",\"Football\",\"Football\",\"Football\",\"Football\",\"Football\",\"Football\",\"Football\",\"Football\",\"Football\",\"Rowing\",\"Rowing\",\"Rowing\",\"Rowing\",\"Rowing\",\"Rowing\",\"Rowing\",\"Rowing\",\"Rowing\",\"Rowing\",\"Rowing\",\"Rowing\",\"Rowing\",\"Rowing\",\"Rowing\",\"Rowing\",\"Rowing\",\"Rowing\",\"Rowing\",\"Rowing\",\"Rowing\",\"Rowing\",\"Rowing\",\"Rowing\",\"Rowing\",\"Rowing\",\"Rowing\",\"Rowing\",\"Rowing\",\"Rowing\",\"Rowing\",\"Rowing\",\"Rowing\",\"Rowing\",\"Rowing\",\"Rowing\",\"Rowing\",\"Rowing\",\"Rowing\",\"Rowing\",\"Rowing\",\"Rowing\",\"Rowing\",\"Rowing\",\"Rowing\",\"Rowing\",\"Rowing\",\"Rowing\",\"Rowing\",\"Rowing\",\"Rowing\",\"Rowing\",\"Rowing\",\"Rowing\",\"Rowing\",\"Rowing\",\"Rowing\",\"Rowing\",\"Rowing\",\"Rowing\",\"Rowing\",\"Rowing\",\"Rowing\",\"Rowing\",\"Rowing\",\"Rowing\",\"Rowing\",\"Rowing\",\"Rowing\",\"Rowing\",\"Rowing\",\"Rowing\",\"Rowing\",\"Rowing\",\"Rowing\",\"Rowing\",\"Rowing\",\"Rowing\",\"Rowing\",\"Rowing\",\"Rowing\",\"Rowing\",\"Rowing\",\"Rowing\",\"Rowing\",\"Rowing\",\"Rowing\",\"Rowing\",\"Rowing\",\"Rowing\",\"Rowing\",\"Rowing\",\"Rowing\",\"Rowing\",\"Rowing\",\"Rowing\",\"Rowing\",\"Rowing\",\"Rowing\",\"Rowing\",\"Rowing\",\"Swimming\",\"Swimming\",\"Swimming\",\"Swimming\",\"Swimming\",\"Swimming\",\"Swimming\",\"Swimming\",\"Swimming\",\"Swimming\",\"Swimming\",\"Swimming\",\"Swimming\",\"Swimming\",\"Swimming\",\"Swimming\",\"Swimming\",\"Swimming\",\"Swimming\",\"Swimming\",\"Swimming\",\"Swimming\",\"Swimming\",\"Swimming\",\"Swimming\",\"Swimming\",\"Swimming\",\"Swimming\",\"Swimming\",\"Swimming\",\"Swimming\",\"Swimming\",\"Swimming\",\"Swimming\",\"Swimming\",\"Swimming\",\"Swimming\",\"Swimming\",\"Swimming\",\"Swimming\",\"Swimming\",\"Swimming\",\"Swimming\",\"Swimming\",\"Swimming\",\"Swimming\",\"Swimming\",\"Swimming\",\"Swimming\",\"Swimming\",\"Swimming\",\"Swimming\",\"Swimming\",\"Swimming\",\"Swimming\",\"Swimming\",\"Swimming\",\"Swimming\",\"Swimming\",\"Swimming\",\"Swimming\",\"Swimming\",\"Swimming\",\"Swimming\",\"Swimming\",\"Swimming\",\"Swimming\",\"Swimming\",\"Swimming\",\"Swimming\",\"Swimming\",\"Swimming\",\"Swimming\",\"Swimming\",\"Swimming\",\"Swimming\",\"Swimming\",\"Swimming\",\"Swimming\",\"Swimming\",\"Swimming\",\"Swimming\",\"Swimming\",\"Swimming\",\"Swimming\",\"Swimming\",\"Swimming\",\"Swimming\",\"Swimming\",\"Swimming\",\"Swimming\",\"Swimming\",\"Swimming\",\"Swimming\",\"Swimming\",\"Swimming\",\"Swimming\",\"Swimming\",\"Swimming\",\"Swimming\",\"Swimming\",\"Swimming\",\"Swimming\",\"Swimming\",\"Swimming\",\"Swimming\",\"Swimming\",\"Swimming\",\"Swimming\",\"Swimming\",\"Swimming\",\"Swimming\",\"Swimming\",\"Swimming\",\"Swimming\",\"Swimming\",\"Swimming\",\"Swimming\",\"Swimming\",\"Swimming\",\"Swimming\",\"Swimming\",\"Swimming\",\"Swimming\",\"Swimming\",\"Swimming\",\"Swimming\",\"Swimming\",\"Swimming\",\"Swimming\",\"Swimming\",\"Swimming\",\"Swimming\",\"Swimming\",\"Swimming\",\"Swimming\",\"Swimming\",\"Swimming\",\"Swimming\",\"Swimming\",\"Swimming\",\"Swimming\",\"Swimming\",\"Swimming\",\"Swimming\",\"Swimming\",\"Swimming\",\"Swimming\",\"Swimming\",\"Swimming\",\"Swimming\",\"Swimming\",\"Swimming\",\"Swimming\",\"Swimming\",\"Swimming\",\"Swimming\",\"Swimming\",\"Swimming\",\"Swimming\",\"Swimming\",\"Swimming\",\"Swimming\",\"Swimming\",\"Swimming\",\"Swimming\",\"Swimming\",\"Swimming\",\"Swimming\",\"Swimming\",\"Swimming\",\"Swimming\",\"Swimming\",\"Swimming\",\"Swimming\",\"Swimming\",\"Swimming\",\"Swimming\",\"Swimming\",\"Swimming\",\"Swimming\",\"Swimming\",\"Swimming\",\"Swimming\",\"Swimming\",\"Swimming\",\"Swimming\",\"Swimming\",\"Swimming\",\"Swimming\",\"Swimming\",\"Swimming\",\"Swimming\",\"Afghanistan\",\"Albania\",\"Algeria\",\"American Samoa\",\"Andorra\",\"Angola\",\"Antigua and Barbuda\",\"Argentina\",\"Armenia\",\"Aruba\",\"Australasia\",\"Australia\",\"Austria\",\"Azerbaijan\",\"Bahamas\",\"Bahrain\",\"Bangladesh\",\"Barbados\",\"Belarus\",\"Belgium\",\"Belgium-1\",\"Belize\",\"Benin\",\"Bermuda\",\"Bolivia\",\"Bosnia and Herzegovina\",\"Botswana\",\"Brazil\",\"British Virgin Islands\",\"Brunei\",\"Bulgaria\",\"Burkina Faso\",\"Burundi\",\"Cambodia\",\"Cameroon\",\"Canada\",\"Cape Verde\",\"Cayman Islands\",\"Central African Republic\",\"Chad\",\"Chile\",\"China\",\"China-2\",\"Chinese Taipei\",\"Colombia\",\"Comoros\",\"Congo (Brazzaville)\",\"Congo (Kinshasa)\",\"Cook Islands\",\"Costa Rica\",\"Cote d'Ivoire\",\"Croatia\",\"Cuba\",\"Cyprus\",\"Czech Republic\",\"Czechoslovakia\",\"Denmark\",\"Djibouti\",\"Dominica\",\"Dominican Republic\",\"East Germany\",\"Ecuador\",\"Egypt\",\"El Salvador\",\"Equatorial Guinea\",\"Eritrea\",\"Estonia\",\"Ethiopia\",\"Federated States of Micronesia\",\"Fiji\",\"Finland\",\"France\",\"Gabon\",\"Gambia\",\"Georgia\",\"Germany\",\"Germany-2\",\"Ghana\",\"Great Britain\",\"Greece\",\"Grenada\",\"Guam\",\"Guatemala\",\"Guinea\",\"Guinea Bissau\",\"Guyana\",\"Haiti\",\"Honduras\",\"Hong Kong\",\"Hungary\",\"Hungary-2\",\"Iceland\",\"India\",\"Individual Olympic Athletes\",\"Indonesia\",\"Iran\",\"Iraq\",\"Ireland\",\"Israel\",\"Italy\",\"Jamaica\",\"Japan\",\"Jordan\",\"Kazakhstan\",\"Kenya\",\"Kiribati\",\"Kosovo\",\"Kuwait\",\"Kyrgyzstan\",\"Laos\",\"Latvia\",\"Lebanon\",\"Lesotho\",\"Liberia\",\"Libya\",\"Liechtenstein\",\"Lithuania\",\"Luxembourg\",\"Macedonia\",\"Madagascar\",\"Malawi\",\"Malaya\",\"Malaysia\",\"Maldives\",\"Mali\",\"Malta\",\"Marshall Islands\",\"Mauritania\",\"Mauritius\",\"Mexico\",\"Moldova\",\"Monaco\",\"Mongolia\",\"Montenegro\",\"Morocco\",\"Mozambique\",\"Myanmar\",\"Namibia\",\"Nepal\",\"Netherlands\",\"Netherlands Antilles\",\"New Zealand\",\"Nicaragua\",\"Niger\",\"Nigeria\",\"North Korea\",\"North Yemen\",\"Norway\",\"Oman\",\"Pakistan\",\"Palau\",\"Palestine\",\"Panama\",\"Papua New Guinea\",\"Paraguay\",\"Peru\",\"Philippines\",\"Poland\",\"Portugal\",\"Puerto Rico\",\"Qatar\",\"Racing Club de France\",\"Refugee Olympic Athletes\",\"Rhodesia\",\"Romania\",\"Royal Club Nautique de Gand\",\"Russia\",\"Rwanda\",\"Saar\",\"Saint Kitts and Nevis\",\"Saint Lucia\",\"Saint Vincent and the Grenadines\",\"Samoa\",\"San Marino\",\"Sao Tome and Principe\",\"Saudi Arabia\",\"Senegal\",\"Serbia\",\"Serbia and Montenegro\",\"Seychelles\",\"Sierra Leone\",\"Singapore\",\"Slovakia\",\"Slovenia\",\"Solomon Islands\",\"Somalia\",\"South Africa\",\"South Korea\",\"South Sudan\",\"South Vietnam\",\"South Yemen\",\"Soviet Union\",\"Spain\",\"Sri Lanka\",\"Studenternes Roklub-2\",\"Sudan\",\"Suriname\",\"Swaziland\",\"Sweden\",\"Switzerland\",\"Sydney Rowing Club\",\"Syria\",\"Tajikistan\",\"Tanzania\",\"Thailand\",\"Timor Leste\",\"Togo\",\"Tonga\",\"Toronto Argonauts\",\"Trinidad and Tobago\",\"Tunisia\",\"Turkey\",\"Turkmenistan\",\"Tuvalu\",\"Uganda\",\"Ukraine\",\"Unified Team\",\"United Arab Emirates\",\"United States\",\"United States Virgin Islands\",\"Uruguay\",\"Uzbekistan\",\"Vanuatu\",\"Venezuela\",\"Vietnam\",\"West Germany\",\"West Indies Federation\",\"Yemen\",\"Yugoslavia\",\"Zambia\",\"Zimbabwe\"],\"name\":\"\",\"parents\":[\"Afghanistan\",\"Albania\",\"Algeria\",\"American Samoa\",\"Andorra\",\"Angola\",\"Antigua and Barbuda\",\"Argentina\",\"Armenia\",\"Aruba\",\"Australasia\",\"Australia\",\"Austria\",\"Azerbaijan\",\"Bahamas\",\"Bahrain\",\"Bangladesh\",\"Barbados\",\"Belarus\",\"Belgium\",\"Belize\",\"Benin\",\"Bermuda\",\"Bolivia\",\"Bosnia and Herzegovina\",\"Botswana\",\"Brazil\",\"British Virgin Islands\",\"Brunei\",\"Bulgaria\",\"Burkina Faso\",\"Burundi\",\"Cambodia\",\"Cameroon\",\"Canada\",\"Cape Verde\",\"Cayman Islands\",\"Central African Republic\",\"Chad\",\"Chile\",\"China\",\"Chinese Taipei\",\"Colombia\",\"Comoros\",\"Congo (Brazzaville)\",\"Congo (Kinshasa)\",\"Cook Islands\",\"Costa Rica\",\"Cote d'Ivoire\",\"Croatia\",\"Cuba\",\"Cyprus\",\"Czech Republic\",\"Czechoslovakia\",\"Denmark\",\"Djibouti\",\"Dominica\",\"Dominican Republic\",\"East Germany\",\"Ecuador\",\"Egypt\",\"El Salvador\",\"Equatorial Guinea\",\"Eritrea\",\"Estonia\",\"Ethiopia\",\"Federated States of Micronesia\",\"Fiji\",\"Finland\",\"France\",\"Gabon\",\"Gambia\",\"Georgia\",\"Germany\",\"Ghana\",\"Great Britain\",\"Greece\",\"Grenada\",\"Guam\",\"Guatemala\",\"Guinea\",\"Guinea Bissau\",\"Guyana\",\"Haiti\",\"Honduras\",\"Hong Kong\",\"Hungary\",\"Iceland\",\"India\",\"Individual Olympic Athletes\",\"Indonesia\",\"Iran\",\"Iraq\",\"Ireland\",\"Israel\",\"Italy\",\"Jamaica\",\"Japan\",\"Jordan\",\"Kazakhstan\",\"Kenya\",\"Kiribati\",\"Kosovo\",\"Kuwait\",\"Kyrgyzstan\",\"Laos\",\"Latvia\",\"Lebanon\",\"Lesotho\",\"Liberia\",\"Libya\",\"Liechtenstein\",\"Lithuania\",\"Luxembourg\",\"Macedonia\",\"Madagascar\",\"Malawi\",\"Malaya\",\"Malaysia\",\"Maldives\",\"Mali\",\"Malta\",\"Marshall Islands\",\"Mauritania\",\"Mauritius\",\"Mexico\",\"Moldova\",\"Monaco\",\"Mongolia\",\"Montenegro\",\"Morocco\",\"Mozambique\",\"Myanmar\",\"Namibia\",\"Nepal\",\"Netherlands\",\"Netherlands Antilles\",\"New Zealand\",\"Nicaragua\",\"Niger\",\"Nigeria\",\"North Korea\",\"North Yemen\",\"Norway\",\"Oman\",\"Pakistan\",\"Palau\",\"Palestine\",\"Panama\",\"Papua New Guinea\",\"Paraguay\",\"Peru\",\"Philippines\",\"Poland\",\"Portugal\",\"Puerto Rico\",\"Qatar\",\"Racing Club de France\",\"Refugee Olympic Athletes\",\"Rhodesia\",\"Romania\",\"Russia\",\"Rwanda\",\"Saar\",\"Saint Kitts and Nevis\",\"Saint Lucia\",\"Saint Vincent and the Grenadines\",\"Samoa\",\"San Marino\",\"Sao Tome and Principe\",\"Saudi Arabia\",\"Senegal\",\"Serbia\",\"Serbia and Montenegro\",\"Seychelles\",\"Sierra Leone\",\"Singapore\",\"Slovakia\",\"Slovenia\",\"Solomon Islands\",\"Somalia\",\"South Africa\",\"South Korea\",\"South Sudan\",\"South Vietnam\",\"South Yemen\",\"Soviet Union\",\"Spain\",\"Sri Lanka\",\"Sudan\",\"Suriname\",\"Swaziland\",\"Sweden\",\"Switzerland\",\"Syria\",\"Tajikistan\",\"Tanzania\",\"Thailand\",\"Timor Leste\",\"Togo\",\"Tonga\",\"Trinidad and Tobago\",\"Tunisia\",\"Turkey\",\"Turkmenistan\",\"Tuvalu\",\"Uganda\",\"Ukraine\",\"Unified Team\",\"United Arab Emirates\",\"United States\",\"United States Virgin Islands\",\"Uruguay\",\"Uzbekistan\",\"Vanuatu\",\"Venezuela\",\"Vietnam\",\"West Germany\",\"West Indies Federation\",\"Yemen\",\"Yugoslavia\",\"Zambia\",\"Zimbabwe\",\"Albania\",\"Algeria\",\"Andorra\",\"Antigua and Barbuda\",\"Argentina\",\"Armenia\",\"Aruba\",\"Australia\",\"Austria\",\"Azerbaijan\",\"Bahamas\",\"Bahrain\",\"Barbados\",\"Belarus\",\"Belgium\",\"Belize\",\"Benin\",\"Bermuda\",\"Bolivia\",\"Brazil\",\"Bulgaria\",\"Cambodia\",\"Cameroon\",\"Canada\",\"Cayman Islands\",\"Chile\",\"China\",\"Chinese Taipei\",\"Colombia\",\"Congo (Kinshasa)\",\"Costa Rica\",\"Croatia\",\"Cuba\",\"Cyprus\",\"Czech Republic\",\"Czechoslovakia\",\"Denmark\",\"Dominican Republic\",\"East Germany\",\"Ecuador\",\"Egypt\",\"El Salvador\",\"Eritrea\",\"Estonia\",\"Ethiopia\",\"Fiji\",\"Finland\",\"France\",\"Georgia\",\"Germany\",\"Germany-2\",\"Great Britain\",\"Greece\",\"Guam\",\"Guatemala\",\"Guyana\",\"Hong Kong\",\"Hungary\",\"India\",\"Individual Olympic Athletes\",\"Indonesia\",\"Iran\",\"Iraq\",\"Ireland\",\"Israel\",\"Italy\",\"Jamaica\",\"Japan\",\"Kazakhstan\",\"Kenya\",\"Kosovo\",\"Kyrgyzstan\",\"Laos\",\"Latvia\",\"Lebanon\",\"Libya\",\"Liechtenstein\",\"Lithuania\",\"Luxembourg\",\"Madagascar\",\"Malawi\",\"Malaysia\",\"Malta\",\"Mauritius\",\"Mexico\",\"Moldova\",\"Monaco\",\"Mongolia\",\"Morocco\",\"Namibia\",\"Netherlands\",\"New Zealand\",\"Norway\",\"Oman\",\"Pakistan\",\"Peru\",\"Philippines\",\"Poland\",\"Portugal\",\"Puerto Rico\",\"Romania\",\"Russia\",\"Rwanda\",\"San Marino\",\"Serbia\",\"Serbia and Montenegro\",\"Sierra Leone\",\"Slovakia\",\"Slovenia\",\"South Africa\",\"South Korea\",\"South Vietnam\",\"Soviet Union\",\"Spain\",\"Sri Lanka\",\"Suriname\",\"Sweden\",\"Switzerland\",\"Syria\",\"Thailand\",\"Togo\",\"Trinidad and Tobago\",\"Tunisia\",\"Turkey\",\"Ukraine\",\"Unified Team\",\"United Arab Emirates\",\"United States\",\"United States Virgin Islands\",\"Uruguay\",\"Uzbekistan\",\"Venezuela\",\"Vietnam\",\"West Germany\",\"West Indies Federation\",\"Yugoslavia\",\"Zimbabwe\",\"Algeria\",\"Argentina\",\"Australia\",\"Austria\",\"Belarus\",\"Belgium\",\"Belgium-1\",\"Brazil\",\"Bulgaria\",\"Cameroon\",\"Canada\",\"Chile\",\"China\",\"Chinese Taipei\",\"Colombia\",\"Costa Rica\",\"Cote d'Ivoire\",\"Cuba\",\"Czech Republic\",\"Czechoslovakia\",\"Denmark\",\"East Germany\",\"Egypt\",\"Estonia\",\"Fiji\",\"Finland\",\"France\",\"Gabon\",\"Germany\",\"Ghana\",\"Great Britain\",\"Greece\",\"Guatemala\",\"Guinea\",\"Honduras\",\"Hungary\",\"Hungary-2\",\"India\",\"Iran\",\"Iraq\",\"Israel\",\"Italy\",\"Japan\",\"Kuwait\",\"Luxembourg\",\"Mali\",\"Mexico\",\"Morocco\",\"Myanmar\",\"Netherlands\",\"New Zealand\",\"Nigeria\",\"North Korea\",\"Norway\",\"Paraguay\",\"Peru\",\"Poland\",\"Portugal\",\"Qatar\",\"Romania\",\"Russia\",\"Saudi Arabia\",\"Senegal\",\"Serbia\",\"Serbia and Montenegro\",\"Slovakia\",\"South Africa\",\"South Korea\",\"Soviet Union\",\"Spain\",\"Sweden\",\"Switzerland\",\"Thailand\",\"Tunisia\",\"Turkey\",\"United Arab Emirates\",\"United States\",\"Uruguay\",\"Venezuela\",\"West Germany\",\"Yugoslavia\",\"Zambia\",\"Zimbabwe\",\"Algeria\",\"Angola\",\"Argentina\",\"Australia\",\"Austria\",\"Azerbaijan\",\"Bahamas\",\"Belarus\",\"Belgium\",\"Bermuda\",\"Brazil\",\"Bulgaria\",\"Cameroon\",\"Canada\",\"Chile\",\"China\",\"China-2\",\"Chinese Taipei\",\"Colombia\",\"Croatia\",\"Cuba\",\"Czech Republic\",\"Czechoslovakia\",\"Denmark\",\"East Germany\",\"Ecuador\",\"Egypt\",\"El Salvador\",\"Estonia\",\"Finland\",\"France\",\"Germany\",\"Great Britain\",\"Greece\",\"Guam\",\"Guatemala\",\"Honduras\",\"Hong Kong\",\"Hungary\",\"India\",\"Indonesia\",\"Iran\",\"Iraq\",\"Ireland\",\"Italy\",\"Jamaica\",\"Japan\",\"Kazakhstan\",\"Kenya\",\"Kuwait\",\"Latvia\",\"Libya\",\"Lithuania\",\"Mexico\",\"Monaco\",\"Myanmar\",\"Netherlands\",\"New Zealand\",\"Niger\",\"Nigeria\",\"North Korea\",\"Norway\",\"Pakistan\",\"Paraguay\",\"Peru\",\"Philippines\",\"Poland\",\"Portugal\",\"Puerto Rico\",\"Romania\",\"Royal Club Nautique de Gand\",\"Russia\",\"Serbia\",\"Serbia and Montenegro\",\"Singapore\",\"Slovakia\",\"Slovenia\",\"South Africa\",\"South Korea\",\"Soviet Union\",\"Spain\",\"Studenternes Roklub-2\",\"Sweden\",\"Switzerland\",\"Sydney Rowing Club\",\"Thailand\",\"Toronto Argonauts\",\"Trinidad and Tobago\",\"Tunisia\",\"Turkey\",\"Ukraine\",\"Unified Team\",\"United States\",\"Uruguay\",\"Uzbekistan\",\"Vanuatu\",\"Venezuela\",\"Vietnam\",\"West Germany\",\"Yugoslavia\",\"Zimbabwe\",\"Albania\",\"Algeria\",\"American Samoa\",\"Andorra\",\"Angola\",\"Antigua and Barbuda\",\"Argentina\",\"Armenia\",\"Aruba\",\"Australia\",\"Austria\",\"Azerbaijan\",\"Bahamas\",\"Bahrain\",\"Bangladesh\",\"Barbados\",\"Belarus\",\"Belgium\",\"Benin\",\"Bermuda\",\"Bolivia\",\"Bosnia and Herzegovina\",\"Botswana\",\"Brazil\",\"British Virgin Islands\",\"Brunei\",\"Bulgaria\",\"Burkina Faso\",\"Burundi\",\"Cambodia\",\"Cameroon\",\"Canada\",\"Cayman Islands\",\"Central African Republic\",\"Chile\",\"China\",\"Chinese Taipei\",\"Colombia\",\"Comoros\",\"Congo (Brazzaville)\",\"Cook Islands\",\"Costa Rica\",\"Cote d'Ivoire\",\"Croatia\",\"Cuba\",\"Cyprus\",\"Czech Republic\",\"Czechoslovakia\",\"Denmark\",\"Djibouti\",\"Dominica\",\"Dominican Republic\",\"East Germany\",\"Ecuador\",\"Egypt\",\"El Salvador\",\"Equatorial Guinea\",\"Estonia\",\"Ethiopia\",\"Federated States of Micronesia\",\"Fiji\",\"Finland\",\"France\",\"Gabon\",\"Georgia\",\"Germany\",\"Great Britain\",\"Greece\",\"Grenada\",\"Guam\",\"Guatemala\",\"Guinea\",\"Guyana\",\"Haiti\",\"Honduras\",\"Hong Kong\",\"Hungary\",\"Iceland\",\"India\",\"Individual Olympic Athletes\",\"Indonesia\",\"Iran\",\"Iraq\",\"Ireland\",\"Israel\",\"Italy\",\"Jamaica\",\"Japan\",\"Jordan\",\"Kazakhstan\",\"Kenya\",\"Kosovo\",\"Kuwait\",\"Kyrgyzstan\",\"Laos\",\"Latvia\",\"Lebanon\",\"Libya\",\"Liechtenstein\",\"Lithuania\",\"Luxembourg\",\"Macedonia\",\"Madagascar\",\"Malawi\",\"Malaya\",\"Malaysia\",\"Maldives\",\"Mali\",\"Malta\",\"Marshall Islands\",\"Mauritius\",\"Mexico\",\"Moldova\",\"Monaco\",\"Mongolia\",\"Montenegro\",\"Morocco\",\"Mozambique\",\"Myanmar\",\"Namibia\",\"Nepal\",\"Netherlands\",\"Netherlands Antilles\",\"New Zealand\",\"Nicaragua\",\"Niger\",\"Nigeria\",\"Norway\",\"Oman\",\"Pakistan\",\"Palau\",\"Palestine\",\"Panama\",\"Papua New Guinea\",\"Paraguay\",\"Peru\",\"Philippines\",\"Poland\",\"Portugal\",\"Puerto Rico\",\"Qatar\",\"Refugee Olympic Athletes\",\"Romania\",\"Russia\",\"Rwanda\",\"Saint Lucia\",\"Saint Vincent and the Grenadines\",\"Samoa\",\"San Marino\",\"Saudi Arabia\",\"Senegal\",\"Serbia\",\"Serbia and Montenegro\",\"Seychelles\",\"Singapore\",\"Slovakia\",\"Slovenia\",\"South Africa\",\"South Korea\",\"South Vietnam\",\"Soviet Union\",\"Spain\",\"Sri Lanka\",\"Sudan\",\"Suriname\",\"Swaziland\",\"Sweden\",\"Switzerland\",\"Syria\",\"Tajikistan\",\"Tanzania\",\"Thailand\",\"Togo\",\"Tonga\",\"Trinidad and Tobago\",\"Tunisia\",\"Turkey\",\"Turkmenistan\",\"Uganda\",\"Ukraine\",\"Unified Team\",\"United Arab Emirates\",\"United States\",\"United States Virgin Islands\",\"Uruguay\",\"Uzbekistan\",\"Venezuela\",\"Vietnam\",\"West Germany\",\"Yemen\",\"Yugoslavia\",\"Zambia\",\"Zimbabwe\",\"\",\"\",\"\",\"\",\"\",\"\",\"\",\"\",\"\",\"\",\"\",\"\",\"\",\"\",\"\",\"\",\"\",\"\",\"\",\"\",\"\",\"\",\"\",\"\",\"\",\"\",\"\",\"\",\"\",\"\",\"\",\"\",\"\",\"\",\"\",\"\",\"\",\"\",\"\",\"\",\"\",\"\",\"\",\"\",\"\",\"\",\"\",\"\",\"\",\"\",\"\",\"\",\"\",\"\",\"\",\"\",\"\",\"\",\"\",\"\",\"\",\"\",\"\",\"\",\"\",\"\",\"\",\"\",\"\",\"\",\"\",\"\",\"\",\"\",\"\",\"\",\"\",\"\",\"\",\"\",\"\",\"\",\"\",\"\",\"\",\"\",\"\",\"\",\"\",\"\",\"\",\"\",\"\",\"\",\"\",\"\",\"\",\"\",\"\",\"\",\"\",\"\",\"\",\"\",\"\",\"\",\"\",\"\",\"\",\"\",\"\",\"\",\"\",\"\",\"\",\"\",\"\",\"\",\"\",\"\",\"\",\"\",\"\",\"\",\"\",\"\",\"\",\"\",\"\",\"\",\"\",\"\",\"\",\"\",\"\",\"\",\"\",\"\",\"\",\"\",\"\",\"\",\"\",\"\",\"\",\"\",\"\",\"\",\"\",\"\",\"\",\"\",\"\",\"\",\"\",\"\",\"\",\"\",\"\",\"\",\"\",\"\",\"\",\"\",\"\",\"\",\"\",\"\",\"\",\"\",\"\",\"\",\"\",\"\",\"\",\"\",\"\",\"\",\"\",\"\",\"\",\"\",\"\",\"\",\"\",\"\",\"\",\"\",\"\",\"\",\"\",\"\",\"\",\"\",\"\",\"\",\"\",\"\",\"\",\"\",\"\",\"\",\"\",\"\",\"\",\"\",\"\",\"\",\"\",\"\",\"\",\"\",\"\",\"\",\"\",\"\",\"\",\"\",\"\",\"\",\"\",\"\",\"\",\"\",\"\",\"\",\"\",\"\",\"\",\"\",\"\"],\"type\":\"treemap\",\"values\":[10,7,84,6,6,16,37,105,14,6,2,408,108,17,95,46,16,52,130,152,24,17,21,26,14,45,212,16,5,173,13,18,13,37,442,7,6,12,16,78,264,63,98,8,28,13,9,17,30,31,223,34,86,165,65,16,13,42,201,43,19,28,12,19,68,161,9,29,450,590,10,16,14,676,85,843,209,17,16,37,15,8,28,31,22,26,255,42,111,4,26,38,14,155,46,412,256,387,14,75,252,7,2,29,23,20,68,17,28,28,10,13,62,26,9,33,27,2,36,19,10,12,4,15,26,174,27,1,14,4,115,13,19,15,24,157,11,127,22,8,177,25,5,155,20,35,7,9,18,28,18,44,38,452,142,83,54,1,6,2,157,331,13,1,17,13,12,9,12,11,60,69,17,30,25,38,14,46,57,5,14,145,135,3,3,1,470,330,38,25,12,17,350,188,13,6,49,89,4,15,12,96,45,93,10,2,62,230,97,11,1741,26,26,51,12,59,23,238,7,14,128,35,45,1,4,3,7,71,1,2,184,61,2,2,3,10,19,140,16,2,3,5,44,28,3,7,103,12,15,59,18,92,7,14,4,28,4,35,65,115,1,46,15,5,8,1,17,24,1,33,195,1,108,1,179,18,7,13,8,25,41,1,2,8,36,1,42,3,183,16,99,17,1,1,1,1,21,5,2,4,27,23,1,4,21,8,1,66,7,1,10,7,6,163,99,62,1,5,7,16,119,21,4,14,63,1,10,3,1,1,19,20,36,59,7,72,129,1,1,61,122,1,26,4,17,6,12,48,15,1,187,1,27,3,46,1,66,1,29,6,31,131,124,2,16,25,1,207,32,53,65,22,92,13,89,30,16,25,15,51,47,45,19,7,16,19,119,15,104,60,51,34,49,1,57,73,1,13,45,46,32,127,165,29,11,4,159,66,13,16,43,118,45,58,29,20,85,54,10,23,9,22,17,15,17,17,58,117,64,97,102,19,16,62,7,18,166,24,16,48,80,17,17,8,2,73,283,67,2,1,30,41,2,44,118,1,286,13,110,1,3,1,22,69,28,125,101,144,1,18,2,17,54,200,245,319,40,1,2,1,13,65,8,3,4,3,37,209,1,104,6,2,1,4,1,18,50,1,1,243,135,1,1,6,67,3,4,12,2,194,11,1,162,1,42,8,10,1,4,16,31,54,200,67,4,30,101,1,2,4,1,7,2,38,21,520,21,5,1,1,6,146,61,4,5,15,2,6,18,6,55,6,7,296,55,7,13,7,7,11,24,63,4,6,6,6,2,114,1,1,40,6,5,10,3,271,6,1,7,188,51,29,3,5,4,17,6,31,16,15,28,27,60,1,2,5,107,14,30,20,1,20,4,5,10,58,209,1,5,173,318,67,4,8,16,5,5,1,10,43,150,33,9,1,13,5,4,36,36,217,14,252,6,27,8,2,8,23,7,11,15,3,2,23,14,9,10,6,2,26,6,4,9,5,8,103,18,4,8,2,5,11,4,1,9,153,5,67,8,3,7,26,2,7,6,6,9,3,7,28,41,87,51,32,6,2,37,126,3,5,3,2,6,1,7,9,14,8,23,12,30,59,80,6,165,151,12,6,8,6,163,75,7,5,4,21,1,2,10,7,33,8,7,57,17,7,512,16,19,25,39,18,111,2,24,9,18,10,13,142,8,15,36,50,435,21,15,2,1295,293,28,111,56,23,73,219,421,1,40,23,32,37,20,47,621,17,6,391,19,23,26,101,1167,7,24,13,16,135,713,1,148,309,11,33,20,13,78,52,88,361,53,192,433,388,17,15,48,543,73,91,58,13,20,129,189,14,56,614,1313,26,16,20,1306,1,145,1710,368,21,32,117,21,8,41,32,90,107,584,1,75,142,7,50,128,68,270,117,1148,287,1007,20,125,263,7,5,67,47,28,104,37,28,28,16,19,130,74,18,44,37,4,83,25,18,29,9,15,35,552,52,7,32,6,193,24,37,22,33,732,16,471,30,12,303,76,5,368,23,50,13,15,27,31,58,111,97,937,279,120,70,1,8,2,393,1,571,17,1,17,18,15,11,28,11,83,93,52,72,33,39,38,98,123,5,14,329,445,3,16,1,971,774,51,4,31,21,23,706,505,1,21,11,53,154,4,20,14,4,124,127,147,18,2,69,373,150,37,3126,43,117,84,13,161,48,609,8,16,322,61,90]}],                        {\"legend\":{\"tracegroupgap\":0},\"margin\":{\"t\":60},\"template\":{\"data\":{\"bar\":[{\"error_x\":{\"color\":\"#2a3f5f\"},\"error_y\":{\"color\":\"#2a3f5f\"},\"marker\":{\"line\":{\"color\":\"#E5ECF6\",\"width\":0.5},\"pattern\":{\"fillmode\":\"overlay\",\"size\":10,\"solidity\":0.2}},\"type\":\"bar\"}],\"barpolar\":[{\"marker\":{\"line\":{\"color\":\"#E5ECF6\",\"width\":0.5},\"pattern\":{\"fillmode\":\"overlay\",\"size\":10,\"solidity\":0.2}},\"type\":\"barpolar\"}],\"carpet\":[{\"aaxis\":{\"endlinecolor\":\"#2a3f5f\",\"gridcolor\":\"white\",\"linecolor\":\"white\",\"minorgridcolor\":\"white\",\"startlinecolor\":\"#2a3f5f\"},\"baxis\":{\"endlinecolor\":\"#2a3f5f\",\"gridcolor\":\"white\",\"linecolor\":\"white\",\"minorgridcolor\":\"white\",\"startlinecolor\":\"#2a3f5f\"},\"type\":\"carpet\"}],\"choropleth\":[{\"colorbar\":{\"outlinewidth\":0,\"ticks\":\"\"},\"type\":\"choropleth\"}],\"contour\":[{\"colorbar\":{\"outlinewidth\":0,\"ticks\":\"\"},\"colorscale\":[[0.0,\"#0d0887\"],[0.1111111111111111,\"#46039f\"],[0.2222222222222222,\"#7201a8\"],[0.3333333333333333,\"#9c179e\"],[0.4444444444444444,\"#bd3786\"],[0.5555555555555556,\"#d8576b\"],[0.6666666666666666,\"#ed7953\"],[0.7777777777777778,\"#fb9f3a\"],[0.8888888888888888,\"#fdca26\"],[1.0,\"#f0f921\"]],\"type\":\"contour\"}],\"contourcarpet\":[{\"colorbar\":{\"outlinewidth\":0,\"ticks\":\"\"},\"type\":\"contourcarpet\"}],\"heatmap\":[{\"colorbar\":{\"outlinewidth\":0,\"ticks\":\"\"},\"colorscale\":[[0.0,\"#0d0887\"],[0.1111111111111111,\"#46039f\"],[0.2222222222222222,\"#7201a8\"],[0.3333333333333333,\"#9c179e\"],[0.4444444444444444,\"#bd3786\"],[0.5555555555555556,\"#d8576b\"],[0.6666666666666666,\"#ed7953\"],[0.7777777777777778,\"#fb9f3a\"],[0.8888888888888888,\"#fdca26\"],[1.0,\"#f0f921\"]],\"type\":\"heatmap\"}],\"heatmapgl\":[{\"colorbar\":{\"outlinewidth\":0,\"ticks\":\"\"},\"colorscale\":[[0.0,\"#0d0887\"],[0.1111111111111111,\"#46039f\"],[0.2222222222222222,\"#7201a8\"],[0.3333333333333333,\"#9c179e\"],[0.4444444444444444,\"#bd3786\"],[0.5555555555555556,\"#d8576b\"],[0.6666666666666666,\"#ed7953\"],[0.7777777777777778,\"#fb9f3a\"],[0.8888888888888888,\"#fdca26\"],[1.0,\"#f0f921\"]],\"type\":\"heatmapgl\"}],\"histogram\":[{\"marker\":{\"pattern\":{\"fillmode\":\"overlay\",\"size\":10,\"solidity\":0.2}},\"type\":\"histogram\"}],\"histogram2d\":[{\"colorbar\":{\"outlinewidth\":0,\"ticks\":\"\"},\"colorscale\":[[0.0,\"#0d0887\"],[0.1111111111111111,\"#46039f\"],[0.2222222222222222,\"#7201a8\"],[0.3333333333333333,\"#9c179e\"],[0.4444444444444444,\"#bd3786\"],[0.5555555555555556,\"#d8576b\"],[0.6666666666666666,\"#ed7953\"],[0.7777777777777778,\"#fb9f3a\"],[0.8888888888888888,\"#fdca26\"],[1.0,\"#f0f921\"]],\"type\":\"histogram2d\"}],\"histogram2dcontour\":[{\"colorbar\":{\"outlinewidth\":0,\"ticks\":\"\"},\"colorscale\":[[0.0,\"#0d0887\"],[0.1111111111111111,\"#46039f\"],[0.2222222222222222,\"#7201a8\"],[0.3333333333333333,\"#9c179e\"],[0.4444444444444444,\"#bd3786\"],[0.5555555555555556,\"#d8576b\"],[0.6666666666666666,\"#ed7953\"],[0.7777777777777778,\"#fb9f3a\"],[0.8888888888888888,\"#fdca26\"],[1.0,\"#f0f921\"]],\"type\":\"histogram2dcontour\"}],\"mesh3d\":[{\"colorbar\":{\"outlinewidth\":0,\"ticks\":\"\"},\"type\":\"mesh3d\"}],\"parcoords\":[{\"line\":{\"colorbar\":{\"outlinewidth\":0,\"ticks\":\"\"}},\"type\":\"parcoords\"}],\"pie\":[{\"automargin\":true,\"type\":\"pie\"}],\"scatter\":[{\"marker\":{\"colorbar\":{\"outlinewidth\":0,\"ticks\":\"\"}},\"type\":\"scatter\"}],\"scatter3d\":[{\"line\":{\"colorbar\":{\"outlinewidth\":0,\"ticks\":\"\"}},\"marker\":{\"colorbar\":{\"outlinewidth\":0,\"ticks\":\"\"}},\"type\":\"scatter3d\"}],\"scattercarpet\":[{\"marker\":{\"colorbar\":{\"outlinewidth\":0,\"ticks\":\"\"}},\"type\":\"scattercarpet\"}],\"scattergeo\":[{\"marker\":{\"colorbar\":{\"outlinewidth\":0,\"ticks\":\"\"}},\"type\":\"scattergeo\"}],\"scattergl\":[{\"marker\":{\"colorbar\":{\"outlinewidth\":0,\"ticks\":\"\"}},\"type\":\"scattergl\"}],\"scattermapbox\":[{\"marker\":{\"colorbar\":{\"outlinewidth\":0,\"ticks\":\"\"}},\"type\":\"scattermapbox\"}],\"scatterpolar\":[{\"marker\":{\"colorbar\":{\"outlinewidth\":0,\"ticks\":\"\"}},\"type\":\"scatterpolar\"}],\"scatterpolargl\":[{\"marker\":{\"colorbar\":{\"outlinewidth\":0,\"ticks\":\"\"}},\"type\":\"scatterpolargl\"}],\"scatterternary\":[{\"marker\":{\"colorbar\":{\"outlinewidth\":0,\"ticks\":\"\"}},\"type\":\"scatterternary\"}],\"surface\":[{\"colorbar\":{\"outlinewidth\":0,\"ticks\":\"\"},\"colorscale\":[[0.0,\"#0d0887\"],[0.1111111111111111,\"#46039f\"],[0.2222222222222222,\"#7201a8\"],[0.3333333333333333,\"#9c179e\"],[0.4444444444444444,\"#bd3786\"],[0.5555555555555556,\"#d8576b\"],[0.6666666666666666,\"#ed7953\"],[0.7777777777777778,\"#fb9f3a\"],[0.8888888888888888,\"#fdca26\"],[1.0,\"#f0f921\"]],\"type\":\"surface\"}],\"table\":[{\"cells\":{\"fill\":{\"color\":\"#EBF0F8\"},\"line\":{\"color\":\"white\"}},\"header\":{\"fill\":{\"color\":\"#C8D4E3\"},\"line\":{\"color\":\"white\"}},\"type\":\"table\"}]},\"layout\":{\"annotationdefaults\":{\"arrowcolor\":\"#2a3f5f\",\"arrowhead\":0,\"arrowwidth\":1},\"autotypenumbers\":\"strict\",\"coloraxis\":{\"colorbar\":{\"outlinewidth\":0,\"ticks\":\"\"}},\"colorscale\":{\"diverging\":[[0,\"#8e0152\"],[0.1,\"#c51b7d\"],[0.2,\"#de77ae\"],[0.3,\"#f1b6da\"],[0.4,\"#fde0ef\"],[0.5,\"#f7f7f7\"],[0.6,\"#e6f5d0\"],[0.7,\"#b8e186\"],[0.8,\"#7fbc41\"],[0.9,\"#4d9221\"],[1,\"#276419\"]],\"sequential\":[[0.0,\"#0d0887\"],[0.1111111111111111,\"#46039f\"],[0.2222222222222222,\"#7201a8\"],[0.3333333333333333,\"#9c179e\"],[0.4444444444444444,\"#bd3786\"],[0.5555555555555556,\"#d8576b\"],[0.6666666666666666,\"#ed7953\"],[0.7777777777777778,\"#fb9f3a\"],[0.8888888888888888,\"#fdca26\"],[1.0,\"#f0f921\"]],\"sequentialminus\":[[0.0,\"#0d0887\"],[0.1111111111111111,\"#46039f\"],[0.2222222222222222,\"#7201a8\"],[0.3333333333333333,\"#9c179e\"],[0.4444444444444444,\"#bd3786\"],[0.5555555555555556,\"#d8576b\"],[0.6666666666666666,\"#ed7953\"],[0.7777777777777778,\"#fb9f3a\"],[0.8888888888888888,\"#fdca26\"],[1.0,\"#f0f921\"]]},\"colorway\":[\"#636efa\",\"#EF553B\",\"#00cc96\",\"#ab63fa\",\"#FFA15A\",\"#19d3f3\",\"#FF6692\",\"#B6E880\",\"#FF97FF\",\"#FECB52\"],\"font\":{\"color\":\"#2a3f5f\"},\"geo\":{\"bgcolor\":\"white\",\"lakecolor\":\"white\",\"landcolor\":\"#E5ECF6\",\"showlakes\":true,\"showland\":true,\"subunitcolor\":\"white\"},\"hoverlabel\":{\"align\":\"left\"},\"hovermode\":\"closest\",\"mapbox\":{\"style\":\"light\"},\"paper_bgcolor\":\"white\",\"plot_bgcolor\":\"#E5ECF6\",\"polar\":{\"angularaxis\":{\"gridcolor\":\"white\",\"linecolor\":\"white\",\"ticks\":\"\"},\"bgcolor\":\"#E5ECF6\",\"radialaxis\":{\"gridcolor\":\"white\",\"linecolor\":\"white\",\"ticks\":\"\"}},\"scene\":{\"xaxis\":{\"backgroundcolor\":\"#E5ECF6\",\"gridcolor\":\"white\",\"gridwidth\":2,\"linecolor\":\"white\",\"showbackground\":true,\"ticks\":\"\",\"zerolinecolor\":\"white\"},\"yaxis\":{\"backgroundcolor\":\"#E5ECF6\",\"gridcolor\":\"white\",\"gridwidth\":2,\"linecolor\":\"white\",\"showbackground\":true,\"ticks\":\"\",\"zerolinecolor\":\"white\"},\"zaxis\":{\"backgroundcolor\":\"#E5ECF6\",\"gridcolor\":\"white\",\"gridwidth\":2,\"linecolor\":\"white\",\"showbackground\":true,\"ticks\":\"\",\"zerolinecolor\":\"white\"}},\"shapedefaults\":{\"line\":{\"color\":\"#2a3f5f\"}},\"ternary\":{\"aaxis\":{\"gridcolor\":\"white\",\"linecolor\":\"white\",\"ticks\":\"\"},\"baxis\":{\"gridcolor\":\"white\",\"linecolor\":\"white\",\"ticks\":\"\"},\"bgcolor\":\"#E5ECF6\",\"caxis\":{\"gridcolor\":\"white\",\"linecolor\":\"white\",\"ticks\":\"\"}},\"title\":{\"x\":0.05},\"xaxis\":{\"automargin\":true,\"gridcolor\":\"white\",\"linecolor\":\"white\",\"ticks\":\"\",\"title\":{\"standoff\":15},\"zerolinecolor\":\"white\",\"zerolinewidth\":2},\"yaxis\":{\"automargin\":true,\"gridcolor\":\"white\",\"linecolor\":\"white\",\"ticks\":\"\",\"title\":{\"standoff\":15},\"zerolinecolor\":\"white\",\"zerolinewidth\":2}}}},                        {\"responsive\": true}                    ).then(function(){\n",
              "                            \n",
              "var gd = document.getElementById('45dcc48d-843c-409c-8cbf-72382512ce86');\n",
              "var x = new MutationObserver(function (mutations, observer) {{\n",
              "        var display = window.getComputedStyle(gd).display;\n",
              "        if (!display || display === 'none') {{\n",
              "            console.log([gd, 'removed!']);\n",
              "            Plotly.purge(gd);\n",
              "            observer.disconnect();\n",
              "        }}\n",
              "}});\n",
              "\n",
              "// Listen for the removal of the full notebook cells\n",
              "var notebookContainer = gd.closest('#notebook-container');\n",
              "if (notebookContainer) {{\n",
              "    x.observe(notebookContainer, {childList: true});\n",
              "}}\n",
              "\n",
              "// Listen for the clearing of the current output cell\n",
              "var outputEl = gd.closest('.output');\n",
              "if (outputEl) {{\n",
              "    x.observe(outputEl, {childList: true});\n",
              "}}\n",
              "\n",
              "                        })                };                            </script>        </div>\n",
              "</body>\n",
              "</html>"
            ]
          },
          "metadata": {}
        }
      ]
    },
    {
      "cell_type": "markdown",
      "metadata": {
        "id": "SuS1s-dXoBPF"
      },
      "source": [
        "Algo que es genial de plotly es que hace gráficas interactivas. Dale click a una de las 'hojas' para ver más detalles."
      ]
    }
  ]
}