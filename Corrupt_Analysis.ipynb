{
  "nbformat": 4,
  "nbformat_minor": 0,
  "metadata": {
    "colab": {
      "name": "Corrupt - Analysis.ipynb",
      "provenance": [],
      "collapsed_sections": [],
      "include_colab_link": true
    },
    "kernelspec": {
      "name": "python3",
      "display_name": "Python 3"
    },
    "language_info": {
      "name": "python"
    }
  },
  "cells": [
    {
      "cell_type": "markdown",
      "metadata": {
        "id": "view-in-github",
        "colab_type": "text"
      },
      "source": [
        "<a href=\"https://colab.research.google.com/github/AngelicaDC/BEDUpython/blob/main/Corrupt_Analysis.ipynb\" target=\"_parent\"><img src=\"https://colab.research.google.com/assets/colab-badge.svg\" alt=\"Open In Colab\"/></a>"
      ]
    },
    {
      "cell_type": "markdown",
      "metadata": {
        "id": "CZmRB-gsVJfO"
      },
      "source": [
        "#### Importamos las librerias"
      ]
    },
    {
      "cell_type": "code",
      "metadata": {
        "id": "KtxVzfuzTfMx"
      },
      "source": [
        "import numpy as np\n",
        "import pandas as pd\n",
        "import matplotlib.pyplot as plt\n",
        "import seaborn as sns\n",
        "import re"
      ],
      "execution_count": null,
      "outputs": []
    },
    {
      "cell_type": "markdown",
      "metadata": {
        "id": "PEV3d1plBOyS"
      },
      "source": [
        "#### Preguntas para este analisis\n",
        "- ¿Que tan eficiente es la metodologia de la ASF para elegir auditar las secciones correctas del presupuesto publico?\n",
        "- ¿Existen patrones en la presencia de anomalias (dinero faltante) en el manejo de los recursos?\n",
        "- ¿Que \"caracterizticas\" estan mejor relacionadas con la incidencia de interes en el presupuesto publico?\n",
        "- ¿Es posible estimar las probabilidades de incidencia para las anomalias en el presupuesto segun algunas de las caracterizticas del dataset?\n",
        "- ¿Existe algun impacto notable de la corrupcion en la calidad de vida medida por el CPI?\n",
        "- ¿Considerando los datos obtendos por la ASF y la todalidad del presupuesto publico que tan grave y frecuente se ve proyectada la corrupcion en mexico?\n",
        "- ¿Es posible comprender o identificar patrones a partir de los datos en la forma en la que la ASF decide a quien y cuando auditar?\n",
        "- ¿Existe alguna relacion entre la cantidad de presupuesto destinado a una seccion y la valoracion del CPI para ese topico?\n",
        "- ¿Existe alguna relacion entre la cantidad de presupuesto destinado a una seccion y la cantidad de \"corrupcion\" detectada y/o proyectada?"
      ]
    },
    {
      "cell_type": "markdown",
      "metadata": {
        "id": "SQwIDlEHVPnD"
      },
      "source": [
        "#### Cargamos los datasets"
      ]
    },
    {
      "cell_type": "code",
      "metadata": {
        "colab": {
          "base_uri": "https://localhost:8080/",
          "height": 267
        },
        "id": "kFypJzZzTsqL",
        "outputId": "11412dcb-8e0e-4308-a6bf-cdeec2a13f70"
      },
      "source": [
        "ds_cpi = pd.read_csv(\n",
        "    'https://raw.githubusercontent.com/Erick-INCS/Corruption-analysis/main/datasets/CPI_Mex_full.csv')\n",
        "\n",
        "ds_cpi.head(3)"
      ],
      "execution_count": null,
      "outputs": [
        {
          "output_type": "execute_result",
          "data": {
            "text/html": [
              "<div>\n",
              "<style scoped>\n",
              "    .dataframe tbody tr th:only-of-type {\n",
              "        vertical-align: middle;\n",
              "    }\n",
              "\n",
              "    .dataframe tbody tr th {\n",
              "        vertical-align: top;\n",
              "    }\n",
              "\n",
              "    .dataframe thead th {\n",
              "        text-align: right;\n",
              "    }\n",
              "</style>\n",
              "<table border=\"1\" class=\"dataframe\">\n",
              "  <thead>\n",
              "    <tr style=\"text-align: right;\">\n",
              "      <th></th>\n",
              "      <th>estado</th>\n",
              "      <th>municipio</th>\n",
              "      <th>Accesibilidad al espacio público abierto</th>\n",
              "      <th>Acceso a Internet</th>\n",
              "      <th>Acceso a agua mejorada</th>\n",
              "      <th>Aglomeración económica</th>\n",
              "      <th>CALIDAD DE VIDA</th>\n",
              "      <th>Calidad del aire</th>\n",
              "      <th>Capacidad institucional y ﬁnanzas municipales</th>\n",
              "      <th>Coeﬁciente de Gini</th>\n",
              "      <th>Concentraciones de material particulado</th>\n",
              "      <th>Concentración de CO2</th>\n",
              "      <th>Crecimiento económico</th>\n",
              "      <th>Densidad de la interconexión vial</th>\n",
              "      <th>Densidad de médicos</th>\n",
              "      <th>Densidad económica</th>\n",
              "      <th>Densidad poblacional</th>\n",
              "      <th>Densidad vial</th>\n",
              "      <th>Desempleo juvenil</th>\n",
              "      <th>Deuda subnacional</th>\n",
              "      <th>EQUIDAD E INCLUSIÓN SOCIAL</th>\n",
              "      <th>Educación</th>\n",
              "      <th>Empleo</th>\n",
              "      <th>Energía</th>\n",
              "      <th>Equidad económica</th>\n",
              "      <th>Espacio habitable suﬁciente</th>\n",
              "      <th>Espacio público</th>\n",
              "      <th>Esperanza de vida al nacer</th>\n",
              "      <th>Eﬁciencia del gasto local</th>\n",
              "      <th>Eﬁciencia en el uso de suelo</th>\n",
              "      <th>Fatalidades de tránsito</th>\n",
              "      <th>Forma urbana</th>\n",
              "      <th>GOBERNANZA Y LEGISLACIÓN URBANA</th>\n",
              "      <th>Gobernanza de la urbanización</th>\n",
              "      <th>INFRAESTRUCTURA DE DESARROLLO</th>\n",
              "      <th>Inclusión de género</th>\n",
              "      <th>Inclusión social</th>\n",
              "      <th>Infraestructura de comunicaciones</th>\n",
              "      <th>Infraestructura de vivienda</th>\n",
              "      <th>Infraestructura social</th>\n",
              "      <th>Inscripción equitativa en educación a nivel secundario</th>\n",
              "      <th>Longitud de transporte masivo</th>\n",
              "      <th>Manejo de residuos</th>\n",
              "      <th>Movilidad urbana</th>\n",
              "      <th>Número de estaciones de monitoreo</th>\n",
              "      <th>PRODUCTIVIDAD</th>\n",
              "      <th>Participación electoral</th>\n",
              "      <th>Participación y rendición de cuentas</th>\n",
              "      <th>Producto urbano per cápita</th>\n",
              "      <th>Promedio de años de escolaridad</th>\n",
              "      <th>Proporción de generación de energía renovable</th>\n",
              "      <th>Recaudación de ingresos propios</th>\n",
              "      <th>Recolección de residuos sólidos</th>\n",
              "      <th>Relación de dependencia de la tercera edad</th>\n",
              "      <th>Relación empleo-población</th>\n",
              "      <th>SOSTENIBILIDAD AMBIENTAL</th>\n",
              "      <th>Salud</th>\n",
              "      <th>Seguridad y protección</th>\n",
              "      <th>Superﬁcie destinada a vías</th>\n",
              "      <th>Tasa de alfabetización</th>\n",
              "      <th>Tasa de desempleo</th>\n",
              "      <th>Tasa de homicidios</th>\n",
              "      <th>Tasa de mortalidad de menores de 5 años</th>\n",
              "      <th>Tasa de pobreza</th>\n",
              "      <th>Tratamiento de aguas residuales</th>\n",
              "      <th>Velocidad de banda ancha promedio</th>\n",
              "      <th>Vivienda durable</th>\n",
              "      <th>Viviendas en barrios precarios</th>\n",
              "      <th>Áreas verdes per cápita</th>\n",
              "    </tr>\n",
              "  </thead>\n",
              "  <tbody>\n",
              "    <tr>\n",
              "      <th>0</th>\n",
              "      <td>Aguascalientes</td>\n",
              "      <td>Aguascalientes</td>\n",
              "      <td>73.28</td>\n",
              "      <td>27.92</td>\n",
              "      <td>99.02</td>\n",
              "      <td>68.10</td>\n",
              "      <td>69.72</td>\n",
              "      <td>62.83</td>\n",
              "      <td>43.60</td>\n",
              "      <td>49.45</td>\n",
              "      <td>67.43</td>\n",
              "      <td>46.08</td>\n",
              "      <td>51.88</td>\n",
              "      <td>100.0</td>\n",
              "      <td>71.24</td>\n",
              "      <td>68.10</td>\n",
              "      <td>42.90</td>\n",
              "      <td>84.57</td>\n",
              "      <td>62.88</td>\n",
              "      <td>14.66</td>\n",
              "      <td>72.49</td>\n",
              "      <td>85.15</td>\n",
              "      <td>64.44</td>\n",
              "      <td>0.0</td>\n",
              "      <td>47.80</td>\n",
              "      <td>100.0</td>\n",
              "      <td>63.96</td>\n",
              "      <td>73.16</td>\n",
              "      <td>91.34</td>\n",
              "      <td>0.0</td>\n",
              "      <td>84.71</td>\n",
              "      <td>89.49</td>\n",
              "      <td>29.10</td>\n",
              "      <td>0.0</td>\n",
              "      <td>64.85</td>\n",
              "      <td>90.33</td>\n",
              "      <td>79.34</td>\n",
              "      <td>35.68</td>\n",
              "      <td>85.48</td>\n",
              "      <td>71.24</td>\n",
              "      <td>90.33</td>\n",
              "      <td>0.0</td>\n",
              "      <td>41.47</td>\n",
              "      <td>42.36</td>\n",
              "      <td>75.0</td>\n",
              "      <td>61.48</td>\n",
              "      <td>43.70</td>\n",
              "      <td>43.70</td>\n",
              "      <td>41.23</td>\n",
              "      <td>73.79</td>\n",
              "      <td>0.0</td>\n",
              "      <td>24.80</td>\n",
              "      <td>2.94</td>\n",
              "      <td>62.54</td>\n",
              "      <td>58.77</td>\n",
              "      <td>34.77</td>\n",
              "      <td>67.44</td>\n",
              "      <td>62.34</td>\n",
              "      <td>83.91</td>\n",
              "      <td>96.51</td>\n",
              "      <td>70.12</td>\n",
              "      <td>62.34</td>\n",
              "      <td>61.71</td>\n",
              "      <td>46.15</td>\n",
              "      <td>80.00</td>\n",
              "      <td>43.44</td>\n",
              "      <td>99.99</td>\n",
              "      <td>95.80</td>\n",
              "      <td>54.65</td>\n",
              "    </tr>\n",
              "    <tr>\n",
              "      <th>1</th>\n",
              "      <td>Aguascalientes</td>\n",
              "      <td>Jesús María</td>\n",
              "      <td>38.22</td>\n",
              "      <td>32.03</td>\n",
              "      <td>97.96</td>\n",
              "      <td>70.14</td>\n",
              "      <td>60.84</td>\n",
              "      <td>56.75</td>\n",
              "      <td>20.87</td>\n",
              "      <td>53.62</td>\n",
              "      <td>67.42</td>\n",
              "      <td>46.08</td>\n",
              "      <td>59.68</td>\n",
              "      <td>100.0</td>\n",
              "      <td>21.70</td>\n",
              "      <td>70.14</td>\n",
              "      <td>10.60</td>\n",
              "      <td>78.63</td>\n",
              "      <td>74.44</td>\n",
              "      <td>3.62</td>\n",
              "      <td>73.72</td>\n",
              "      <td>71.44</td>\n",
              "      <td>69.28</td>\n",
              "      <td>0.0</td>\n",
              "      <td>51.67</td>\n",
              "      <td>100.0</td>\n",
              "      <td>38.48</td>\n",
              "      <td>74.97</td>\n",
              "      <td>43.66</td>\n",
              "      <td>100.0</td>\n",
              "      <td>81.19</td>\n",
              "      <td>80.49</td>\n",
              "      <td>56.84</td>\n",
              "      <td>100.0</td>\n",
              "      <td>52.60</td>\n",
              "      <td>85.28</td>\n",
              "      <td>84.21</td>\n",
              "      <td>43.06</td>\n",
              "      <td>77.14</td>\n",
              "      <td>21.70</td>\n",
              "      <td>85.28</td>\n",
              "      <td>0.0</td>\n",
              "      <td>83.20</td>\n",
              "      <td>40.59</td>\n",
              "      <td>NaN</td>\n",
              "      <td>66.37</td>\n",
              "      <td>49.65</td>\n",
              "      <td>49.65</td>\n",
              "      <td>48.97</td>\n",
              "      <td>47.14</td>\n",
              "      <td>0.0</td>\n",
              "      <td>15.33</td>\n",
              "      <td>99.36</td>\n",
              "      <td>70.39</td>\n",
              "      <td>57.34</td>\n",
              "      <td>69.97</td>\n",
              "      <td>73.82</td>\n",
              "      <td>59.62</td>\n",
              "      <td>62.82</td>\n",
              "      <td>95.74</td>\n",
              "      <td>81.23</td>\n",
              "      <td>59.62</td>\n",
              "      <td>72.67</td>\n",
              "      <td>49.71</td>\n",
              "      <td>67.03</td>\n",
              "      <td>54.10</td>\n",
              "      <td>100.00</td>\n",
              "      <td>93.98</td>\n",
              "      <td>38.73</td>\n",
              "    </tr>\n",
              "    <tr>\n",
              "      <th>2</th>\n",
              "      <td>Aguascalientes</td>\n",
              "      <td>San Francisco de los Romo</td>\n",
              "      <td>100.00</td>\n",
              "      <td>8.40</td>\n",
              "      <td>98.42</td>\n",
              "      <td>65.86</td>\n",
              "      <td>62.71</td>\n",
              "      <td>56.75</td>\n",
              "      <td>37.20</td>\n",
              "      <td>60.70</td>\n",
              "      <td>67.43</td>\n",
              "      <td>46.08</td>\n",
              "      <td>60.89</td>\n",
              "      <td>100.0</td>\n",
              "      <td>27.90</td>\n",
              "      <td>65.86</td>\n",
              "      <td>12.31</td>\n",
              "      <td>87.82</td>\n",
              "      <td>69.52</td>\n",
              "      <td>0.00</td>\n",
              "      <td>72.67</td>\n",
              "      <td>75.79</td>\n",
              "      <td>64.59</td>\n",
              "      <td>0.0</td>\n",
              "      <td>47.86</td>\n",
              "      <td>100.0</td>\n",
              "      <td>58.96</td>\n",
              "      <td>73.16</td>\n",
              "      <td>100.00</td>\n",
              "      <td>0.0</td>\n",
              "      <td>77.64</td>\n",
              "      <td>88.00</td>\n",
              "      <td>29.81</td>\n",
              "      <td>0.0</td>\n",
              "      <td>51.66</td>\n",
              "      <td>87.23</td>\n",
              "      <td>82.93</td>\n",
              "      <td>25.92</td>\n",
              "      <td>77.68</td>\n",
              "      <td>27.90</td>\n",
              "      <td>87.23</td>\n",
              "      <td>0.0</td>\n",
              "      <td>35.36</td>\n",
              "      <td>38.82</td>\n",
              "      <td>NaN</td>\n",
              "      <td>63.78</td>\n",
              "      <td>52.23</td>\n",
              "      <td>52.23</td>\n",
              "      <td>51.47</td>\n",
              "      <td>57.57</td>\n",
              "      <td>0.0</td>\n",
              "      <td>11.61</td>\n",
              "      <td>2.24</td>\n",
              "      <td>70.31</td>\n",
              "      <td>55.52</td>\n",
              "      <td>30.70</td>\n",
              "      <td>64.17</td>\n",
              "      <td>51.93</td>\n",
              "      <td>76.19</td>\n",
              "      <td>94.02</td>\n",
              "      <td>73.66</td>\n",
              "      <td>51.93</td>\n",
              "      <td>55.17</td>\n",
              "      <td>35.02</td>\n",
              "      <td>68.48</td>\n",
              "      <td>43.44</td>\n",
              "      <td>100.00</td>\n",
              "      <td>96.33</td>\n",
              "      <td>17.93</td>\n",
              "    </tr>\n",
              "  </tbody>\n",
              "</table>\n",
              "</div>"
            ],
            "text/plain": [
              "           estado  ... Áreas verdes per cápita\n",
              "0  Aguascalientes  ...                   54.65\n",
              "1  Aguascalientes  ...                   38.73\n",
              "2  Aguascalientes  ...                   17.93\n",
              "\n",
              "[3 rows x 69 columns]"
            ]
          },
          "metadata": {},
          "execution_count": 17
        }
      ]
    },
    {
      "cell_type": "code",
      "metadata": {
        "id": "UqgBBqFTrnKY"
      },
      "source": [
        "def get_money(text):\n",
        "\n",
        "  if pd.isna(text):    \n",
        "    return np.nan\n",
        "  re_dinero = re.compile(r'monto de ([\\d|,|\\.]+) pesos')\n",
        "  res = re_dinero.search(text)\n",
        "  if res:\n",
        "    re_num = re.compile(r'[^0-9]')\n",
        "    return float(re.sub(re_num, '', res.groups()[0][:-3]))\n",
        "  return np.nan"
      ],
      "execution_count": null,
      "outputs": []
    },
    {
      "cell_type": "code",
      "metadata": {
        "colab": {
          "base_uri": "https://localhost:8080/",
          "height": 409
        },
        "id": "BFG-FgV1VSTl",
        "outputId": "c0cd92ab-c433-4b57-f14f-e41ed65726e1"
      },
      "source": [
        "ds_asf = pd.read_csv(\n",
        "    'https://raw.githubusercontent.com/Erick-INCS/Corruption-analysis/main/datasets/asf_2017-2019.csv',\n",
        "     encoding='latin-1')\n",
        "ds_asf['terminado'] = ds_asf['Estado de Trámite'].isin(['Con seguimiento concluido','Conclusión'])\n",
        "ds_asf['desaparecido'] = ds_asf['Texto Acción'].apply(get_money)\n",
        "\n",
        "ds_asf.head(2)"
      ],
      "execution_count": null,
      "outputs": [
        {
          "output_type": "execute_result",
          "data": {
            "text/html": [
              "<div>\n",
              "<style scoped>\n",
              "    .dataframe tbody tr th:only-of-type {\n",
              "        vertical-align: middle;\n",
              "    }\n",
              "\n",
              "    .dataframe tbody tr th {\n",
              "        vertical-align: top;\n",
              "    }\n",
              "\n",
              "    .dataframe thead th {\n",
              "        text-align: right;\n",
              "    }\n",
              "</style>\n",
              "<table border=\"1\" class=\"dataframe\">\n",
              "  <thead>\n",
              "    <tr style=\"text-align: right;\">\n",
              "      <th></th>\n",
              "      <th>Año Cuenta Pública</th>\n",
              "      <th>Grupo Funcional</th>\n",
              "      <th>Sector</th>\n",
              "      <th>Ente Fiscalizado</th>\n",
              "      <th>Entidad Federativa</th>\n",
              "      <th>Tipo Auditoría</th>\n",
              "      <th>Número</th>\n",
              "      <th>Título</th>\n",
              "      <th>Universo (miles pesos)</th>\n",
              "      <th>Muestra (miles pesos)</th>\n",
              "      <th>Ente a quien se dirige la Acción</th>\n",
              "      <th>Tipo Acción</th>\n",
              "      <th>Clave Acción</th>\n",
              "      <th>Acción Superveniente</th>\n",
              "      <th>Texto Acción</th>\n",
              "      <th>Estado de Trámite</th>\n",
              "      <th>Auditorías</th>\n",
              "      <th>Acciones</th>\n",
              "      <th>terminado</th>\n",
              "      <th>desaparecido</th>\n",
              "    </tr>\n",
              "  </thead>\n",
              "  <tbody>\n",
              "    <tr>\n",
              "      <th>0</th>\n",
              "      <td>2019</td>\n",
              "      <td>Gasto Federalizado</td>\n",
              "      <td>Aportaciones A Seguridad Social</td>\n",
              "      <td>Instituto Mexicano del Seguro Social</td>\n",
              "      <td>Ciudad de México</td>\n",
              "      <td>De Cumplimiento</td>\n",
              "      <td>1393</td>\n",
              "      <td>Programa de Atención a la Salud y Medicamentos...</td>\n",
              "      <td>1,342,933.00</td>\n",
              "      <td>1,342,933.00</td>\n",
              "      <td>Instituto Mexicano del Seguro Social</td>\n",
              "      <td>Pliego de Observaciones</td>\n",
              "      <td>2019-1-19GYR-19-1393-06-001</td>\n",
              "      <td>-</td>\n",
              "      <td>Se presume un probable daño o perjuicio, o amb...</td>\n",
              "      <td>En seguimiento</td>\n",
              "      <td>1</td>\n",
              "      <td>1</td>\n",
              "      <td>False</td>\n",
              "      <td>1.342933e+09</td>\n",
              "    </tr>\n",
              "    <tr>\n",
              "      <th>1</th>\n",
              "      <td>2019</td>\n",
              "      <td>Gasto Federalizado</td>\n",
              "      <td>Aportaciones A Seguridad Social</td>\n",
              "      <td>Instituto Mexicano del Seguro Social</td>\n",
              "      <td>Ciudad de México</td>\n",
              "      <td>De Cumplimiento</td>\n",
              "      <td>1393</td>\n",
              "      <td>Programa de Atención a la Salud y Medicamentos...</td>\n",
              "      <td>1,342,933.00</td>\n",
              "      <td>1,342,933.00</td>\n",
              "      <td>Instituto Mexicano del Seguro Social</td>\n",
              "      <td>Promoción de Responsabilidad Administrativa Sa...</td>\n",
              "      <td>2019-9-19GYR-19-1393-08-001</td>\n",
              "      <td>-</td>\n",
              "      <td>La Auditoría Superior de la Federación emite l...</td>\n",
              "      <td>Con seguimiento concluido</td>\n",
              "      <td>1</td>\n",
              "      <td>1</td>\n",
              "      <td>True</td>\n",
              "      <td>NaN</td>\n",
              "    </tr>\n",
              "  </tbody>\n",
              "</table>\n",
              "</div>"
            ],
            "text/plain": [
              "   Año Cuenta Pública     Grupo Funcional  ... terminado  desaparecido\n",
              "0                2019  Gasto Federalizado  ...     False  1.342933e+09\n",
              "1                2019  Gasto Federalizado  ...      True           NaN\n",
              "\n",
              "[2 rows x 20 columns]"
            ]
          },
          "metadata": {},
          "execution_count": 19
        }
      ]
    },
    {
      "cell_type": "code",
      "metadata": {
        "colab": {
          "base_uri": "https://localhost:8080/",
          "height": 573
        },
        "id": "W-RwI6tk2VE6",
        "outputId": "101a6c86-96bc-4d23-f42a-021c53778860"
      },
      "source": [
        "df_pres = pd.read_parquet('https://github.com/Erick-INCS/Corruption-analysis/blob/main/datasets/presupuesto_2017-2020.parquet?raw=true')\n",
        "df_pres.head(5)"
      ],
      "execution_count": null,
      "outputs": [
        {
          "output_type": "execute_result",
          "data": {
            "text/html": [
              "<div>\n",
              "<style scoped>\n",
              "    .dataframe tbody tr th:only-of-type {\n",
              "        vertical-align: middle;\n",
              "    }\n",
              "\n",
              "    .dataframe tbody tr th {\n",
              "        vertical-align: top;\n",
              "    }\n",
              "\n",
              "    .dataframe thead th {\n",
              "        text-align: right;\n",
              "    }\n",
              "</style>\n",
              "<table border=\"1\" class=\"dataframe\">\n",
              "  <thead>\n",
              "    <tr style=\"text-align: right;\">\n",
              "      <th></th>\n",
              "      <th>CICLO_RECURSO</th>\n",
              "      <th>PROGRAMA_FONDO_CONVENIO_ESPECIFICO</th>\n",
              "      <th>DESC_PARTIDA_GENERICA</th>\n",
              "      <th>DESC_TIPO_GASTO</th>\n",
              "      <th>ID_RAMO</th>\n",
              "      <th>MONTO_RECAUDADO</th>\n",
              "      <th>TRIMESTRE</th>\n",
              "      <th>MONTO_APROBADO</th>\n",
              "      <th>ID_PARTIDA_GENERICA</th>\n",
              "      <th>MONTO_EJERCIDO</th>\n",
              "      <th>MONTO_PAGADO</th>\n",
              "      <th>MONTO_DEVENGADO</th>\n",
              "      <th>MONTO_COMPROMETIDO</th>\n",
              "      <th>MONTO_MODIFICADO</th>\n",
              "      <th>TIPO_RECURSO</th>\n",
              "      <th>CICLO</th>\n",
              "      <th>DESC_RAMO</th>\n",
              "      <th>ENTIDAD_FEDERATIVA</th>\n",
              "      <th>MUNICIPIO</th>\n",
              "      <th>INSTITUCION_EJECUTORA</th>\n",
              "    </tr>\n",
              "  </thead>\n",
              "  <tbody>\n",
              "    <tr>\n",
              "      <th>0</th>\n",
              "      <td>2008</td>\n",
              "      <td>FAM 2008</td>\n",
              "      <td>Transferencias otorgadas a entidades paraestat...</td>\n",
              "      <td>Gasto de Inversión</td>\n",
              "      <td>33</td>\n",
              "      <td>4.869210e+05</td>\n",
              "      <td>1</td>\n",
              "      <td>4.869210e+05</td>\n",
              "      <td>421</td>\n",
              "      <td>4.572240e+05</td>\n",
              "      <td>4.572240e+05</td>\n",
              "      <td>4.572240e+05</td>\n",
              "      <td>4.605600e+05</td>\n",
              "      <td>4.869210e+05</td>\n",
              "      <td>FEDERALES (APORTACIONES, SUBSIDIOS Y CONVENIOS)</td>\n",
              "      <td>2017</td>\n",
              "      <td>Aportaciones Federales para Entidades Federati...</td>\n",
              "      <td>Aguascalientes</td>\n",
              "      <td>Gobierno de la Entidad</td>\n",
              "      <td>FISICA EDUCATIVA INSTITUTO DE INFRAESTRUCTURA</td>\n",
              "    </tr>\n",
              "    <tr>\n",
              "      <th>1</th>\n",
              "      <td>2010</td>\n",
              "      <td>FAM 2010</td>\n",
              "      <td>Transferencias otorgadas a entidades paraestat...</td>\n",
              "      <td>Gasto de Inversión</td>\n",
              "      <td>33</td>\n",
              "      <td>1.526132e+06</td>\n",
              "      <td>1</td>\n",
              "      <td>1.526132e+06</td>\n",
              "      <td>421</td>\n",
              "      <td>8.520000e+05</td>\n",
              "      <td>8.520000e+05</td>\n",
              "      <td>8.520000e+05</td>\n",
              "      <td>1.457215e+06</td>\n",
              "      <td>1.526132e+06</td>\n",
              "      <td>FEDERALES (APORTACIONES, SUBSIDIOS Y CONVENIOS)</td>\n",
              "      <td>2017</td>\n",
              "      <td>Aportaciones Federales para Entidades Federati...</td>\n",
              "      <td>Aguascalientes</td>\n",
              "      <td>Gobierno de la Entidad</td>\n",
              "      <td>FISICA EDUCATIVA INSTITUTO DE INFRAESTRUCTURA</td>\n",
              "    </tr>\n",
              "    <tr>\n",
              "      <th>2</th>\n",
              "      <td>2012</td>\n",
              "      <td>SIN IDENTIFICAR</td>\n",
              "      <td>Sueldos base al personal permanente</td>\n",
              "      <td>Gasto corriente</td>\n",
              "      <td>33</td>\n",
              "      <td>3.564887e+08</td>\n",
              "      <td>1</td>\n",
              "      <td>3.564887e+08</td>\n",
              "      <td>113</td>\n",
              "      <td>3.564887e+08</td>\n",
              "      <td>3.564887e+08</td>\n",
              "      <td>3.564887e+08</td>\n",
              "      <td>3.564887e+08</td>\n",
              "      <td>3.564887e+08</td>\n",
              "      <td>FEDERALES (APORTACIONES, SUBSIDIOS Y CONVENIOS)</td>\n",
              "      <td>2017</td>\n",
              "      <td>Aportaciones Federales para Entidades Federati...</td>\n",
              "      <td>Aguascalientes</td>\n",
              "      <td>Gobierno de la Entidad</td>\n",
              "      <td>INSTITUTO DE SERVICIOS DE SALUD DEL ESTADO DE ...</td>\n",
              "    </tr>\n",
              "    <tr>\n",
              "      <th>3</th>\n",
              "      <td>2012</td>\n",
              "      <td>SIN IDENTIFICAR</td>\n",
              "      <td>Honorarios asimilables a salarios</td>\n",
              "      <td>Gasto corriente</td>\n",
              "      <td>33</td>\n",
              "      <td>9.583701e+04</td>\n",
              "      <td>1</td>\n",
              "      <td>9.583701e+04</td>\n",
              "      <td>121</td>\n",
              "      <td>9.583701e+04</td>\n",
              "      <td>9.583701e+04</td>\n",
              "      <td>9.583701e+04</td>\n",
              "      <td>9.583701e+04</td>\n",
              "      <td>9.583701e+04</td>\n",
              "      <td>FEDERALES (APORTACIONES, SUBSIDIOS Y CONVENIOS)</td>\n",
              "      <td>2017</td>\n",
              "      <td>Aportaciones Federales para Entidades Federati...</td>\n",
              "      <td>Aguascalientes</td>\n",
              "      <td>Gobierno de la Entidad</td>\n",
              "      <td>INSTITUTO DE SERVICIOS DE SALUD DEL ESTADO DE ...</td>\n",
              "    </tr>\n",
              "    <tr>\n",
              "      <th>4</th>\n",
              "      <td>2012</td>\n",
              "      <td>SIN IDENTIFICAR</td>\n",
              "      <td>Sueldos base al personal eventual</td>\n",
              "      <td>Gasto corriente</td>\n",
              "      <td>33</td>\n",
              "      <td>9.259750e+07</td>\n",
              "      <td>1</td>\n",
              "      <td>9.259750e+07</td>\n",
              "      <td>122</td>\n",
              "      <td>9.259750e+07</td>\n",
              "      <td>9.259750e+07</td>\n",
              "      <td>9.259750e+07</td>\n",
              "      <td>9.259750e+07</td>\n",
              "      <td>9.259750e+07</td>\n",
              "      <td>FEDERALES (APORTACIONES, SUBSIDIOS Y CONVENIOS)</td>\n",
              "      <td>2017</td>\n",
              "      <td>Aportaciones Federales para Entidades Federati...</td>\n",
              "      <td>Aguascalientes</td>\n",
              "      <td>Gobierno de la Entidad</td>\n",
              "      <td>INSTITUTO DE SERVICIOS DE SALUD DEL ESTADO DE ...</td>\n",
              "    </tr>\n",
              "  </tbody>\n",
              "</table>\n",
              "</div>"
            ],
            "text/plain": [
              "   CICLO_RECURSO  ...                              INSTITUCION_EJECUTORA\n",
              "0           2008  ...      FISICA EDUCATIVA INSTITUTO DE INFRAESTRUCTURA\n",
              "1           2010  ...      FISICA EDUCATIVA INSTITUTO DE INFRAESTRUCTURA\n",
              "2           2012  ...  INSTITUTO DE SERVICIOS DE SALUD DEL ESTADO DE ...\n",
              "3           2012  ...  INSTITUTO DE SERVICIOS DE SALUD DEL ESTADO DE ...\n",
              "4           2012  ...  INSTITUTO DE SERVICIOS DE SALUD DEL ESTADO DE ...\n",
              "\n",
              "[5 rows x 20 columns]"
            ]
          },
          "metadata": {},
          "execution_count": 20
        }
      ]
    },
    {
      "cell_type": "markdown",
      "metadata": {
        "id": "MIt8ekEgr5S7"
      },
      "source": [
        "Postwork 1\n",
        "1.   Promedio\n",
        "2.   Mediana\n",
        "3.   Media Truncada\n",
        "4.   Desviación estándar\n",
        "5.   Rango\n",
        "6.  Percentiles 25 y 75 (por lo menos)\n",
        "7.   Rango intercuartil"
      ]
    },
    {
      "cell_type": "code",
      "metadata": {
        "id": "AW4qSG03sPOd"
      },
      "source": [
        "# Limpieza de data set ds_asf  len(ds_asf), len(ds_asf2) = (32404, 21606)\n",
        "# Filtramos los datos de acuerdo a los Tipos de Accion que presentan indicios de corrupcion \n",
        "ds_asf2 = ds_asf[ds_asf['Tipo Acción'].isin([\n",
        "                           'Pliego de Observaciones', \n",
        "                           'Promoción de Responsabilidad Administrativa Sancionatoria', \n",
        "                           'Informe de Presunta Responsabilidad Administrativa',\n",
        "                           'Promoción del Ejercicio de la Facultad de Comprobación Fiscal'])\n",
        "]"
      ],
      "execution_count": null,
      "outputs": []
    },
    {
      "cell_type": "code",
      "metadata": {
        "id": "RgZ5vZff2Zti"
      },
      "source": [
        "def describe_chido(df, columnas = []):\n",
        "  if columnas:\n",
        "    df = df[columnas]\n",
        "  descripcion =df.describe()\n",
        "  descripcion.loc['IQR'] = descripcion.loc['75%']-descripcion.loc['25%']\n",
        "  \n",
        "  return descripcion"
      ],
      "execution_count": null,
      "outputs": []
    },
    {
      "cell_type": "code",
      "metadata": {
        "colab": {
          "base_uri": "https://localhost:8080/",
          "height": 320
        },
        "id": "8sdcToNh0aJj",
        "outputId": "8846df10-d1bd-4c2a-e041-fd316ea9431c"
      },
      "source": [
        "describe_chido(ds_asf,['desaparecido'])"
      ],
      "execution_count": null,
      "outputs": [
        {
          "output_type": "execute_result",
          "data": {
            "text/html": [
              "<div>\n",
              "<style scoped>\n",
              "    .dataframe tbody tr th:only-of-type {\n",
              "        vertical-align: middle;\n",
              "    }\n",
              "\n",
              "    .dataframe tbody tr th {\n",
              "        vertical-align: top;\n",
              "    }\n",
              "\n",
              "    .dataframe thead th {\n",
              "        text-align: right;\n",
              "    }\n",
              "</style>\n",
              "<table border=\"1\" class=\"dataframe\">\n",
              "  <thead>\n",
              "    <tr style=\"text-align: right;\">\n",
              "      <th></th>\n",
              "      <th>desaparecido</th>\n",
              "    </tr>\n",
              "  </thead>\n",
              "  <tbody>\n",
              "    <tr>\n",
              "      <th>count</th>\n",
              "      <td>5.894000e+03</td>\n",
              "    </tr>\n",
              "    <tr>\n",
              "      <th>mean</th>\n",
              "      <td>3.729867e+07</td>\n",
              "    </tr>\n",
              "    <tr>\n",
              "      <th>std</th>\n",
              "      <td>2.100927e+08</td>\n",
              "    </tr>\n",
              "    <tr>\n",
              "      <th>min</th>\n",
              "      <td>5.300000e+01</td>\n",
              "    </tr>\n",
              "    <tr>\n",
              "      <th>25%</th>\n",
              "      <td>2.943910e+05</td>\n",
              "    </tr>\n",
              "    <tr>\n",
              "      <th>50%</th>\n",
              "      <td>1.734742e+06</td>\n",
              "    </tr>\n",
              "    <tr>\n",
              "      <th>75%</th>\n",
              "      <td>1.064367e+07</td>\n",
              "    </tr>\n",
              "    <tr>\n",
              "      <th>max</th>\n",
              "      <td>7.317874e+09</td>\n",
              "    </tr>\n",
              "    <tr>\n",
              "      <th>IQR</th>\n",
              "      <td>1.034928e+07</td>\n",
              "    </tr>\n",
              "  </tbody>\n",
              "</table>\n",
              "</div>"
            ],
            "text/plain": [
              "       desaparecido\n",
              "count  5.894000e+03\n",
              "mean   3.729867e+07\n",
              "std    2.100927e+08\n",
              "min    5.300000e+01\n",
              "25%    2.943910e+05\n",
              "50%    1.734742e+06\n",
              "75%    1.064367e+07\n",
              "max    7.317874e+09\n",
              "IQR    1.034928e+07"
            ]
          },
          "metadata": {},
          "execution_count": 87
        }
      ]
    },
    {
      "cell_type": "code",
      "metadata": {
        "colab": {
          "base_uri": "https://localhost:8080/"
        },
        "id": "8dXTodCUuDv-",
        "outputId": "06e777cb-d717-43d0-8a86-a2171bdf07b6"
      },
      "source": [
        "ds_asf2.describe(), print('mediana', ds_asf2['desaparecido'].median())"
      ],
      "execution_count": null,
      "outputs": [
        {
          "output_type": "stream",
          "name": "stdout",
          "text": [
            "mediana 1734742.0\n"
          ]
        },
        {
          "output_type": "execute_result",
          "data": {
            "text/plain": [
              "(       Año Cuenta Pública        Número  Auditorías  Acciones  desaparecido\n",
              " count        21606.000000  21606.000000     21606.0   21606.0  5.724000e+03\n",
              " mean          2016.267611   1008.307415         1.0       1.0  3.769404e+07\n",
              " std              1.515952    407.089893         0.0       0.0  2.119436e+08\n",
              " min           2014.000000     11.000000         1.0       1.0  5.300000e+01\n",
              " 25%           2015.000000    713.000000         1.0       1.0  2.980608e+05\n",
              " 50%           2016.000000   1022.000000         1.0       1.0  1.734742e+06\n",
              " 75%           2017.000000   1326.000000         1.0       1.0  1.080350e+07\n",
              " max           2019.000000   1881.000000         1.0       1.0  7.317874e+09,\n",
              " None)"
            ]
          },
          "metadata": {},
          "execution_count": 33
        }
      ]
    },
    {
      "cell_type": "code",
      "metadata": {
        "colab": {
          "base_uri": "https://localhost:8080/",
          "height": 523
        },
        "id": "lT3tgmFrvf-Y",
        "outputId": "245e992d-164a-4db8-9b9f-cd318a34850a"
      },
      "source": [
        "fig,axes=plt.subplots(1,2, figsize=(12,6))\n",
        "sns.boxplot(ds_asf2['desaparecido'], ax=axes[0],color='purple')\n",
        "plt.grid(True)\n",
        "sns.distplot(ds_asf2['desaparecido'], rug=True, ax=axes[1], kde=True, norm_hist=False, bins=80) \n",
        "plt.show();"
      ],
      "execution_count": null,
      "outputs": [
        {
          "output_type": "stream",
          "name": "stderr",
          "text": [
            "/usr/local/lib/python3.7/dist-packages/seaborn/_decorators.py:43: FutureWarning: Pass the following variable as a keyword arg: x. From version 0.12, the only valid positional argument will be `data`, and passing other arguments without an explicit keyword will result in an error or misinterpretation.\n",
            "  FutureWarning\n",
            "/usr/local/lib/python3.7/dist-packages/seaborn/distributions.py:2557: FutureWarning: `distplot` is a deprecated function and will be removed in a future version. Please adapt your code to use either `displot` (a figure-level function with similar flexibility) or `histplot` (an axes-level function for histograms).\n",
            "  warnings.warn(msg, FutureWarning)\n",
            "/usr/local/lib/python3.7/dist-packages/seaborn/distributions.py:2056: FutureWarning: The `axis` variable is no longer used and will be removed. Instead, assign variables directly to `x` or `y`.\n",
            "  warnings.warn(msg, FutureWarning)\n"
          ]
        },
        {
          "output_type": "display_data",
          "data": {
            "image/png": "[encoded data removed]",
            "text/plain": [
              "<Figure size 864x432 with 2 Axes>"
            ]
          },
          "metadata": {
            "needs_background": "light"
          }
        }
      ]
    },
    {
      "cell_type": "code",
      "metadata": {
        "colab": {
          "base_uri": "https://localhost:8080/"
        },
        "id": "ApNJlfpiwJqX",
        "outputId": "01b4e252-36b6-44f7-e179-807153e86a0a"
      },
      "source": [
        "iqr = ds_asf2['desaparecido'].quantile(0.75) - ds_asf2['desaparecido'].quantile(0.25)\n",
        "filtro_inferior = ds_asf2['desaparecido'] > ds_asf2['desaparecido'].quantile(0.25) - (iqr * 1.5)\n",
        "filtro_superior = ds_asf2['desaparecido'] < ds_asf2['desaparecido'].quantile(0.75) + (iqr * 1.5)\n",
        "ds_asf2_filtrado = ds_asf2[filtro_inferior & filtro_superior]\n",
        "print('rango intercuartilico: ', iqr)"
      ],
      "execution_count": null,
      "outputs": [
        {
          "output_type": "stream",
          "name": "stdout",
          "text": [
            "rango intercuartilico:  10505437.5\n"
          ]
        }
      ]
    },
    {
      "cell_type": "code",
      "metadata": {
        "colab": {
          "base_uri": "https://localhost:8080/",
          "height": 351
        },
        "id": "fKLxvP88zh4H",
        "outputId": "7e5b19ac-8786-4896-c71f-39e564165744"
      },
      "source": [
        "sns.boxplot(ds_asf2_filtrado['desaparecido'],color='purple')"
      ],
      "execution_count": null,
      "outputs": [
        {
          "output_type": "stream",
          "name": "stderr",
          "text": [
            "/usr/local/lib/python3.7/dist-packages/seaborn/_decorators.py:43: FutureWarning: Pass the following variable as a keyword arg: x. From version 0.12, the only valid positional argument will be `data`, and passing other arguments without an explicit keyword will result in an error or misinterpretation.\n",
            "  FutureWarning\n"
          ]
        },
        {
          "output_type": "execute_result",
          "data": {
            "text/plain": [
              "<matplotlib.axes._subplots.AxesSubplot at 0x7fd0a2775f90>"
            ]
          },
          "metadata": {},
          "execution_count": 37
        },
        {
          "output_type": "display_data",
          "data": {
            "image/png": "[encoded data removed]",
            "text/plain": [
              "<Figure size 432x288 with 1 Axes>"
            ]
          },
          "metadata": {
            "needs_background": "light"
          }
        }
      ]
    },
    {
      "cell_type": "code",
      "metadata": {
        "id": "f4iTCru4zrkf",
        "colab": {
          "base_uri": "https://localhost:8080/",
          "height": 371
        },
        "outputId": "44f27273-cd90-4d9c-b921-35c4a67bdd5b"
      },
      "source": [
        "df_pres.head(3)"
      ],
      "execution_count": null,
      "outputs": [
        {
          "output_type": "execute_result",
          "data": {
            "text/html": [
              "<div>\n",
              "<style scoped>\n",
              "    .dataframe tbody tr th:only-of-type {\n",
              "        vertical-align: middle;\n",
              "    }\n",
              "\n",
              "    .dataframe tbody tr th {\n",
              "        vertical-align: top;\n",
              "    }\n",
              "\n",
              "    .dataframe thead th {\n",
              "        text-align: right;\n",
              "    }\n",
              "</style>\n",
              "<table border=\"1\" class=\"dataframe\">\n",
              "  <thead>\n",
              "    <tr style=\"text-align: right;\">\n",
              "      <th></th>\n",
              "      <th>CICLO_RECURSO</th>\n",
              "      <th>PROGRAMA_FONDO_CONVENIO_ESPECIFICO</th>\n",
              "      <th>DESC_PARTIDA_GENERICA</th>\n",
              "      <th>DESC_TIPO_GASTO</th>\n",
              "      <th>ID_RAMO</th>\n",
              "      <th>MONTO_RECAUDADO</th>\n",
              "      <th>TRIMESTRE</th>\n",
              "      <th>MONTO_APROBADO</th>\n",
              "      <th>ID_PARTIDA_GENERICA</th>\n",
              "      <th>MONTO_EJERCIDO</th>\n",
              "      <th>MONTO_PAGADO</th>\n",
              "      <th>MONTO_DEVENGADO</th>\n",
              "      <th>MONTO_COMPROMETIDO</th>\n",
              "      <th>MONTO_MODIFICADO</th>\n",
              "      <th>TIPO_RECURSO</th>\n",
              "      <th>CICLO</th>\n",
              "      <th>DESC_RAMO</th>\n",
              "      <th>ENTIDAD_FEDERATIVA</th>\n",
              "      <th>MUNICIPIO</th>\n",
              "      <th>INSTITUCION_EJECUTORA</th>\n",
              "    </tr>\n",
              "  </thead>\n",
              "  <tbody>\n",
              "    <tr>\n",
              "      <th>0</th>\n",
              "      <td>2008</td>\n",
              "      <td>FAM 2008</td>\n",
              "      <td>Transferencias otorgadas a entidades paraestat...</td>\n",
              "      <td>Gasto de Inversión</td>\n",
              "      <td>33</td>\n",
              "      <td>486921.0</td>\n",
              "      <td>1</td>\n",
              "      <td>486921.0</td>\n",
              "      <td>421</td>\n",
              "      <td>457224.0</td>\n",
              "      <td>457224.0</td>\n",
              "      <td>457224.0</td>\n",
              "      <td>460560.0</td>\n",
              "      <td>486921.0</td>\n",
              "      <td>FEDERALES (APORTACIONES, SUBSIDIOS Y CONVENIOS)</td>\n",
              "      <td>2017</td>\n",
              "      <td>Aportaciones Federales para Entidades Federati...</td>\n",
              "      <td>Aguascalientes</td>\n",
              "      <td>Gobierno de la Entidad</td>\n",
              "      <td>FISICA EDUCATIVA INSTITUTO DE INFRAESTRUCTURA</td>\n",
              "    </tr>\n",
              "    <tr>\n",
              "      <th>1</th>\n",
              "      <td>2010</td>\n",
              "      <td>FAM 2010</td>\n",
              "      <td>Transferencias otorgadas a entidades paraestat...</td>\n",
              "      <td>Gasto de Inversión</td>\n",
              "      <td>33</td>\n",
              "      <td>1526132.0</td>\n",
              "      <td>1</td>\n",
              "      <td>1526132.0</td>\n",
              "      <td>421</td>\n",
              "      <td>852000.0</td>\n",
              "      <td>852000.0</td>\n",
              "      <td>852000.0</td>\n",
              "      <td>1457215.0</td>\n",
              "      <td>1526132.0</td>\n",
              "      <td>FEDERALES (APORTACIONES, SUBSIDIOS Y CONVENIOS)</td>\n",
              "      <td>2017</td>\n",
              "      <td>Aportaciones Federales para Entidades Federati...</td>\n",
              "      <td>Aguascalientes</td>\n",
              "      <td>Gobierno de la Entidad</td>\n",
              "      <td>FISICA EDUCATIVA INSTITUTO DE INFRAESTRUCTURA</td>\n",
              "    </tr>\n",
              "    <tr>\n",
              "      <th>2</th>\n",
              "      <td>2012</td>\n",
              "      <td>SIN IDENTIFICAR</td>\n",
              "      <td>Sueldos base al personal permanente</td>\n",
              "      <td>Gasto corriente</td>\n",
              "      <td>33</td>\n",
              "      <td>356488747.2</td>\n",
              "      <td>1</td>\n",
              "      <td>356488747.2</td>\n",
              "      <td>113</td>\n",
              "      <td>356488747.2</td>\n",
              "      <td>356488747.2</td>\n",
              "      <td>356488747.2</td>\n",
              "      <td>356488747.2</td>\n",
              "      <td>356488747.2</td>\n",
              "      <td>FEDERALES (APORTACIONES, SUBSIDIOS Y CONVENIOS)</td>\n",
              "      <td>2017</td>\n",
              "      <td>Aportaciones Federales para Entidades Federati...</td>\n",
              "      <td>Aguascalientes</td>\n",
              "      <td>Gobierno de la Entidad</td>\n",
              "      <td>INSTITUTO DE SERVICIOS DE SALUD DEL ESTADO DE ...</td>\n",
              "    </tr>\n",
              "  </tbody>\n",
              "</table>\n",
              "</div>"
            ],
            "text/plain": [
              "   CICLO_RECURSO  ...                              INSTITUCION_EJECUTORA\n",
              "0           2008  ...      FISICA EDUCATIVA INSTITUTO DE INFRAESTRUCTURA\n",
              "1           2010  ...      FISICA EDUCATIVA INSTITUTO DE INFRAESTRUCTURA\n",
              "2           2012  ...  INSTITUTO DE SERVICIOS DE SALUD DEL ESTADO DE ...\n",
              "\n",
              "[3 rows x 20 columns]"
            ]
          },
          "metadata": {},
          "execution_count": 41
        }
      ]
    },
    {
      "cell_type": "code",
      "metadata": {
        "id": "81Vy9UTk7xPm",
        "colab": {
          "base_uri": "https://localhost:8080/"
        },
        "outputId": "601b3be3-8c04-42d8-ee62-3b47428181f1"
      },
      "source": [
        "len(df_pres)"
      ],
      "execution_count": null,
      "outputs": [
        {
          "output_type": "execute_result",
          "data": {
            "text/plain": [
              "823521"
            ]
          },
          "metadata": {},
          "execution_count": 134
        }
      ]
    },
    {
      "cell_type": "code",
      "metadata": {
        "colab": {
          "base_uri": "https://localhost:8080/"
        },
        "id": "3Wx_nurQ55Um",
        "outputId": "854c58e4-261f-49b4-ef3f-5dcb249cf159"
      },
      "source": [
        "# Monto aprobado es igual al monto pagado. El monto aprobado podriamos reemplazarlo por el comprmetido\n",
        "((df_pres['MONTO_APROBADO'] - df_pres['MONTO_PAGADO']) ==0).sum()  *100/len(df_pres)"
      ],
      "execution_count": null,
      "outputs": [
        {
          "output_type": "execute_result",
          "data": {
            "text/plain": [
              "15.575194803775496"
            ]
          },
          "metadata": {},
          "execution_count": 121
        }
      ]
    },
    {
      "cell_type": "code",
      "metadata": {
        "colab": {
          "base_uri": "https://localhost:8080/"
        },
        "id": "U6lBMQXW7Tz3",
        "outputId": "4410db41-81c4-4b53-937b-e952dab9a841"
      },
      "source": [
        "# Monto aprobado es diferente al monto pagado\n",
        "((df_pres['MONTO_APROBADO'] - df_pres['MONTO_PAGADO']) !=0).sum()  *100/len(df_pres)"
      ],
      "execution_count": null,
      "outputs": [
        {
          "output_type": "execute_result",
          "data": {
            "text/plain": [
              "84.4248051962245"
            ]
          },
          "metadata": {},
          "execution_count": 122
        }
      ]
    },
    {
      "cell_type": "code",
      "metadata": {
        "id": "A3D1UaKK7I_3"
      },
      "source": [
        "serie_AP = pd.Series((df_pres['MONTO_APROBADO'] - df_pres['MONTO_PAGADO']))\n",
        "serie_AP_rel = pd.Series((df_pres['MONTO_APROBADO']/df_pres['MONTO_PAGADO']))"
      ],
      "execution_count": null,
      "outputs": []
    },
    {
      "cell_type": "code",
      "metadata": {
        "colab": {
          "base_uri": "https://localhost:8080/"
        },
        "id": "jSjlOAFqIXJP",
        "outputId": "122f65ce-467f-400a-9945-018a16bd260d"
      },
      "source": [
        "len(serie_AP_neg), len(serie_AP_pos)"
      ],
      "execution_count": null,
      "outputs": [
        {
          "output_type": "execute_result",
          "data": {
            "text/plain": [
              "(97866, 270661)"
            ]
          },
          "metadata": {},
          "execution_count": 143
        }
      ]
    },
    {
      "cell_type": "code",
      "metadata": {
        "id": "PECIquFw-xv0"
      },
      "source": [
        "serie_AP_neg = pd.Series(serie_AP[(df_pres['MONTO_APROBADO'] - df_pres['MONTO_PAGADO']) < -1000000])\n",
        "serie_AP_pos = pd.Series(serie_AP[(df_pres['MONTO_APROBADO'] - df_pres['MONTO_PAGADO']) > 1000000])"
      ],
      "execution_count": 188,
      "outputs": []
    },
    {
      "cell_type": "code",
      "metadata": {
        "colab": {
          "base_uri": "https://localhost:8080/",
          "height": 643
        },
        "id": "2CLIP9lC-gwr",
        "outputId": "798bfd14-6043-4b25-cbc1-f31565dc9a3c"
      },
      "source": [
        "fig,axes=plt.subplots(1,4, figsize=(20,6))\n",
        "sns.boxplot(serie_AP_neg,color='purple', ax=axes[0])\n",
        "sns.boxplot(serie_AP_pos,color='purple', ax=axes[1])\n",
        "plt.grid(True)\n",
        "sns.distplot(serie_AP_neg, rug=True, ax=axes[2], kde=True, norm_hist=False, bins=100) \n",
        "sns.distplot(serie_AP_pos, rug=True, ax=axes[3], kde=True, norm_hist=False, bins=100) \n"
      ],
      "execution_count": null,
      "outputs": [
        {
          "output_type": "stream",
          "name": "stderr",
          "text": [
            "/usr/local/lib/python3.7/dist-packages/seaborn/_decorators.py:43: FutureWarning: Pass the following variable as a keyword arg: x. From version 0.12, the only valid positional argument will be `data`, and passing other arguments without an explicit keyword will result in an error or misinterpretation.\n",
            "  FutureWarning\n",
            "/usr/local/lib/python3.7/dist-packages/seaborn/_decorators.py:43: FutureWarning: Pass the following variable as a keyword arg: x. From version 0.12, the only valid positional argument will be `data`, and passing other arguments without an explicit keyword will result in an error or misinterpretation.\n",
            "  FutureWarning\n",
            "/usr/local/lib/python3.7/dist-packages/seaborn/distributions.py:2557: FutureWarning: `distplot` is a deprecated function and will be removed in a future version. Please adapt your code to use either `displot` (a figure-level function with similar flexibility) or `histplot` (an axes-level function for histograms).\n",
            "  warnings.warn(msg, FutureWarning)\n",
            "/usr/local/lib/python3.7/dist-packages/seaborn/distributions.py:2056: FutureWarning: The `axis` variable is no longer used and will be removed. Instead, assign variables directly to `x` or `y`.\n",
            "  warnings.warn(msg, FutureWarning)\n",
            "/usr/local/lib/python3.7/dist-packages/seaborn/distributions.py:2557: FutureWarning: `distplot` is a deprecated function and will be removed in a future version. Please adapt your code to use either `displot` (a figure-level function with similar flexibility) or `histplot` (an axes-level function for histograms).\n",
            "  warnings.warn(msg, FutureWarning)\n",
            "/usr/local/lib/python3.7/dist-packages/seaborn/distributions.py:2056: FutureWarning: The `axis` variable is no longer used and will be removed. Instead, assign variables directly to `x` or `y`.\n",
            "  warnings.warn(msg, FutureWarning)\n"
          ]
        },
        {
          "output_type": "execute_result",
          "data": {
            "text/plain": [
              "<matplotlib.axes._subplots.AxesSubplot at 0x7fcfe9309fd0>"
            ]
          },
          "metadata": {},
          "execution_count": 162
        },
        {
          "output_type": "display_data",
          "data": {
            "image/png": "[encoded data removed]",
            "text/plain": [
              "<Figure size 1440x432 with 4 Axes>"
            ]
          },
          "metadata": {
            "needs_background": "light"
          }
        }
      ]
    },
    {
      "cell_type": "code",
      "metadata": {
        "id": "QT0iHqWnShNo",
        "colab": {
          "base_uri": "https://localhost:8080/"
        },
        "outputId": "3d804758-f2bf-4912-bd68-185aea4e3e61"
      },
      "source": [
        "serie_AP"
      ],
      "execution_count": 190,
      "outputs": [
        {
          "output_type": "execute_result",
          "data": {
            "text/plain": [
              "0           29697.0\n",
              "1          674132.0\n",
              "2               0.0\n",
              "3               0.0\n",
              "4               0.0\n",
              "            ...    \n",
              "823516          0.0\n",
              "823517          0.0\n",
              "823518    -200000.0\n",
              "823519    -400000.0\n",
              "823520    1855853.0\n",
              "Length: 823521, dtype: float64"
            ]
          },
          "metadata": {},
          "execution_count": 190
        }
      ]
    },
    {
      "cell_type": "code",
      "metadata": {
        "colab": {
          "base_uri": "https://localhost:8080/"
        },
        "id": "FNTpikxQ6EXH",
        "outputId": "a3f3432c-45db-45e6-9eab-eba527dd857d"
      },
      "source": [
        "serie_AP.describe()"
      ],
      "execution_count": 191,
      "outputs": [
        {
          "output_type": "execute_result",
          "data": {
            "text/plain": [
              "count    8.235210e+05\n",
              "mean     4.487052e+06\n",
              "std      1.276787e+08\n",
              "min     -8.995841e+09\n",
              "25%     -1.749000e+01\n",
              "50%      9.201930e+03\n",
              "75%      2.726182e+05\n",
              "max      1.904910e+10\n",
              "dtype: float64"
            ]
          },
          "metadata": {},
          "execution_count": 191
        }
      ]
    },
    {
      "cell_type": "code",
      "metadata": {
        "colab": {
          "base_uri": "https://localhost:8080/"
        },
        "id": "R2Dd4MSH6RDN",
        "outputId": "f7f0e7dc-fa6e-4f5a-9ec6-101432a138fc"
      },
      "source": [
        "serie_AP_neg.describe()"
      ],
      "execution_count": 193,
      "outputs": [
        {
          "output_type": "execute_result",
          "data": {
            "text/plain": [
              "count    4.051700e+04\n",
              "mean    -2.363966e+07\n",
              "std      1.696032e+08\n",
              "min     -8.995841e+09\n",
              "25%     -1.004768e+07\n",
              "50%     -3.576766e+06\n",
              "75%     -1.760774e+06\n",
              "max     -1.000000e+06\n",
              "dtype: float64"
            ]
          },
          "metadata": {},
          "execution_count": 193
        }
      ]
    },
    {
      "cell_type": "code",
      "metadata": {
        "colab": {
          "base_uri": "https://localhost:8080/"
        },
        "id": "s02CmMiy__tb",
        "outputId": "195d8e5c-f4bc-46e1-82a2-0c9f6760b8af"
      },
      "source": [
        "serie_AP_pos.describe()"
      ],
      "execution_count": 212,
      "outputs": [
        {
          "output_type": "execute_result",
          "data": {
            "text/plain": [
              "count    1.279560e+05\n",
              "mean     3.607616e+07\n",
              "std      3.073458e+08\n",
              "min      1.000000e+06\n",
              "25%      1.916121e+06\n",
              "50%      4.017134e+06\n",
              "75%      1.195609e+07\n",
              "max      1.904910e+10\n",
              "dtype: float64"
            ]
          },
          "metadata": {},
          "execution_count": 212
        }
      ]
    },
    {
      "cell_type": "code",
      "metadata": {
        "colab": {
          "base_uri": "https://localhost:8080/"
        },
        "id": "0K7jpWPlAEYj",
        "outputId": "55ae474d-6316-4030-b86e-a2ec85062f03"
      },
      "source": [
        "# Filtrar diferencias por rango intercurtilico\n",
        "print('rango: ', serie_AP_pos.max() - serie_AP_pos.min())\n",
        "iqr_AP_pos =  serie_AP_pos.quantile(0.75) -  serie_AP_pos.quantile(0.25)\n",
        "filtro_inferior =  serie_AP_pos >  serie_AP_pos.quantile(0.25) - (iqr_AP_pos * 1.5)\n",
        "filtro_superior =  serie_AP_pos <  serie_AP_pos.quantile(0.75) + (iqr_AP_pos * 1.5)\n",
        "AP_pos_filtrado = serie_AP_pos[filtro_inferior & filtro_superior]\n",
        "print('rango intercuartilico: ', iqr_AP_pos)"
      ],
      "execution_count": 195,
      "outputs": [
        {
          "output_type": "stream",
          "name": "stdout",
          "text": [
            "rango:  19048099634.0\n",
            "rango intercuartilico:  10039964.815000001\n"
          ]
        }
      ]
    },
    {
      "cell_type": "code",
      "metadata": {
        "colab": {
          "base_uri": "https://localhost:8080/"
        },
        "id": "VNhj-jalUb0m",
        "outputId": "e0a9a9ea-3cdd-4048-ecf0-ca1f72130fc3"
      },
      "source": [
        "len(AP_pos_filtrado), len(serie_AP_pos)"
      ],
      "execution_count": 213,
      "outputs": [
        {
          "output_type": "execute_result",
          "data": {
            "text/plain": [
              "(110035, 127956)"
            ]
          },
          "metadata": {},
          "execution_count": 213
        }
      ]
    },
    {
      "cell_type": "code",
      "metadata": {
        "colab": {
          "base_uri": "https://localhost:8080/"
        },
        "id": "fCj1v8MuU1-n",
        "outputId": "de287145-17f5-40f2-8d23-2ad4443cdf4a"
      },
      "source": [
        "AP_pos_filtrado.max() - AP_pos_filtrado.min()"
      ],
      "execution_count": 200,
      "outputs": [
        {
          "output_type": "execute_result",
          "data": {
            "text/plain": [
              "26015184.189999998"
            ]
          },
          "metadata": {},
          "execution_count": 200
        }
      ]
    },
    {
      "cell_type": "code",
      "metadata": {
        "id": "wItQnYMwCSdN"
      },
      "source": [
        "segmentos = pd.cut(AP_pos_filtrado, 100)\n",
        "serie_AP_pos_segm= pd.Series(AP_pos_filtrado.groupby(segmentos).count())"
      ],
      "execution_count": 222,
      "outputs": []
    },
    {
      "cell_type": "code",
      "metadata": {
        "colab": {
          "base_uri": "https://localhost:8080/"
        },
        "id": "E1zVf-nlWhwj",
        "outputId": "a61ed176-59fb-4d6a-b8f0-c948fa836af7"
      },
      "source": [
        "serie_AP_pos_segm"
      ],
      "execution_count": 223,
      "outputs": [
        {
          "output_type": "execute_result",
          "data": {
            "text/plain": [
              "(973984.816, 1260151.842]       11849\n",
              "(1260151.842, 1520303.684]       9448\n",
              "(1520303.684, 1780455.526]       7232\n",
              "(1780455.526, 2040607.368]       7005\n",
              "(2040607.368, 2300759.21]        5155\n",
              "                                ...  \n",
              "(25714424.98, 25974576.822]       141\n",
              "(25974576.822, 26234728.664]      166\n",
              "(26234728.664, 26494880.506]      152\n",
              "(26494880.506, 26755032.348]      157\n",
              "(26755032.348, 27015184.19]       147\n",
              "Length: 100, dtype: int64"
            ]
          },
          "metadata": {},
          "execution_count": 223
        }
      ]
    },
    {
      "cell_type": "code",
      "metadata": {
        "id": "3mfCj-_yNgAe",
        "colab": {
          "base_uri": "https://localhost:8080/",
          "height": 339
        },
        "outputId": "6eed415b-961e-48af-ab71-d216f5e4558e"
      },
      "source": [
        "plt.style.use('fivethirtyeight')\n",
        "sns.distplot(serie_AP_pos_segm, kde=False, norm_hist=False);"
      ],
      "execution_count": 224,
      "outputs": [
        {
          "output_type": "stream",
          "name": "stderr",
          "text": [
            "/usr/local/lib/python3.7/dist-packages/seaborn/distributions.py:2557: FutureWarning: `distplot` is a deprecated function and will be removed in a future version. Please adapt your code to use either `displot` (a figure-level function with similar flexibility) or `histplot` (an axes-level function for histograms).\n",
            "  warnings.warn(msg, FutureWarning)\n"
          ]
        },
        {
          "output_type": "display_data",
          "data": {
            "image/png": "[encoded data removed]",
            "text/plain": [
              "<Figure size 432x288 with 1 Axes>"
            ]
          },
          "metadata": {}
        }
      ]
    },
    {
      "cell_type": "code",
      "metadata": {
        "id": "bVETNsN5C4rK"
      },
      "source": [
        "serie_AP_pos_sort=AP_pos_filtrado.sort_values(ascending= True)"
      ],
      "execution_count": 217,
      "outputs": []
    },
    {
      "cell_type": "code",
      "metadata": {
        "colab": {
          "base_uri": "https://localhost:8080/"
        },
        "id": "ok_cE2WiDcHd",
        "outputId": "e0a88232-5ced-4bca-eccd-8e7045708ffb"
      },
      "source": [
        "serie_AP_pos_sort.head(100).tail(20)"
      ],
      "execution_count": 218,
      "outputs": [
        {
          "output_type": "execute_result",
          "data": {
            "text/plain": [
              "434446    1000908.24\n",
              "320930    1000912.00\n",
              "641140    1000928.00\n",
              "554266    1000928.00\n",
              "607740    1000949.12\n",
              "518209    1000949.12\n",
              "697703    1000949.12\n",
              "232308    1000990.77\n",
              "232305    1000990.77\n",
              "323873    1000990.77\n",
              "422172    1000990.77\n",
              "515585    1000990.77\n",
              "782512    1000997.49\n",
              "572597    1001000.00\n",
              "658834    1001000.00\n",
              "749910    1001000.00\n",
              "144107    1001032.84\n",
              "562474    1001049.73\n",
              "611466    1001090.36\n",
              "173833    1001133.59\n",
              "dtype: float64"
            ]
          },
          "metadata": {},
          "execution_count": 218
        }
      ]
    },
    {
      "cell_type": "code",
      "metadata": {
        "colab": {
          "base_uri": "https://localhost:8080/"
        },
        "id": "4USjwsB4K6De",
        "outputId": "4fae6b7f-e33c-4e1b-ba35-58265808b098"
      },
      "source": [
        "len(serie_AP_pos_sort)"
      ],
      "execution_count": 219,
      "outputs": [
        {
          "output_type": "execute_result",
          "data": {
            "text/plain": [
              "110035"
            ]
          },
          "metadata": {},
          "execution_count": 219
        }
      ]
    },
    {
      "cell_type": "code",
      "metadata": {
        "id": "6NdX-_zbEfcu",
        "colab": {
          "base_uri": "https://localhost:8080/",
          "height": 282
        },
        "outputId": "42010053-b4b5-463a-b064-f6b8d081da94"
      },
      "source": [
        "import matplotlib.pyplot as plt\n",
        "plt.semilogy(list(range(0,len(serie_AP_pos_sort))), serie_AP_pos_sort, marker='o', ls=\"\") \n",
        "plt.show()"
      ],
      "execution_count": 220,
      "outputs": [
        {
          "output_type": "display_data",
          "data": {
            "image/png": "[encoded data removed]",
            "text/plain": [
              "<Figure size 432x288 with 1 Axes>"
            ]
          },
          "metadata": {}
        }
      ]
    },
    {
      "cell_type": "code",
      "metadata": {
        "colab": {
          "base_uri": "https://localhost:8080/"
        },
        "id": "CeomPFtOLgCD",
        "outputId": "fa892a74-becf-4d66-ca97-0ce02e11888a"
      },
      "source": [
        "serie_AP_pos_sort.kurtosis(), serie_AP_pos_sort.var(), serie_AP_pos_sort.skew()"
      ],
      "execution_count": 221,
      "outputs": [
        {
          "output_type": "execute_result",
          "data": {
            "text/plain": [
              "(2.735346960363187, 31224959481286.99, 1.796846309818914)"
            ]
          },
          "metadata": {},
          "execution_count": 221
        }
      ]
    },
    {
      "cell_type": "markdown",
      "metadata": {
        "id": "_wQWgvQMFJl3"
      },
      "source": [
        "## Postwork 3\n",
        "1. Identifica todas las variables categóricas en tu dataset.\n",
        "2. Utiliza gráficas de barras para explorar la distribución de tus variables categóricas.\n",
        "3. Planea tu análisis multivariable: ¿qué combinaciones de variables categóricas podrían darme información útil acerca de la distribución de mis datos? ¿qué combinaciones de una variable numérica con una variable categórica podrían ser interesantes?\n",
        "4. Utiliza tablas de contingencia y múltiples gráficas en la misma figure para explorar combinaciones de variables categóricas.\n",
        "5. Utiliza boxplots y violinplots para explorar combinaciones de variables numéricas con variables categóricas.\n",
        "6. De preferencia ve registrando por escrito (ahí mismo en tu Notebook) todos tus hallazgos. Describe qué vas descubriendo y qué podría significar.\n",
        "\n",
        "##### Empezamos definiendo las variables categoricas como tal"
      ]
    },
    {
      "cell_type": "code",
      "metadata": {
        "colab": {
          "base_uri": "https://localhost:8080/"
        },
        "id": "TK03gZM6FKRg",
        "outputId": "bf2f91e8-99a6-4f9d-84ff-73dd636998b9"
      },
      "source": [
        "ds_asf['Sector'] = ds_asf['Sector'].astype('category')\n",
        "ds_asf['Ente Fiscalizado'] = ds_asf['Ente Fiscalizado'].astype('category') ## Aqui hay muchas :|\n",
        "ds_asf['Entidad Federativa'] = ds_asf['Entidad Federativa'].astype('category')\n",
        "ds_asf['Tipo Auditoría'] = ds_asf['Tipo Auditoría'].astype('category')\n",
        "ds_asf['Ente a quien se dirige la Acción'] = ds_asf['Ente a quien se dirige la Acción'].astype('category')\n",
        "ds_asf['Tipo Acción'] = ds_asf['Tipo Acción'].astype('category')\n",
        "ds_asf['Estado de Trámite'] = ds_asf['Estado de Trámite'].astype('category')\n",
        "ds_asf.info()"
      ],
      "execution_count": null,
      "outputs": [
        {
          "output_type": "stream",
          "name": "stdout",
          "text": [
            "<class 'pandas.core.frame.DataFrame'>\n",
            "RangeIndex: 32404 entries, 0 to 32403\n",
            "Data columns (total 20 columns):\n",
            " #   Column                            Non-Null Count  Dtype   \n",
            "---  ------                            --------------  -----   \n",
            " 0   Año Cuenta Pública                32404 non-null  int64   \n",
            " 1   Grupo Funcional                   32404 non-null  object  \n",
            " 2   Sector                            32404 non-null  category\n",
            " 3   Ente Fiscalizado                  32404 non-null  category\n",
            " 4   Entidad Federativa                32404 non-null  category\n",
            " 5   Tipo Auditoría                    32404 non-null  category\n",
            " 6   Número                            32404 non-null  int64   \n",
            " 7   Título                            32404 non-null  object  \n",
            " 8   Universo (miles pesos)            32404 non-null  object  \n",
            " 9   Muestra (miles pesos)             32404 non-null  object  \n",
            " 10  Ente a quien se dirige la Acción  32404 non-null  category\n",
            " 11  Tipo Acción                       32404 non-null  category\n",
            " 12  Clave Acción                      32404 non-null  object  \n",
            " 13  Acción Superveniente              32404 non-null  object  \n",
            " 14  Texto Acción                      27854 non-null  object  \n",
            " 15  Estado de Trámite                 27854 non-null  category\n",
            " 16  Auditorías                        32404 non-null  int64   \n",
            " 17  Acciones                          32404 non-null  int64   \n",
            " 18  terminado                         32404 non-null  bool    \n",
            " 19  desaparecido                      5893 non-null   float64 \n",
            "dtypes: bool(1), category(7), float64(1), int64(4), object(7)\n",
            "memory usage: 3.4+ MB\n"
          ]
        }
      ]
    },
    {
      "cell_type": "code",
      "metadata": {
        "id": "szA-61MLFVgN"
      },
      "source": [
        "def barplot(serie, title, xlabel, ylabel, rotation=0, axis=None):\n",
        "  counts = serie.value_counts()\n",
        "  ax = sns.barplot(y=counts.index, x=counts, ax=axis)\n",
        "  ax.set_title(title)\n",
        "  ax.set(ylabel=ylabel, xlabel=xlabel)\n",
        "  ax.set_xticklabels(ax.get_xticklabels(), rotation=rotation);"
      ],
      "execution_count": null,
      "outputs": []
    },
    {
      "cell_type": "code",
      "metadata": {
        "id": "Zje1vpBtFaCO"
      },
      "source": [
        "ds_asf['Sector'] = ds_asf['Sector'].cat.rename_categories({'Previsiones y Aportaciones Para Los Sistemas de Educación Básica, Normal, Tecnológica y de Adultos':'Aportaciones para Educación'})"
      ],
      "execution_count": null,
      "outputs": []
    },
    {
      "cell_type": "code",
      "metadata": {
        "colab": {
          "base_uri": "https://localhost:8080/",
          "height": 1000
        },
        "id": "xyWrgZ62FcUY",
        "outputId": "ff446c67-fee9-4029-d1aa-490594b4b6eb"
      },
      "source": [
        "barplot(ds_asf['Sector'], \n",
        "        title='Conteo de Sectores', \n",
        "        ylabel='Sector', \n",
        "        xlabel='Ocurrencias')\n",
        "plt.show(); print()\n",
        "\n",
        "barplot(ds_asf['Tipo Auditoría'], \n",
        "        title='Conteo de Tipos de Auditorías', \n",
        "        ylabel='Tipo de Auditoría', \n",
        "        xlabel='Ocurrencias')\n",
        "plt.show(); print()\n",
        "\n",
        "serie_entes = ds_asf['Ente Fiscalizado'].value_counts()\n",
        "top10 = serie_entes.sort_values(ascending=False)[:10].reset_index().values\n",
        "ax = sns.barplot(y=top10[:,0], x=top10[:,1])\n",
        "ax.set_title('Top 10 Entes fiscalizados mas auditados')\n",
        "ax.set(xlabel='Ocurrencias', ylabel='Ente Fiscalizado')\n",
        "plt.show(); print()\n",
        "\n",
        "plt.figure(figsize=(13, 5))\n",
        "plt.title('Cantidad de aditorias realizadas por Ente')\n",
        "plt.ylabel('Cantidad de entidades')\n",
        "plt.xlabel('Cantidad de auditorias')\n",
        "sns.histplot(serie_entes)\n",
        "\n",
        "span=12\n",
        "plt.axvline(serie_entes.mean(), color='g')\n",
        "plt.text(\n",
        "    serie_entes.mean() + span,\n",
        "    200,\n",
        "    f'Mediana = {serie_entes.mean():.2f}',\n",
        "    rotation=90)\n",
        "\n",
        "plt.axvline(serie_entes.max(), color='r')\n",
        "plt.text(\n",
        "    serie_entes.max() + span, 150,\n",
        "    f'Valor maximo = {serie_entes.max():.2f}',\n",
        "    rotation=90);"
      ],
      "execution_count": null,
      "outputs": [
        {
          "output_type": "display_data",
          "data": {
            "image/png": "[encoded data removed]",
            "text/plain": [
              "<Figure size 432x288 with 1 Axes>"
            ]
          },
          "metadata": {
            "needs_background": "light"
          }
        },
        {
          "output_type": "stream",
          "name": "stdout",
          "text": [
            "\n"
          ]
        },
        {
          "output_type": "display_data",
          "data": {
            "image/png": "[encoded data removed]",
            "text/plain": [
              "<Figure size 432x288 with 1 Axes>"
            ]
          },
          "metadata": {
            "needs_background": "light"
          }
        },
        {
          "output_type": "stream",
          "name": "stdout",
          "text": [
            "\n"
          ]
        },
        {
          "output_type": "display_data",
          "data": {
            "image/png": "[encoded data removed]",
            "text/plain": [
              "<Figure size 432x288 with 1 Axes>"
            ]
          },
          "metadata": {
            "needs_background": "light"
          }
        },
        {
          "output_type": "stream",
          "name": "stdout",
          "text": [
            "\n"
          ]
        },
        {
          "output_type": "display_data",
          "data": {
            "image/png": "[encoded data removed]",
            "text/plain": [
              "<Figure size 936x360 with 1 Axes>"
            ]
          },
          "metadata": {
            "needs_background": "light"
          }
        }
      ]
    },
    {
      "cell_type": "code",
      "metadata": {
        "colab": {
          "base_uri": "https://localhost:8080/",
          "height": 645
        },
        "id": "bxxcs6kdFfNY",
        "outputId": "b777ec78-b785-4653-fd97-cce2c1ed2538"
      },
      "source": [
        "serie_entidad = ds_asf['Entidad Federativa'].value_counts()\n",
        "top10 = serie_entidad.sort_values(ascending=False)[:10].reset_index().values\n",
        "ax = sns.barplot(y=top10[:,0], x=top10[:,1])\n",
        "ax.set_title('Top 10 entidades mas auditadas')\n",
        "ax.set(xlabel='Ocurrencias', ylabel='Entidad Federativa')\n",
        "plt.show(); print()\n",
        "\n",
        "plt.figure(figsize=(13, 5))\n",
        "plt.title('Cantidad de aditorias realizadas por Ente')\n",
        "plt.ylabel('Cantidad de entidades')\n",
        "plt.xlabel('Cantidad de auditorias')\n",
        "sns.histplot(serie_entidad)\n",
        "\n",
        "span=10\n",
        "plt.axvline(serie_entidad.mean(), color='g')\n",
        "plt.text(\n",
        "    serie_entidad.mean() + span,\n",
        "    3,\n",
        "    f'Mediana = {serie_entidad.mean():.2f}',\n",
        "    rotation=90)\n",
        "\n",
        "plt.axvline(serie_entidad.median(), color='y')\n",
        "plt.text(\n",
        "    serie_entidad.median() + span, \n",
        "    3,\n",
        "    f'Valor maximo = {serie_entidad.median():.2f}',\n",
        "    rotation=90);"
      ],
      "execution_count": null,
      "outputs": [
        {
          "output_type": "display_data",
          "data": {
            "image/png": "[encoded data removed]",
            "text/plain": [
              "<Figure size 432x288 with 1 Axes>"
            ]
          },
          "metadata": {
            "needs_background": "light"
          }
        },
        {
          "output_type": "stream",
          "name": "stdout",
          "text": [
            "\n"
          ]
        },
        {
          "output_type": "display_data",
          "data": {
            "image/png": "[encoded data removed]",
            "text/plain": [
              "<Figure size 936x360 with 1 Axes>"
            ]
          },
          "metadata": {
            "needs_background": "light"
          }
        }
      ]
    },
    {
      "cell_type": "code",
      "metadata": {
        "colab": {
          "base_uri": "https://localhost:8080/",
          "height": 587
        },
        "id": "a4ctM--gFhNy",
        "outputId": "b7d72e8b-7e51-4960-f28d-ece073c65e82"
      },
      "source": [
        "barplot(ds_asf['Tipo Acción'], \n",
        "        title='Conteo de Tipos de Auditorías', \n",
        "        ylabel='Tipo de Auditoría', \n",
        "        xlabel='Ocurrencias')\n",
        "plt.show(); print()\n",
        "\n",
        "barplot(ds_asf['Estado de Trámite'], \n",
        "        title='Conteo de Tipos de Auditorías', \n",
        "        ylabel='Tipo de Auditoría', \n",
        "        xlabel='Ocurrencias')\n",
        "plt.show(); print()"
      ],
      "execution_count": null,
      "outputs": [
        {
          "output_type": "display_data",
          "data": {
            "image/png": "[encoded data removed]",
            "text/plain": [
              "<Figure size 432x288 with 1 Axes>"
            ]
          },
          "metadata": {
            "needs_background": "light"
          }
        },
        {
          "output_type": "stream",
          "name": "stdout",
          "text": [
            "\n"
          ]
        },
        {
          "output_type": "display_data",
          "data": {
            "image/png": "[encoded data removed]",
            "text/plain": [
              "<Figure size 432x288 with 1 Axes>"
            ]
          },
          "metadata": {
            "needs_background": "light"
          }
        },
        {
          "output_type": "stream",
          "name": "stdout",
          "text": [
            "\n"
          ]
        }
      ]
    }
  ]
}