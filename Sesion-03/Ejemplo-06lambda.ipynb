{
  "nbformat": 4,
  "nbformat_minor": 0,
  "metadata": {
    "kernelspec": {
      "display_name": "Python (data_science)",
      "language": "python",
      "name": "data_science"
    },
    "language_info": {
      "codemirror_mode": {
        "name": "ipython",
        "version": 3
      },
      "file_extension": ".py",
      "mimetype": "text/x-python",
      "name": "python",
      "nbconvert_exporter": "python",
      "pygments_lexer": "ipython3",
      "version": "3.8.5"
    },
    "colab": {
      "name": "lambda.ipynb",
      "provenance": []
    }
  },
  "cells": [
    {
      "cell_type": "markdown",
      "metadata": {
        "id": "VdPUUe69cyiy"
      },
      "source": [
        "## Ejemplo 6: Lambda\n",
        "\n",
        "### 1. Objetivos:\n",
        "    - Aprender la sintaxis `lambda` para poderla aplicar en `map` y `filter`.\n",
        " \n",
        "---\n",
        "    \n",
        "### 2. Desarrollo:"
      ]
    },
    {
      "cell_type": "markdown",
      "metadata": {
        "id": "mULMmIjwcyi0"
      },
      "source": [
        "Una función `lambda` se define así:"
      ]
    },
    {
      "cell_type": "code",
      "metadata": {
        "id": "DT5jHp_0cyi1",
        "outputId": "2f31fc24-fc16-4ea9-fb39-73655894ca67"
      },
      "source": [
        "lambda x: x * 100"
      ],
      "execution_count": null,
      "outputs": [
        {
          "output_type": "execute_result",
          "data": {
            "text/plain": [
              "<function __main__.<lambda>(x)>"
            ]
          },
          "metadata": {
            "tags": []
          },
          "execution_count": 1
        }
      ]
    },
    {
      "cell_type": "markdown",
      "metadata": {
        "id": "BXoeugGncyi2"
      },
      "source": [
        "Se usa la palabra `lambda`, luego se definen los parámetros, y al final se agrega el cuerpo de la función, que en este caso sólo puede incluir una sola sentencia: la `sentencia return`. No hace falta escribir `return`, `lambda` sabe que tiene que regresar la única línea de código que tiene.\n",
        "\n",
        "Ahora veamos cómo se usaría para revertir nuestra comparación anterior en un `filter`."
      ]
    },
    {
      "cell_type": "code",
      "metadata": {
        "id": "VnoQDBTEcyi3"
      },
      "source": [
        "def numero_es_divisible_entre_3(numero):\n",
        "    \n",
        "    if numero % 3 == 0:\n",
        "        return True\n",
        "    else:\n",
        "        return False"
      ],
      "execution_count": null,
      "outputs": []
    },
    {
      "cell_type": "code",
      "metadata": {
        "id": "t-k4iKnPcyi3"
      },
      "source": [
        "numeros = [1, 2, 3, 4, 5, 6, 7, 8, 9, 10, 11, 12, 13, 14, 15, 16, 17, 18, 19, 20]"
      ],
      "execution_count": null,
      "outputs": []
    },
    {
      "cell_type": "code",
      "metadata": {
        "id": "qgQRTh_Ucyi4",
        "outputId": "1008c798-0b55-46fe-f5d8-93e494ca67dd"
      },
      "source": [
        "list(filter(lambda x: not numero_es_divisible_entre_3(x), numeros))"
      ],
      "execution_count": null,
      "outputs": [
        {
          "output_type": "execute_result",
          "data": {
            "text/plain": [
              "[1, 2, 4, 5, 7, 8, 10, 11, 13, 14, 16, 17, 19, 20]"
            ]
          },
          "metadata": {
            "tags": []
          },
          "execution_count": 4
        }
      ]
    },
    {
      "cell_type": "markdown",
      "metadata": {
        "id": "jQbdoqedcyi5"
      },
      "source": [
        "Como puedes ver, esta sentencia nos regresa todos los números que **no** son divisibles entre 3. Revierte el funcionamiento de la función `numero_es_divisible_entre_3`. Podríamos hacerlo de esta manera, pero requiere de más código:"
      ]
    },
    {
      "cell_type": "code",
      "metadata": {
        "id": "ByMDafF-cyi6"
      },
      "source": [
        "def numero_no_es_divisible_entre_3(numero):\n",
        "    \n",
        "    if not numero_es_divisible_entre_3(numero):\n",
        "        return True\n",
        "    else:\n",
        "        return False"
      ],
      "execution_count": null,
      "outputs": []
    },
    {
      "cell_type": "markdown",
      "metadata": {
        "id": "f0vDHEaFcyi7"
      },
      "source": [
        "Usar una u otra de las opciones dependerá del contexto y de tu criterio. Veamos un par de `lambdas` más:"
      ]
    },
    {
      "cell_type": "code",
      "metadata": {
        "id": "fpnBhgBdcyi7",
        "outputId": "d9bfa6a0-0b2b-4c67-8aca-a6769de189c0"
      },
      "source": [
        "palabras = [\"achicoria\", \"pasto\", \"sol\", \"loquillo\", \"moquillo\", \"sed\", \"pez\", \"jacaranda\", \"mil\"]\n",
        "\n",
        "list(filter(lambda x: len(x) > 5, palabras))"
      ],
      "execution_count": null,
      "outputs": [
        {
          "output_type": "execute_result",
          "data": {
            "text/plain": [
              "['achicoria', 'loquillo', 'moquillo', 'jacaranda']"
            ]
          },
          "metadata": {
            "tags": []
          },
          "execution_count": 7
        }
      ]
    },
    {
      "cell_type": "code",
      "metadata": {
        "id": "uxKsWl3Lcyi8",
        "outputId": "2ff881a5-8909-474b-fef0-4016381c7bcb"
      },
      "source": [
        "numeros = [3, 5, -1, -7, -8, 4, -78, 5, -46, 56, 98, 9, -1, -2, -4]\n",
        "\n",
        "list(filter(lambda x: x < 0, numeros))"
      ],
      "execution_count": null,
      "outputs": [
        {
          "output_type": "execute_result",
          "data": {
            "text/plain": [
              "[-1, -7, -8, -78, -46, -1, -2, -4]"
            ]
          },
          "metadata": {
            "tags": []
          },
          "execution_count": 8
        }
      ]
    },
    {
      "cell_type": "code",
      "metadata": {
        "id": "InTHjdD3cyi8",
        "outputId": "77c6a15b-4d43-42cb-bfde-e2e5dea085d6"
      },
      "source": [
        "list(filter(lambda x: not(x < 0), numeros))"
      ],
      "execution_count": null,
      "outputs": [
        {
          "output_type": "execute_result",
          "data": {
            "text/plain": [
              "[3, 5, 4, 5, 56, 98, 9]"
            ]
          },
          "metadata": {
            "tags": []
          },
          "execution_count": 9
        }
      ]
    },
    {
      "cell_type": "markdown",
      "metadata": {
        "id": "A5lvvj4Qcyi9"
      },
      "source": [
        "¡Es hora de nuestro reto final!"
      ]
    }
  ]
}