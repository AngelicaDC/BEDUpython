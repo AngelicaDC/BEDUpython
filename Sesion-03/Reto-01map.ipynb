{
  "nbformat": 4,
  "nbformat_minor": 0,
  "metadata": {
    "kernelspec": {
      "display_name": "Python (data_science)",
      "language": "python",
      "name": "data_science"
    },
    "language_info": {
      "codemirror_mode": {
        "name": "ipython",
        "version": 3
      },
      "file_extension": ".py",
      "mimetype": "text/x-python",
      "name": "python",
      "nbconvert_exporter": "python",
      "pygments_lexer": "ipython3",
      "version": "3.8.5"
    },
    "colab": {
      "name": "map.ipynb",
      "provenance": []
    }
  },
  "cells": [
    {
      "cell_type": "markdown",
      "metadata": {
        "id": "uyCnDs1Ly8d5"
      },
      "source": [
        "## Reto 1: Map\n",
        "\n",
        "### 1. Objetivos:\n",
        "    - Practicar el uso de `map` para transformar los datos en una `lista`\n",
        " \n",
        "---\n",
        "    \n",
        "### 2. Desarrollo:"
      ]
    },
    {
      "cell_type": "markdown",
      "metadata": {
        "id": "88Jb8gLYy8d7"
      },
      "source": [
        "#### a) Proporción a porcentajes\n",
        "\n",
        "Tenemos una lista que contiene proporciones:"
      ]
    },
    {
      "cell_type": "code",
      "metadata": {
        "id": "pv5IR_SQy8d8"
      },
      "source": [
        "proporciones = [0.45, 0.2, 0.78, 0.4, 0.77, 0.9, 0.4, 0.5, 0.67, 0.24, 0.73]"
      ],
      "execution_count": 1,
      "outputs": []
    },
    {
      "cell_type": "markdown",
      "metadata": {
        "id": "HFrTN-2Dy8d9"
      },
      "source": [
        "Queremos convertir esta lista en una lista `porcentajes`, donde las proporciones hayan sido convertidas a porcentajes. Termina la función `proporcion_a_porcentajes` y después utiliza `map` para convertir `proporciones` y asignar la lista transformada a `porcentajes`:"
      ]
    },
    {
      "cell_type": "code",
      "metadata": {
        "id": "9gME5gI8y8d9"
      },
      "source": [
        "def proporcion_a_porcentajes(proporcion):\n",
        "    \n",
        "    porcentaje= proporcion*100\n",
        "    \n",
        "    return porcentaje"
      ],
      "execution_count": 9,
      "outputs": []
    },
    {
      "cell_type": "code",
      "metadata": {
        "id": "kjQU5iJ5y8d9"
      },
      "source": [
        "porcentajes = list(map(proporcion_a_porcentajes, proporciones))"
      ],
      "execution_count": 10,
      "outputs": []
    },
    {
      "cell_type": "markdown",
      "metadata": {
        "id": "nogTdm3zy8d-"
      },
      "source": [
        "Corre después la siguiente celda para obtener una representación en `string`. No importa si no entiendes por completo qué está pasando en la siguiente celda. Más adelante en el módulo aprenderemos a hacer esto y más."
      ]
    },
    {
      "cell_type": "code",
      "metadata": {
        "id": "nnBjX39-y8d_",
        "outputId": "cfdeed00-28e5-4c62-c138-5b9b9e832043",
        "colab": {
          "base_uri": "https://localhost:8080/"
        }
      },
      "source": [
        "def imprimir_proporciones_en_equivalencia_a_porcentajes(proporciones, porcentajes):\n",
        "    \n",
        "    print(f'==Proporciones y su equivalencia en porcentajes de 1==\\n')\n",
        "    \n",
        "    for i in range(len(proporciones)):\n",
        "        print(f'- {proporciones[i]} es el {int(porcentajes[i])}% de 1.')\n",
        "\n",
        "imprimir_proporciones_en_equivalencia_a_porcentajes(proporciones, porcentajes)"
      ],
      "execution_count": 12,
      "outputs": [
        {
          "output_type": "stream",
          "text": [
            "==Proporciones y su equivalencia en porcentajes de 1==\n",
            "\n",
            "- 0.45 es el 45% de 1.\n",
            "- 0.2 es el 20% de 1.\n",
            "- 0.78 es el 78% de 1.\n",
            "- 0.4 es el 40% de 1.\n",
            "- 0.77 es el 77% de 1.\n",
            "- 0.9 es el 90% de 1.\n",
            "- 0.4 es el 40% de 1.\n",
            "- 0.5 es el 50% de 1.\n",
            "- 0.67 es el 67% de 1.\n",
            "- 0.24 es el 24% de 1.\n",
            "- 0.73 es el 73% de 1.\n"
          ],
          "name": "stdout"
        }
      ]
    },
    {
      "cell_type": "markdown",
      "metadata": {
        "id": "54p4n_U_y8d_"
      },
      "source": [
        "<details><summary>Solución</summary>\n",
        "\n",
        "```python\n",
        "def proporcion_a_porcentajes(proporcion):\n",
        "  \n",
        "    return proporcion * 100\n",
        "    \n",
        "porcentajes = list(map(proporcion_a_porcentajes, proporciones)) \n",
        "```\n",
        "    \n",
        "</details>"
      ]
    },
    {
      "cell_type": "markdown",
      "metadata": {
        "id": "alVP7EkEy8eA"
      },
      "source": [
        "#### b) Strings a números\n",
        "\n",
        "Tenemos una `lista` con strings que representan valores númericos:"
      ]
    },
    {
      "cell_type": "code",
      "metadata": {
        "id": "nIv0KUI0y8eA"
      },
      "source": [
        "numeros_como_strings = [\"3\", \"7\", \"45\", \"89\", \"12\", \"9\", \"5\", \"89\", \"78\", \"87\", \"44\", \"45\", \"26\", \"84\", \"98\", \"46\", \"99\", \"84\"]"
      ],
      "execution_count": 14,
      "outputs": []
    },
    {
      "cell_type": "markdown",
      "metadata": {
        "id": "Mo3SNe8Iy8eA"
      },
      "source": [
        "Para poder realizar algunos cálculos estádisticos, necesitamos que estas `strings` sean convertidas a `ints`. Escribe la función `string_a_int` y asigna el resultado de su aplicación a `numeros_como_strings` a la variable `numeros_como_ints`:"
      ]
    },
    {
      "cell_type": "code",
      "metadata": {
        "id": "ElIoSJqTy8eB"
      },
      "source": [
        "def string_a_int(string):\n",
        "    \n",
        "    \n",
        "    \n",
        "    return int(string)"
      ],
      "execution_count": 13,
      "outputs": []
    },
    {
      "cell_type": "code",
      "metadata": {
        "id": "WK8eEb7Ry8eB"
      },
      "source": [
        "numeros_como_ints = list(map(string_a_int, numeros_como_strings))"
      ],
      "execution_count": 15,
      "outputs": []
    },
    {
      "cell_type": "markdown",
      "metadata": {
        "id": "mrQq-_68y8eB"
      },
      "source": [
        "Pídele a tu experta la función de verificación `imprimir_analisis_estadistico` (encontrada en el archivo `helpers.py` de la carpeta donde se encuentra este Reto), pégala debajo y corre la celda para verificar tu resultado:"
      ]
    },
    {
      "cell_type": "code",
      "metadata": {
        "id": "PQ57zIOXy8eC",
        "outputId": "cd88ba33-73b2-43e3-9479-14f535441439",
        "colab": {
          "base_uri": "https://localhost:8080/"
        }
      },
      "source": [
        "def imprimir_analisis_estadistico(datos):\n",
        "    \n",
        "    def mediana(datos):\n",
        "        datos_sorted = sorted(datos)\n",
        "        len_datos = len(datos)\n",
        "        \n",
        "        if len_datos % 2 == 0:\n",
        "            mediana = (datos_sorted[int(len_datos / 2) - 1] + datos_sorted[int(len_datos / 2)]) / 2\n",
        "        else:\n",
        "            import math\n",
        "            mediana = datos_sorted[int(math.floor(len_datos / 2))]\n",
        "            \n",
        "        return mediana\n",
        "    \n",
        "    print(f'==Análisis estadístico de los datos recibidos==\\n')\n",
        "    print(f'Valor mínimo: {min(datos)}')\n",
        "    print(f'Valor máximo: {max(datos)}')\n",
        "    print(f'Rango de valores: {max(datos) - min(datos)}')\n",
        "    print(f'Promedio: {sum(datos) / len(datos)}')\n",
        "    print(f'Mediana: {mediana(datos)}')\n",
        "\n",
        "imprimir_analisis_estadistico(numeros_como_ints)"
      ],
      "execution_count": 16,
      "outputs": [
        {
          "output_type": "stream",
          "text": [
            "==Análisis estadístico de los datos recibidos==\n",
            "\n",
            "Valor mínimo: 3\n",
            "Valor máximo: 99\n",
            "Rango de valores: 96\n",
            "Promedio: 52.77777777777778\n",
            "Mediana: 45.5\n"
          ],
          "name": "stdout"
        }
      ]
    },
    {
      "cell_type": "markdown",
      "metadata": {
        "id": "mtpmv2Zyy8eC"
      },
      "source": [
        "<details><summary>Solución</summary>\n",
        "\n",
        "```python\n",
        "def string_a_int(string):\n",
        "    \n",
        "    return int(string)\n",
        "    \n",
        "numeros_como_ints = list(map(string_a_int, numeros_como_strings))\n",
        "```\n",
        "    \n",
        "</details>"
      ]
    },
    {
      "cell_type": "code",
      "metadata": {
        "id": "jfaTzFQHy8eC"
      },
      "source": [
        ""
      ],
      "execution_count": null,
      "outputs": []
    }
  ]
}