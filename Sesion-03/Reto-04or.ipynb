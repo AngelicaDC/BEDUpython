{
  "nbformat": 4,
  "nbformat_minor": 0,
  "metadata": {
    "kernelspec": {
      "display_name": "Python (data_science)",
      "language": "python",
      "name": "data_science"
    },
    "language_info": {
      "codemirror_mode": {
        "name": "ipython",
        "version": 3
      },
      "file_extension": ".py",
      "mimetype": "text/x-python",
      "name": "python",
      "nbconvert_exporter": "python",
      "pygments_lexer": "ipython3",
      "version": "3.8.5"
    },
    "colab": {
      "name": "or.ipynb",
      "provenance": []
    }
  },
  "cells": [
    {
      "cell_type": "markdown",
      "metadata": {
        "id": "70JJld7LJwF6"
      },
      "source": [
        "## Reto 4: Or\n",
        "\n",
        "### 1. Objetivos:\n",
        "    - Practicar el operador `or` y usarlo para realizar filtros más complejos\n",
        " \n",
        "---\n",
        "    \n",
        "### 2. Desarrollo:"
      ]
    },
    {
      "cell_type": "markdown",
      "metadata": {
        "id": "g7E9YihqJwF8"
      },
      "source": [
        "#### a) Filtrando palabras\n",
        "\n",
        "Eres el organizador del Concurso Nacional de Deletreo \"Salvador Novo\". Por una bella coincidencia, este año el día del concurso cae justo el mismo día que el Día del Orgullo LGBT. Dado que Salvador Novo era homosexual, te parece muy apropiado que el concurso de deletreo funcione como una celebración de su \"belicosa homosexualidad\" (como la llamaba Carlos Monsiváis). Se te ocurre hacer lo siguiente:\n",
        "\n",
        "De la lista de palabras que tenías originalmente para el concurso, vas a filtrar las palabras para que sólo tengas palabras que empiecen con \"l\" **o** o con \"g\" **o** con \"b\" **o** con \"t\".\n",
        "\n",
        "Aquí está tu lista original de palabras:"
      ]
    },
    {
      "cell_type": "code",
      "metadata": {
        "id": "dU9yh1QlJwF9"
      },
      "source": [
        "palabras = ['cabildo', 'genocidio', 'severo', 'jarana', 'enigmático', 'jaguar', 'solidaridad', 'reivindicar', 'bálsamo', 'panteón',\n",
        "            'cabestrillo', 'boicotear', 'letargo', 'jaqueca', 'tentáculo', 'legislar', 'gnomo', 'blasfemia', 'camposanto',\n",
        "            'factible', 'eficaz', 'sintonía', 'lloriquear', 'fachada', 'edificante', 'pétalo', 'libélula', 'pavimento', 'llovizna',\n",
        "            'racimo', 'gargantilla', 'relieve', 'bóveda', 'tecnicismo', 'terraplén', 'basílica']"
      ],
      "execution_count": 1,
      "outputs": []
    },
    {
      "cell_type": "markdown",
      "metadata": {
        "id": "t0spSIIIJwF-"
      },
      "source": [
        "1. Escribe 4 funciones, para cada una de las letras del acrónimo LGBT. Las funciones van a regresar `True` sólo si la palabra comienza con la letra que le corresponde.\n",
        "\n",
        "    Por ejemplo, la función `palabra_comienza_con_l` va a regresar `True` sólo si la palabra comienza con `l`.\n",
        "\n",
        "2. Después, define una función que sea la unión de estas 4 funciones y regrese `True` si la palabra comienza con alguna de las letras del acrónimo LGBT.\n",
        "\n",
        "3. Finalmente filtra la `lista` `palabras` para tener una nueva lista que será la `lista` usada para el concurso.\n",
        "\n",
        "> **Tip #1**: Las `strings` pueden ser accedas igual que las listas, así que si quieres acceder a la primera letra de una palabra basta con usar `palabra[0]`, como si fuera el primer índice de una `lista`.\n",
        "\n",
        "> **Tip #2**: Hasta ahora sólo hemos usando operadores `lógicos` con 1 o 2 comparaciones. Juntar más de dos comparaciones es tan fácil como escribir: \n",
        "\n",
        "```python\n",
        "comparacion_1 or comparacion_2 or comparacion_3 or comparacion_4\n",
        "```"
      ]
    },
    {
      "cell_type": "code",
      "metadata": {
        "id": "6xiryUMRJwF-"
      },
      "source": [
        "def palabra_l(letra):\n",
        "  if letra[0]== \"l\":  \n",
        "    return True"
      ],
      "execution_count": 23,
      "outputs": []
    },
    {
      "cell_type": "code",
      "metadata": {
        "id": "z5oQ349DJwF_"
      },
      "source": [
        "def palabra_g(letra):\n",
        "  if letra[0]== \"g\":  \n",
        "    return True"
      ],
      "execution_count": 24,
      "outputs": []
    },
    {
      "cell_type": "code",
      "metadata": {
        "id": "ls0iAlKUJwF_"
      },
      "source": [
        "def palabra_b(letra):\n",
        "  if letra[0]== \"b\":  \n",
        "    return True"
      ],
      "execution_count": 25,
      "outputs": []
    },
    {
      "cell_type": "code",
      "metadata": {
        "id": "PeoJreF-JwGA"
      },
      "source": [
        "def palabra_t(letra):\n",
        "  if letra[0]== \"t\":  \n",
        "    return True"
      ],
      "execution_count": 26,
      "outputs": []
    },
    {
      "cell_type": "code",
      "metadata": {
        "id": "dc3kgiHeJwGA"
      },
      "source": [
        "def union(letra):\n",
        "  if palabra_l(letra) or palabra_g(letra) or palabra_b(letra) or palabra_t(letra):\n",
        "    return True"
      ],
      "execution_count": 30,
      "outputs": []
    },
    {
      "cell_type": "code",
      "metadata": {
        "id": "iHbT6RyxJwGB"
      },
      "source": [
        "palabras_filtradas = list(filter(union, palabras))"
      ],
      "execution_count": 31,
      "outputs": []
    },
    {
      "cell_type": "code",
      "metadata": {
        "id": "srKe-rreJwGB",
        "outputId": "261df6ae-8f18-48aa-86e4-5e9c20322270",
        "colab": {
          "base_uri": "https://localhost:8080/"
        }
      },
      "source": [
        "print(f'==Concurso Nacional de Deletreo \"Salvador Novo\"==\\n')\n",
        "print(f'Lista oficial de palabras: {palabras_filtradas}')"
      ],
      "execution_count": 32,
      "outputs": [
        {
          "output_type": "stream",
          "text": [
            "==Concurso Nacional de Deletreo \"Salvador Novo\"==\n",
            "\n",
            "Lista oficial de palabras: ['genocidio', 'bálsamo', 'boicotear', 'letargo', 'tentáculo', 'legislar', 'gnomo', 'blasfemia', 'lloriquear', 'libélula', 'llovizna', 'gargantilla', 'bóveda', 'tecnicismo', 'terraplén', 'basílica']\n"
          ],
          "name": "stdout"
        }
      ]
    },
    {
      "cell_type": "markdown",
      "metadata": {
        "id": "4ktLihNdJwGC"
      },
      "source": [
        "<details><summary>Solución</summary>\n",
        "\n",
        "```python\n",
        "def palabra_comienza_con_l(palabra):\n",
        "    return palabra[0] == \"l\"\n",
        "    \n",
        "def palabra_comienza_con_g(palabra):\n",
        "    return palabra[0] == \"g\"\n",
        "    \n",
        "def palabra_comienza_con_b(palabra):\n",
        "    return palabra[0] == \"b\"\n",
        "    \n",
        "def palabra_comienza_con_t(palabra):\n",
        "    return palabra[0] == \"t\"\n",
        "\n",
        "def palabra_comienza_con_lgbt(palabra):\n",
        "    return palabra_comienza_con_l(palabra) or palabra_comienza_con_g(palabra) or\\\n",
        "           palabra_comienza_con_b(palabra) or palabra_comienza_con_t(palabra)\n",
        "    \n",
        "palabras_filtradas = list(filter(palabra_comienza_con_lgbt, palabras))\n",
        "```\n",
        "    \n",
        "</details>"
      ]
    }
  ]
}