{
  "nbformat": 4,
  "nbformat_minor": 0,
  "metadata": {
    "kernelspec": {
      "display_name": "Python (data_science)",
      "language": "python",
      "name": "data_science"
    },
    "language_info": {
      "codemirror_mode": {
        "name": "ipython",
        "version": 3
      },
      "file_extension": ".py",
      "mimetype": "text/x-python",
      "name": "python",
      "nbconvert_exporter": "python",
      "pygments_lexer": "ipython3",
      "version": "3.8.1"
    },
    "colab": {
      "name": "conectandose.ipynb",
      "provenance": [],
      "include_colab_link": true
    }
  },
  "cells": [
    {
      "cell_type": "markdown",
      "metadata": {
        "id": "view-in-github",
        "colab_type": "text"
      },
      "source": [
        "<a href=\"https://colab.research.google.com/github/AngelicaDC/BEDUpython/blob/main/Sesion-08/conexion_importaciontab.ipynb\" target=\"_parent\"><img src=\"https://colab.research.google.com/assets/colab-badge.svg\" alt=\"Open In Colab\"/></a>"
      ]
    },
    {
      "cell_type": "markdown",
      "metadata": {
        "id": "o4LnpMFVlsZf"
      },
      "source": [
        "## Ejemplo 1: Conectándose a una base de datos remota\n",
        "\n",
        "### 1. Objetivos:\n",
        "    - Usar `mysql-connector-python` para conectarse a una base de datos remota.\n",
        " \n",
        "---\n",
        "    \n",
        "### 2. Desarrollo:"
      ]
    },
    {
      "cell_type": "code",
      "metadata": {
        "id": "fdqYo3uWmyXs",
        "outputId": "326ab1f3-f1a9-403a-af99-6fe300e3edab",
        "colab": {
          "base_uri": "https://localhost:8080/"
        }
      },
      "source": [
        "!pip install mysql-connector-python"
      ],
      "execution_count": 3,
      "outputs": [
        {
          "output_type": "stream",
          "text": [
            "Requirement already satisfied: mysql-connector-python in /usr/local/lib/python3.7/dist-packages (8.0.26)\n",
            "Requirement already satisfied: protobuf>=3.0.0 in /usr/local/lib/python3.7/dist-packages (from mysql-connector-python) (3.17.3)\n",
            "Requirement already satisfied: six>=1.9 in /usr/local/lib/python3.7/dist-packages (from protobuf>=3.0.0->mysql-connector-python) (1.15.0)\n"
          ],
          "name": "stdout"
        }
      ]
    },
    {
      "cell_type": "markdown",
      "metadata": {
        "id": "3WzkkLQBlsZh"
      },
      "source": [
        "#### a) Realizar una conexión y el `cursor`\n",
        "\n",
        "Para conectarnos necesitamos primero importar la librería:"
      ]
    },
    {
      "cell_type": "code",
      "metadata": {
        "id": "Osbm0M4glsZi"
      },
      "source": [
        "import mysql.connector"
      ],
      "execution_count": 16,
      "outputs": []
    },
    {
      "cell_type": "markdown",
      "metadata": {
        "id": "Y1MFdPN4lsZj"
      },
      "source": [
        "Después necesitamos saber la siguiente información acerca de la instancia de MySQL a la que queremos conectarnos:\n",
        "\n",
        "1. Host\n",
        "2. Puerto\n",
        "3. Usuario\n",
        "4. Contraseña\n",
        "5. Base de datos a la que queremos conectarnos (recuerda que MySQL **no** es una base de datos, es un Sistema de Gestión de Bases de Datos; es decir, es software que nos ayuda a organizar bases de datos para que sean de fácil acceso)\n",
        "\n",
        "Todos esos datos los usamos para crear una conexión:"
      ]
    },
    {
      "cell_type": "code",
      "metadata": {
        "id": "wTjze04_lsZj"
      },
      "source": [
        "# Llenar esta información con los datos que te compartan los ingenieros de Bedu\n",
        "\n",
        "cnx = mysql.connector.connect(\n",
        "    host=\"ec2-34-222-235-52.us-west-2.compute.amazonaws.com\",\n",
        "    port=3306,\n",
        "    user=\"data\",\n",
        "    password='khQ9--mp6LWq97iA',\n",
        "    database='movielens'\n",
        ")"
      ],
      "execution_count": 15,
      "outputs": []
    },
    {
      "cell_type": "markdown",
      "metadata": {
        "id": "cnmGkK4dlsZk"
      },
      "source": [
        "Ahora, para poder realizar lecturas a nuestra base de datos, tenemos que crear un objeto llamado `cursor`:"
      ]
    },
    {
      "cell_type": "code",
      "metadata": {
        "id": "Wm6-TPtRlsZl"
      },
      "source": [
        "cursor = cnx.cursor()"
      ],
      "execution_count": 17,
      "outputs": []
    },
    {
      "cell_type": "code",
      "metadata": {
        "id": "-sW26tSdnbfR",
        "outputId": "51201ebb-0ba4-428b-f273-f840e293d3b2",
        "colab": {
          "base_uri": "https://localhost:8080/"
        }
      },
      "source": [
        "type(cursor)"
      ],
      "execution_count": 18,
      "outputs": [
        {
          "output_type": "execute_result",
          "data": {
            "text/plain": [
              "mysql.connector.cursor_cext.CMySQLCursor"
            ]
          },
          "metadata": {
            "tags": []
          },
          "execution_count": 18
        }
      ]
    },
    {
      "cell_type": "markdown",
      "metadata": {
        "id": "dxvhRZMHlsZm"
      },
      "source": [
        "Éste objeto lo podemos usar para realizar cualquier consulta en lenguaje SQL. Por ejemplo, veamos qué tablas existen en nuestra base de datos:"
      ]
    },
    {
      "cell_type": "code",
      "metadata": {
        "id": "Q7ovWJVTlsZm"
      },
      "source": [
        "cursor.execute(\"SHOW TABLES\")"
      ],
      "execution_count": 19,
      "outputs": []
    },
    {
      "cell_type": "markdown",
      "metadata": {
        "id": "faKb2Uo8lsZn"
      },
      "source": [
        "Después de ejecutar el comando, tenemos que extraer la información de esta manera:"
      ]
    },
    {
      "cell_type": "code",
      "metadata": {
        "id": "H9X4k9GDlsZo"
      },
      "source": [
        "result = cursor.fetchall()"
      ],
      "execution_count": 20,
      "outputs": []
    },
    {
      "cell_type": "code",
      "metadata": {
        "id": "SkzN8wtalsZo",
        "outputId": "8d6da644-f7bd-4663-d757-2c460007997b",
        "colab": {
          "base_uri": "https://localhost:8080/"
        }
      },
      "source": [
        "result"
      ],
      "execution_count": 21,
      "outputs": [
        {
          "output_type": "execute_result",
          "data": {
            "text/plain": [
              "[('age_ranges',), ('movies',), ('occupations',), ('ratings',), ('users',)]"
            ]
          },
          "metadata": {
            "tags": []
          },
          "execution_count": 21
        }
      ]
    },
    {
      "cell_type": "markdown",
      "metadata": {
        "id": "ljHS4h3ElsZo"
      },
      "source": [
        "Listo. Sabemos que tenemos 5 tablas en nuestra base de datos."
      ]
    },
    {
      "cell_type": "markdown",
      "metadata": {
        "id": "7R7pshH5lsZp"
      },
      "source": [
        "Por último, es importante cerrar nuestro `cursor` para no utilizar memoria extra en nuestra computadora:"
      ]
    },
    {
      "cell_type": "code",
      "metadata": {
        "id": "VlwLynKElsZp",
        "outputId": "63cc5d5a-800a-4c24-a217-28b6bef46f31",
        "colab": {
          "base_uri": "https://localhost:8080/"
        }
      },
      "source": [
        "cursor.close()"
      ],
      "execution_count": 12,
      "outputs": [
        {
          "output_type": "execute_result",
          "data": {
            "text/plain": [
              "True"
            ]
          },
          "metadata": {
            "tags": []
          },
          "execution_count": 12
        }
      ]
    },
    {
      "cell_type": "code",
      "metadata": {
        "id": "ADRrNH9-ogjM"
      },
      "source": [
        "import pandas as pd"
      ],
      "execution_count": 22,
      "outputs": []
    },
    {
      "cell_type": "code",
      "metadata": {
        "id": "9LP28nNeohoa"
      },
      "source": [
        "query = \"INSERT INTO nombrecitos (col1, col2) VALUES (%s, %s)\"\n",
        "data = [\n",
        "        (\"rafael\", \"arias\"),\n",
        "        (\"angelica\", \"dominguez\")]"
      ],
      "execution_count": null,
      "outputs": []
    },
    {
      "cell_type": "code",
      "metadata": {
        "id": "vobE7OeQpr2Q",
        "outputId": "eb20a3f3-de30-4ebf-fee5-8915a238d9ab",
        "colab": {
          "base_uri": "https://localhost:8080/"
        }
      },
      "source": [
        "cursor = cnx.cursor()\n",
        "cursor.execute(\"SELECT * FROM users\")\n",
        "result = cursor.fetchall()\n",
        "df_users = pd.DataFrame(result, columns=['user_id', 'gender', 'age', 'occupation', 'cp'])\n",
        "\n",
        "cursor.execute(\"SELECT * FROM movies\")\n",
        "result = cursor.fetchall()\n",
        "df_movies = pd.DataFrame(result, columns=['movie_id', 'title', 'genres'])\n",
        "\n",
        "cursor.execute(\"SELECT * FROM ratings\")\n",
        "result = cursor.fetchall()\n",
        "df_ratings = pd.DataFrame(result, columns=['user_id', 'movie_id', 'rating', 'timestamp'])\n",
        "\n",
        "cursor.execute(\"SELECT * FROM occupations\")\n",
        "result = cursor.fetchall()\n",
        "df_occupations = pd.DataFrame(result, columns=['occupation_id', 'description'])\n",
        "\n",
        "cursor.execute(\"SELECT * FROM age_ranges\")\n",
        "result = cursor.fetchall()\n",
        "df_age_ranges = pd.DataFrame(result, columns=['age_id', 'age_range'])\n",
        "\n",
        "cursor.close()"
      ],
      "execution_count": 40,
      "outputs": [
        {
          "output_type": "execute_result",
          "data": {
            "text/plain": [
              "True"
            ]
          },
          "metadata": {
            "tags": []
          },
          "execution_count": 40
        }
      ]
    },
    {
      "cell_type": "code",
      "metadata": {
        "id": "q-DHU7IOqNlR",
        "outputId": "af504f07-ce5f-4513-9e8c-5d6837db1f23",
        "colab": {
          "base_uri": "https://localhost:8080/",
          "height": 455
        }
      },
      "source": [
        "df_users = df_users.set_index('user_id', drop=True)\n",
        "df_users"
      ],
      "execution_count": 41,
      "outputs": [
        {
          "output_type": "execute_result",
          "data": {
            "text/html": [
              "<div>\n",
              "<style scoped>\n",
              "    .dataframe tbody tr th:only-of-type {\n",
              "        vertical-align: middle;\n",
              "    }\n",
              "\n",
              "    .dataframe tbody tr th {\n",
              "        vertical-align: top;\n",
              "    }\n",
              "\n",
              "    .dataframe thead th {\n",
              "        text-align: right;\n",
              "    }\n",
              "</style>\n",
              "<table border=\"1\" class=\"dataframe\">\n",
              "  <thead>\n",
              "    <tr style=\"text-align: right;\">\n",
              "      <th></th>\n",
              "      <th>gender</th>\n",
              "      <th>age</th>\n",
              "      <th>occupation</th>\n",
              "      <th>cp</th>\n",
              "    </tr>\n",
              "    <tr>\n",
              "      <th>user_id</th>\n",
              "      <th></th>\n",
              "      <th></th>\n",
              "      <th></th>\n",
              "      <th></th>\n",
              "    </tr>\n",
              "  </thead>\n",
              "  <tbody>\n",
              "    <tr>\n",
              "      <th>1</th>\n",
              "      <td>F</td>\n",
              "      <td>1</td>\n",
              "      <td>10</td>\n",
              "      <td>48067</td>\n",
              "    </tr>\n",
              "    <tr>\n",
              "      <th>2</th>\n",
              "      <td>M</td>\n",
              "      <td>56</td>\n",
              "      <td>16</td>\n",
              "      <td>70072</td>\n",
              "    </tr>\n",
              "    <tr>\n",
              "      <th>3</th>\n",
              "      <td>M</td>\n",
              "      <td>25</td>\n",
              "      <td>15</td>\n",
              "      <td>55117</td>\n",
              "    </tr>\n",
              "    <tr>\n",
              "      <th>4</th>\n",
              "      <td>M</td>\n",
              "      <td>45</td>\n",
              "      <td>7</td>\n",
              "      <td>02460</td>\n",
              "    </tr>\n",
              "    <tr>\n",
              "      <th>5</th>\n",
              "      <td>M</td>\n",
              "      <td>25</td>\n",
              "      <td>20</td>\n",
              "      <td>55455</td>\n",
              "    </tr>\n",
              "    <tr>\n",
              "      <th>...</th>\n",
              "      <td>...</td>\n",
              "      <td>...</td>\n",
              "      <td>...</td>\n",
              "      <td>...</td>\n",
              "    </tr>\n",
              "    <tr>\n",
              "      <th>6036</th>\n",
              "      <td>F</td>\n",
              "      <td>25</td>\n",
              "      <td>15</td>\n",
              "      <td>32603</td>\n",
              "    </tr>\n",
              "    <tr>\n",
              "      <th>6037</th>\n",
              "      <td>F</td>\n",
              "      <td>45</td>\n",
              "      <td>1</td>\n",
              "      <td>76006</td>\n",
              "    </tr>\n",
              "    <tr>\n",
              "      <th>6038</th>\n",
              "      <td>F</td>\n",
              "      <td>56</td>\n",
              "      <td>1</td>\n",
              "      <td>14706</td>\n",
              "    </tr>\n",
              "    <tr>\n",
              "      <th>6039</th>\n",
              "      <td>F</td>\n",
              "      <td>45</td>\n",
              "      <td>0</td>\n",
              "      <td>01060</td>\n",
              "    </tr>\n",
              "    <tr>\n",
              "      <th>6040</th>\n",
              "      <td>M</td>\n",
              "      <td>25</td>\n",
              "      <td>6</td>\n",
              "      <td>11106</td>\n",
              "    </tr>\n",
              "  </tbody>\n",
              "</table>\n",
              "<p>6040 rows × 4 columns</p>\n",
              "</div>"
            ],
            "text/plain": [
              "        gender  age  occupation     cp\n",
              "user_id                               \n",
              "1            F    1          10  48067\n",
              "2            M   56          16  70072\n",
              "3            M   25          15  55117\n",
              "4            M   45           7  02460\n",
              "5            M   25          20  55455\n",
              "...        ...  ...         ...    ...\n",
              "6036         F   25          15  32603\n",
              "6037         F   45           1  76006\n",
              "6038         F   56           1  14706\n",
              "6039         F   45           0  01060\n",
              "6040         M   25           6  11106\n",
              "\n",
              "[6040 rows x 4 columns]"
            ]
          },
          "metadata": {
            "tags": []
          },
          "execution_count": 41
        }
      ]
    },
    {
      "cell_type": "code",
      "metadata": {
        "id": "ghCoTaX5qU77",
        "outputId": "8699309f-bc9d-46d6-8709-3ad780332731",
        "colab": {
          "base_uri": "https://localhost:8080/",
          "height": 455
        }
      },
      "source": [
        "df_movies = df_movies.set_index('movie_id', drop=True)\n",
        "df_movies"
      ],
      "execution_count": 42,
      "outputs": [
        {
          "output_type": "execute_result",
          "data": {
            "text/html": [
              "<div>\n",
              "<style scoped>\n",
              "    .dataframe tbody tr th:only-of-type {\n",
              "        vertical-align: middle;\n",
              "    }\n",
              "\n",
              "    .dataframe tbody tr th {\n",
              "        vertical-align: top;\n",
              "    }\n",
              "\n",
              "    .dataframe thead th {\n",
              "        text-align: right;\n",
              "    }\n",
              "</style>\n",
              "<table border=\"1\" class=\"dataframe\">\n",
              "  <thead>\n",
              "    <tr style=\"text-align: right;\">\n",
              "      <th></th>\n",
              "      <th>title</th>\n",
              "      <th>genres</th>\n",
              "    </tr>\n",
              "    <tr>\n",
              "      <th>movie_id</th>\n",
              "      <th></th>\n",
              "      <th></th>\n",
              "    </tr>\n",
              "  </thead>\n",
              "  <tbody>\n",
              "    <tr>\n",
              "      <th>1</th>\n",
              "      <td>Toy Story (1995)</td>\n",
              "      <td>Animation|Children's|Comedy</td>\n",
              "    </tr>\n",
              "    <tr>\n",
              "      <th>2</th>\n",
              "      <td>Jumanji (1995)</td>\n",
              "      <td>Adventure|Children's|Fantasy</td>\n",
              "    </tr>\n",
              "    <tr>\n",
              "      <th>3</th>\n",
              "      <td>Grumpier Old Men (1995)</td>\n",
              "      <td>Comedy|Romance</td>\n",
              "    </tr>\n",
              "    <tr>\n",
              "      <th>4</th>\n",
              "      <td>Waiting to Exhale (1995)</td>\n",
              "      <td>Comedy|Drama</td>\n",
              "    </tr>\n",
              "    <tr>\n",
              "      <th>5</th>\n",
              "      <td>Father of the Bride Part II (1995)</td>\n",
              "      <td>Comedy</td>\n",
              "    </tr>\n",
              "    <tr>\n",
              "      <th>...</th>\n",
              "      <td>...</td>\n",
              "      <td>...</td>\n",
              "    </tr>\n",
              "    <tr>\n",
              "      <th>3948</th>\n",
              "      <td>Meet the Parents (2000)</td>\n",
              "      <td>Comedy</td>\n",
              "    </tr>\n",
              "    <tr>\n",
              "      <th>3949</th>\n",
              "      <td>Requiem for a Dream (2000)</td>\n",
              "      <td>Drama</td>\n",
              "    </tr>\n",
              "    <tr>\n",
              "      <th>3950</th>\n",
              "      <td>Tigerland (2000)</td>\n",
              "      <td>Drama</td>\n",
              "    </tr>\n",
              "    <tr>\n",
              "      <th>3951</th>\n",
              "      <td>Two Family House (2000)</td>\n",
              "      <td>Drama</td>\n",
              "    </tr>\n",
              "    <tr>\n",
              "      <th>3952</th>\n",
              "      <td>Contender, The (2000)</td>\n",
              "      <td>Drama|Thriller</td>\n",
              "    </tr>\n",
              "  </tbody>\n",
              "</table>\n",
              "<p>3883 rows × 2 columns</p>\n",
              "</div>"
            ],
            "text/plain": [
              "                                       title                        genres\n",
              "movie_id                                                                  \n",
              "1                           Toy Story (1995)   Animation|Children's|Comedy\n",
              "2                             Jumanji (1995)  Adventure|Children's|Fantasy\n",
              "3                    Grumpier Old Men (1995)                Comedy|Romance\n",
              "4                   Waiting to Exhale (1995)                  Comedy|Drama\n",
              "5         Father of the Bride Part II (1995)                        Comedy\n",
              "...                                      ...                           ...\n",
              "3948                 Meet the Parents (2000)                        Comedy\n",
              "3949              Requiem for a Dream (2000)                         Drama\n",
              "3950                        Tigerland (2000)                         Drama\n",
              "3951                 Two Family House (2000)                         Drama\n",
              "3952                   Contender, The (2000)                Drama|Thriller\n",
              "\n",
              "[3883 rows x 2 columns]"
            ]
          },
          "metadata": {
            "tags": []
          },
          "execution_count": 42
        }
      ]
    },
    {
      "cell_type": "code",
      "metadata": {
        "id": "K-e1tiLJtzDc",
        "outputId": "631dd5b2-92ee-4180-b9a9-3e8692422516",
        "colab": {
          "base_uri": "https://localhost:8080/",
          "height": 739
        }
      },
      "source": [
        "df_occupations = df_occupations.set_index('occupation_id', drop=True)\n",
        "df_occupations"
      ],
      "execution_count": 43,
      "outputs": [
        {
          "output_type": "execute_result",
          "data": {
            "text/html": [
              "<div>\n",
              "<style scoped>\n",
              "    .dataframe tbody tr th:only-of-type {\n",
              "        vertical-align: middle;\n",
              "    }\n",
              "\n",
              "    .dataframe tbody tr th {\n",
              "        vertical-align: top;\n",
              "    }\n",
              "\n",
              "    .dataframe thead th {\n",
              "        text-align: right;\n",
              "    }\n",
              "</style>\n",
              "<table border=\"1\" class=\"dataframe\">\n",
              "  <thead>\n",
              "    <tr style=\"text-align: right;\">\n",
              "      <th></th>\n",
              "      <th>description</th>\n",
              "    </tr>\n",
              "    <tr>\n",
              "      <th>occupation_id</th>\n",
              "      <th></th>\n",
              "    </tr>\n",
              "  </thead>\n",
              "  <tbody>\n",
              "    <tr>\n",
              "      <th>0</th>\n",
              "      <td>other or not specified</td>\n",
              "    </tr>\n",
              "    <tr>\n",
              "      <th>1</th>\n",
              "      <td>academic/educator</td>\n",
              "    </tr>\n",
              "    <tr>\n",
              "      <th>2</th>\n",
              "      <td>artist</td>\n",
              "    </tr>\n",
              "    <tr>\n",
              "      <th>3</th>\n",
              "      <td>clerical/admin</td>\n",
              "    </tr>\n",
              "    <tr>\n",
              "      <th>4</th>\n",
              "      <td>college/grad student</td>\n",
              "    </tr>\n",
              "    <tr>\n",
              "      <th>5</th>\n",
              "      <td>customer service</td>\n",
              "    </tr>\n",
              "    <tr>\n",
              "      <th>6</th>\n",
              "      <td>doctor/health care</td>\n",
              "    </tr>\n",
              "    <tr>\n",
              "      <th>7</th>\n",
              "      <td>executive/managerial</td>\n",
              "    </tr>\n",
              "    <tr>\n",
              "      <th>8</th>\n",
              "      <td>farmer</td>\n",
              "    </tr>\n",
              "    <tr>\n",
              "      <th>9</th>\n",
              "      <td>homemaker</td>\n",
              "    </tr>\n",
              "    <tr>\n",
              "      <th>10</th>\n",
              "      <td>K-12 student</td>\n",
              "    </tr>\n",
              "    <tr>\n",
              "      <th>11</th>\n",
              "      <td>lawyer</td>\n",
              "    </tr>\n",
              "    <tr>\n",
              "      <th>12</th>\n",
              "      <td>programmer</td>\n",
              "    </tr>\n",
              "    <tr>\n",
              "      <th>13</th>\n",
              "      <td>retired</td>\n",
              "    </tr>\n",
              "    <tr>\n",
              "      <th>14</th>\n",
              "      <td>sales/marketing</td>\n",
              "    </tr>\n",
              "    <tr>\n",
              "      <th>15</th>\n",
              "      <td>scientist</td>\n",
              "    </tr>\n",
              "    <tr>\n",
              "      <th>16</th>\n",
              "      <td>self-employed</td>\n",
              "    </tr>\n",
              "    <tr>\n",
              "      <th>17</th>\n",
              "      <td>technician/engineer</td>\n",
              "    </tr>\n",
              "    <tr>\n",
              "      <th>18</th>\n",
              "      <td>tradesman/craftsman</td>\n",
              "    </tr>\n",
              "    <tr>\n",
              "      <th>19</th>\n",
              "      <td>unemployed</td>\n",
              "    </tr>\n",
              "    <tr>\n",
              "      <th>20</th>\n",
              "      <td>writer</td>\n",
              "    </tr>\n",
              "  </tbody>\n",
              "</table>\n",
              "</div>"
            ],
            "text/plain": [
              "                          description\n",
              "occupation_id                        \n",
              "0              other or not specified\n",
              "1                   academic/educator\n",
              "2                              artist\n",
              "3                      clerical/admin\n",
              "4                college/grad student\n",
              "5                    customer service\n",
              "6                  doctor/health care\n",
              "7                executive/managerial\n",
              "8                              farmer\n",
              "9                           homemaker\n",
              "10                       K-12 student\n",
              "11                             lawyer\n",
              "12                         programmer\n",
              "13                            retired\n",
              "14                    sales/marketing\n",
              "15                          scientist\n",
              "16                      self-employed\n",
              "17                technician/engineer\n",
              "18                tradesman/craftsman\n",
              "19                         unemployed\n",
              "20                             writer"
            ]
          },
          "metadata": {
            "tags": []
          },
          "execution_count": 43
        }
      ]
    },
    {
      "cell_type": "code",
      "metadata": {
        "id": "zYgsruDlt76T",
        "outputId": "ad42fbc1-ede8-4964-996a-c605ed9e376b",
        "colab": {
          "base_uri": "https://localhost:8080/",
          "height": 300
        }
      },
      "source": [
        "df_age_ranges = df_age_ranges.set_index('age_id', drop=True)\n",
        "df_age_ranges"
      ],
      "execution_count": 44,
      "outputs": [
        {
          "output_type": "execute_result",
          "data": {
            "text/html": [
              "<div>\n",
              "<style scoped>\n",
              "    .dataframe tbody tr th:only-of-type {\n",
              "        vertical-align: middle;\n",
              "    }\n",
              "\n",
              "    .dataframe tbody tr th {\n",
              "        vertical-align: top;\n",
              "    }\n",
              "\n",
              "    .dataframe thead th {\n",
              "        text-align: right;\n",
              "    }\n",
              "</style>\n",
              "<table border=\"1\" class=\"dataframe\">\n",
              "  <thead>\n",
              "    <tr style=\"text-align: right;\">\n",
              "      <th></th>\n",
              "      <th>age_range</th>\n",
              "    </tr>\n",
              "    <tr>\n",
              "      <th>age_id</th>\n",
              "      <th></th>\n",
              "    </tr>\n",
              "  </thead>\n",
              "  <tbody>\n",
              "    <tr>\n",
              "      <th>1</th>\n",
              "      <td>Under 18</td>\n",
              "    </tr>\n",
              "    <tr>\n",
              "      <th>18</th>\n",
              "      <td>18-24</td>\n",
              "    </tr>\n",
              "    <tr>\n",
              "      <th>25</th>\n",
              "      <td>25-34</td>\n",
              "    </tr>\n",
              "    <tr>\n",
              "      <th>35</th>\n",
              "      <td>35-44</td>\n",
              "    </tr>\n",
              "    <tr>\n",
              "      <th>45</th>\n",
              "      <td>45-49</td>\n",
              "    </tr>\n",
              "    <tr>\n",
              "      <th>50</th>\n",
              "      <td>50-55</td>\n",
              "    </tr>\n",
              "    <tr>\n",
              "      <th>56</th>\n",
              "      <td>56+</td>\n",
              "    </tr>\n",
              "  </tbody>\n",
              "</table>\n",
              "</div>"
            ],
            "text/plain": [
              "       age_range\n",
              "age_id          \n",
              "1       Under 18\n",
              "18         18-24\n",
              "25         25-34\n",
              "35         35-44\n",
              "45         45-49\n",
              "50         50-55\n",
              "56           56+"
            ]
          },
          "metadata": {
            "tags": []
          },
          "execution_count": 44
        }
      ]
    },
    {
      "cell_type": "code",
      "metadata": {
        "id": "-gTH1dx2udkr"
      },
      "source": [
        ""
      ],
      "execution_count": null,
      "outputs": []
    }
  ]
}