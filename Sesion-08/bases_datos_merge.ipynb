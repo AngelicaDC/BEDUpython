{
  "nbformat": 4,
  "nbformat_minor": 0,
  "metadata": {
    "kernelspec": {
      "display_name": "Python (data_science)",
      "language": "python",
      "name": "data_science"
    },
    "language_info": {
      "codemirror_mode": {
        "name": "ipython",
        "version": 3
      },
      "file_extension": ".py",
      "mimetype": "text/x-python",
      "name": "python",
      "nbconvert_exporter": "python",
      "pygments_lexer": "ipython3",
      "version": "3.8.1"
    },
    "colab": {
      "name": "conectandose.ipynb",
      "provenance": []
    }
  },
  "cells": [
    {
      "cell_type": "markdown",
      "metadata": {
        "id": "o4LnpMFVlsZf"
      },
      "source": [
        "## Ejemplo 1: Conectándose a una base de datos remota\n",
        "\n",
        "### 1. Objetivos:\n",
        "    - Usar `mysql-connector-python` para conectarse a una base de datos remota.\n",
        " \n",
        "---\n",
        "    \n",
        "### 2. Desarrollo:"
      ]
    },
    {
      "cell_type": "code",
      "metadata": {
        "colab": {
          "base_uri": "https://localhost:8080/"
        },
        "id": "fdqYo3uWmyXs",
        "outputId": "326ab1f3-f1a9-403a-af99-6fe300e3edab"
      },
      "source": [
        "!pip install mysql-connector-python"
      ],
      "execution_count": 3,
      "outputs": [
        {
          "output_type": "stream",
          "text": [
            "Requirement already satisfied: mysql-connector-python in /usr/local/lib/python3.7/dist-packages (8.0.26)\n",
            "Requirement already satisfied: protobuf>=3.0.0 in /usr/local/lib/python3.7/dist-packages (from mysql-connector-python) (3.17.3)\n",
            "Requirement already satisfied: six>=1.9 in /usr/local/lib/python3.7/dist-packages (from protobuf>=3.0.0->mysql-connector-python) (1.15.0)\n"
          ],
          "name": "stdout"
        }
      ]
    },
    {
      "cell_type": "markdown",
      "metadata": {
        "id": "3WzkkLQBlsZh"
      },
      "source": [
        "#### a) Realizar una conexión y el `cursor`\n",
        "\n",
        "Para conectarnos necesitamos primero importar la librería:"
      ]
    },
    {
      "cell_type": "code",
      "metadata": {
        "id": "Osbm0M4glsZi"
      },
      "source": [
        "import mysql.connector"
      ],
      "execution_count": 16,
      "outputs": []
    },
    {
      "cell_type": "markdown",
      "metadata": {
        "id": "Y1MFdPN4lsZj"
      },
      "source": [
        "Después necesitamos saber la siguiente información acerca de la instancia de MySQL a la que queremos conectarnos:\n",
        "\n",
        "1. Host\n",
        "2. Puerto\n",
        "3. Usuario\n",
        "4. Contraseña\n",
        "5. Base de datos a la que queremos conectarnos (recuerda que MySQL **no** es una base de datos, es un Sistema de Gestión de Bases de Datos; es decir, es software que nos ayuda a organizar bases de datos para que sean de fácil acceso)\n",
        "\n",
        "Todos esos datos los usamos para crear una conexión:"
      ]
    },
    {
      "cell_type": "code",
      "metadata": {
        "id": "wTjze04_lsZj"
      },
      "source": [
        "# Llenar esta información con los datos que te compartan los ingenieros de Bedu\n",
        "\n",
        "cnx = mysql.connector.connect(\n",
        "    host=\"ec2-34-222-235-52.us-west-2.compute.amazonaws.com\",\n",
        "    port=3306,\n",
        "    user=\"data\",\n",
        "    password='khQ9--mp6LWq97iA',\n",
        "    database='movielens'\n",
        ")"
      ],
      "execution_count": 15,
      "outputs": []
    },
    {
      "cell_type": "markdown",
      "metadata": {
        "id": "cnmGkK4dlsZk"
      },
      "source": [
        "Ahora, para poder realizar lecturas a nuestra base de datos, tenemos que crear un objeto llamado `cursor`:"
      ]
    },
    {
      "cell_type": "code",
      "metadata": {
        "id": "Wm6-TPtRlsZl"
      },
      "source": [
        "cursor = cnx.cursor()"
      ],
      "execution_count": 17,
      "outputs": []
    },
    {
      "cell_type": "code",
      "metadata": {
        "colab": {
          "base_uri": "https://localhost:8080/"
        },
        "id": "-sW26tSdnbfR",
        "outputId": "51201ebb-0ba4-428b-f273-f840e293d3b2"
      },
      "source": [
        "type(cursor)"
      ],
      "execution_count": 18,
      "outputs": [
        {
          "output_type": "execute_result",
          "data": {
            "text/plain": [
              "mysql.connector.cursor_cext.CMySQLCursor"
            ]
          },
          "metadata": {
            "tags": []
          },
          "execution_count": 18
        }
      ]
    },
    {
      "cell_type": "markdown",
      "metadata": {
        "id": "dxvhRZMHlsZm"
      },
      "source": [
        "Éste objeto lo podemos usar para realizar cualquier consulta en lenguaje SQL. Por ejemplo, veamos qué tablas existen en nuestra base de datos:"
      ]
    },
    {
      "cell_type": "code",
      "metadata": {
        "id": "Q7ovWJVTlsZm"
      },
      "source": [
        "cursor.execute(\"SHOW TABLES\")"
      ],
      "execution_count": 19,
      "outputs": []
    },
    {
      "cell_type": "markdown",
      "metadata": {
        "id": "faKb2Uo8lsZn"
      },
      "source": [
        "Después de ejecutar el comando, tenemos que extraer la información de esta manera:"
      ]
    },
    {
      "cell_type": "code",
      "metadata": {
        "id": "H9X4k9GDlsZo"
      },
      "source": [
        "result = cursor.fetchall()"
      ],
      "execution_count": 20,
      "outputs": []
    },
    {
      "cell_type": "code",
      "metadata": {
        "colab": {
          "base_uri": "https://localhost:8080/"
        },
        "id": "SkzN8wtalsZo",
        "outputId": "8d6da644-f7bd-4663-d757-2c460007997b"
      },
      "source": [
        "result"
      ],
      "execution_count": 21,
      "outputs": [
        {
          "output_type": "execute_result",
          "data": {
            "text/plain": [
              "[('age_ranges',), ('movies',), ('occupations',), ('ratings',), ('users',)]"
            ]
          },
          "metadata": {
            "tags": []
          },
          "execution_count": 21
        }
      ]
    },
    {
      "cell_type": "markdown",
      "metadata": {
        "id": "ljHS4h3ElsZo"
      },
      "source": [
        "Listo. Sabemos que tenemos 5 tablas en nuestra base de datos."
      ]
    },
    {
      "cell_type": "markdown",
      "metadata": {
        "id": "7R7pshH5lsZp"
      },
      "source": [
        "Por último, es importante cerrar nuestro `cursor` para no utilizar memoria extra en nuestra computadora:"
      ]
    },
    {
      "cell_type": "code",
      "metadata": {
        "colab": {
          "base_uri": "https://localhost:8080/"
        },
        "id": "VlwLynKElsZp",
        "outputId": "63cc5d5a-800a-4c24-a217-28b6bef46f31"
      },
      "source": [
        "cursor.close()"
      ],
      "execution_count": 12,
      "outputs": [
        {
          "output_type": "execute_result",
          "data": {
            "text/plain": [
              "True"
            ]
          },
          "metadata": {
            "tags": []
          },
          "execution_count": 12
        }
      ]
    },
    {
      "cell_type": "code",
      "metadata": {
        "id": "ADRrNH9-ogjM"
      },
      "source": [
        "import pandas as pd"
      ],
      "execution_count": 22,
      "outputs": []
    },
    {
      "cell_type": "code",
      "metadata": {
        "id": "9LP28nNeohoa"
      },
      "source": [
        "query = \"INSERT INTO nombrecitos (col1, col2) VALUES (%s, %s)\"\n",
        "data = [\n",
        "        (\"rafael\", \"arias\"),\n",
        "        (\"angelica\", \"dominguez\")]"
      ],
      "execution_count": null,
      "outputs": []
    },
    {
      "cell_type": "code",
      "metadata": {
        "colab": {
          "base_uri": "https://localhost:8080/"
        },
        "id": "vobE7OeQpr2Q",
        "outputId": "55093e7c-a2c3-4554-965b-87e6a0d2d6be"
      },
      "source": [
        "#RETO 2\n",
        "cursor = cnx.cursor()\n",
        "cursor.execute(\"SELECT * FROM users\")\n",
        "result = cursor.fetchall()\n",
        "df_users = pd.DataFrame(result, columns=['user_id', 'gender', 'age', 'occupation', 'cp'])\n",
        "\n",
        "cursor.execute(\"SELECT * FROM movies\")\n",
        "result = cursor.fetchall()\n",
        "df_movies = pd.DataFrame(result, columns=['movie_id', 'title', 'genres'])\n",
        "\n",
        "cursor.execute(\"SELECT * FROM ratings\")\n",
        "result = cursor.fetchall()\n",
        "df_ratings = pd.DataFrame(result, columns=['user_id', 'movie_id', 'rating', 'timestamp'])\n",
        "\n",
        "cursor.execute(\"SELECT * FROM occupations\")\n",
        "result = cursor.fetchall()\n",
        "df_occupations = pd.DataFrame(result, columns=['occupation_id', 'description'])\n",
        "\n",
        "cursor.execute(\"SELECT * FROM age_ranges\")\n",
        "result = cursor.fetchall()\n",
        "df_age_ranges = pd.DataFrame(result, columns=['age_id', 'age_range'])\n",
        "\n",
        "cursor.close()"
      ],
      "execution_count": 66,
      "outputs": [
        {
          "output_type": "execute_result",
          "data": {
            "text/plain": [
              "True"
            ]
          },
          "metadata": {
            "tags": []
          },
          "execution_count": 66
        }
      ]
    },
    {
      "cell_type": "code",
      "metadata": {
        "colab": {
          "base_uri": "https://localhost:8080/",
          "height": 455
        },
        "id": "q-DHU7IOqNlR",
        "outputId": "54d86022-6998-4b4c-fdb6-99536d2987b7"
      },
      "source": [
        "df_users = df_users.set_index('user_id', drop=True)\n",
        "df_users"
      ],
      "execution_count": 67,
      "outputs": [
        {
          "output_type": "execute_result",
          "data": {
            "text/html": [
              "<div>\n",
              "<style scoped>\n",
              "    .dataframe tbody tr th:only-of-type {\n",
              "        vertical-align: middle;\n",
              "    }\n",
              "\n",
              "    .dataframe tbody tr th {\n",
              "        vertical-align: top;\n",
              "    }\n",
              "\n",
              "    .dataframe thead th {\n",
              "        text-align: right;\n",
              "    }\n",
              "</style>\n",
              "<table border=\"1\" class=\"dataframe\">\n",
              "  <thead>\n",
              "    <tr style=\"text-align: right;\">\n",
              "      <th></th>\n",
              "      <th>gender</th>\n",
              "      <th>age</th>\n",
              "      <th>occupation</th>\n",
              "      <th>cp</th>\n",
              "    </tr>\n",
              "    <tr>\n",
              "      <th>user_id</th>\n",
              "      <th></th>\n",
              "      <th></th>\n",
              "      <th></th>\n",
              "      <th></th>\n",
              "    </tr>\n",
              "  </thead>\n",
              "  <tbody>\n",
              "    <tr>\n",
              "      <th>1</th>\n",
              "      <td>F</td>\n",
              "      <td>1</td>\n",
              "      <td>10</td>\n",
              "      <td>48067</td>\n",
              "    </tr>\n",
              "    <tr>\n",
              "      <th>2</th>\n",
              "      <td>M</td>\n",
              "      <td>56</td>\n",
              "      <td>16</td>\n",
              "      <td>70072</td>\n",
              "    </tr>\n",
              "    <tr>\n",
              "      <th>3</th>\n",
              "      <td>M</td>\n",
              "      <td>25</td>\n",
              "      <td>15</td>\n",
              "      <td>55117</td>\n",
              "    </tr>\n",
              "    <tr>\n",
              "      <th>4</th>\n",
              "      <td>M</td>\n",
              "      <td>45</td>\n",
              "      <td>7</td>\n",
              "      <td>02460</td>\n",
              "    </tr>\n",
              "    <tr>\n",
              "      <th>5</th>\n",
              "      <td>M</td>\n",
              "      <td>25</td>\n",
              "      <td>20</td>\n",
              "      <td>55455</td>\n",
              "    </tr>\n",
              "    <tr>\n",
              "      <th>...</th>\n",
              "      <td>...</td>\n",
              "      <td>...</td>\n",
              "      <td>...</td>\n",
              "      <td>...</td>\n",
              "    </tr>\n",
              "    <tr>\n",
              "      <th>6036</th>\n",
              "      <td>F</td>\n",
              "      <td>25</td>\n",
              "      <td>15</td>\n",
              "      <td>32603</td>\n",
              "    </tr>\n",
              "    <tr>\n",
              "      <th>6037</th>\n",
              "      <td>F</td>\n",
              "      <td>45</td>\n",
              "      <td>1</td>\n",
              "      <td>76006</td>\n",
              "    </tr>\n",
              "    <tr>\n",
              "      <th>6038</th>\n",
              "      <td>F</td>\n",
              "      <td>56</td>\n",
              "      <td>1</td>\n",
              "      <td>14706</td>\n",
              "    </tr>\n",
              "    <tr>\n",
              "      <th>6039</th>\n",
              "      <td>F</td>\n",
              "      <td>45</td>\n",
              "      <td>0</td>\n",
              "      <td>01060</td>\n",
              "    </tr>\n",
              "    <tr>\n",
              "      <th>6040</th>\n",
              "      <td>M</td>\n",
              "      <td>25</td>\n",
              "      <td>6</td>\n",
              "      <td>11106</td>\n",
              "    </tr>\n",
              "  </tbody>\n",
              "</table>\n",
              "<p>6040 rows × 4 columns</p>\n",
              "</div>"
            ],
            "text/plain": [
              "        gender  age  occupation     cp\n",
              "user_id                               \n",
              "1            F    1          10  48067\n",
              "2            M   56          16  70072\n",
              "3            M   25          15  55117\n",
              "4            M   45           7  02460\n",
              "5            M   25          20  55455\n",
              "...        ...  ...         ...    ...\n",
              "6036         F   25          15  32603\n",
              "6037         F   45           1  76006\n",
              "6038         F   56           1  14706\n",
              "6039         F   45           0  01060\n",
              "6040         M   25           6  11106\n",
              "\n",
              "[6040 rows x 4 columns]"
            ]
          },
          "metadata": {
            "tags": []
          },
          "execution_count": 67
        }
      ]
    },
    {
      "cell_type": "code",
      "metadata": {
        "colab": {
          "base_uri": "https://localhost:8080/",
          "height": 455
        },
        "id": "ghCoTaX5qU77",
        "outputId": "18781184-33f1-44b3-8e3e-f8f5bdfbd581"
      },
      "source": [
        "df_movies = df_movies.set_index('movie_id', drop=True)\n",
        "df_movies"
      ],
      "execution_count": 68,
      "outputs": [
        {
          "output_type": "execute_result",
          "data": {
            "text/html": [
              "<div>\n",
              "<style scoped>\n",
              "    .dataframe tbody tr th:only-of-type {\n",
              "        vertical-align: middle;\n",
              "    }\n",
              "\n",
              "    .dataframe tbody tr th {\n",
              "        vertical-align: top;\n",
              "    }\n",
              "\n",
              "    .dataframe thead th {\n",
              "        text-align: right;\n",
              "    }\n",
              "</style>\n",
              "<table border=\"1\" class=\"dataframe\">\n",
              "  <thead>\n",
              "    <tr style=\"text-align: right;\">\n",
              "      <th></th>\n",
              "      <th>title</th>\n",
              "      <th>genres</th>\n",
              "    </tr>\n",
              "    <tr>\n",
              "      <th>movie_id</th>\n",
              "      <th></th>\n",
              "      <th></th>\n",
              "    </tr>\n",
              "  </thead>\n",
              "  <tbody>\n",
              "    <tr>\n",
              "      <th>1</th>\n",
              "      <td>Toy Story (1995)</td>\n",
              "      <td>Animation|Children's|Comedy</td>\n",
              "    </tr>\n",
              "    <tr>\n",
              "      <th>2</th>\n",
              "      <td>Jumanji (1995)</td>\n",
              "      <td>Adventure|Children's|Fantasy</td>\n",
              "    </tr>\n",
              "    <tr>\n",
              "      <th>3</th>\n",
              "      <td>Grumpier Old Men (1995)</td>\n",
              "      <td>Comedy|Romance</td>\n",
              "    </tr>\n",
              "    <tr>\n",
              "      <th>4</th>\n",
              "      <td>Waiting to Exhale (1995)</td>\n",
              "      <td>Comedy|Drama</td>\n",
              "    </tr>\n",
              "    <tr>\n",
              "      <th>5</th>\n",
              "      <td>Father of the Bride Part II (1995)</td>\n",
              "      <td>Comedy</td>\n",
              "    </tr>\n",
              "    <tr>\n",
              "      <th>...</th>\n",
              "      <td>...</td>\n",
              "      <td>...</td>\n",
              "    </tr>\n",
              "    <tr>\n",
              "      <th>3948</th>\n",
              "      <td>Meet the Parents (2000)</td>\n",
              "      <td>Comedy</td>\n",
              "    </tr>\n",
              "    <tr>\n",
              "      <th>3949</th>\n",
              "      <td>Requiem for a Dream (2000)</td>\n",
              "      <td>Drama</td>\n",
              "    </tr>\n",
              "    <tr>\n",
              "      <th>3950</th>\n",
              "      <td>Tigerland (2000)</td>\n",
              "      <td>Drama</td>\n",
              "    </tr>\n",
              "    <tr>\n",
              "      <th>3951</th>\n",
              "      <td>Two Family House (2000)</td>\n",
              "      <td>Drama</td>\n",
              "    </tr>\n",
              "    <tr>\n",
              "      <th>3952</th>\n",
              "      <td>Contender, The (2000)</td>\n",
              "      <td>Drama|Thriller</td>\n",
              "    </tr>\n",
              "  </tbody>\n",
              "</table>\n",
              "<p>3883 rows × 2 columns</p>\n",
              "</div>"
            ],
            "text/plain": [
              "                                       title                        genres\n",
              "movie_id                                                                  \n",
              "1                           Toy Story (1995)   Animation|Children's|Comedy\n",
              "2                             Jumanji (1995)  Adventure|Children's|Fantasy\n",
              "3                    Grumpier Old Men (1995)                Comedy|Romance\n",
              "4                   Waiting to Exhale (1995)                  Comedy|Drama\n",
              "5         Father of the Bride Part II (1995)                        Comedy\n",
              "...                                      ...                           ...\n",
              "3948                 Meet the Parents (2000)                        Comedy\n",
              "3949              Requiem for a Dream (2000)                         Drama\n",
              "3950                        Tigerland (2000)                         Drama\n",
              "3951                 Two Family House (2000)                         Drama\n",
              "3952                   Contender, The (2000)                Drama|Thriller\n",
              "\n",
              "[3883 rows x 2 columns]"
            ]
          },
          "metadata": {
            "tags": []
          },
          "execution_count": 68
        }
      ]
    },
    {
      "cell_type": "code",
      "metadata": {
        "colab": {
          "base_uri": "https://localhost:8080/",
          "height": 739
        },
        "id": "K-e1tiLJtzDc",
        "outputId": "859bf791-b573-46bd-d52c-05d697321d27"
      },
      "source": [
        "df_occupations = df_occupations.set_index('occupation_id', drop=True)\n",
        "df_occupations"
      ],
      "execution_count": 69,
      "outputs": [
        {
          "output_type": "execute_result",
          "data": {
            "text/html": [
              "<div>\n",
              "<style scoped>\n",
              "    .dataframe tbody tr th:only-of-type {\n",
              "        vertical-align: middle;\n",
              "    }\n",
              "\n",
              "    .dataframe tbody tr th {\n",
              "        vertical-align: top;\n",
              "    }\n",
              "\n",
              "    .dataframe thead th {\n",
              "        text-align: right;\n",
              "    }\n",
              "</style>\n",
              "<table border=\"1\" class=\"dataframe\">\n",
              "  <thead>\n",
              "    <tr style=\"text-align: right;\">\n",
              "      <th></th>\n",
              "      <th>description</th>\n",
              "    </tr>\n",
              "    <tr>\n",
              "      <th>occupation_id</th>\n",
              "      <th></th>\n",
              "    </tr>\n",
              "  </thead>\n",
              "  <tbody>\n",
              "    <tr>\n",
              "      <th>0</th>\n",
              "      <td>other or not specified</td>\n",
              "    </tr>\n",
              "    <tr>\n",
              "      <th>1</th>\n",
              "      <td>academic/educator</td>\n",
              "    </tr>\n",
              "    <tr>\n",
              "      <th>2</th>\n",
              "      <td>artist</td>\n",
              "    </tr>\n",
              "    <tr>\n",
              "      <th>3</th>\n",
              "      <td>clerical/admin</td>\n",
              "    </tr>\n",
              "    <tr>\n",
              "      <th>4</th>\n",
              "      <td>college/grad student</td>\n",
              "    </tr>\n",
              "    <tr>\n",
              "      <th>5</th>\n",
              "      <td>customer service</td>\n",
              "    </tr>\n",
              "    <tr>\n",
              "      <th>6</th>\n",
              "      <td>doctor/health care</td>\n",
              "    </tr>\n",
              "    <tr>\n",
              "      <th>7</th>\n",
              "      <td>executive/managerial</td>\n",
              "    </tr>\n",
              "    <tr>\n",
              "      <th>8</th>\n",
              "      <td>farmer</td>\n",
              "    </tr>\n",
              "    <tr>\n",
              "      <th>9</th>\n",
              "      <td>homemaker</td>\n",
              "    </tr>\n",
              "    <tr>\n",
              "      <th>10</th>\n",
              "      <td>K-12 student</td>\n",
              "    </tr>\n",
              "    <tr>\n",
              "      <th>11</th>\n",
              "      <td>lawyer</td>\n",
              "    </tr>\n",
              "    <tr>\n",
              "      <th>12</th>\n",
              "      <td>programmer</td>\n",
              "    </tr>\n",
              "    <tr>\n",
              "      <th>13</th>\n",
              "      <td>retired</td>\n",
              "    </tr>\n",
              "    <tr>\n",
              "      <th>14</th>\n",
              "      <td>sales/marketing</td>\n",
              "    </tr>\n",
              "    <tr>\n",
              "      <th>15</th>\n",
              "      <td>scientist</td>\n",
              "    </tr>\n",
              "    <tr>\n",
              "      <th>16</th>\n",
              "      <td>self-employed</td>\n",
              "    </tr>\n",
              "    <tr>\n",
              "      <th>17</th>\n",
              "      <td>technician/engineer</td>\n",
              "    </tr>\n",
              "    <tr>\n",
              "      <th>18</th>\n",
              "      <td>tradesman/craftsman</td>\n",
              "    </tr>\n",
              "    <tr>\n",
              "      <th>19</th>\n",
              "      <td>unemployed</td>\n",
              "    </tr>\n",
              "    <tr>\n",
              "      <th>20</th>\n",
              "      <td>writer</td>\n",
              "    </tr>\n",
              "  </tbody>\n",
              "</table>\n",
              "</div>"
            ],
            "text/plain": [
              "                          description\n",
              "occupation_id                        \n",
              "0              other or not specified\n",
              "1                   academic/educator\n",
              "2                              artist\n",
              "3                      clerical/admin\n",
              "4                college/grad student\n",
              "5                    customer service\n",
              "6                  doctor/health care\n",
              "7                executive/managerial\n",
              "8                              farmer\n",
              "9                           homemaker\n",
              "10                       K-12 student\n",
              "11                             lawyer\n",
              "12                         programmer\n",
              "13                            retired\n",
              "14                    sales/marketing\n",
              "15                          scientist\n",
              "16                      self-employed\n",
              "17                technician/engineer\n",
              "18                tradesman/craftsman\n",
              "19                         unemployed\n",
              "20                             writer"
            ]
          },
          "metadata": {
            "tags": []
          },
          "execution_count": 69
        }
      ]
    },
    {
      "cell_type": "code",
      "metadata": {
        "colab": {
          "base_uri": "https://localhost:8080/",
          "height": 300
        },
        "id": "zYgsruDlt76T",
        "outputId": "f740a18b-a796-4ec8-a044-975b7d704875"
      },
      "source": [
        "df_age_ranges = df_age_ranges.set_index('age_id', drop=True)\n",
        "df_age_ranges"
      ],
      "execution_count": 70,
      "outputs": [
        {
          "output_type": "execute_result",
          "data": {
            "text/html": [
              "<div>\n",
              "<style scoped>\n",
              "    .dataframe tbody tr th:only-of-type {\n",
              "        vertical-align: middle;\n",
              "    }\n",
              "\n",
              "    .dataframe tbody tr th {\n",
              "        vertical-align: top;\n",
              "    }\n",
              "\n",
              "    .dataframe thead th {\n",
              "        text-align: right;\n",
              "    }\n",
              "</style>\n",
              "<table border=\"1\" class=\"dataframe\">\n",
              "  <thead>\n",
              "    <tr style=\"text-align: right;\">\n",
              "      <th></th>\n",
              "      <th>age_range</th>\n",
              "    </tr>\n",
              "    <tr>\n",
              "      <th>age_id</th>\n",
              "      <th></th>\n",
              "    </tr>\n",
              "  </thead>\n",
              "  <tbody>\n",
              "    <tr>\n",
              "      <th>1</th>\n",
              "      <td>Under 18</td>\n",
              "    </tr>\n",
              "    <tr>\n",
              "      <th>18</th>\n",
              "      <td>18-24</td>\n",
              "    </tr>\n",
              "    <tr>\n",
              "      <th>25</th>\n",
              "      <td>25-34</td>\n",
              "    </tr>\n",
              "    <tr>\n",
              "      <th>35</th>\n",
              "      <td>35-44</td>\n",
              "    </tr>\n",
              "    <tr>\n",
              "      <th>45</th>\n",
              "      <td>45-49</td>\n",
              "    </tr>\n",
              "    <tr>\n",
              "      <th>50</th>\n",
              "      <td>50-55</td>\n",
              "    </tr>\n",
              "    <tr>\n",
              "      <th>56</th>\n",
              "      <td>56+</td>\n",
              "    </tr>\n",
              "  </tbody>\n",
              "</table>\n",
              "</div>"
            ],
            "text/plain": [
              "       age_range\n",
              "age_id          \n",
              "1       Under 18\n",
              "18         18-24\n",
              "25         25-34\n",
              "35         35-44\n",
              "45         45-49\n",
              "50         50-55\n",
              "56           56+"
            ]
          },
          "metadata": {
            "tags": []
          },
          "execution_count": 70
        }
      ]
    },
    {
      "cell_type": "code",
      "metadata": {
        "id": "YJDzAeNA-6Cj"
      },
      "source": [
        ""
      ],
      "execution_count": 71,
      "outputs": []
    },
    {
      "cell_type": "code",
      "metadata": {
        "id": "-gTH1dx2udkr"
      },
      "source": [
        "df_users.to_csv('drive/MyDrive/BEDU/df_users.csv')\n",
        "df_ratings.to_csv('drive/MyDrive/BEDU/df_ratings.csv')\n",
        "df_movies.to_csv('drive/MyDrive/BEDU/df_movies.csv')\n",
        "df_occupations.to_csv('drive/MyDrive/BEDU/df_occupations.csv')\n",
        "df_age_ranges.to_csv('drive/MyDrive/BEDU/df_age_ranges.csv')"
      ],
      "execution_count": 72,
      "outputs": []
    },
    {
      "cell_type": "code",
      "metadata": {
        "id": "QNZhht8qwtzo"
      },
      "source": [
        "#RETOT 3\n",
        "df_users_plus = pd.merge(df_users, df_occupations, left_on='occupation', right_index=True) \n",
        "#usa la columa de ls izquierda para unir el indice de la tabla derecha"
      ],
      "execution_count": 73,
      "outputs": []
    },
    {
      "cell_type": "code",
      "metadata": {
        "id": "iQSa5LCB0yt0"
      },
      "source": [
        "df_users_plus = pd.merge(df_users_plus, df_age_ranges, left_on='age', right_index=True) "
      ],
      "execution_count": 74,
      "outputs": []
    },
    {
      "cell_type": "code",
      "metadata": {
        "id": "6BcIOqeT1QLR"
      },
      "source": [
        "df_users_plus = df_users_plus.rename(columns={'occupation': 'occupation_id', 'description': 'occupation', 'age':'age_id'})"
      ],
      "execution_count": 75,
      "outputs": []
    },
    {
      "cell_type": "code",
      "metadata": {
        "id": "KUGhe4wZ0y1S",
        "outputId": "eca6df1f-0010-427c-d151-409d767bd773",
        "colab": {
          "base_uri": "https://localhost:8080/",
          "height": 455
        }
      },
      "source": [
        "df_users_plus.to_csv('drive/MyDrive/BEDU/df_users_plus.csv')\n",
        "df_users_plus"
      ],
      "execution_count": 76,
      "outputs": [
        {
          "output_type": "execute_result",
          "data": {
            "text/html": [
              "<div>\n",
              "<style scoped>\n",
              "    .dataframe tbody tr th:only-of-type {\n",
              "        vertical-align: middle;\n",
              "    }\n",
              "\n",
              "    .dataframe tbody tr th {\n",
              "        vertical-align: top;\n",
              "    }\n",
              "\n",
              "    .dataframe thead th {\n",
              "        text-align: right;\n",
              "    }\n",
              "</style>\n",
              "<table border=\"1\" class=\"dataframe\">\n",
              "  <thead>\n",
              "    <tr style=\"text-align: right;\">\n",
              "      <th></th>\n",
              "      <th>gender</th>\n",
              "      <th>age_id</th>\n",
              "      <th>occupation_id</th>\n",
              "      <th>cp</th>\n",
              "      <th>occupation</th>\n",
              "      <th>age_range</th>\n",
              "    </tr>\n",
              "    <tr>\n",
              "      <th>user_id</th>\n",
              "      <th></th>\n",
              "      <th></th>\n",
              "      <th></th>\n",
              "      <th></th>\n",
              "      <th></th>\n",
              "      <th></th>\n",
              "    </tr>\n",
              "  </thead>\n",
              "  <tbody>\n",
              "    <tr>\n",
              "      <th>1</th>\n",
              "      <td>F</td>\n",
              "      <td>1</td>\n",
              "      <td>10</td>\n",
              "      <td>48067</td>\n",
              "      <td>K-12 student</td>\n",
              "      <td>Under 18</td>\n",
              "    </tr>\n",
              "    <tr>\n",
              "      <th>19</th>\n",
              "      <td>M</td>\n",
              "      <td>1</td>\n",
              "      <td>10</td>\n",
              "      <td>48073</td>\n",
              "      <td>K-12 student</td>\n",
              "      <td>Under 18</td>\n",
              "    </tr>\n",
              "    <tr>\n",
              "      <th>51</th>\n",
              "      <td>F</td>\n",
              "      <td>1</td>\n",
              "      <td>10</td>\n",
              "      <td>10562</td>\n",
              "      <td>K-12 student</td>\n",
              "      <td>Under 18</td>\n",
              "    </tr>\n",
              "    <tr>\n",
              "      <th>75</th>\n",
              "      <td>F</td>\n",
              "      <td>1</td>\n",
              "      <td>10</td>\n",
              "      <td>01748</td>\n",
              "      <td>K-12 student</td>\n",
              "      <td>Under 18</td>\n",
              "    </tr>\n",
              "    <tr>\n",
              "      <th>86</th>\n",
              "      <td>F</td>\n",
              "      <td>1</td>\n",
              "      <td>10</td>\n",
              "      <td>54467</td>\n",
              "      <td>K-12 student</td>\n",
              "      <td>Under 18</td>\n",
              "    </tr>\n",
              "    <tr>\n",
              "      <th>...</th>\n",
              "      <td>...</td>\n",
              "      <td>...</td>\n",
              "      <td>...</td>\n",
              "      <td>...</td>\n",
              "      <td>...</td>\n",
              "      <td>...</td>\n",
              "    </tr>\n",
              "    <tr>\n",
              "      <th>5075</th>\n",
              "      <td>M</td>\n",
              "      <td>50</td>\n",
              "      <td>6</td>\n",
              "      <td>97470</td>\n",
              "      <td>doctor/health care</td>\n",
              "      <td>50-55</td>\n",
              "    </tr>\n",
              "    <tr>\n",
              "      <th>5100</th>\n",
              "      <td>M</td>\n",
              "      <td>50</td>\n",
              "      <td>6</td>\n",
              "      <td>193122042</td>\n",
              "      <td>doctor/health care</td>\n",
              "      <td>50-55</td>\n",
              "    </tr>\n",
              "    <tr>\n",
              "      <th>5166</th>\n",
              "      <td>M</td>\n",
              "      <td>50</td>\n",
              "      <td>6</td>\n",
              "      <td>42420</td>\n",
              "      <td>doctor/health care</td>\n",
              "      <td>50-55</td>\n",
              "    </tr>\n",
              "    <tr>\n",
              "      <th>5250</th>\n",
              "      <td>M</td>\n",
              "      <td>50</td>\n",
              "      <td>6</td>\n",
              "      <td>01545</td>\n",
              "      <td>doctor/health care</td>\n",
              "      <td>50-55</td>\n",
              "    </tr>\n",
              "    <tr>\n",
              "      <th>5819</th>\n",
              "      <td>M</td>\n",
              "      <td>50</td>\n",
              "      <td>6</td>\n",
              "      <td>70808</td>\n",
              "      <td>doctor/health care</td>\n",
              "      <td>50-55</td>\n",
              "    </tr>\n",
              "  </tbody>\n",
              "</table>\n",
              "<p>6040 rows × 6 columns</p>\n",
              "</div>"
            ],
            "text/plain": [
              "        gender  age_id  occupation_id         cp          occupation age_range\n",
              "user_id                                                                       \n",
              "1            F       1             10      48067        K-12 student  Under 18\n",
              "19           M       1             10      48073        K-12 student  Under 18\n",
              "51           F       1             10      10562        K-12 student  Under 18\n",
              "75           F       1             10      01748        K-12 student  Under 18\n",
              "86           F       1             10      54467        K-12 student  Under 18\n",
              "...        ...     ...            ...        ...                 ...       ...\n",
              "5075         M      50              6      97470  doctor/health care     50-55\n",
              "5100         M      50              6  193122042  doctor/health care     50-55\n",
              "5166         M      50              6      42420  doctor/health care     50-55\n",
              "5250         M      50              6      01545  doctor/health care     50-55\n",
              "5819         M      50              6      70808  doctor/health care     50-55\n",
              "\n",
              "[6040 rows x 6 columns]"
            ]
          },
          "metadata": {
            "tags": []
          },
          "execution_count": 76
        }
      ]
    },
    {
      "cell_type": "code",
      "metadata": {
        "id": "6c3_RtkzwwBP",
        "outputId": "812c26b9-dfcb-45f8-e897-14b787d73840",
        "colab": {
          "base_uri": "https://localhost:8080/"
        }
      },
      "source": [
        "from google.colab import drive\n",
        "drive.mount('/content/drive')"
      ],
      "execution_count": 46,
      "outputs": [
        {
          "output_type": "stream",
          "text": [
            "Mounted at /content/drive\n"
          ],
          "name": "stdout"
        }
      ]
    },
    {
      "cell_type": "code",
      "metadata": {
        "id": "BnsXO4E3-Nxe"
      },
      "source": [
        "df_movies = pd.read_csv(\"drive/MyDrive/BEDU/df_movies.csv\", index_col=\"movie_id\")\n",
        "df_ratings = pd.read_csv(\"drive/MyDrive/BEDU/df_ratings.csv\", index_col= False)"
      ],
      "execution_count": 120,
      "outputs": []
    },
    {
      "cell_type": "code",
      "metadata": {
        "id": "vz_vzmaW-ldj"
      },
      "source": [
        "df_ratings = df_ratings.rename(columns={'Unnamed: 0': 'rating_id'})"
      ],
      "execution_count": 121,
      "outputs": []
    },
    {
      "cell_type": "code",
      "metadata": {
        "id": "xZ3G3TcTDoSQ",
        "outputId": "b82b51b9-02d9-4c13-a166-6f5ba1f1f79b",
        "colab": {
          "base_uri": "https://localhost:8080/",
          "height": 206
        }
      },
      "source": [
        "df_ratings.head(5)"
      ],
      "execution_count": 133,
      "outputs": [
        {
          "output_type": "execute_result",
          "data": {
            "text/html": [
              "<div>\n",
              "<style scoped>\n",
              "    .dataframe tbody tr th:only-of-type {\n",
              "        vertical-align: middle;\n",
              "    }\n",
              "\n",
              "    .dataframe tbody tr th {\n",
              "        vertical-align: top;\n",
              "    }\n",
              "\n",
              "    .dataframe thead th {\n",
              "        text-align: right;\n",
              "    }\n",
              "</style>\n",
              "<table border=\"1\" class=\"dataframe\">\n",
              "  <thead>\n",
              "    <tr style=\"text-align: right;\">\n",
              "      <th></th>\n",
              "      <th>rating_id</th>\n",
              "      <th>user_id</th>\n",
              "      <th>movie_id</th>\n",
              "      <th>rating</th>\n",
              "      <th>timestamp</th>\n",
              "    </tr>\n",
              "  </thead>\n",
              "  <tbody>\n",
              "    <tr>\n",
              "      <th>0</th>\n",
              "      <td>0</td>\n",
              "      <td>1</td>\n",
              "      <td>1193</td>\n",
              "      <td>5</td>\n",
              "      <td>978300760</td>\n",
              "    </tr>\n",
              "    <tr>\n",
              "      <th>1</th>\n",
              "      <td>1</td>\n",
              "      <td>1</td>\n",
              "      <td>661</td>\n",
              "      <td>3</td>\n",
              "      <td>978302109</td>\n",
              "    </tr>\n",
              "    <tr>\n",
              "      <th>2</th>\n",
              "      <td>2</td>\n",
              "      <td>1</td>\n",
              "      <td>914</td>\n",
              "      <td>3</td>\n",
              "      <td>978301968</td>\n",
              "    </tr>\n",
              "    <tr>\n",
              "      <th>3</th>\n",
              "      <td>3</td>\n",
              "      <td>1</td>\n",
              "      <td>3408</td>\n",
              "      <td>4</td>\n",
              "      <td>978300275</td>\n",
              "    </tr>\n",
              "    <tr>\n",
              "      <th>4</th>\n",
              "      <td>4</td>\n",
              "      <td>1</td>\n",
              "      <td>2355</td>\n",
              "      <td>5</td>\n",
              "      <td>978824291</td>\n",
              "    </tr>\n",
              "  </tbody>\n",
              "</table>\n",
              "</div>"
            ],
            "text/plain": [
              "   rating_id  user_id  movie_id  rating  timestamp\n",
              "0          0        1      1193       5  978300760\n",
              "1          1        1       661       3  978302109\n",
              "2          2        1       914       3  978301968\n",
              "3          3        1      3408       4  978300275\n",
              "4          4        1      2355       5  978824291"
            ]
          },
          "metadata": {
            "tags": []
          },
          "execution_count": 133
        }
      ]
    },
    {
      "cell_type": "code",
      "metadata": {
        "id": "MGok_Dx0DuWv",
        "outputId": "0321d39b-6c4d-49b6-bb43-175d7e9d7e38",
        "colab": {
          "base_uri": "https://localhost:8080/",
          "height": 237
        }
      },
      "source": [
        "df_movies.head(5)"
      ],
      "execution_count": 134,
      "outputs": [
        {
          "output_type": "execute_result",
          "data": {
            "text/html": [
              "<div>\n",
              "<style scoped>\n",
              "    .dataframe tbody tr th:only-of-type {\n",
              "        vertical-align: middle;\n",
              "    }\n",
              "\n",
              "    .dataframe tbody tr th {\n",
              "        vertical-align: top;\n",
              "    }\n",
              "\n",
              "    .dataframe thead th {\n",
              "        text-align: right;\n",
              "    }\n",
              "</style>\n",
              "<table border=\"1\" class=\"dataframe\">\n",
              "  <thead>\n",
              "    <tr style=\"text-align: right;\">\n",
              "      <th></th>\n",
              "      <th>title</th>\n",
              "      <th>genres</th>\n",
              "    </tr>\n",
              "    <tr>\n",
              "      <th>movie_id</th>\n",
              "      <th></th>\n",
              "      <th></th>\n",
              "    </tr>\n",
              "  </thead>\n",
              "  <tbody>\n",
              "    <tr>\n",
              "      <th>1</th>\n",
              "      <td>Toy Story (1995)</td>\n",
              "      <td>Animation|Children's|Comedy</td>\n",
              "    </tr>\n",
              "    <tr>\n",
              "      <th>2</th>\n",
              "      <td>Jumanji (1995)</td>\n",
              "      <td>Adventure|Children's|Fantasy</td>\n",
              "    </tr>\n",
              "    <tr>\n",
              "      <th>3</th>\n",
              "      <td>Grumpier Old Men (1995)</td>\n",
              "      <td>Comedy|Romance</td>\n",
              "    </tr>\n",
              "    <tr>\n",
              "      <th>4</th>\n",
              "      <td>Waiting to Exhale (1995)</td>\n",
              "      <td>Comedy|Drama</td>\n",
              "    </tr>\n",
              "    <tr>\n",
              "      <th>5</th>\n",
              "      <td>Father of the Bride Part II (1995)</td>\n",
              "      <td>Comedy</td>\n",
              "    </tr>\n",
              "  </tbody>\n",
              "</table>\n",
              "</div>"
            ],
            "text/plain": [
              "                                       title                        genres\n",
              "movie_id                                                                  \n",
              "1                           Toy Story (1995)   Animation|Children's|Comedy\n",
              "2                             Jumanji (1995)  Adventure|Children's|Fantasy\n",
              "3                    Grumpier Old Men (1995)                Comedy|Romance\n",
              "4                   Waiting to Exhale (1995)                  Comedy|Drama\n",
              "5         Father of the Bride Part II (1995)                        Comedy"
            ]
          },
          "metadata": {
            "tags": []
          },
          "execution_count": 134
        }
      ]
    },
    {
      "cell_type": "code",
      "metadata": {
        "id": "oSxoXAU1-YGg"
      },
      "source": [
        "mejores_50 = pd.DataFrame(df_ratings.groupby('movie_id')[\"rating\"].agg(pd.Series.mean)).sort_values(by='rating', ascending=False).head(50)"
      ],
      "execution_count": 122,
      "outputs": []
    },
    {
      "cell_type": "code",
      "metadata": {
        "id": "yyltED_d_VRx"
      },
      "source": [
        "las_mejores_50 = pd.merge(mejores_50, df_movies, left_on='movie_id', right_index=True)[[\"rating\",\"title\"]]"
      ],
      "execution_count": 129,
      "outputs": []
    },
    {
      "cell_type": "code",
      "metadata": {
        "id": "-GPQgvSD_Wk2",
        "outputId": "27d1281f-c1d4-4df3-8a1a-bf22bd0adc96",
        "colab": {
          "base_uri": "https://localhost:8080/",
          "height": 1000
        }
      },
      "source": [
        "las_mejores_50"
      ],
      "execution_count": 130,
      "outputs": [
        {
          "output_type": "execute_result",
          "data": {
            "text/html": [
              "<div>\n",
              "<style scoped>\n",
              "    .dataframe tbody tr th:only-of-type {\n",
              "        vertical-align: middle;\n",
              "    }\n",
              "\n",
              "    .dataframe tbody tr th {\n",
              "        vertical-align: top;\n",
              "    }\n",
              "\n",
              "    .dataframe thead th {\n",
              "        text-align: right;\n",
              "    }\n",
              "</style>\n",
              "<table border=\"1\" class=\"dataframe\">\n",
              "  <thead>\n",
              "    <tr style=\"text-align: right;\">\n",
              "      <th></th>\n",
              "      <th>rating</th>\n",
              "      <th>title</th>\n",
              "    </tr>\n",
              "    <tr>\n",
              "      <th>movie_id</th>\n",
              "      <th></th>\n",
              "      <th></th>\n",
              "    </tr>\n",
              "  </thead>\n",
              "  <tbody>\n",
              "    <tr>\n",
              "      <th>989</th>\n",
              "      <td>5.000000</td>\n",
              "      <td>Schlafes Bruder (Brother of Sleep) (1995)</td>\n",
              "    </tr>\n",
              "    <tr>\n",
              "      <th>3881</th>\n",
              "      <td>5.000000</td>\n",
              "      <td>Bittersweet Motel (2000)</td>\n",
              "    </tr>\n",
              "    <tr>\n",
              "      <th>1830</th>\n",
              "      <td>5.000000</td>\n",
              "      <td>Follow the Bitch (1998)</td>\n",
              "    </tr>\n",
              "    <tr>\n",
              "      <th>3382</th>\n",
              "      <td>5.000000</td>\n",
              "      <td>Song of Freedom (1936)</td>\n",
              "    </tr>\n",
              "    <tr>\n",
              "      <th>787</th>\n",
              "      <td>5.000000</td>\n",
              "      <td>Gate of Heavenly Peace, The (1995)</td>\n",
              "    </tr>\n",
              "    <tr>\n",
              "      <th>3280</th>\n",
              "      <td>5.000000</td>\n",
              "      <td>Baby, The (1973)</td>\n",
              "    </tr>\n",
              "    <tr>\n",
              "      <th>3607</th>\n",
              "      <td>5.000000</td>\n",
              "      <td>One Little Indian (1973)</td>\n",
              "    </tr>\n",
              "    <tr>\n",
              "      <th>3233</th>\n",
              "      <td>5.000000</td>\n",
              "      <td>Smashing Time (1967)</td>\n",
              "    </tr>\n",
              "    <tr>\n",
              "      <th>3172</th>\n",
              "      <td>5.000000</td>\n",
              "      <td>Ulysses (Ulisse) (1954)</td>\n",
              "    </tr>\n",
              "    <tr>\n",
              "      <th>3656</th>\n",
              "      <td>5.000000</td>\n",
              "      <td>Lured (1947)</td>\n",
              "    </tr>\n",
              "    <tr>\n",
              "      <th>3245</th>\n",
              "      <td>4.800000</td>\n",
              "      <td>I Am Cuba (Soy Cuba/Ya Kuba) (1964)</td>\n",
              "    </tr>\n",
              "    <tr>\n",
              "      <th>53</th>\n",
              "      <td>4.750000</td>\n",
              "      <td>Lamerica (1994)</td>\n",
              "    </tr>\n",
              "    <tr>\n",
              "      <th>2503</th>\n",
              "      <td>4.666667</td>\n",
              "      <td>Apple, The (Sib) (1998)</td>\n",
              "    </tr>\n",
              "    <tr>\n",
              "      <th>2905</th>\n",
              "      <td>4.608696</td>\n",
              "      <td>Sanjuro (1962)</td>\n",
              "    </tr>\n",
              "    <tr>\n",
              "      <th>2019</th>\n",
              "      <td>4.560510</td>\n",
              "      <td>Seven Samurai (The Magnificent Seven) (Shichin...</td>\n",
              "    </tr>\n",
              "    <tr>\n",
              "      <th>318</th>\n",
              "      <td>4.554558</td>\n",
              "      <td>Shawshank Redemption, The (1994)</td>\n",
              "    </tr>\n",
              "    <tr>\n",
              "      <th>858</th>\n",
              "      <td>4.524966</td>\n",
              "      <td>Godfather, The (1972)</td>\n",
              "    </tr>\n",
              "    <tr>\n",
              "      <th>745</th>\n",
              "      <td>4.520548</td>\n",
              "      <td>Close Shave, A (1995)</td>\n",
              "    </tr>\n",
              "    <tr>\n",
              "      <th>50</th>\n",
              "      <td>4.517106</td>\n",
              "      <td>Usual Suspects, The (1995)</td>\n",
              "    </tr>\n",
              "    <tr>\n",
              "      <th>527</th>\n",
              "      <td>4.510417</td>\n",
              "      <td>Schindler's List (1993)</td>\n",
              "    </tr>\n",
              "    <tr>\n",
              "      <th>1148</th>\n",
              "      <td>4.507937</td>\n",
              "      <td>Wrong Trousers, The (1993)</td>\n",
              "    </tr>\n",
              "    <tr>\n",
              "      <th>2309</th>\n",
              "      <td>4.500000</td>\n",
              "      <td>Inheritors, The (Die Siebtelbauern) (1998)</td>\n",
              "    </tr>\n",
              "    <tr>\n",
              "      <th>1795</th>\n",
              "      <td>4.500000</td>\n",
              "      <td>Callejón de los milagros, El (1995)</td>\n",
              "    </tr>\n",
              "    <tr>\n",
              "      <th>2480</th>\n",
              "      <td>4.500000</td>\n",
              "      <td>Dry Cleaning (Nettoyage à sec) (1997)</td>\n",
              "    </tr>\n",
              "    <tr>\n",
              "      <th>439</th>\n",
              "      <td>4.500000</td>\n",
              "      <td>Dangerous Game (1993)</td>\n",
              "    </tr>\n",
              "    <tr>\n",
              "      <th>557</th>\n",
              "      <td>4.500000</td>\n",
              "      <td>Mamma Roma (1962)</td>\n",
              "    </tr>\n",
              "    <tr>\n",
              "      <th>3517</th>\n",
              "      <td>4.500000</td>\n",
              "      <td>Bells, The (1926)</td>\n",
              "    </tr>\n",
              "    <tr>\n",
              "      <th>3888</th>\n",
              "      <td>4.500000</td>\n",
              "      <td>Skipped Parts (2000)</td>\n",
              "    </tr>\n",
              "    <tr>\n",
              "      <th>578</th>\n",
              "      <td>4.500000</td>\n",
              "      <td>Hour of the Pig, The (1993)</td>\n",
              "    </tr>\n",
              "    <tr>\n",
              "      <th>922</th>\n",
              "      <td>4.491489</td>\n",
              "      <td>Sunset Blvd. (a.k.a. Sunset Boulevard) (1950)</td>\n",
              "    </tr>\n",
              "    <tr>\n",
              "      <th>1198</th>\n",
              "      <td>4.477725</td>\n",
              "      <td>Raiders of the Lost Ark (1981)</td>\n",
              "    </tr>\n",
              "    <tr>\n",
              "      <th>904</th>\n",
              "      <td>4.476190</td>\n",
              "      <td>Rear Window (1954)</td>\n",
              "    </tr>\n",
              "    <tr>\n",
              "      <th>1178</th>\n",
              "      <td>4.473913</td>\n",
              "      <td>Paths of Glory (1957)</td>\n",
              "    </tr>\n",
              "    <tr>\n",
              "      <th>260</th>\n",
              "      <td>4.453694</td>\n",
              "      <td>Star Wars: Episode IV - A New Hope (1977)</td>\n",
              "    </tr>\n",
              "    <tr>\n",
              "      <th>1212</th>\n",
              "      <td>4.452083</td>\n",
              "      <td>Third Man, The (1949)</td>\n",
              "    </tr>\n",
              "    <tr>\n",
              "      <th>750</th>\n",
              "      <td>4.449890</td>\n",
              "      <td>Dr. Strangelove or: How I Learned to Stop Worr...</td>\n",
              "    </tr>\n",
              "    <tr>\n",
              "      <th>3338</th>\n",
              "      <td>4.444444</td>\n",
              "      <td>For All Mankind (1989)</td>\n",
              "    </tr>\n",
              "    <tr>\n",
              "      <th>720</th>\n",
              "      <td>4.426941</td>\n",
              "      <td>Wallace &amp; Gromit: The Best of Aardman Animatio...</td>\n",
              "    </tr>\n",
              "    <tr>\n",
              "      <th>1207</th>\n",
              "      <td>4.425647</td>\n",
              "      <td>To Kill a Mockingbird (1962)</td>\n",
              "    </tr>\n",
              "    <tr>\n",
              "      <th>3435</th>\n",
              "      <td>4.415608</td>\n",
              "      <td>Double Indemnity (1944)</td>\n",
              "    </tr>\n",
              "    <tr>\n",
              "      <th>912</th>\n",
              "      <td>4.412822</td>\n",
              "      <td>Casablanca (1942)</td>\n",
              "    </tr>\n",
              "    <tr>\n",
              "      <th>670</th>\n",
              "      <td>4.410714</td>\n",
              "      <td>World of Apu, The (Apur Sansar) (1959)</td>\n",
              "    </tr>\n",
              "    <tr>\n",
              "      <th>2762</th>\n",
              "      <td>4.406263</td>\n",
              "      <td>Sixth Sense, The (1999)</td>\n",
              "    </tr>\n",
              "    <tr>\n",
              "      <th>3030</th>\n",
              "      <td>4.404651</td>\n",
              "      <td>Yojimbo (1961)</td>\n",
              "    </tr>\n",
              "    <tr>\n",
              "      <th>668</th>\n",
              "      <td>4.404255</td>\n",
              "      <td>Pather Panchali (1955)</td>\n",
              "    </tr>\n",
              "    <tr>\n",
              "      <th>1204</th>\n",
              "      <td>4.401925</td>\n",
              "      <td>Lawrence of Arabia (1962)</td>\n",
              "    </tr>\n",
              "    <tr>\n",
              "      <th>2930</th>\n",
              "      <td>4.400000</td>\n",
              "      <td>Return with Honor (1998)</td>\n",
              "    </tr>\n",
              "    <tr>\n",
              "      <th>913</th>\n",
              "      <td>4.395973</td>\n",
              "      <td>Maltese Falcon, The (1941)</td>\n",
              "    </tr>\n",
              "    <tr>\n",
              "      <th>1193</th>\n",
              "      <td>4.390725</td>\n",
              "      <td>One Flew Over the Cuckoo's Nest (1975)</td>\n",
              "    </tr>\n",
              "    <tr>\n",
              "      <th>923</th>\n",
              "      <td>4.388889</td>\n",
              "      <td>Citizen Kane (1941)</td>\n",
              "    </tr>\n",
              "  </tbody>\n",
              "</table>\n",
              "</div>"
            ],
            "text/plain": [
              "            rating                                              title\n",
              "movie_id                                                             \n",
              "989       5.000000          Schlafes Bruder (Brother of Sleep) (1995)\n",
              "3881      5.000000                           Bittersweet Motel (2000)\n",
              "1830      5.000000                            Follow the Bitch (1998)\n",
              "3382      5.000000                             Song of Freedom (1936)\n",
              "787       5.000000                 Gate of Heavenly Peace, The (1995)\n",
              "3280      5.000000                                   Baby, The (1973)\n",
              "3607      5.000000                           One Little Indian (1973)\n",
              "3233      5.000000                               Smashing Time (1967)\n",
              "3172      5.000000                            Ulysses (Ulisse) (1954)\n",
              "3656      5.000000                                       Lured (1947)\n",
              "3245      4.800000                I Am Cuba (Soy Cuba/Ya Kuba) (1964)\n",
              "53        4.750000                                    Lamerica (1994)\n",
              "2503      4.666667                            Apple, The (Sib) (1998)\n",
              "2905      4.608696                                     Sanjuro (1962)\n",
              "2019      4.560510  Seven Samurai (The Magnificent Seven) (Shichin...\n",
              "318       4.554558                   Shawshank Redemption, The (1994)\n",
              "858       4.524966                              Godfather, The (1972)\n",
              "745       4.520548                              Close Shave, A (1995)\n",
              "50        4.517106                         Usual Suspects, The (1995)\n",
              "527       4.510417                            Schindler's List (1993)\n",
              "1148      4.507937                         Wrong Trousers, The (1993)\n",
              "2309      4.500000         Inheritors, The (Die Siebtelbauern) (1998)\n",
              "1795      4.500000                Callejón de los milagros, El (1995)\n",
              "2480      4.500000              Dry Cleaning (Nettoyage à sec) (1997)\n",
              "439       4.500000                              Dangerous Game (1993)\n",
              "557       4.500000                                  Mamma Roma (1962)\n",
              "3517      4.500000                                  Bells, The (1926)\n",
              "3888      4.500000                               Skipped Parts (2000)\n",
              "578       4.500000                        Hour of the Pig, The (1993)\n",
              "922       4.491489      Sunset Blvd. (a.k.a. Sunset Boulevard) (1950)\n",
              "1198      4.477725                     Raiders of the Lost Ark (1981)\n",
              "904       4.476190                                 Rear Window (1954)\n",
              "1178      4.473913                              Paths of Glory (1957)\n",
              "260       4.453694          Star Wars: Episode IV - A New Hope (1977)\n",
              "1212      4.452083                              Third Man, The (1949)\n",
              "750       4.449890  Dr. Strangelove or: How I Learned to Stop Worr...\n",
              "3338      4.444444                             For All Mankind (1989)\n",
              "720       4.426941  Wallace & Gromit: The Best of Aardman Animatio...\n",
              "1207      4.425647                       To Kill a Mockingbird (1962)\n",
              "3435      4.415608                            Double Indemnity (1944)\n",
              "912       4.412822                                  Casablanca (1942)\n",
              "670       4.410714             World of Apu, The (Apur Sansar) (1959)\n",
              "2762      4.406263                            Sixth Sense, The (1999)\n",
              "3030      4.404651                                     Yojimbo (1961)\n",
              "668       4.404255                             Pather Panchali (1955)\n",
              "1204      4.401925                          Lawrence of Arabia (1962)\n",
              "2930      4.400000                           Return with Honor (1998)\n",
              "913       4.395973                         Maltese Falcon, The (1941)\n",
              "1193      4.390725             One Flew Over the Cuckoo's Nest (1975)\n",
              "923       4.388889                                Citizen Kane (1941)"
            ]
          },
          "metadata": {
            "tags": []
          },
          "execution_count": 130
        }
      ]
    },
    {
      "cell_type": "code",
      "metadata": {
        "id": "eIR48tKdA-gn",
        "outputId": "26f30cde-e67a-494e-c744-595687022716",
        "colab": {
          "base_uri": "https://localhost:8080/",
          "height": 1000
        }
      },
      "source": [
        "def plotting_best_50(las_mejores_50):\n",
        "    import seaborn as sns\n",
        "    import matplotlib.pyplot as plt\n",
        "    \n",
        "    fig, ax = plt.subplots(figsize=(10, 20))\n",
        "    ax.set_title('Top 50 Movies with Best Ratings')\n",
        "    splot = sns.barplot(las_mejores_50['rating'], las_mejores_50['title'], ax=ax)\n",
        "    ax.set(xlabel='Rating', ylabel='Movie Title')\n",
        "\n",
        "plotting_best_50(las_mejores_50)"
      ],
      "execution_count": 131,
      "outputs": [
        {
          "output_type": "stream",
          "text": [
            "/usr/local/lib/python3.7/dist-packages/seaborn/_decorators.py:43: FutureWarning: Pass the following variables as keyword args: x, y. From version 0.12, the only valid positional argument will be `data`, and passing other arguments without an explicit keyword will result in an error or misinterpretation.\n",
            "  FutureWarning\n"
          ],
          "name": "stderr"
        },
        {
          "output_type": "display_data",
          "data": {
            "image/png": "[encoded data removed]",
            "text/plain": [
              "<Figure size 720x1440 with 1 Axes>"
            ]
          },
          "metadata": {
            "tags": [],
            "needs_background": "light"
          }
        }
      ]
    },
    {
      "cell_type": "code",
      "metadata": {
        "id": "8xvgMwYbBwUM"
      },
      "source": [
        ""
      ],
      "execution_count": null,
      "outputs": []
    }
  ]
}