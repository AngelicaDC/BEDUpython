{
  "nbformat": 4,
  "nbformat_minor": 0,
  "metadata": {
    "kernelspec": {
      "display_name": "Python (data_science)",
      "language": "python",
      "name": "data_science"
    },
    "language_info": {
      "codemirror_mode": {
        "name": "ipython",
        "version": 3
      },
      "file_extension": ".py",
      "mimetype": "text/x-python",
      "name": "python",
      "nbconvert_exporter": "python",
      "pygments_lexer": "ipython3",
      "version": "3.8.5"
    },
    "colab": {
      "name": "pruebas_ab.ipynb",
      "provenance": []
    }
  },
  "cells": [
    {
      "cell_type": "markdown",
      "metadata": {
        "id": "WLFYxR-wBNs8"
      },
      "source": [
        "## Ejemplo 1: Pruebas A/B\n",
        "\n",
        "### 1. Objetivos:\n",
        "    - Aprender a evaluar los resultados de una Prueba A/B\n",
        " \n",
        "---\n",
        "    \n",
        "### 2. Desarrollo:"
      ]
    },
    {
      "cell_type": "markdown",
      "metadata": {
        "id": "IYMsYxyLBNtA"
      },
      "source": [
        "El siguiente es un dataset obtenido con los resultados de una Prueba A/B. Se probaron dos flujos de venta distintos y se registró si cada uno de ellos resultó en una conversión (venta) o no. El test A es la hipótesis alternativa (la aplicada al grupo experimental), mientras que el test B es la hipótesis nula (la aplicada al grupo control)."
      ]
    },
    {
      "cell_type": "code",
      "metadata": {
        "id": "BZiJH51eBNtB"
      },
      "source": [
        "import pandas as pd\n",
        "import seaborn as sns\n",
        "import matplotlib.pyplot as plt"
      ],
      "execution_count": 1,
      "outputs": []
    },
    {
      "cell_type": "code",
      "metadata": {
        "colab": {
          "base_uri": "https://localhost:8080/"
        },
        "id": "AzBa8zU7BR8Z",
        "outputId": "7b2a8eaf-ded7-46f0-cc27-6d2d5fbba2da"
      },
      "source": [
        "from google.colab import drive\n",
        "drive.mount('/content/drive')"
      ],
      "execution_count": 2,
      "outputs": [
        {
          "output_type": "stream",
          "name": "stdout",
          "text": [
            "Mounted at /content/drive\n"
          ]
        }
      ]
    },
    {
      "cell_type": "code",
      "metadata": {
        "colab": {
          "base_uri": "https://localhost:8080/",
          "height": 423
        },
        "id": "IjPql9AvBNtC",
        "outputId": "3d5140c0-a350-452d-eb97-c27c4cce28cc"
      },
      "source": [
        "df = pd.read_csv('/content/drive/MyDrive/BEDU/Remoto Datasets/Remoto ab_test-sales_pipeline.csv')\n",
        "\n",
        "df"
      ],
      "execution_count": 3,
      "outputs": [
        {
          "output_type": "execute_result",
          "data": {
            "text/html": [
              "<div>\n",
              "<style scoped>\n",
              "    .dataframe tbody tr th:only-of-type {\n",
              "        vertical-align: middle;\n",
              "    }\n",
              "\n",
              "    .dataframe tbody tr th {\n",
              "        vertical-align: top;\n",
              "    }\n",
              "\n",
              "    .dataframe thead th {\n",
              "        text-align: right;\n",
              "    }\n",
              "</style>\n",
              "<table border=\"1\" class=\"dataframe\">\n",
              "  <thead>\n",
              "    <tr style=\"text-align: right;\">\n",
              "      <th></th>\n",
              "      <th>test</th>\n",
              "      <th>conversion</th>\n",
              "      <th>no conversion</th>\n",
              "    </tr>\n",
              "  </thead>\n",
              "  <tbody>\n",
              "    <tr>\n",
              "      <th>0</th>\n",
              "      <td>B</td>\n",
              "      <td>0</td>\n",
              "      <td>1</td>\n",
              "    </tr>\n",
              "    <tr>\n",
              "      <th>1</th>\n",
              "      <td>A</td>\n",
              "      <td>0</td>\n",
              "      <td>1</td>\n",
              "    </tr>\n",
              "    <tr>\n",
              "      <th>2</th>\n",
              "      <td>A</td>\n",
              "      <td>0</td>\n",
              "      <td>1</td>\n",
              "    </tr>\n",
              "    <tr>\n",
              "      <th>3</th>\n",
              "      <td>A</td>\n",
              "      <td>0</td>\n",
              "      <td>1</td>\n",
              "    </tr>\n",
              "    <tr>\n",
              "      <th>4</th>\n",
              "      <td>A</td>\n",
              "      <td>0</td>\n",
              "      <td>1</td>\n",
              "    </tr>\n",
              "    <tr>\n",
              "      <th>...</th>\n",
              "      <td>...</td>\n",
              "      <td>...</td>\n",
              "      <td>...</td>\n",
              "    </tr>\n",
              "    <tr>\n",
              "      <th>46322</th>\n",
              "      <td>B</td>\n",
              "      <td>0</td>\n",
              "      <td>1</td>\n",
              "    </tr>\n",
              "    <tr>\n",
              "      <th>46323</th>\n",
              "      <td>B</td>\n",
              "      <td>0</td>\n",
              "      <td>1</td>\n",
              "    </tr>\n",
              "    <tr>\n",
              "      <th>46324</th>\n",
              "      <td>B</td>\n",
              "      <td>0</td>\n",
              "      <td>1</td>\n",
              "    </tr>\n",
              "    <tr>\n",
              "      <th>46325</th>\n",
              "      <td>A</td>\n",
              "      <td>0</td>\n",
              "      <td>1</td>\n",
              "    </tr>\n",
              "    <tr>\n",
              "      <th>46326</th>\n",
              "      <td>A</td>\n",
              "      <td>0</td>\n",
              "      <td>1</td>\n",
              "    </tr>\n",
              "  </tbody>\n",
              "</table>\n",
              "<p>46327 rows × 3 columns</p>\n",
              "</div>"
            ],
            "text/plain": [
              "      test  conversion  no conversion\n",
              "0        B           0              1\n",
              "1        A           0              1\n",
              "2        A           0              1\n",
              "3        A           0              1\n",
              "4        A           0              1\n",
              "...    ...         ...            ...\n",
              "46322    B           0              1\n",
              "46323    B           0              1\n",
              "46324    B           0              1\n",
              "46325    A           0              1\n",
              "46326    A           0              1\n",
              "\n",
              "[46327 rows x 3 columns]"
            ]
          },
          "metadata": {},
          "execution_count": 3
        }
      ]
    },
    {
      "cell_type": "markdown",
      "metadata": {
        "id": "eZU73Bs2BNtD"
      },
      "source": [
        "Lo primero que podemos hacer es agrupar nuestros resultados por 'test', para realizar un conteo de cuántas conversiones hubo con cada flujo de ventas:"
      ]
    },
    {
      "cell_type": "code",
      "metadata": {
        "colab": {
          "base_uri": "https://localhost:8080/",
          "height": 143
        },
        "id": "vlhgP_xGBNtD",
        "outputId": "f88dc0b5-d431-4649-c23b-f69979fbc5ea"
      },
      "source": [
        "total_count = df.groupby('test')[['conversion', 'no conversion']].sum()\n",
        "\n",
        "total_count"
      ],
      "execution_count": 4,
      "outputs": [
        {
          "output_type": "execute_result",
          "data": {
            "text/html": [
              "<div>\n",
              "<style scoped>\n",
              "    .dataframe tbody tr th:only-of-type {\n",
              "        vertical-align: middle;\n",
              "    }\n",
              "\n",
              "    .dataframe tbody tr th {\n",
              "        vertical-align: top;\n",
              "    }\n",
              "\n",
              "    .dataframe thead th {\n",
              "        text-align: right;\n",
              "    }\n",
              "</style>\n",
              "<table border=\"1\" class=\"dataframe\">\n",
              "  <thead>\n",
              "    <tr style=\"text-align: right;\">\n",
              "      <th></th>\n",
              "      <th>conversion</th>\n",
              "      <th>no conversion</th>\n",
              "    </tr>\n",
              "    <tr>\n",
              "      <th>test</th>\n",
              "      <th></th>\n",
              "      <th></th>\n",
              "    </tr>\n",
              "  </thead>\n",
              "  <tbody>\n",
              "    <tr>\n",
              "      <th>A</th>\n",
              "      <td>198</td>\n",
              "      <td>23541</td>\n",
              "    </tr>\n",
              "    <tr>\n",
              "      <th>B</th>\n",
              "      <td>184</td>\n",
              "      <td>22404</td>\n",
              "    </tr>\n",
              "  </tbody>\n",
              "</table>\n",
              "</div>"
            ],
            "text/plain": [
              "      conversion  no conversion\n",
              "test                           \n",
              "A            198          23541\n",
              "B            184          22404"
            ]
          },
          "metadata": {},
          "execution_count": 4
        }
      ]
    },
    {
      "cell_type": "markdown",
      "metadata": {
        "id": "dM1PvKu4BNtE"
      },
      "source": [
        "Saquemos la proporción de conversiones que hubo comparadas con el total de pruebas que se realizaron:"
      ]
    },
    {
      "cell_type": "code",
      "metadata": {
        "colab": {
          "base_uri": "https://localhost:8080/",
          "height": 143
        },
        "id": "O2ZMix7dBNtF",
        "outputId": "a1bbda30-fd7a-48fd-b024-d115bf2c0695"
      },
      "source": [
        "total_count['success rate'] = total_count['conversion'] / (total_count['conversion'] + total_count['no conversion'])\n",
        "total_count"
      ],
      "execution_count": 5,
      "outputs": [
        {
          "output_type": "execute_result",
          "data": {
            "text/html": [
              "<div>\n",
              "<style scoped>\n",
              "    .dataframe tbody tr th:only-of-type {\n",
              "        vertical-align: middle;\n",
              "    }\n",
              "\n",
              "    .dataframe tbody tr th {\n",
              "        vertical-align: top;\n",
              "    }\n",
              "\n",
              "    .dataframe thead th {\n",
              "        text-align: right;\n",
              "    }\n",
              "</style>\n",
              "<table border=\"1\" class=\"dataframe\">\n",
              "  <thead>\n",
              "    <tr style=\"text-align: right;\">\n",
              "      <th></th>\n",
              "      <th>conversion</th>\n",
              "      <th>no conversion</th>\n",
              "      <th>success rate</th>\n",
              "    </tr>\n",
              "    <tr>\n",
              "      <th>test</th>\n",
              "      <th></th>\n",
              "      <th></th>\n",
              "      <th></th>\n",
              "    </tr>\n",
              "  </thead>\n",
              "  <tbody>\n",
              "    <tr>\n",
              "      <th>A</th>\n",
              "      <td>198</td>\n",
              "      <td>23541</td>\n",
              "      <td>0.008341</td>\n",
              "    </tr>\n",
              "    <tr>\n",
              "      <th>B</th>\n",
              "      <td>184</td>\n",
              "      <td>22404</td>\n",
              "      <td>0.008146</td>\n",
              "    </tr>\n",
              "  </tbody>\n",
              "</table>\n",
              "</div>"
            ],
            "text/plain": [
              "      conversion  no conversion  success rate\n",
              "test                                         \n",
              "A            198          23541      0.008341\n",
              "B            184          22404      0.008146"
            ]
          },
          "metadata": {},
          "execution_count": 5
        }
      ]
    },
    {
      "cell_type": "markdown",
      "metadata": {
        "id": "fh-qFMk-BNtF"
      },
      "source": [
        "Con estos datos parecería que el flujo A (la hipótesis alternativa) es superior al flujo B. Veamos qué tan superior:"
      ]
    },
    {
      "cell_type": "code",
      "metadata": {
        "colab": {
          "base_uri": "https://localhost:8080/"
        },
        "id": "r6oQNIDyBtX1",
        "outputId": "6f7862de-ab87-4cd9-8d8a-7d77b7ad11a4"
      },
      "source": [
        "total_count.loc['B']['success rate'] / total_count.loc['A']['success rate']"
      ],
      "execution_count": 8,
      "outputs": [
        {
          "output_type": "execute_result",
          "data": {
            "text/plain": [
              "0.9766462213779373"
            ]
          },
          "metadata": {},
          "execution_count": 8
        }
      ]
    },
    {
      "cell_type": "code",
      "metadata": {
        "id": "ktTRoe1RBNtG"
      },
      "source": [
        "diferencia_en_proporcion = 1 - (total_count.loc['B']['success rate'] / total_count.loc['A']['success rate'])\n",
        "diferencia_en_porcentaje = diferencia_en_proporcion * 100"
      ],
      "execution_count": 6,
      "outputs": []
    },
    {
      "cell_type": "code",
      "metadata": {
        "colab": {
          "base_uri": "https://localhost:8080/"
        },
        "id": "1arU99CABNtH",
        "outputId": "ae1f6408-5db1-40da-b95e-9740e68fa9c0"
      },
      "source": [
        "print(f'El test A fue {diferencia_en_porcentaje:.2f}% más `efectivo que el test B para generar ventas.')"
      ],
      "execution_count": 9,
      "outputs": [
        {
          "output_type": "stream",
          "name": "stdout",
          "text": [
            "El test A fue 2.34% más `efectivo que el test B para generar ventas.\n"
          ]
        }
      ]
    },
    {
      "cell_type": "markdown",
      "metadata": {
        "id": "nK15eJoaBNtH"
      },
      "source": [
        "¿Ahora, podemos entonces concluir que el flujo de ventas A es mejor que el B? No tan rápido. Vamos a aplicar un test de permutación para saber si nuestro hallazgo es estadísticamente significativo.\n",
        "\n",
        "Primero tenemos que mezclar las mediciones del test A y el B en el mismo DataFrame. Esto ya está hecho, entonces solamente vamos a eliminar la columna 'test' para que no haya manera de diferenciarlos:"
      ]
    },
    {
      "cell_type": "code",
      "metadata": {
        "id": "py7Kuj9VBNtI"
      },
      "source": [
        "all_measurements = df[['conversion', 'no conversion']]"
      ],
      "execution_count": 10,
      "outputs": []
    },
    {
      "cell_type": "code",
      "metadata": {
        "colab": {
          "base_uri": "https://localhost:8080/",
          "height": 423
        },
        "id": "Hpu8vWrVChhb",
        "outputId": "98988ec4-1efc-4086-db9b-c4528ac93bac"
      },
      "source": [
        "all_measurements"
      ],
      "execution_count": 12,
      "outputs": [
        {
          "output_type": "execute_result",
          "data": {
            "text/html": [
              "<div>\n",
              "<style scoped>\n",
              "    .dataframe tbody tr th:only-of-type {\n",
              "        vertical-align: middle;\n",
              "    }\n",
              "\n",
              "    .dataframe tbody tr th {\n",
              "        vertical-align: top;\n",
              "    }\n",
              "\n",
              "    .dataframe thead th {\n",
              "        text-align: right;\n",
              "    }\n",
              "</style>\n",
              "<table border=\"1\" class=\"dataframe\">\n",
              "  <thead>\n",
              "    <tr style=\"text-align: right;\">\n",
              "      <th></th>\n",
              "      <th>conversion</th>\n",
              "      <th>no conversion</th>\n",
              "    </tr>\n",
              "  </thead>\n",
              "  <tbody>\n",
              "    <tr>\n",
              "      <th>0</th>\n",
              "      <td>0</td>\n",
              "      <td>1</td>\n",
              "    </tr>\n",
              "    <tr>\n",
              "      <th>1</th>\n",
              "      <td>0</td>\n",
              "      <td>1</td>\n",
              "    </tr>\n",
              "    <tr>\n",
              "      <th>2</th>\n",
              "      <td>0</td>\n",
              "      <td>1</td>\n",
              "    </tr>\n",
              "    <tr>\n",
              "      <th>3</th>\n",
              "      <td>0</td>\n",
              "      <td>1</td>\n",
              "    </tr>\n",
              "    <tr>\n",
              "      <th>4</th>\n",
              "      <td>0</td>\n",
              "      <td>1</td>\n",
              "    </tr>\n",
              "    <tr>\n",
              "      <th>...</th>\n",
              "      <td>...</td>\n",
              "      <td>...</td>\n",
              "    </tr>\n",
              "    <tr>\n",
              "      <th>46322</th>\n",
              "      <td>0</td>\n",
              "      <td>1</td>\n",
              "    </tr>\n",
              "    <tr>\n",
              "      <th>46323</th>\n",
              "      <td>0</td>\n",
              "      <td>1</td>\n",
              "    </tr>\n",
              "    <tr>\n",
              "      <th>46324</th>\n",
              "      <td>0</td>\n",
              "      <td>1</td>\n",
              "    </tr>\n",
              "    <tr>\n",
              "      <th>46325</th>\n",
              "      <td>0</td>\n",
              "      <td>1</td>\n",
              "    </tr>\n",
              "    <tr>\n",
              "      <th>46326</th>\n",
              "      <td>0</td>\n",
              "      <td>1</td>\n",
              "    </tr>\n",
              "  </tbody>\n",
              "</table>\n",
              "<p>46327 rows × 2 columns</p>\n",
              "</div>"
            ],
            "text/plain": [
              "       conversion  no conversion\n",
              "0               0              1\n",
              "1               0              1\n",
              "2               0              1\n",
              "3               0              1\n",
              "4               0              1\n",
              "...           ...            ...\n",
              "46322           0              1\n",
              "46323           0              1\n",
              "46324           0              1\n",
              "46325           0              1\n",
              "46326           0              1\n",
              "\n",
              "[46327 rows x 2 columns]"
            ]
          },
          "metadata": {},
          "execution_count": 12
        }
      ]
    },
    {
      "cell_type": "markdown",
      "metadata": {
        "id": "SxZZlCtyBNtI"
      },
      "source": [
        "Ahora necesitamos saber cuántos tests con el flujo A hubieron para poder generar muestras del mismo tamaño exactamente:"
      ]
    },
    {
      "cell_type": "code",
      "metadata": {
        "colab": {
          "base_uri": "https://localhost:8080/"
        },
        "id": "AU5VV0MnBNtI",
        "outputId": "1cedd5ce-ff5b-4cde-99bf-c02d30521ee0"
      },
      "source": [
        "value_counts = df['test'].value_counts()\n",
        "\n",
        "value_counts"
      ],
      "execution_count": 13,
      "outputs": [
        {
          "output_type": "execute_result",
          "data": {
            "text/plain": [
              "A    23739\n",
              "B    22588\n",
              "Name: test, dtype: int64"
            ]
          },
          "metadata": {},
          "execution_count": 13
        }
      ]
    },
    {
      "cell_type": "markdown",
      "metadata": {
        "id": "UVbUCycgBNtJ"
      },
      "source": [
        "Ahora vamos a aplicar el resto del algoritmo del test de permutación:\n",
        "\n",
        "1. Usando muestreo aleatorio sin reposición, construye un nuevo grupo A del mismo tamaño que el original.\n",
        "2. El resto de los datos conforman nuestro nuevo grupo B.\n",
        "3. Cuantifica la métrica o estadística que calculaste con los grupos originales y guarda el resultado.\n",
        "4. Repite los pasos 1-5 `R` veces para obtener una distribución de la estadística de interés."
      ]
    },
    {
      "cell_type": "code",
      "metadata": {
        "id": "F-tn9tlmBNtJ"
      },
      "source": [
        "conv_a = []\n",
        "no_conv_a = []\n",
        "conv_b = []\n",
        "no_conv_b = []\n",
        "\n",
        "for _ in range(1000):\n",
        "    a = df.sample(value_counts.loc['A'], replace=False)\n",
        "    conv_a.append(a['conversion'].sum())\n",
        "    no_conv_a.append(a['no conversion'].sum())\n",
        "    \n",
        "    b = df.loc[~df.index.isin(a.index)]\n",
        "    conv_b.append(b['conversion'].sum())\n",
        "    no_conv_b.append(b['no conversion'].sum())"
      ],
      "execution_count": 15,
      "outputs": []
    },
    {
      "cell_type": "code",
      "metadata": {
        "colab": {
          "base_uri": "https://localhost:8080/"
        },
        "id": "bvco1slSDU0X",
        "outputId": "f85b739d-cc5b-4681-9bd7-06129275bae4"
      },
      "source": [
        "a, b"
      ],
      "execution_count": 17,
      "outputs": [
        {
          "output_type": "execute_result",
          "data": {
            "text/plain": [
              "(      test  conversion  no conversion\n",
              " 155      A           0              1\n",
              " 15425    B           0              1\n",
              " 39471    B           0              1\n",
              " 21248    A           0              1\n",
              " 26529    A           0              1\n",
              " ...    ...         ...            ...\n",
              " 25386    B           0              1\n",
              " 45343    A           0              1\n",
              " 180      A           0              1\n",
              " 15935    B           0              1\n",
              " 20184    A           0              1\n",
              " \n",
              " [23739 rows x 3 columns],       test  conversion  no conversion\n",
              " 0        B           0              1\n",
              " 2        A           0              1\n",
              " 7        B           0              1\n",
              " 16       A           0              1\n",
              " 17       B           0              1\n",
              " ...    ...         ...            ...\n",
              " 46319    A           0              1\n",
              " 46321    B           0              1\n",
              " 46323    B           0              1\n",
              " 46325    A           0              1\n",
              " 46326    A           0              1\n",
              " \n",
              " [22588 rows x 3 columns])"
            ]
          },
          "metadata": {},
          "execution_count": 17
        }
      ]
    },
    {
      "cell_type": "code",
      "metadata": {
        "colab": {
          "base_uri": "https://localhost:8080/",
          "height": 423
        },
        "id": "331Hc7ULBNtK",
        "outputId": "a2752ca5-c47b-4c9a-9310-7eef672ed1ea"
      },
      "source": [
        "perm_results = pd.DataFrame({\n",
        "    'conv_a': conv_a,\n",
        "    'no_conv_a': no_conv_a,\n",
        "    'conv_b': conv_b,\n",
        "    'no_conv_b': no_conv_b\n",
        "})\n",
        "\n",
        "perm_results"
      ],
      "execution_count": 19,
      "outputs": [
        {
          "output_type": "execute_result",
          "data": {
            "text/html": [
              "<div>\n",
              "<style scoped>\n",
              "    .dataframe tbody tr th:only-of-type {\n",
              "        vertical-align: middle;\n",
              "    }\n",
              "\n",
              "    .dataframe tbody tr th {\n",
              "        vertical-align: top;\n",
              "    }\n",
              "\n",
              "    .dataframe thead th {\n",
              "        text-align: right;\n",
              "    }\n",
              "</style>\n",
              "<table border=\"1\" class=\"dataframe\">\n",
              "  <thead>\n",
              "    <tr style=\"text-align: right;\">\n",
              "      <th></th>\n",
              "      <th>conv_a</th>\n",
              "      <th>no_conv_a</th>\n",
              "      <th>conv_b</th>\n",
              "      <th>no_conv_b</th>\n",
              "    </tr>\n",
              "  </thead>\n",
              "  <tbody>\n",
              "    <tr>\n",
              "      <th>0</th>\n",
              "      <td>197</td>\n",
              "      <td>23542</td>\n",
              "      <td>185</td>\n",
              "      <td>22403</td>\n",
              "    </tr>\n",
              "    <tr>\n",
              "      <th>1</th>\n",
              "      <td>201</td>\n",
              "      <td>23538</td>\n",
              "      <td>181</td>\n",
              "      <td>22407</td>\n",
              "    </tr>\n",
              "    <tr>\n",
              "      <th>2</th>\n",
              "      <td>197</td>\n",
              "      <td>23542</td>\n",
              "      <td>185</td>\n",
              "      <td>22403</td>\n",
              "    </tr>\n",
              "    <tr>\n",
              "      <th>3</th>\n",
              "      <td>189</td>\n",
              "      <td>23550</td>\n",
              "      <td>193</td>\n",
              "      <td>22395</td>\n",
              "    </tr>\n",
              "    <tr>\n",
              "      <th>4</th>\n",
              "      <td>203</td>\n",
              "      <td>23536</td>\n",
              "      <td>179</td>\n",
              "      <td>22409</td>\n",
              "    </tr>\n",
              "    <tr>\n",
              "      <th>...</th>\n",
              "      <td>...</td>\n",
              "      <td>...</td>\n",
              "      <td>...</td>\n",
              "      <td>...</td>\n",
              "    </tr>\n",
              "    <tr>\n",
              "      <th>995</th>\n",
              "      <td>190</td>\n",
              "      <td>23549</td>\n",
              "      <td>192</td>\n",
              "      <td>22396</td>\n",
              "    </tr>\n",
              "    <tr>\n",
              "      <th>996</th>\n",
              "      <td>201</td>\n",
              "      <td>23538</td>\n",
              "      <td>181</td>\n",
              "      <td>22407</td>\n",
              "    </tr>\n",
              "    <tr>\n",
              "      <th>997</th>\n",
              "      <td>210</td>\n",
              "      <td>23529</td>\n",
              "      <td>172</td>\n",
              "      <td>22416</td>\n",
              "    </tr>\n",
              "    <tr>\n",
              "      <th>998</th>\n",
              "      <td>192</td>\n",
              "      <td>23547</td>\n",
              "      <td>190</td>\n",
              "      <td>22398</td>\n",
              "    </tr>\n",
              "    <tr>\n",
              "      <th>999</th>\n",
              "      <td>201</td>\n",
              "      <td>23538</td>\n",
              "      <td>181</td>\n",
              "      <td>22407</td>\n",
              "    </tr>\n",
              "  </tbody>\n",
              "</table>\n",
              "<p>1000 rows × 4 columns</p>\n",
              "</div>"
            ],
            "text/plain": [
              "     conv_a  no_conv_a  conv_b  no_conv_b\n",
              "0       197      23542     185      22403\n",
              "1       201      23538     181      22407\n",
              "2       197      23542     185      22403\n",
              "3       189      23550     193      22395\n",
              "4       203      23536     179      22409\n",
              "..      ...        ...     ...        ...\n",
              "995     190      23549     192      22396\n",
              "996     201      23538     181      22407\n",
              "997     210      23529     172      22416\n",
              "998     192      23547     190      22398\n",
              "999     201      23538     181      22407\n",
              "\n",
              "[1000 rows x 4 columns]"
            ]
          },
          "metadata": {},
          "execution_count": 19
        }
      ]
    },
    {
      "cell_type": "code",
      "metadata": {
        "id": "AuVEgFLeBNtK"
      },
      "source": [
        "perm_results['a_conv_rate'] = perm_results['conv_a'] / (perm_results['conv_a'] + perm_results['no_conv_a'])\n",
        "perm_results['b_conv_rate'] = perm_results['conv_b'] / (perm_results['conv_b'] + perm_results['no_conv_b'])"
      ],
      "execution_count": 20,
      "outputs": []
    },
    {
      "cell_type": "code",
      "metadata": {
        "colab": {
          "base_uri": "https://localhost:8080/",
          "height": 423
        },
        "id": "m6-QZht-BNtL",
        "outputId": "7628e10b-478f-4e8f-953c-d236446352c3"
      },
      "source": [
        "perm_results"
      ],
      "execution_count": 21,
      "outputs": [
        {
          "output_type": "execute_result",
          "data": {
            "text/html": [
              "<div>\n",
              "<style scoped>\n",
              "    .dataframe tbody tr th:only-of-type {\n",
              "        vertical-align: middle;\n",
              "    }\n",
              "\n",
              "    .dataframe tbody tr th {\n",
              "        vertical-align: top;\n",
              "    }\n",
              "\n",
              "    .dataframe thead th {\n",
              "        text-align: right;\n",
              "    }\n",
              "</style>\n",
              "<table border=\"1\" class=\"dataframe\">\n",
              "  <thead>\n",
              "    <tr style=\"text-align: right;\">\n",
              "      <th></th>\n",
              "      <th>conv_a</th>\n",
              "      <th>no_conv_a</th>\n",
              "      <th>conv_b</th>\n",
              "      <th>no_conv_b</th>\n",
              "      <th>a_conv_rate</th>\n",
              "      <th>b_conv_rate</th>\n",
              "    </tr>\n",
              "  </thead>\n",
              "  <tbody>\n",
              "    <tr>\n",
              "      <th>0</th>\n",
              "      <td>197</td>\n",
              "      <td>23542</td>\n",
              "      <td>185</td>\n",
              "      <td>22403</td>\n",
              "      <td>0.008299</td>\n",
              "      <td>0.008190</td>\n",
              "    </tr>\n",
              "    <tr>\n",
              "      <th>1</th>\n",
              "      <td>201</td>\n",
              "      <td>23538</td>\n",
              "      <td>181</td>\n",
              "      <td>22407</td>\n",
              "      <td>0.008467</td>\n",
              "      <td>0.008013</td>\n",
              "    </tr>\n",
              "    <tr>\n",
              "      <th>2</th>\n",
              "      <td>197</td>\n",
              "      <td>23542</td>\n",
              "      <td>185</td>\n",
              "      <td>22403</td>\n",
              "      <td>0.008299</td>\n",
              "      <td>0.008190</td>\n",
              "    </tr>\n",
              "    <tr>\n",
              "      <th>3</th>\n",
              "      <td>189</td>\n",
              "      <td>23550</td>\n",
              "      <td>193</td>\n",
              "      <td>22395</td>\n",
              "      <td>0.007962</td>\n",
              "      <td>0.008544</td>\n",
              "    </tr>\n",
              "    <tr>\n",
              "      <th>4</th>\n",
              "      <td>203</td>\n",
              "      <td>23536</td>\n",
              "      <td>179</td>\n",
              "      <td>22409</td>\n",
              "      <td>0.008551</td>\n",
              "      <td>0.007925</td>\n",
              "    </tr>\n",
              "    <tr>\n",
              "      <th>...</th>\n",
              "      <td>...</td>\n",
              "      <td>...</td>\n",
              "      <td>...</td>\n",
              "      <td>...</td>\n",
              "      <td>...</td>\n",
              "      <td>...</td>\n",
              "    </tr>\n",
              "    <tr>\n",
              "      <th>995</th>\n",
              "      <td>190</td>\n",
              "      <td>23549</td>\n",
              "      <td>192</td>\n",
              "      <td>22396</td>\n",
              "      <td>0.008004</td>\n",
              "      <td>0.008500</td>\n",
              "    </tr>\n",
              "    <tr>\n",
              "      <th>996</th>\n",
              "      <td>201</td>\n",
              "      <td>23538</td>\n",
              "      <td>181</td>\n",
              "      <td>22407</td>\n",
              "      <td>0.008467</td>\n",
              "      <td>0.008013</td>\n",
              "    </tr>\n",
              "    <tr>\n",
              "      <th>997</th>\n",
              "      <td>210</td>\n",
              "      <td>23529</td>\n",
              "      <td>172</td>\n",
              "      <td>22416</td>\n",
              "      <td>0.008846</td>\n",
              "      <td>0.007615</td>\n",
              "    </tr>\n",
              "    <tr>\n",
              "      <th>998</th>\n",
              "      <td>192</td>\n",
              "      <td>23547</td>\n",
              "      <td>190</td>\n",
              "      <td>22398</td>\n",
              "      <td>0.008088</td>\n",
              "      <td>0.008412</td>\n",
              "    </tr>\n",
              "    <tr>\n",
              "      <th>999</th>\n",
              "      <td>201</td>\n",
              "      <td>23538</td>\n",
              "      <td>181</td>\n",
              "      <td>22407</td>\n",
              "      <td>0.008467</td>\n",
              "      <td>0.008013</td>\n",
              "    </tr>\n",
              "  </tbody>\n",
              "</table>\n",
              "<p>1000 rows × 6 columns</p>\n",
              "</div>"
            ],
            "text/plain": [
              "     conv_a  no_conv_a  conv_b  no_conv_b  a_conv_rate  b_conv_rate\n",
              "0       197      23542     185      22403     0.008299     0.008190\n",
              "1       201      23538     181      22407     0.008467     0.008013\n",
              "2       197      23542     185      22403     0.008299     0.008190\n",
              "3       189      23550     193      22395     0.007962     0.008544\n",
              "4       203      23536     179      22409     0.008551     0.007925\n",
              "..      ...        ...     ...        ...          ...          ...\n",
              "995     190      23549     192      22396     0.008004     0.008500\n",
              "996     201      23538     181      22407     0.008467     0.008013\n",
              "997     210      23529     172      22416     0.008846     0.007615\n",
              "998     192      23547     190      22398     0.008088     0.008412\n",
              "999     201      23538     181      22407     0.008467     0.008013\n",
              "\n",
              "[1000 rows x 6 columns]"
            ]
          },
          "metadata": {},
          "execution_count": 21
        }
      ]
    },
    {
      "cell_type": "code",
      "metadata": {
        "colab": {
          "base_uri": "https://localhost:8080/",
          "height": 423
        },
        "id": "5v01T5ktBNtL",
        "outputId": "6337aa28-83bc-4e3e-e52e-9e71af757969"
      },
      "source": [
        "perm_results['diff'] = 1 - (perm_results['b_conv_rate'] / perm_results['a_conv_rate'])\n",
        "\n",
        "perm_results"
      ],
      "execution_count": 22,
      "outputs": [
        {
          "output_type": "execute_result",
          "data": {
            "text/html": [
              "<div>\n",
              "<style scoped>\n",
              "    .dataframe tbody tr th:only-of-type {\n",
              "        vertical-align: middle;\n",
              "    }\n",
              "\n",
              "    .dataframe tbody tr th {\n",
              "        vertical-align: top;\n",
              "    }\n",
              "\n",
              "    .dataframe thead th {\n",
              "        text-align: right;\n",
              "    }\n",
              "</style>\n",
              "<table border=\"1\" class=\"dataframe\">\n",
              "  <thead>\n",
              "    <tr style=\"text-align: right;\">\n",
              "      <th></th>\n",
              "      <th>conv_a</th>\n",
              "      <th>no_conv_a</th>\n",
              "      <th>conv_b</th>\n",
              "      <th>no_conv_b</th>\n",
              "      <th>a_conv_rate</th>\n",
              "      <th>b_conv_rate</th>\n",
              "      <th>diff</th>\n",
              "    </tr>\n",
              "  </thead>\n",
              "  <tbody>\n",
              "    <tr>\n",
              "      <th>0</th>\n",
              "      <td>197</td>\n",
              "      <td>23542</td>\n",
              "      <td>185</td>\n",
              "      <td>22403</td>\n",
              "      <td>0.008299</td>\n",
              "      <td>0.008190</td>\n",
              "      <td>0.013061</td>\n",
              "    </tr>\n",
              "    <tr>\n",
              "      <th>1</th>\n",
              "      <td>201</td>\n",
              "      <td>23538</td>\n",
              "      <td>181</td>\n",
              "      <td>22407</td>\n",
              "      <td>0.008467</td>\n",
              "      <td>0.008013</td>\n",
              "      <td>0.053617</td>\n",
              "    </tr>\n",
              "    <tr>\n",
              "      <th>2</th>\n",
              "      <td>197</td>\n",
              "      <td>23542</td>\n",
              "      <td>185</td>\n",
              "      <td>22403</td>\n",
              "      <td>0.008299</td>\n",
              "      <td>0.008190</td>\n",
              "      <td>0.013061</td>\n",
              "    </tr>\n",
              "    <tr>\n",
              "      <th>3</th>\n",
              "      <td>189</td>\n",
              "      <td>23550</td>\n",
              "      <td>193</td>\n",
              "      <td>22395</td>\n",
              "      <td>0.007962</td>\n",
              "      <td>0.008544</td>\n",
              "      <td>-0.073199</td>\n",
              "    </tr>\n",
              "    <tr>\n",
              "      <th>4</th>\n",
              "      <td>203</td>\n",
              "      <td>23536</td>\n",
              "      <td>179</td>\n",
              "      <td>22409</td>\n",
              "      <td>0.008551</td>\n",
              "      <td>0.007925</td>\n",
              "      <td>0.073295</td>\n",
              "    </tr>\n",
              "    <tr>\n",
              "      <th>...</th>\n",
              "      <td>...</td>\n",
              "      <td>...</td>\n",
              "      <td>...</td>\n",
              "      <td>...</td>\n",
              "      <td>...</td>\n",
              "      <td>...</td>\n",
              "      <td>...</td>\n",
              "    </tr>\n",
              "    <tr>\n",
              "      <th>995</th>\n",
              "      <td>190</td>\n",
              "      <td>23549</td>\n",
              "      <td>192</td>\n",
              "      <td>22396</td>\n",
              "      <td>0.008004</td>\n",
              "      <td>0.008500</td>\n",
              "      <td>-0.062019</td>\n",
              "    </tr>\n",
              "    <tr>\n",
              "      <th>996</th>\n",
              "      <td>201</td>\n",
              "      <td>23538</td>\n",
              "      <td>181</td>\n",
              "      <td>22407</td>\n",
              "      <td>0.008467</td>\n",
              "      <td>0.008013</td>\n",
              "      <td>0.053617</td>\n",
              "    </tr>\n",
              "    <tr>\n",
              "      <th>997</th>\n",
              "      <td>210</td>\n",
              "      <td>23529</td>\n",
              "      <td>172</td>\n",
              "      <td>22416</td>\n",
              "      <td>0.008846</td>\n",
              "      <td>0.007615</td>\n",
              "      <td>0.139217</td>\n",
              "    </tr>\n",
              "    <tr>\n",
              "      <th>998</th>\n",
              "      <td>192</td>\n",
              "      <td>23547</td>\n",
              "      <td>190</td>\n",
              "      <td>22398</td>\n",
              "      <td>0.008088</td>\n",
              "      <td>0.008412</td>\n",
              "      <td>-0.040009</td>\n",
              "    </tr>\n",
              "    <tr>\n",
              "      <th>999</th>\n",
              "      <td>201</td>\n",
              "      <td>23538</td>\n",
              "      <td>181</td>\n",
              "      <td>22407</td>\n",
              "      <td>0.008467</td>\n",
              "      <td>0.008013</td>\n",
              "      <td>0.053617</td>\n",
              "    </tr>\n",
              "  </tbody>\n",
              "</table>\n",
              "<p>1000 rows × 7 columns</p>\n",
              "</div>"
            ],
            "text/plain": [
              "     conv_a  no_conv_a  conv_b  no_conv_b  a_conv_rate  b_conv_rate      diff\n",
              "0       197      23542     185      22403     0.008299     0.008190  0.013061\n",
              "1       201      23538     181      22407     0.008467     0.008013  0.053617\n",
              "2       197      23542     185      22403     0.008299     0.008190  0.013061\n",
              "3       189      23550     193      22395     0.007962     0.008544 -0.073199\n",
              "4       203      23536     179      22409     0.008551     0.007925  0.073295\n",
              "..      ...        ...     ...        ...          ...          ...       ...\n",
              "995     190      23549     192      22396     0.008004     0.008500 -0.062019\n",
              "996     201      23538     181      22407     0.008467     0.008013  0.053617\n",
              "997     210      23529     172      22416     0.008846     0.007615  0.139217\n",
              "998     192      23547     190      22398     0.008088     0.008412 -0.040009\n",
              "999     201      23538     181      22407     0.008467     0.008013  0.053617\n",
              "\n",
              "[1000 rows x 7 columns]"
            ]
          },
          "metadata": {},
          "execution_count": 22
        }
      ]
    },
    {
      "cell_type": "markdown",
      "metadata": {
        "id": "VMZs7Li9BNtL"
      },
      "source": [
        "Ya tenemos nuestros resultados, vamos a ver dónde cae en nuestra distribución el resultado que obtuvimos en nuestro experimento:"
      ]
    },
    {
      "cell_type": "code",
      "metadata": {
        "colab": {
          "base_uri": "https://localhost:8080/",
          "height": 334
        },
        "id": "eza29WQxBNtL",
        "outputId": "3fdc3e14-4295-4dce-cc26-18a2adb61319"
      },
      "source": [
        "sns.distplot(perm_results['diff'], kde=False, norm_hist=False)\n",
        "\n",
        "plt.axvline(diferencia_en_proporcion);"
      ],
      "execution_count": 23,
      "outputs": [
        {
          "output_type": "stream",
          "name": "stderr",
          "text": [
            "/usr/local/lib/python3.7/dist-packages/seaborn/distributions.py:2619: FutureWarning: `distplot` is a deprecated function and will be removed in a future version. Please adapt your code to use either `displot` (a figure-level function with similar flexibility) or `histplot` (an axes-level function for histograms).\n",
            "  warnings.warn(msg, FutureWarning)\n"
          ]
        },
        {
          "output_type": "display_data",
          "data": {
            "image/png": "[encoded data removed]",
            "text/plain": [
              "<Figure size 432x288 with 1 Axes>"
            ]
          },
          "metadata": {
            "needs_background": "light"
          }
        }
      ]
    },
    {
      "cell_type": "markdown",
      "metadata": {
        "id": "-vH4ADX1BNtM"
      },
      "source": [
        "Solamente de ver la histograma podemos concluir que nuestro resultado es de hecho bastante típico. Un gran número de modelos realizados totalmente al azar tuvieron valores iguales o más extremos que el que obtuvimos en nuestro experimento.\n",
        "\n",
        "Vamos ahora a obtener el Valor P para cuantificar numéricamente nuestro resultado:"
      ]
    },
    {
      "cell_type": "code",
      "metadata": {
        "colab": {
          "base_uri": "https://localhost:8080/"
        },
        "id": "JlMPWnGlBNtM",
        "outputId": "266d2392-2edf-48a0-8de8-b2627e7f3f2a"
      },
      "source": [
        "(perm_results['diff'] >= diferencia_en_proporcion).sum() / perm_results.shape[0]"
      ],
      "execution_count": 24,
      "outputs": [
        {
          "output_type": "execute_result",
          "data": {
            "text/plain": [
              "0.411"
            ]
          },
          "metadata": {},
          "execution_count": 24
        }
      ]
    },
    {
      "cell_type": "markdown",
      "metadata": {
        "id": "xW5jfZbmBNtN"
      },
      "source": [
        "Este valor quiere decir que el 41.6% de los test que hicimos obtuvieron un valor igual o más extremo que el obtenido en el experimento. Esto está extremadamente alejado de un Alfa de 5%, y por lo tanto definitivamente nuestro resultado **no es estadísticamente significativo**."
      ]
    },
    {
      "cell_type": "markdown",
      "metadata": {
        "id": "WXP3kk7EGYap"
      },
      "source": [
        "# Reto 1"
      ]
    },
    {
      "cell_type": "code",
      "metadata": {
        "colab": {
          "base_uri": "https://localhost:8080/",
          "height": 423
        },
        "id": "x_zvZchXBNtN",
        "outputId": "c882b057-c890-4160-a398-578600a909de"
      },
      "source": [
        "df = pd.read_csv('/content/drive/MyDrive/BEDU/Remoto Datasets/Remoto ab_test-sales_pipeline-2.csv')\n",
        "\n",
        "df"
      ],
      "execution_count": 25,
      "outputs": [
        {
          "output_type": "execute_result",
          "data": {
            "text/html": [
              "<div>\n",
              "<style scoped>\n",
              "    .dataframe tbody tr th:only-of-type {\n",
              "        vertical-align: middle;\n",
              "    }\n",
              "\n",
              "    .dataframe tbody tr th {\n",
              "        vertical-align: top;\n",
              "    }\n",
              "\n",
              "    .dataframe thead th {\n",
              "        text-align: right;\n",
              "    }\n",
              "</style>\n",
              "<table border=\"1\" class=\"dataframe\">\n",
              "  <thead>\n",
              "    <tr style=\"text-align: right;\">\n",
              "      <th></th>\n",
              "      <th>test</th>\n",
              "      <th>conversion</th>\n",
              "      <th>no conversion</th>\n",
              "    </tr>\n",
              "  </thead>\n",
              "  <tbody>\n",
              "    <tr>\n",
              "      <th>0</th>\n",
              "      <td>A</td>\n",
              "      <td>0</td>\n",
              "      <td>1</td>\n",
              "    </tr>\n",
              "    <tr>\n",
              "      <th>1</th>\n",
              "      <td>B</td>\n",
              "      <td>0</td>\n",
              "      <td>1</td>\n",
              "    </tr>\n",
              "    <tr>\n",
              "      <th>2</th>\n",
              "      <td>A</td>\n",
              "      <td>0</td>\n",
              "      <td>1</td>\n",
              "    </tr>\n",
              "    <tr>\n",
              "      <th>3</th>\n",
              "      <td>A</td>\n",
              "      <td>0</td>\n",
              "      <td>1</td>\n",
              "    </tr>\n",
              "    <tr>\n",
              "      <th>4</th>\n",
              "      <td>B</td>\n",
              "      <td>0</td>\n",
              "      <td>1</td>\n",
              "    </tr>\n",
              "    <tr>\n",
              "      <th>...</th>\n",
              "      <td>...</td>\n",
              "      <td>...</td>\n",
              "      <td>...</td>\n",
              "    </tr>\n",
              "    <tr>\n",
              "      <th>76322</th>\n",
              "      <td>B</td>\n",
              "      <td>0</td>\n",
              "      <td>1</td>\n",
              "    </tr>\n",
              "    <tr>\n",
              "      <th>76323</th>\n",
              "      <td>A</td>\n",
              "      <td>0</td>\n",
              "      <td>1</td>\n",
              "    </tr>\n",
              "    <tr>\n",
              "      <th>76324</th>\n",
              "      <td>B</td>\n",
              "      <td>0</td>\n",
              "      <td>1</td>\n",
              "    </tr>\n",
              "    <tr>\n",
              "      <th>76325</th>\n",
              "      <td>B</td>\n",
              "      <td>1</td>\n",
              "      <td>0</td>\n",
              "    </tr>\n",
              "    <tr>\n",
              "      <th>76326</th>\n",
              "      <td>B</td>\n",
              "      <td>0</td>\n",
              "      <td>1</td>\n",
              "    </tr>\n",
              "  </tbody>\n",
              "</table>\n",
              "<p>76327 rows × 3 columns</p>\n",
              "</div>"
            ],
            "text/plain": [
              "      test  conversion  no conversion\n",
              "0        A           0              1\n",
              "1        B           0              1\n",
              "2        A           0              1\n",
              "3        A           0              1\n",
              "4        B           0              1\n",
              "...    ...         ...            ...\n",
              "76322    B           0              1\n",
              "76323    A           0              1\n",
              "76324    B           0              1\n",
              "76325    B           1              0\n",
              "76326    B           0              1\n",
              "\n",
              "[76327 rows x 3 columns]"
            ]
          },
          "metadata": {},
          "execution_count": 25
        }
      ]
    },
    {
      "cell_type": "code",
      "metadata": {
        "colab": {
          "base_uri": "https://localhost:8080/",
          "height": 143
        },
        "id": "Ujwn0uhZGmwy",
        "outputId": "b8b30139-4a4d-45a2-e9fd-8a734238f9a7"
      },
      "source": [
        "total_count = df.groupby('test')[['conversion', 'no conversion']].sum()\n",
        "total_count \n",
        "#Agrupamos por tratamiento y obtenemos la suma para conversion y no conversion"
      ],
      "execution_count": 31,
      "outputs": [
        {
          "output_type": "execute_result",
          "data": {
            "text/html": [
              "<div>\n",
              "<style scoped>\n",
              "    .dataframe tbody tr th:only-of-type {\n",
              "        vertical-align: middle;\n",
              "    }\n",
              "\n",
              "    .dataframe tbody tr th {\n",
              "        vertical-align: top;\n",
              "    }\n",
              "\n",
              "    .dataframe thead th {\n",
              "        text-align: right;\n",
              "    }\n",
              "</style>\n",
              "<table border=\"1\" class=\"dataframe\">\n",
              "  <thead>\n",
              "    <tr style=\"text-align: right;\">\n",
              "      <th></th>\n",
              "      <th>conversion</th>\n",
              "      <th>no conversion</th>\n",
              "    </tr>\n",
              "    <tr>\n",
              "      <th>test</th>\n",
              "      <th></th>\n",
              "      <th></th>\n",
              "    </tr>\n",
              "  </thead>\n",
              "  <tbody>\n",
              "    <tr>\n",
              "      <th>A</th>\n",
              "      <td>4163</td>\n",
              "      <td>30576</td>\n",
              "    </tr>\n",
              "    <tr>\n",
              "      <th>B</th>\n",
              "      <td>4841</td>\n",
              "      <td>36747</td>\n",
              "    </tr>\n",
              "  </tbody>\n",
              "</table>\n",
              "</div>"
            ],
            "text/plain": [
              "      conversion  no conversion\n",
              "test                           \n",
              "A           4163          30576\n",
              "B           4841          36747"
            ]
          },
          "metadata": {},
          "execution_count": 31
        }
      ]
    },
    {
      "cell_type": "markdown",
      "metadata": {
        "id": "pJPYsde9I8AF"
      },
      "source": [
        "#### Cuantificar que flujo de ventas fue mejor"
      ]
    },
    {
      "cell_type": "code",
      "metadata": {
        "colab": {
          "base_uri": "https://localhost:8080/",
          "height": 143
        },
        "id": "nVA0c9EpG4-P",
        "outputId": "649371ee-ed4b-4e15-c866-aab9b0cfc34e"
      },
      "source": [
        "total_count['success rate'] = total_count['conversion'] / (total_count['conversion'] + total_count['no conversion'])\n",
        "total_count\n",
        "#Calculamos la tasa de exito para cada tratamiento\n",
        "#El tratamiento A, en primera vista tuvo una tasa de exito mas grande"
      ],
      "execution_count": 36,
      "outputs": [
        {
          "output_type": "execute_result",
          "data": {
            "text/html": [
              "<div>\n",
              "<style scoped>\n",
              "    .dataframe tbody tr th:only-of-type {\n",
              "        vertical-align: middle;\n",
              "    }\n",
              "\n",
              "    .dataframe tbody tr th {\n",
              "        vertical-align: top;\n",
              "    }\n",
              "\n",
              "    .dataframe thead th {\n",
              "        text-align: right;\n",
              "    }\n",
              "</style>\n",
              "<table border=\"1\" class=\"dataframe\">\n",
              "  <thead>\n",
              "    <tr style=\"text-align: right;\">\n",
              "      <th></th>\n",
              "      <th>conversion</th>\n",
              "      <th>no conversion</th>\n",
              "      <th>success rate</th>\n",
              "    </tr>\n",
              "    <tr>\n",
              "      <th>test</th>\n",
              "      <th></th>\n",
              "      <th></th>\n",
              "      <th></th>\n",
              "    </tr>\n",
              "  </thead>\n",
              "  <tbody>\n",
              "    <tr>\n",
              "      <th>A</th>\n",
              "      <td>4163</td>\n",
              "      <td>30576</td>\n",
              "      <td>0.119836</td>\n",
              "    </tr>\n",
              "    <tr>\n",
              "      <th>B</th>\n",
              "      <td>4841</td>\n",
              "      <td>36747</td>\n",
              "      <td>0.116404</td>\n",
              "    </tr>\n",
              "  </tbody>\n",
              "</table>\n",
              "</div>"
            ],
            "text/plain": [
              "      conversion  no conversion  success rate\n",
              "test                                         \n",
              "A           4163          30576      0.119836\n",
              "B           4841          36747      0.116404"
            ]
          },
          "metadata": {},
          "execution_count": 36
        }
      ]
    },
    {
      "cell_type": "code",
      "metadata": {
        "colab": {
          "base_uri": "https://localhost:8080/"
        },
        "id": "R3WANW-0H4uq",
        "outputId": "3f64bbe1-50d1-4ac2-89c8-2c5e69d91f53"
      },
      "source": [
        "#Sacamos la proporcion de exito de B con respecto a A, tomando en cuenta que A obtuvo un mejor resultado.\n",
        "diferencia_en_proporcion = 1 - (total_count.loc['B']['success rate'] / total_count.loc['A']['success rate'])\n",
        "diferencia_en_porcentaje = diferencia_en_proporcion * 100\n",
        "print(f'El test A fue {diferencia_en_porcentaje:.2f}% más `efectivo que el test B para generar ventas.')\n",
        "diferencia_en_proporcion"
      ],
      "execution_count": 51,
      "outputs": [
        {
          "output_type": "stream",
          "name": "stdout",
          "text": [
            "El test A fue 2.86% más `efectivo que el test B para generar ventas.\n"
          ]
        },
        {
          "output_type": "execute_result",
          "data": {
            "text/plain": [
              "0.028645069159369485"
            ]
          },
          "metadata": {},
          "execution_count": 51
        }
      ]
    },
    {
      "cell_type": "markdown",
      "metadata": {
        "id": "i6VD532tI12d"
      },
      "source": [
        "#### Test de permutacion"
      ]
    },
    {
      "cell_type": "code",
      "metadata": {
        "colab": {
          "base_uri": "https://localhost:8080/"
        },
        "id": "bRcGw8oNINe6",
        "outputId": "33d90761-4fd6-43e8-cad2-9d16a0c8ee17"
      },
      "source": [
        "#Combinar los resultados de los test A y B en un dataframe\n",
        "all_measurements = df[['conversion', 'no conversion']]\n",
        "\n",
        "#Calcular el tamanio de los test para saber cuantas muestras tomar por cada sampling\n",
        "value_counts = df['test'].value_counts()\n",
        "value_counts"
      ],
      "execution_count": 38,
      "outputs": [
        {
          "output_type": "execute_result",
          "data": {
            "text/plain": [
              "B    41588\n",
              "A    34739\n",
              "Name: test, dtype: int64"
            ]
          },
          "metadata": {},
          "execution_count": 38
        }
      ]
    },
    {
      "cell_type": "markdown",
      "metadata": {
        "id": "pKWnOd2FJsVu"
      },
      "source": [
        "#### Ahora vamos a aplicar el resto del algoritmo del test de permutación:\n",
        "\n",
        "1. Usando muestreo aleatorio sin reposición, construye un nuevo grupo A del mismo tamaño que el original.\n",
        "2. El resto de los datos conforman nuestro nuevo grupo B.\n",
        "3. Cuantifica la métrica o estadística que calculaste con los grupos originales y guarda el resultado.\n",
        "4. Repite los pasos 1-5 `R` veces para obtener una distribución de la estadística de interés."
      ]
    },
    {
      "cell_type": "code",
      "metadata": {
        "id": "1X1ojo_GJsV0"
      },
      "source": [
        "conv_a = []\n",
        "no_conv_a = []\n",
        "conv_b = []\n",
        "no_conv_b = []\n",
        "\n",
        "for _ in range(1000):\n",
        "    a = df.sample(value_counts.loc['A'], replace=False)\n",
        "    conv_a.append(a['conversion'].sum())\n",
        "    no_conv_a.append(a['no conversion'].sum())\n",
        "    \n",
        "    b = df.loc[~df.index.isin(a.index)]\n",
        "    conv_b.append(b['conversion'].sum())\n",
        "    no_conv_b.append(b['no conversion'].sum())"
      ],
      "execution_count": 39,
      "outputs": []
    },
    {
      "cell_type": "code",
      "metadata": {
        "colab": {
          "base_uri": "https://localhost:8080/",
          "height": 423
        },
        "id": "hVgOSNQLKmQh",
        "outputId": "1884ed87-6ebc-4b59-be06-eaf237d9c62a"
      },
      "source": [
        "perm_results = pd.DataFrame({\n",
        "    'conv_a': conv_a,\n",
        "    'no_conv_a': no_conv_a,\n",
        "    'conv_b': conv_b,\n",
        "    'no_conv_b': no_conv_b\n",
        "})\n",
        "perm_results"
      ],
      "execution_count": 40,
      "outputs": [
        {
          "output_type": "execute_result",
          "data": {
            "text/html": [
              "<div>\n",
              "<style scoped>\n",
              "    .dataframe tbody tr th:only-of-type {\n",
              "        vertical-align: middle;\n",
              "    }\n",
              "\n",
              "    .dataframe tbody tr th {\n",
              "        vertical-align: top;\n",
              "    }\n",
              "\n",
              "    .dataframe thead th {\n",
              "        text-align: right;\n",
              "    }\n",
              "</style>\n",
              "<table border=\"1\" class=\"dataframe\">\n",
              "  <thead>\n",
              "    <tr style=\"text-align: right;\">\n",
              "      <th></th>\n",
              "      <th>conv_a</th>\n",
              "      <th>no_conv_a</th>\n",
              "      <th>conv_b</th>\n",
              "      <th>no_conv_b</th>\n",
              "    </tr>\n",
              "  </thead>\n",
              "  <tbody>\n",
              "    <tr>\n",
              "      <th>0</th>\n",
              "      <td>4153</td>\n",
              "      <td>30586</td>\n",
              "      <td>4851</td>\n",
              "      <td>36737</td>\n",
              "    </tr>\n",
              "    <tr>\n",
              "      <th>1</th>\n",
              "      <td>4133</td>\n",
              "      <td>30606</td>\n",
              "      <td>4871</td>\n",
              "      <td>36717</td>\n",
              "    </tr>\n",
              "    <tr>\n",
              "      <th>2</th>\n",
              "      <td>4032</td>\n",
              "      <td>30707</td>\n",
              "      <td>4972</td>\n",
              "      <td>36616</td>\n",
              "    </tr>\n",
              "    <tr>\n",
              "      <th>3</th>\n",
              "      <td>4089</td>\n",
              "      <td>30650</td>\n",
              "      <td>4915</td>\n",
              "      <td>36673</td>\n",
              "    </tr>\n",
              "    <tr>\n",
              "      <th>4</th>\n",
              "      <td>3974</td>\n",
              "      <td>30765</td>\n",
              "      <td>5030</td>\n",
              "      <td>36558</td>\n",
              "    </tr>\n",
              "    <tr>\n",
              "      <th>...</th>\n",
              "      <td>...</td>\n",
              "      <td>...</td>\n",
              "      <td>...</td>\n",
              "      <td>...</td>\n",
              "    </tr>\n",
              "    <tr>\n",
              "      <th>995</th>\n",
              "      <td>4122</td>\n",
              "      <td>30617</td>\n",
              "      <td>4882</td>\n",
              "      <td>36706</td>\n",
              "    </tr>\n",
              "    <tr>\n",
              "      <th>996</th>\n",
              "      <td>4109</td>\n",
              "      <td>30630</td>\n",
              "      <td>4895</td>\n",
              "      <td>36693</td>\n",
              "    </tr>\n",
              "    <tr>\n",
              "      <th>997</th>\n",
              "      <td>4072</td>\n",
              "      <td>30667</td>\n",
              "      <td>4932</td>\n",
              "      <td>36656</td>\n",
              "    </tr>\n",
              "    <tr>\n",
              "      <th>998</th>\n",
              "      <td>4109</td>\n",
              "      <td>30630</td>\n",
              "      <td>4895</td>\n",
              "      <td>36693</td>\n",
              "    </tr>\n",
              "    <tr>\n",
              "      <th>999</th>\n",
              "      <td>4048</td>\n",
              "      <td>30691</td>\n",
              "      <td>4956</td>\n",
              "      <td>36632</td>\n",
              "    </tr>\n",
              "  </tbody>\n",
              "</table>\n",
              "<p>1000 rows × 4 columns</p>\n",
              "</div>"
            ],
            "text/plain": [
              "     conv_a  no_conv_a  conv_b  no_conv_b\n",
              "0      4153      30586    4851      36737\n",
              "1      4133      30606    4871      36717\n",
              "2      4032      30707    4972      36616\n",
              "3      4089      30650    4915      36673\n",
              "4      3974      30765    5030      36558\n",
              "..      ...        ...     ...        ...\n",
              "995    4122      30617    4882      36706\n",
              "996    4109      30630    4895      36693\n",
              "997    4072      30667    4932      36656\n",
              "998    4109      30630    4895      36693\n",
              "999    4048      30691    4956      36632\n",
              "\n",
              "[1000 rows x 4 columns]"
            ]
          },
          "metadata": {},
          "execution_count": 40
        }
      ]
    },
    {
      "cell_type": "code",
      "metadata": {
        "id": "ZbAEONdyKnZz"
      },
      "source": [
        "#Ahora calculamos la tasa de exito para cada sampling a y b\n",
        "perm_results['a_conv_rate'] = perm_results['conv_a'] / (perm_results['conv_a'] + perm_results['no_conv_a'])\n",
        "perm_results['b_conv_rate'] = perm_results['conv_b'] / (perm_results['conv_b'] + perm_results['no_conv_b'])"
      ],
      "execution_count": 41,
      "outputs": []
    },
    {
      "cell_type": "code",
      "metadata": {
        "colab": {
          "base_uri": "https://localhost:8080/",
          "height": 423
        },
        "id": "b18TbrvgLqdu",
        "outputId": "55a0a813-2069-4066-ac12-e684883af685"
      },
      "source": [
        "##Sacamos la proporcion de exito de b con respecto a 'a', tomando en cuenta que \n",
        "#estamos evaluando si A es mejor significativamente\n",
        "perm_results['diff'] = 1 - (perm_results['b_conv_rate'] / perm_results['a_conv_rate'])\n",
        "perm_results"
      ],
      "execution_count": 43,
      "outputs": [
        {
          "output_type": "execute_result",
          "data": {
            "text/html": [
              "<div>\n",
              "<style scoped>\n",
              "    .dataframe tbody tr th:only-of-type {\n",
              "        vertical-align: middle;\n",
              "    }\n",
              "\n",
              "    .dataframe tbody tr th {\n",
              "        vertical-align: top;\n",
              "    }\n",
              "\n",
              "    .dataframe thead th {\n",
              "        text-align: right;\n",
              "    }\n",
              "</style>\n",
              "<table border=\"1\" class=\"dataframe\">\n",
              "  <thead>\n",
              "    <tr style=\"text-align: right;\">\n",
              "      <th></th>\n",
              "      <th>conv_a</th>\n",
              "      <th>no_conv_a</th>\n",
              "      <th>conv_b</th>\n",
              "      <th>no_conv_b</th>\n",
              "      <th>a_conv_rate</th>\n",
              "      <th>b_conv_rate</th>\n",
              "      <th>diff</th>\n",
              "    </tr>\n",
              "  </thead>\n",
              "  <tbody>\n",
              "    <tr>\n",
              "      <th>0</th>\n",
              "      <td>4153</td>\n",
              "      <td>30586</td>\n",
              "      <td>4851</td>\n",
              "      <td>36737</td>\n",
              "      <td>0.119549</td>\n",
              "      <td>0.116644</td>\n",
              "      <td>0.024295</td>\n",
              "    </tr>\n",
              "    <tr>\n",
              "      <th>1</th>\n",
              "      <td>4133</td>\n",
              "      <td>30606</td>\n",
              "      <td>4871</td>\n",
              "      <td>36717</td>\n",
              "      <td>0.118973</td>\n",
              "      <td>0.117125</td>\n",
              "      <td>0.015531</td>\n",
              "    </tr>\n",
              "    <tr>\n",
              "      <th>2</th>\n",
              "      <td>4032</td>\n",
              "      <td>30707</td>\n",
              "      <td>4972</td>\n",
              "      <td>36616</td>\n",
              "      <td>0.116066</td>\n",
              "      <td>0.119554</td>\n",
              "      <td>-0.030054</td>\n",
              "    </tr>\n",
              "    <tr>\n",
              "      <th>3</th>\n",
              "      <td>4089</td>\n",
              "      <td>30650</td>\n",
              "      <td>4915</td>\n",
              "      <td>36673</td>\n",
              "      <td>0.117706</td>\n",
              "      <td>0.118183</td>\n",
              "      <td>-0.004051</td>\n",
              "    </tr>\n",
              "    <tr>\n",
              "      <th>4</th>\n",
              "      <td>3974</td>\n",
              "      <td>30765</td>\n",
              "      <td>5030</td>\n",
              "      <td>36558</td>\n",
              "      <td>0.114396</td>\n",
              "      <td>0.120948</td>\n",
              "      <td>-0.057278</td>\n",
              "    </tr>\n",
              "    <tr>\n",
              "      <th>...</th>\n",
              "      <td>...</td>\n",
              "      <td>...</td>\n",
              "      <td>...</td>\n",
              "      <td>...</td>\n",
              "      <td>...</td>\n",
              "      <td>...</td>\n",
              "      <td>...</td>\n",
              "    </tr>\n",
              "    <tr>\n",
              "      <th>995</th>\n",
              "      <td>4122</td>\n",
              "      <td>30617</td>\n",
              "      <td>4882</td>\n",
              "      <td>36706</td>\n",
              "      <td>0.118656</td>\n",
              "      <td>0.117390</td>\n",
              "      <td>0.010675</td>\n",
              "    </tr>\n",
              "    <tr>\n",
              "      <th>996</th>\n",
              "      <td>4109</td>\n",
              "      <td>30630</td>\n",
              "      <td>4895</td>\n",
              "      <td>36693</td>\n",
              "      <td>0.118282</td>\n",
              "      <td>0.117702</td>\n",
              "      <td>0.004902</td>\n",
              "    </tr>\n",
              "    <tr>\n",
              "      <th>997</th>\n",
              "      <td>4072</td>\n",
              "      <td>30667</td>\n",
              "      <td>4932</td>\n",
              "      <td>36656</td>\n",
              "      <td>0.117217</td>\n",
              "      <td>0.118592</td>\n",
              "      <td>-0.011730</td>\n",
              "    </tr>\n",
              "    <tr>\n",
              "      <th>998</th>\n",
              "      <td>4109</td>\n",
              "      <td>30630</td>\n",
              "      <td>4895</td>\n",
              "      <td>36693</td>\n",
              "      <td>0.118282</td>\n",
              "      <td>0.117702</td>\n",
              "      <td>0.004902</td>\n",
              "    </tr>\n",
              "    <tr>\n",
              "      <th>999</th>\n",
              "      <td>4048</td>\n",
              "      <td>30691</td>\n",
              "      <td>4956</td>\n",
              "      <td>36632</td>\n",
              "      <td>0.116526</td>\n",
              "      <td>0.119169</td>\n",
              "      <td>-0.022681</td>\n",
              "    </tr>\n",
              "  </tbody>\n",
              "</table>\n",
              "<p>1000 rows × 7 columns</p>\n",
              "</div>"
            ],
            "text/plain": [
              "     conv_a  no_conv_a  conv_b  no_conv_b  a_conv_rate  b_conv_rate      diff\n",
              "0      4153      30586    4851      36737     0.119549     0.116644  0.024295\n",
              "1      4133      30606    4871      36717     0.118973     0.117125  0.015531\n",
              "2      4032      30707    4972      36616     0.116066     0.119554 -0.030054\n",
              "3      4089      30650    4915      36673     0.117706     0.118183 -0.004051\n",
              "4      3974      30765    5030      36558     0.114396     0.120948 -0.057278\n",
              "..      ...        ...     ...        ...          ...          ...       ...\n",
              "995    4122      30617    4882      36706     0.118656     0.117390  0.010675\n",
              "996    4109      30630    4895      36693     0.118282     0.117702  0.004902\n",
              "997    4072      30667    4932      36656     0.117217     0.118592 -0.011730\n",
              "998    4109      30630    4895      36693     0.118282     0.117702  0.004902\n",
              "999    4048      30691    4956      36632     0.116526     0.119169 -0.022681\n",
              "\n",
              "[1000 rows x 7 columns]"
            ]
          },
          "metadata": {},
          "execution_count": 43
        }
      ]
    },
    {
      "cell_type": "code",
      "metadata": {
        "colab": {
          "base_uri": "https://localhost:8080/",
          "height": 334
        },
        "id": "PPDov8AJLuH9",
        "outputId": "51eaed87-a221-4c57-c93c-b72a2ad69d92"
      },
      "source": [
        "sns.distplot(perm_results['diff'], kde=False, norm_hist=False)\n",
        "plt.axvline(diferencia_en_proporcion);"
      ],
      "execution_count": 44,
      "outputs": [
        {
          "output_type": "stream",
          "name": "stderr",
          "text": [
            "/usr/local/lib/python3.7/dist-packages/seaborn/distributions.py:2619: FutureWarning: `distplot` is a deprecated function and will be removed in a future version. Please adapt your code to use either `displot` (a figure-level function with similar flexibility) or `histplot` (an axes-level function for histograms).\n",
            "  warnings.warn(msg, FutureWarning)\n"
          ]
        },
        {
          "output_type": "display_data",
          "data": {
            "image/png": "[encoded data removed]",
            "text/plain": [
              "<Figure size 432x288 with 1 Axes>"
            ]
          },
          "metadata": {
            "needs_background": "light"
          }
        }
      ]
    },
    {
      "cell_type": "code",
      "metadata": {
        "colab": {
          "base_uri": "https://localhost:8080/"
        },
        "id": "hMB1HV6GMkHQ",
        "outputId": "fda6aca7-20ed-4f8b-e5aa-94a712bf5acd"
      },
      "source": [
        "(perm_results['diff'] >= diferencia_en_proporcion).sum() / perm_results.shape[0] * 100"
      ],
      "execution_count": 52,
      "outputs": [
        {
          "output_type": "execute_result",
          "data": {
            "text/plain": [
              "6.5"
            ]
          },
          "metadata": {},
          "execution_count": 52
        }
      ]
    },
    {
      "cell_type": "code",
      "metadata": {
        "colab": {
          "base_uri": "https://localhost:8080/"
        },
        "id": "vBTwvLHmMnli",
        "outputId": "8c8afb34-d2e7-4443-92ab-abd1007e0ca0"
      },
      "source": [
        "perm_results.shape"
      ],
      "execution_count": 50,
      "outputs": [
        {
          "output_type": "execute_result",
          "data": {
            "text/plain": [
              "(1000, 7)"
            ]
          },
          "metadata": {},
          "execution_count": 50
        }
      ]
    },
    {
      "cell_type": "code",
      "metadata": {
        "id": "l94YWfBrNZvH"
      },
      "source": [
        ""
      ],
      "execution_count": 53,
      "outputs": []
    },
    {
      "cell_type": "markdown",
      "metadata": {
        "id": "qTn0AUxjXXg3"
      },
      "source": [
        "# Expresiones regulares"
      ]
    },
    {
      "cell_type": "code",
      "metadata": {
        "id": "xGNVZMJSaIfp",
        "outputId": "b84fda4b-9211-4ea8-bcfc-aa517701e8e7",
        "colab": {
          "base_uri": "https://localhost:8080/"
        }
      },
      "source": [
        "import pandas as pd\n",
        "import nltk\n",
        "nltk.download('punkt')\n",
        "import seaborn as sns\n",
        "import matplotlib.pyplot as plt\n",
        "import numpy as np"
      ],
      "execution_count": 64,
      "outputs": [
        {
          "output_type": "stream",
          "name": "stdout",
          "text": [
            "[nltk_data] Downloading package punkt to /root/nltk_data...\n",
            "[nltk_data]   Unzipping tokenizers/punkt.zip.\n"
          ]
        }
      ]
    },
    {
      "cell_type": "code",
      "metadata": {
        "id": "BplwvdSuXVej"
      },
      "source": [
        "dfreg = pd.read_csv('/content/drive/MyDrive/BEDU/Remoto Datasets/Remoto amazon_fine_food_reviews-clean.csv')"
      ],
      "execution_count": 56,
      "outputs": []
    },
    {
      "cell_type": "code",
      "metadata": {
        "id": "j-2TFj_HYY-9"
      },
      "source": [
        "dfreg"
      ],
      "execution_count": null,
      "outputs": []
    },
    {
      "cell_type": "code",
      "metadata": {
        "id": "sjwGrWCmYk5-",
        "outputId": "e97a3b68-7577-4e3e-f726-b78aea8be835",
        "colab": {
          "base_uri": "https://localhost:8080/"
        }
      },
      "source": [
        "text=dfreg['text']\n",
        "text"
      ],
      "execution_count": 65,
      "outputs": [
        {
          "output_type": "execute_result",
          "data": {
            "text/plain": [
              "0        This coffee does NOT come in individual \"PODS\"...\n",
              "1        I was a little skeptical after looking at the ...\n",
              "2        Gloia Jeans Butter Toffee is one of my favorit...\n",
              "3        My families and friends love Planters peanuts ...\n",
              "4        Organic Valley White 1 % Milkfat Lowfat Milk, ...\n",
              "                               ...                        \n",
              "14206    This tea certainly exceeded my expectations!  ...\n",
              "14207    I had these at a conference once. I have been ...\n",
              "14208    I have enjoyed using the maple flavor. It adds...\n",
              "14209    When I recently started using K-cups, wasn't s...\n",
              "14210    I ordered these as I have ordered from Amazon ...\n",
              "Name: text, Length: 14211, dtype: object"
            ]
          },
          "metadata": {},
          "execution_count": 65
        }
      ]
    },
    {
      "cell_type": "code",
      "metadata": {
        "id": "0hD0NS6kZ1h9"
      },
      "source": [
        "tokenized = text.apply(nltk.word_tokenize)"
      ],
      "execution_count": 66,
      "outputs": []
    },
    {
      "cell_type": "code",
      "metadata": {
        "id": "nump2zCOadxX",
        "outputId": "b28864f6-4e1a-47af-80e6-bb5944363bed",
        "colab": {
          "base_uri": "https://localhost:8080/"
        }
      },
      "source": [
        "tokenized"
      ],
      "execution_count": 67,
      "outputs": [
        {
          "output_type": "execute_result",
          "data": {
            "text/plain": [
              "0        [This, coffee, does, NOT, come, in, individual...\n",
              "1        [I, was, a, little, skeptical, after, looking,...\n",
              "2        [Gloia, Jeans, Butter, Toffee, is, one, of, my...\n",
              "3        [My, families, and, friends, love, Planters, p...\n",
              "4        [Organic, Valley, White, 1, %, Milkfat, Lowfat...\n",
              "                               ...                        \n",
              "14206    [This, tea, certainly, exceeded, my, expectati...\n",
              "14207    [I, had, these, at, a, conference, once, ., I,...\n",
              "14208    [I, have, enjoyed, using, the, maple, flavor, ...\n",
              "14209    [When, I, recently, started, using, K-cups, ,,...\n",
              "14210    [I, ordered, these, as, I, have, ordered, from...\n",
              "Name: text, Length: 14211, dtype: object"
            ]
          },
          "metadata": {},
          "execution_count": 67
        }
      ]
    },
    {
      "cell_type": "code",
      "metadata": {
        "id": "3Jx-lDZNaSi1",
        "outputId": "aab60604-dc89-466b-eff5-cd3523169340",
        "colab": {
          "base_uri": "https://localhost:8080/"
        }
      },
      "source": [
        "# Sumamos todas las listas para obtener una lista con todas las palabras en nuestro conjunto de datos\n",
        "# Creamos un objeto Text\n",
        "all_words = tokenized.sum()\n",
        "texttok = nltk.Text(all_words)\n",
        "texttok"
      ],
      "execution_count": 68,
      "outputs": [
        {
          "output_type": "execute_result",
          "data": {
            "text/plain": [
              "<Text: This coffee does NOT come in individual ``...>"
            ]
          },
          "metadata": {},
          "execution_count": 68
        }
      ]
    },
    {
      "cell_type": "code",
      "metadata": {
        "id": "g9-Tch79akkG"
      },
      "source": [
        "text.concordance('woman', lines=20)"
      ],
      "execution_count": null,
      "outputs": []
    }
  ]
}