{
  "nbformat": 4,
  "nbformat_minor": 0,
  "metadata": {
    "kernelspec": {
      "display_name": "Python (data_science)",
      "language": "python",
      "name": "data_science"
    },
    "language_info": {
      "codemirror_mode": {
        "name": "ipython",
        "version": 3
      },
      "file_extension": ".py",
      "mimetype": "text/x-python",
      "name": "python",
      "nbconvert_exporter": "python",
      "pygments_lexer": "ipython3",
      "version": "3.8.5"
    },
    "colab": {
      "name": "pruebas_ab.ipynb",
      "provenance": []
    }
  },
  "cells": [
    {
      "cell_type": "markdown",
      "metadata": {
        "id": "WLFYxR-wBNs8"
      },
      "source": [
        "## Ejemplo 1: Pruebas A/B\n",
        "\n",
        "### 1. Objetivos:\n",
        "    - Aprender a evaluar los resultados de una Prueba A/B\n",
        " \n",
        "---\n",
        "    \n",
        "### 2. Desarrollo:"
      ]
    },
    {
      "cell_type": "markdown",
      "metadata": {
        "id": "IYMsYxyLBNtA"
      },
      "source": [
        "El siguiente es un dataset obtenido con los resultados de una Prueba A/B. Se probaron dos flujos de venta distintos y se registró si cada uno de ellos resultó en una conversión (venta) o no. El test A es la hipótesis alternativa (la aplicada al grupo experimental), mientras que el test B es la hipótesis nula (la aplicada al grupo control)."
      ]
    },
    {
      "cell_type": "code",
      "metadata": {
        "id": "BZiJH51eBNtB"
      },
      "source": [
        "import pandas as pd\n",
        "import seaborn as sns\n",
        "import matplotlib.pyplot as plt"
      ],
      "execution_count": 1,
      "outputs": []
    },
    {
      "cell_type": "code",
      "metadata": {
        "id": "AzBa8zU7BR8Z",
        "outputId": "7b2a8eaf-ded7-46f0-cc27-6d2d5fbba2da",
        "colab": {
          "base_uri": "https://localhost:8080/"
        }
      },
      "source": [
        "from google.colab import drive\n",
        "drive.mount('/content/drive')"
      ],
      "execution_count": 2,
      "outputs": [
        {
          "output_type": "stream",
          "name": "stdout",
          "text": [
            "Mounted at /content/drive\n"
          ]
        }
      ]
    },
    {
      "cell_type": "code",
      "metadata": {
        "id": "IjPql9AvBNtC",
        "outputId": "3d5140c0-a350-452d-eb97-c27c4cce28cc",
        "colab": {
          "base_uri": "https://localhost:8080/",
          "height": 423
        }
      },
      "source": [
        "df = pd.read_csv('/content/drive/MyDrive/BEDU/Remoto Datasets/Remoto ab_test-sales_pipeline.csv')\n",
        "\n",
        "df"
      ],
      "execution_count": 3,
      "outputs": [
        {
          "output_type": "execute_result",
          "data": {
            "text/html": [
              "<div>\n",
              "<style scoped>\n",
              "    .dataframe tbody tr th:only-of-type {\n",
              "        vertical-align: middle;\n",
              "    }\n",
              "\n",
              "    .dataframe tbody tr th {\n",
              "        vertical-align: top;\n",
              "    }\n",
              "\n",
              "    .dataframe thead th {\n",
              "        text-align: right;\n",
              "    }\n",
              "</style>\n",
              "<table border=\"1\" class=\"dataframe\">\n",
              "  <thead>\n",
              "    <tr style=\"text-align: right;\">\n",
              "      <th></th>\n",
              "      <th>test</th>\n",
              "      <th>conversion</th>\n",
              "      <th>no conversion</th>\n",
              "    </tr>\n",
              "  </thead>\n",
              "  <tbody>\n",
              "    <tr>\n",
              "      <th>0</th>\n",
              "      <td>B</td>\n",
              "      <td>0</td>\n",
              "      <td>1</td>\n",
              "    </tr>\n",
              "    <tr>\n",
              "      <th>1</th>\n",
              "      <td>A</td>\n",
              "      <td>0</td>\n",
              "      <td>1</td>\n",
              "    </tr>\n",
              "    <tr>\n",
              "      <th>2</th>\n",
              "      <td>A</td>\n",
              "      <td>0</td>\n",
              "      <td>1</td>\n",
              "    </tr>\n",
              "    <tr>\n",
              "      <th>3</th>\n",
              "      <td>A</td>\n",
              "      <td>0</td>\n",
              "      <td>1</td>\n",
              "    </tr>\n",
              "    <tr>\n",
              "      <th>4</th>\n",
              "      <td>A</td>\n",
              "      <td>0</td>\n",
              "      <td>1</td>\n",
              "    </tr>\n",
              "    <tr>\n",
              "      <th>...</th>\n",
              "      <td>...</td>\n",
              "      <td>...</td>\n",
              "      <td>...</td>\n",
              "    </tr>\n",
              "    <tr>\n",
              "      <th>46322</th>\n",
              "      <td>B</td>\n",
              "      <td>0</td>\n",
              "      <td>1</td>\n",
              "    </tr>\n",
              "    <tr>\n",
              "      <th>46323</th>\n",
              "      <td>B</td>\n",
              "      <td>0</td>\n",
              "      <td>1</td>\n",
              "    </tr>\n",
              "    <tr>\n",
              "      <th>46324</th>\n",
              "      <td>B</td>\n",
              "      <td>0</td>\n",
              "      <td>1</td>\n",
              "    </tr>\n",
              "    <tr>\n",
              "      <th>46325</th>\n",
              "      <td>A</td>\n",
              "      <td>0</td>\n",
              "      <td>1</td>\n",
              "    </tr>\n",
              "    <tr>\n",
              "      <th>46326</th>\n",
              "      <td>A</td>\n",
              "      <td>0</td>\n",
              "      <td>1</td>\n",
              "    </tr>\n",
              "  </tbody>\n",
              "</table>\n",
              "<p>46327 rows × 3 columns</p>\n",
              "</div>"
            ],
            "text/plain": [
              "      test  conversion  no conversion\n",
              "0        B           0              1\n",
              "1        A           0              1\n",
              "2        A           0              1\n",
              "3        A           0              1\n",
              "4        A           0              1\n",
              "...    ...         ...            ...\n",
              "46322    B           0              1\n",
              "46323    B           0              1\n",
              "46324    B           0              1\n",
              "46325    A           0              1\n",
              "46326    A           0              1\n",
              "\n",
              "[46327 rows x 3 columns]"
            ]
          },
          "metadata": {},
          "execution_count": 3
        }
      ]
    },
    {
      "cell_type": "markdown",
      "metadata": {
        "id": "eZU73Bs2BNtD"
      },
      "source": [
        "Lo primero que podemos hacer es agrupar nuestros resultados por 'test', para realizar un conteo de cuántas conversiones hubo con cada flujo de ventas:"
      ]
    },
    {
      "cell_type": "code",
      "metadata": {
        "id": "vlhgP_xGBNtD",
        "outputId": "f88dc0b5-d431-4649-c23b-f69979fbc5ea",
        "colab": {
          "base_uri": "https://localhost:8080/",
          "height": 143
        }
      },
      "source": [
        "total_count = df.groupby('test')[['conversion', 'no conversion']].sum()\n",
        "\n",
        "total_count"
      ],
      "execution_count": 4,
      "outputs": [
        {
          "output_type": "execute_result",
          "data": {
            "text/html": [
              "<div>\n",
              "<style scoped>\n",
              "    .dataframe tbody tr th:only-of-type {\n",
              "        vertical-align: middle;\n",
              "    }\n",
              "\n",
              "    .dataframe tbody tr th {\n",
              "        vertical-align: top;\n",
              "    }\n",
              "\n",
              "    .dataframe thead th {\n",
              "        text-align: right;\n",
              "    }\n",
              "</style>\n",
              "<table border=\"1\" class=\"dataframe\">\n",
              "  <thead>\n",
              "    <tr style=\"text-align: right;\">\n",
              "      <th></th>\n",
              "      <th>conversion</th>\n",
              "      <th>no conversion</th>\n",
              "    </tr>\n",
              "    <tr>\n",
              "      <th>test</th>\n",
              "      <th></th>\n",
              "      <th></th>\n",
              "    </tr>\n",
              "  </thead>\n",
              "  <tbody>\n",
              "    <tr>\n",
              "      <th>A</th>\n",
              "      <td>198</td>\n",
              "      <td>23541</td>\n",
              "    </tr>\n",
              "    <tr>\n",
              "      <th>B</th>\n",
              "      <td>184</td>\n",
              "      <td>22404</td>\n",
              "    </tr>\n",
              "  </tbody>\n",
              "</table>\n",
              "</div>"
            ],
            "text/plain": [
              "      conversion  no conversion\n",
              "test                           \n",
              "A            198          23541\n",
              "B            184          22404"
            ]
          },
          "metadata": {},
          "execution_count": 4
        }
      ]
    },
    {
      "cell_type": "markdown",
      "metadata": {
        "id": "dM1PvKu4BNtE"
      },
      "source": [
        "Saquemos la proporción de conversiones que hubo comparadas con el total de pruebas que se realizaron:"
      ]
    },
    {
      "cell_type": "code",
      "metadata": {
        "id": "O2ZMix7dBNtF",
        "outputId": "a1bbda30-fd7a-48fd-b024-d115bf2c0695",
        "colab": {
          "base_uri": "https://localhost:8080/",
          "height": 143
        }
      },
      "source": [
        "total_count['success rate'] = total_count['conversion'] / (total_count['conversion'] + total_count['no conversion'])\n",
        "\n",
        "total_count"
      ],
      "execution_count": 5,
      "outputs": [
        {
          "output_type": "execute_result",
          "data": {
            "text/html": [
              "<div>\n",
              "<style scoped>\n",
              "    .dataframe tbody tr th:only-of-type {\n",
              "        vertical-align: middle;\n",
              "    }\n",
              "\n",
              "    .dataframe tbody tr th {\n",
              "        vertical-align: top;\n",
              "    }\n",
              "\n",
              "    .dataframe thead th {\n",
              "        text-align: right;\n",
              "    }\n",
              "</style>\n",
              "<table border=\"1\" class=\"dataframe\">\n",
              "  <thead>\n",
              "    <tr style=\"text-align: right;\">\n",
              "      <th></th>\n",
              "      <th>conversion</th>\n",
              "      <th>no conversion</th>\n",
              "      <th>success rate</th>\n",
              "    </tr>\n",
              "    <tr>\n",
              "      <th>test</th>\n",
              "      <th></th>\n",
              "      <th></th>\n",
              "      <th></th>\n",
              "    </tr>\n",
              "  </thead>\n",
              "  <tbody>\n",
              "    <tr>\n",
              "      <th>A</th>\n",
              "      <td>198</td>\n",
              "      <td>23541</td>\n",
              "      <td>0.008341</td>\n",
              "    </tr>\n",
              "    <tr>\n",
              "      <th>B</th>\n",
              "      <td>184</td>\n",
              "      <td>22404</td>\n",
              "      <td>0.008146</td>\n",
              "    </tr>\n",
              "  </tbody>\n",
              "</table>\n",
              "</div>"
            ],
            "text/plain": [
              "      conversion  no conversion  success rate\n",
              "test                                         \n",
              "A            198          23541      0.008341\n",
              "B            184          22404      0.008146"
            ]
          },
          "metadata": {},
          "execution_count": 5
        }
      ]
    },
    {
      "cell_type": "markdown",
      "metadata": {
        "id": "fh-qFMk-BNtF"
      },
      "source": [
        "Con estos datos parecería que el flujo A (la hipótesis alternativa) es superior al flujo B. Veamos qué tan superior:"
      ]
    },
    {
      "cell_type": "code",
      "metadata": {
        "id": "r6oQNIDyBtX1",
        "outputId": "6f7862de-ab87-4cd9-8d8a-7d77b7ad11a4",
        "colab": {
          "base_uri": "https://localhost:8080/"
        }
      },
      "source": [
        "total_count.loc['B']['success rate'] / total_count.loc['A']['success rate']"
      ],
      "execution_count": 8,
      "outputs": [
        {
          "output_type": "execute_result",
          "data": {
            "text/plain": [
              "0.9766462213779373"
            ]
          },
          "metadata": {},
          "execution_count": 8
        }
      ]
    },
    {
      "cell_type": "code",
      "metadata": {
        "id": "ktTRoe1RBNtG"
      },
      "source": [
        "diferencia_en_proporcion = 1 - (total_count.loc['B']['success rate'] / total_count.loc['A']['success rate'])\n",
        "diferencia_en_porcentaje = diferencia_en_proporcion * 100"
      ],
      "execution_count": 6,
      "outputs": []
    },
    {
      "cell_type": "code",
      "metadata": {
        "id": "1arU99CABNtH",
        "outputId": "ae1f6408-5db1-40da-b95e-9740e68fa9c0",
        "colab": {
          "base_uri": "https://localhost:8080/"
        }
      },
      "source": [
        "print(f'El test A fue {diferencia_en_porcentaje:.2f}% más `efectivo que el test B para generar ventas.')"
      ],
      "execution_count": 9,
      "outputs": [
        {
          "output_type": "stream",
          "name": "stdout",
          "text": [
            "El test A fue 2.34% más `efectivo que el test B para generar ventas.\n"
          ]
        }
      ]
    },
    {
      "cell_type": "markdown",
      "metadata": {
        "id": "nK15eJoaBNtH"
      },
      "source": [
        "¿Ahora, podemos entonces concluir que el flujo de ventas A es mejor que el B? No tan rápido. Vamos a aplicar un test de permutación para saber si nuestro hallazgo es estadísticamente significativo.\n",
        "\n",
        "Primero tenemos que mezclar las mediciones del test A y el B en el mismo DataFrame. Esto ya está hecho, entonces solamente vamos a eliminar la columna 'test' para que no haya manera de diferenciarlos:"
      ]
    },
    {
      "cell_type": "code",
      "metadata": {
        "id": "py7Kuj9VBNtI"
      },
      "source": [
        "all_measurements = df[['conversion', 'no conversion']]"
      ],
      "execution_count": 10,
      "outputs": []
    },
    {
      "cell_type": "code",
      "metadata": {
        "id": "Hpu8vWrVChhb",
        "outputId": "98988ec4-1efc-4086-db9b-c4528ac93bac",
        "colab": {
          "base_uri": "https://localhost:8080/",
          "height": 423
        }
      },
      "source": [
        "all_measurements"
      ],
      "execution_count": 12,
      "outputs": [
        {
          "output_type": "execute_result",
          "data": {
            "text/html": [
              "<div>\n",
              "<style scoped>\n",
              "    .dataframe tbody tr th:only-of-type {\n",
              "        vertical-align: middle;\n",
              "    }\n",
              "\n",
              "    .dataframe tbody tr th {\n",
              "        vertical-align: top;\n",
              "    }\n",
              "\n",
              "    .dataframe thead th {\n",
              "        text-align: right;\n",
              "    }\n",
              "</style>\n",
              "<table border=\"1\" class=\"dataframe\">\n",
              "  <thead>\n",
              "    <tr style=\"text-align: right;\">\n",
              "      <th></th>\n",
              "      <th>conversion</th>\n",
              "      <th>no conversion</th>\n",
              "    </tr>\n",
              "  </thead>\n",
              "  <tbody>\n",
              "    <tr>\n",
              "      <th>0</th>\n",
              "      <td>0</td>\n",
              "      <td>1</td>\n",
              "    </tr>\n",
              "    <tr>\n",
              "      <th>1</th>\n",
              "      <td>0</td>\n",
              "      <td>1</td>\n",
              "    </tr>\n",
              "    <tr>\n",
              "      <th>2</th>\n",
              "      <td>0</td>\n",
              "      <td>1</td>\n",
              "    </tr>\n",
              "    <tr>\n",
              "      <th>3</th>\n",
              "      <td>0</td>\n",
              "      <td>1</td>\n",
              "    </tr>\n",
              "    <tr>\n",
              "      <th>4</th>\n",
              "      <td>0</td>\n",
              "      <td>1</td>\n",
              "    </tr>\n",
              "    <tr>\n",
              "      <th>...</th>\n",
              "      <td>...</td>\n",
              "      <td>...</td>\n",
              "    </tr>\n",
              "    <tr>\n",
              "      <th>46322</th>\n",
              "      <td>0</td>\n",
              "      <td>1</td>\n",
              "    </tr>\n",
              "    <tr>\n",
              "      <th>46323</th>\n",
              "      <td>0</td>\n",
              "      <td>1</td>\n",
              "    </tr>\n",
              "    <tr>\n",
              "      <th>46324</th>\n",
              "      <td>0</td>\n",
              "      <td>1</td>\n",
              "    </tr>\n",
              "    <tr>\n",
              "      <th>46325</th>\n",
              "      <td>0</td>\n",
              "      <td>1</td>\n",
              "    </tr>\n",
              "    <tr>\n",
              "      <th>46326</th>\n",
              "      <td>0</td>\n",
              "      <td>1</td>\n",
              "    </tr>\n",
              "  </tbody>\n",
              "</table>\n",
              "<p>46327 rows × 2 columns</p>\n",
              "</div>"
            ],
            "text/plain": [
              "       conversion  no conversion\n",
              "0               0              1\n",
              "1               0              1\n",
              "2               0              1\n",
              "3               0              1\n",
              "4               0              1\n",
              "...           ...            ...\n",
              "46322           0              1\n",
              "46323           0              1\n",
              "46324           0              1\n",
              "46325           0              1\n",
              "46326           0              1\n",
              "\n",
              "[46327 rows x 2 columns]"
            ]
          },
          "metadata": {},
          "execution_count": 12
        }
      ]
    },
    {
      "cell_type": "markdown",
      "metadata": {
        "id": "SxZZlCtyBNtI"
      },
      "source": [
        "Ahora necesitamos saber cuántos tests con el flujo A hubieron para poder generar muestras del mismo tamaño exactamente:"
      ]
    },
    {
      "cell_type": "code",
      "metadata": {
        "id": "AU5VV0MnBNtI",
        "outputId": "1cedd5ce-ff5b-4cde-99bf-c02d30521ee0",
        "colab": {
          "base_uri": "https://localhost:8080/"
        }
      },
      "source": [
        "value_counts = df['test'].value_counts()\n",
        "\n",
        "value_counts"
      ],
      "execution_count": 13,
      "outputs": [
        {
          "output_type": "execute_result",
          "data": {
            "text/plain": [
              "A    23739\n",
              "B    22588\n",
              "Name: test, dtype: int64"
            ]
          },
          "metadata": {},
          "execution_count": 13
        }
      ]
    },
    {
      "cell_type": "markdown",
      "metadata": {
        "id": "UVbUCycgBNtJ"
      },
      "source": [
        "Ahora vamos a aplicar el resto del algoritmo del test de permutación:\n",
        "\n",
        "1. Usando muestreo aleatorio sin reposición, construye un nuevo grupo A del mismo tamaño que el original.\n",
        "2. El resto de los datos conforman nuestro nuevo grupo B.\n",
        "3. Cuantifica la métrica o estadística que calculaste con los grupos originales y guarda el resultado.\n",
        "4. Repite los pasos 1-5 `R` veces para obtener una distribución de la estadística de interés."
      ]
    },
    {
      "cell_type": "code",
      "metadata": {
        "id": "F-tn9tlmBNtJ"
      },
      "source": [
        "conv_a = []\n",
        "no_conv_a = []\n",
        "conv_b = []\n",
        "no_conv_b = []\n",
        "\n",
        "for _ in range(1000):\n",
        "    a = df.sample(value_counts.loc['A'], replace=False)\n",
        "    conv_a.append(a['conversion'].sum())\n",
        "    no_conv_a.append(a['no conversion'].sum())\n",
        "    \n",
        "    b = df.loc[~df.index.isin(a.index)]\n",
        "    conv_b.append(b['conversion'].sum())\n",
        "    no_conv_b.append(b['no conversion'].sum())"
      ],
      "execution_count": 15,
      "outputs": []
    },
    {
      "cell_type": "code",
      "metadata": {
        "id": "bvco1slSDU0X",
        "outputId": "f85b739d-cc5b-4681-9bd7-06129275bae4",
        "colab": {
          "base_uri": "https://localhost:8080/"
        }
      },
      "source": [
        "a, b"
      ],
      "execution_count": 17,
      "outputs": [
        {
          "output_type": "execute_result",
          "data": {
            "text/plain": [
              "(      test  conversion  no conversion\n",
              " 155      A           0              1\n",
              " 15425    B           0              1\n",
              " 39471    B           0              1\n",
              " 21248    A           0              1\n",
              " 26529    A           0              1\n",
              " ...    ...         ...            ...\n",
              " 25386    B           0              1\n",
              " 45343    A           0              1\n",
              " 180      A           0              1\n",
              " 15935    B           0              1\n",
              " 20184    A           0              1\n",
              " \n",
              " [23739 rows x 3 columns],       test  conversion  no conversion\n",
              " 0        B           0              1\n",
              " 2        A           0              1\n",
              " 7        B           0              1\n",
              " 16       A           0              1\n",
              " 17       B           0              1\n",
              " ...    ...         ...            ...\n",
              " 46319    A           0              1\n",
              " 46321    B           0              1\n",
              " 46323    B           0              1\n",
              " 46325    A           0              1\n",
              " 46326    A           0              1\n",
              " \n",
              " [22588 rows x 3 columns])"
            ]
          },
          "metadata": {},
          "execution_count": 17
        }
      ]
    },
    {
      "cell_type": "code",
      "metadata": {
        "id": "331Hc7ULBNtK",
        "outputId": "a2752ca5-c47b-4c9a-9310-7eef672ed1ea",
        "colab": {
          "base_uri": "https://localhost:8080/",
          "height": 423
        }
      },
      "source": [
        "perm_results = pd.DataFrame({\n",
        "    'conv_a': conv_a,\n",
        "    'no_conv_a': no_conv_a,\n",
        "    'conv_b': conv_b,\n",
        "    'no_conv_b': no_conv_b\n",
        "})\n",
        "\n",
        "perm_results"
      ],
      "execution_count": 19,
      "outputs": [
        {
          "output_type": "execute_result",
          "data": {
            "text/html": [
              "<div>\n",
              "<style scoped>\n",
              "    .dataframe tbody tr th:only-of-type {\n",
              "        vertical-align: middle;\n",
              "    }\n",
              "\n",
              "    .dataframe tbody tr th {\n",
              "        vertical-align: top;\n",
              "    }\n",
              "\n",
              "    .dataframe thead th {\n",
              "        text-align: right;\n",
              "    }\n",
              "</style>\n",
              "<table border=\"1\" class=\"dataframe\">\n",
              "  <thead>\n",
              "    <tr style=\"text-align: right;\">\n",
              "      <th></th>\n",
              "      <th>conv_a</th>\n",
              "      <th>no_conv_a</th>\n",
              "      <th>conv_b</th>\n",
              "      <th>no_conv_b</th>\n",
              "    </tr>\n",
              "  </thead>\n",
              "  <tbody>\n",
              "    <tr>\n",
              "      <th>0</th>\n",
              "      <td>197</td>\n",
              "      <td>23542</td>\n",
              "      <td>185</td>\n",
              "      <td>22403</td>\n",
              "    </tr>\n",
              "    <tr>\n",
              "      <th>1</th>\n",
              "      <td>201</td>\n",
              "      <td>23538</td>\n",
              "      <td>181</td>\n",
              "      <td>22407</td>\n",
              "    </tr>\n",
              "    <tr>\n",
              "      <th>2</th>\n",
              "      <td>197</td>\n",
              "      <td>23542</td>\n",
              "      <td>185</td>\n",
              "      <td>22403</td>\n",
              "    </tr>\n",
              "    <tr>\n",
              "      <th>3</th>\n",
              "      <td>189</td>\n",
              "      <td>23550</td>\n",
              "      <td>193</td>\n",
              "      <td>22395</td>\n",
              "    </tr>\n",
              "    <tr>\n",
              "      <th>4</th>\n",
              "      <td>203</td>\n",
              "      <td>23536</td>\n",
              "      <td>179</td>\n",
              "      <td>22409</td>\n",
              "    </tr>\n",
              "    <tr>\n",
              "      <th>...</th>\n",
              "      <td>...</td>\n",
              "      <td>...</td>\n",
              "      <td>...</td>\n",
              "      <td>...</td>\n",
              "    </tr>\n",
              "    <tr>\n",
              "      <th>995</th>\n",
              "      <td>190</td>\n",
              "      <td>23549</td>\n",
              "      <td>192</td>\n",
              "      <td>22396</td>\n",
              "    </tr>\n",
              "    <tr>\n",
              "      <th>996</th>\n",
              "      <td>201</td>\n",
              "      <td>23538</td>\n",
              "      <td>181</td>\n",
              "      <td>22407</td>\n",
              "    </tr>\n",
              "    <tr>\n",
              "      <th>997</th>\n",
              "      <td>210</td>\n",
              "      <td>23529</td>\n",
              "      <td>172</td>\n",
              "      <td>22416</td>\n",
              "    </tr>\n",
              "    <tr>\n",
              "      <th>998</th>\n",
              "      <td>192</td>\n",
              "      <td>23547</td>\n",
              "      <td>190</td>\n",
              "      <td>22398</td>\n",
              "    </tr>\n",
              "    <tr>\n",
              "      <th>999</th>\n",
              "      <td>201</td>\n",
              "      <td>23538</td>\n",
              "      <td>181</td>\n",
              "      <td>22407</td>\n",
              "    </tr>\n",
              "  </tbody>\n",
              "</table>\n",
              "<p>1000 rows × 4 columns</p>\n",
              "</div>"
            ],
            "text/plain": [
              "     conv_a  no_conv_a  conv_b  no_conv_b\n",
              "0       197      23542     185      22403\n",
              "1       201      23538     181      22407\n",
              "2       197      23542     185      22403\n",
              "3       189      23550     193      22395\n",
              "4       203      23536     179      22409\n",
              "..      ...        ...     ...        ...\n",
              "995     190      23549     192      22396\n",
              "996     201      23538     181      22407\n",
              "997     210      23529     172      22416\n",
              "998     192      23547     190      22398\n",
              "999     201      23538     181      22407\n",
              "\n",
              "[1000 rows x 4 columns]"
            ]
          },
          "metadata": {},
          "execution_count": 19
        }
      ]
    },
    {
      "cell_type": "code",
      "metadata": {
        "id": "AuVEgFLeBNtK"
      },
      "source": [
        "perm_results['a_conv_rate'] = perm_results['conv_a'] / (perm_results['conv_a'] + perm_results['no_conv_a'])\n",
        "perm_results['b_conv_rate'] = perm_results['conv_b'] / (perm_results['conv_b'] + perm_results['no_conv_b'])"
      ],
      "execution_count": 20,
      "outputs": []
    },
    {
      "cell_type": "code",
      "metadata": {
        "id": "m6-QZht-BNtL",
        "outputId": "7628e10b-478f-4e8f-953c-d236446352c3",
        "colab": {
          "base_uri": "https://localhost:8080/",
          "height": 423
        }
      },
      "source": [
        "perm_results"
      ],
      "execution_count": 21,
      "outputs": [
        {
          "output_type": "execute_result",
          "data": {
            "text/html": [
              "<div>\n",
              "<style scoped>\n",
              "    .dataframe tbody tr th:only-of-type {\n",
              "        vertical-align: middle;\n",
              "    }\n",
              "\n",
              "    .dataframe tbody tr th {\n",
              "        vertical-align: top;\n",
              "    }\n",
              "\n",
              "    .dataframe thead th {\n",
              "        text-align: right;\n",
              "    }\n",
              "</style>\n",
              "<table border=\"1\" class=\"dataframe\">\n",
              "  <thead>\n",
              "    <tr style=\"text-align: right;\">\n",
              "      <th></th>\n",
              "      <th>conv_a</th>\n",
              "      <th>no_conv_a</th>\n",
              "      <th>conv_b</th>\n",
              "      <th>no_conv_b</th>\n",
              "      <th>a_conv_rate</th>\n",
              "      <th>b_conv_rate</th>\n",
              "    </tr>\n",
              "  </thead>\n",
              "  <tbody>\n",
              "    <tr>\n",
              "      <th>0</th>\n",
              "      <td>197</td>\n",
              "      <td>23542</td>\n",
              "      <td>185</td>\n",
              "      <td>22403</td>\n",
              "      <td>0.008299</td>\n",
              "      <td>0.008190</td>\n",
              "    </tr>\n",
              "    <tr>\n",
              "      <th>1</th>\n",
              "      <td>201</td>\n",
              "      <td>23538</td>\n",
              "      <td>181</td>\n",
              "      <td>22407</td>\n",
              "      <td>0.008467</td>\n",
              "      <td>0.008013</td>\n",
              "    </tr>\n",
              "    <tr>\n",
              "      <th>2</th>\n",
              "      <td>197</td>\n",
              "      <td>23542</td>\n",
              "      <td>185</td>\n",
              "      <td>22403</td>\n",
              "      <td>0.008299</td>\n",
              "      <td>0.008190</td>\n",
              "    </tr>\n",
              "    <tr>\n",
              "      <th>3</th>\n",
              "      <td>189</td>\n",
              "      <td>23550</td>\n",
              "      <td>193</td>\n",
              "      <td>22395</td>\n",
              "      <td>0.007962</td>\n",
              "      <td>0.008544</td>\n",
              "    </tr>\n",
              "    <tr>\n",
              "      <th>4</th>\n",
              "      <td>203</td>\n",
              "      <td>23536</td>\n",
              "      <td>179</td>\n",
              "      <td>22409</td>\n",
              "      <td>0.008551</td>\n",
              "      <td>0.007925</td>\n",
              "    </tr>\n",
              "    <tr>\n",
              "      <th>...</th>\n",
              "      <td>...</td>\n",
              "      <td>...</td>\n",
              "      <td>...</td>\n",
              "      <td>...</td>\n",
              "      <td>...</td>\n",
              "      <td>...</td>\n",
              "    </tr>\n",
              "    <tr>\n",
              "      <th>995</th>\n",
              "      <td>190</td>\n",
              "      <td>23549</td>\n",
              "      <td>192</td>\n",
              "      <td>22396</td>\n",
              "      <td>0.008004</td>\n",
              "      <td>0.008500</td>\n",
              "    </tr>\n",
              "    <tr>\n",
              "      <th>996</th>\n",
              "      <td>201</td>\n",
              "      <td>23538</td>\n",
              "      <td>181</td>\n",
              "      <td>22407</td>\n",
              "      <td>0.008467</td>\n",
              "      <td>0.008013</td>\n",
              "    </tr>\n",
              "    <tr>\n",
              "      <th>997</th>\n",
              "      <td>210</td>\n",
              "      <td>23529</td>\n",
              "      <td>172</td>\n",
              "      <td>22416</td>\n",
              "      <td>0.008846</td>\n",
              "      <td>0.007615</td>\n",
              "    </tr>\n",
              "    <tr>\n",
              "      <th>998</th>\n",
              "      <td>192</td>\n",
              "      <td>23547</td>\n",
              "      <td>190</td>\n",
              "      <td>22398</td>\n",
              "      <td>0.008088</td>\n",
              "      <td>0.008412</td>\n",
              "    </tr>\n",
              "    <tr>\n",
              "      <th>999</th>\n",
              "      <td>201</td>\n",
              "      <td>23538</td>\n",
              "      <td>181</td>\n",
              "      <td>22407</td>\n",
              "      <td>0.008467</td>\n",
              "      <td>0.008013</td>\n",
              "    </tr>\n",
              "  </tbody>\n",
              "</table>\n",
              "<p>1000 rows × 6 columns</p>\n",
              "</div>"
            ],
            "text/plain": [
              "     conv_a  no_conv_a  conv_b  no_conv_b  a_conv_rate  b_conv_rate\n",
              "0       197      23542     185      22403     0.008299     0.008190\n",
              "1       201      23538     181      22407     0.008467     0.008013\n",
              "2       197      23542     185      22403     0.008299     0.008190\n",
              "3       189      23550     193      22395     0.007962     0.008544\n",
              "4       203      23536     179      22409     0.008551     0.007925\n",
              "..      ...        ...     ...        ...          ...          ...\n",
              "995     190      23549     192      22396     0.008004     0.008500\n",
              "996     201      23538     181      22407     0.008467     0.008013\n",
              "997     210      23529     172      22416     0.008846     0.007615\n",
              "998     192      23547     190      22398     0.008088     0.008412\n",
              "999     201      23538     181      22407     0.008467     0.008013\n",
              "\n",
              "[1000 rows x 6 columns]"
            ]
          },
          "metadata": {},
          "execution_count": 21
        }
      ]
    },
    {
      "cell_type": "code",
      "metadata": {
        "id": "5v01T5ktBNtL",
        "outputId": "6337aa28-83bc-4e3e-e52e-9e71af757969",
        "colab": {
          "base_uri": "https://localhost:8080/",
          "height": 423
        }
      },
      "source": [
        "perm_results['diff'] = 1 - (perm_results['b_conv_rate'] / perm_results['a_conv_rate'])\n",
        "\n",
        "perm_results"
      ],
      "execution_count": 22,
      "outputs": [
        {
          "output_type": "execute_result",
          "data": {
            "text/html": [
              "<div>\n",
              "<style scoped>\n",
              "    .dataframe tbody tr th:only-of-type {\n",
              "        vertical-align: middle;\n",
              "    }\n",
              "\n",
              "    .dataframe tbody tr th {\n",
              "        vertical-align: top;\n",
              "    }\n",
              "\n",
              "    .dataframe thead th {\n",
              "        text-align: right;\n",
              "    }\n",
              "</style>\n",
              "<table border=\"1\" class=\"dataframe\">\n",
              "  <thead>\n",
              "    <tr style=\"text-align: right;\">\n",
              "      <th></th>\n",
              "      <th>conv_a</th>\n",
              "      <th>no_conv_a</th>\n",
              "      <th>conv_b</th>\n",
              "      <th>no_conv_b</th>\n",
              "      <th>a_conv_rate</th>\n",
              "      <th>b_conv_rate</th>\n",
              "      <th>diff</th>\n",
              "    </tr>\n",
              "  </thead>\n",
              "  <tbody>\n",
              "    <tr>\n",
              "      <th>0</th>\n",
              "      <td>197</td>\n",
              "      <td>23542</td>\n",
              "      <td>185</td>\n",
              "      <td>22403</td>\n",
              "      <td>0.008299</td>\n",
              "      <td>0.008190</td>\n",
              "      <td>0.013061</td>\n",
              "    </tr>\n",
              "    <tr>\n",
              "      <th>1</th>\n",
              "      <td>201</td>\n",
              "      <td>23538</td>\n",
              "      <td>181</td>\n",
              "      <td>22407</td>\n",
              "      <td>0.008467</td>\n",
              "      <td>0.008013</td>\n",
              "      <td>0.053617</td>\n",
              "    </tr>\n",
              "    <tr>\n",
              "      <th>2</th>\n",
              "      <td>197</td>\n",
              "      <td>23542</td>\n",
              "      <td>185</td>\n",
              "      <td>22403</td>\n",
              "      <td>0.008299</td>\n",
              "      <td>0.008190</td>\n",
              "      <td>0.013061</td>\n",
              "    </tr>\n",
              "    <tr>\n",
              "      <th>3</th>\n",
              "      <td>189</td>\n",
              "      <td>23550</td>\n",
              "      <td>193</td>\n",
              "      <td>22395</td>\n",
              "      <td>0.007962</td>\n",
              "      <td>0.008544</td>\n",
              "      <td>-0.073199</td>\n",
              "    </tr>\n",
              "    <tr>\n",
              "      <th>4</th>\n",
              "      <td>203</td>\n",
              "      <td>23536</td>\n",
              "      <td>179</td>\n",
              "      <td>22409</td>\n",
              "      <td>0.008551</td>\n",
              "      <td>0.007925</td>\n",
              "      <td>0.073295</td>\n",
              "    </tr>\n",
              "    <tr>\n",
              "      <th>...</th>\n",
              "      <td>...</td>\n",
              "      <td>...</td>\n",
              "      <td>...</td>\n",
              "      <td>...</td>\n",
              "      <td>...</td>\n",
              "      <td>...</td>\n",
              "      <td>...</td>\n",
              "    </tr>\n",
              "    <tr>\n",
              "      <th>995</th>\n",
              "      <td>190</td>\n",
              "      <td>23549</td>\n",
              "      <td>192</td>\n",
              "      <td>22396</td>\n",
              "      <td>0.008004</td>\n",
              "      <td>0.008500</td>\n",
              "      <td>-0.062019</td>\n",
              "    </tr>\n",
              "    <tr>\n",
              "      <th>996</th>\n",
              "      <td>201</td>\n",
              "      <td>23538</td>\n",
              "      <td>181</td>\n",
              "      <td>22407</td>\n",
              "      <td>0.008467</td>\n",
              "      <td>0.008013</td>\n",
              "      <td>0.053617</td>\n",
              "    </tr>\n",
              "    <tr>\n",
              "      <th>997</th>\n",
              "      <td>210</td>\n",
              "      <td>23529</td>\n",
              "      <td>172</td>\n",
              "      <td>22416</td>\n",
              "      <td>0.008846</td>\n",
              "      <td>0.007615</td>\n",
              "      <td>0.139217</td>\n",
              "    </tr>\n",
              "    <tr>\n",
              "      <th>998</th>\n",
              "      <td>192</td>\n",
              "      <td>23547</td>\n",
              "      <td>190</td>\n",
              "      <td>22398</td>\n",
              "      <td>0.008088</td>\n",
              "      <td>0.008412</td>\n",
              "      <td>-0.040009</td>\n",
              "    </tr>\n",
              "    <tr>\n",
              "      <th>999</th>\n",
              "      <td>201</td>\n",
              "      <td>23538</td>\n",
              "      <td>181</td>\n",
              "      <td>22407</td>\n",
              "      <td>0.008467</td>\n",
              "      <td>0.008013</td>\n",
              "      <td>0.053617</td>\n",
              "    </tr>\n",
              "  </tbody>\n",
              "</table>\n",
              "<p>1000 rows × 7 columns</p>\n",
              "</div>"
            ],
            "text/plain": [
              "     conv_a  no_conv_a  conv_b  no_conv_b  a_conv_rate  b_conv_rate      diff\n",
              "0       197      23542     185      22403     0.008299     0.008190  0.013061\n",
              "1       201      23538     181      22407     0.008467     0.008013  0.053617\n",
              "2       197      23542     185      22403     0.008299     0.008190  0.013061\n",
              "3       189      23550     193      22395     0.007962     0.008544 -0.073199\n",
              "4       203      23536     179      22409     0.008551     0.007925  0.073295\n",
              "..      ...        ...     ...        ...          ...          ...       ...\n",
              "995     190      23549     192      22396     0.008004     0.008500 -0.062019\n",
              "996     201      23538     181      22407     0.008467     0.008013  0.053617\n",
              "997     210      23529     172      22416     0.008846     0.007615  0.139217\n",
              "998     192      23547     190      22398     0.008088     0.008412 -0.040009\n",
              "999     201      23538     181      22407     0.008467     0.008013  0.053617\n",
              "\n",
              "[1000 rows x 7 columns]"
            ]
          },
          "metadata": {},
          "execution_count": 22
        }
      ]
    },
    {
      "cell_type": "markdown",
      "metadata": {
        "id": "VMZs7Li9BNtL"
      },
      "source": [
        "Ya tenemos nuestros resultados, vamos a ver dónde cae en nuestra distribución el resultado que obtuvimos en nuestro experimento:"
      ]
    },
    {
      "cell_type": "code",
      "metadata": {
        "id": "eza29WQxBNtL",
        "outputId": "3fdc3e14-4295-4dce-cc26-18a2adb61319",
        "colab": {
          "base_uri": "https://localhost:8080/",
          "height": 334
        }
      },
      "source": [
        "sns.distplot(perm_results['diff'], kde=False, norm_hist=False)\n",
        "\n",
        "plt.axvline(diferencia_en_proporcion);"
      ],
      "execution_count": 23,
      "outputs": [
        {
          "output_type": "stream",
          "name": "stderr",
          "text": [
            "/usr/local/lib/python3.7/dist-packages/seaborn/distributions.py:2619: FutureWarning: `distplot` is a deprecated function and will be removed in a future version. Please adapt your code to use either `displot` (a figure-level function with similar flexibility) or `histplot` (an axes-level function for histograms).\n",
            "  warnings.warn(msg, FutureWarning)\n"
          ]
        },
        {
          "output_type": "display_data",
          "data": {
            "image/png": "[encoded data removed]",
            "text/plain": [
              "<Figure size 432x288 with 1 Axes>"
            ]
          },
          "metadata": {
            "needs_background": "light"
          }
        }
      ]
    },
    {
      "cell_type": "markdown",
      "metadata": {
        "id": "-vH4ADX1BNtM"
      },
      "source": [
        "Solamente de ver la histograma podemos concluir que nuestro resultado es de hecho bastante típico. Un gran número de modelos realizados totalmente al azar tuvieron valores iguales o más extremos que el que obtuvimos en nuestro experimento.\n",
        "\n",
        "Vamos ahora a obtener el Valor P para cuantificar numéricamente nuestro resultado:"
      ]
    },
    {
      "cell_type": "code",
      "metadata": {
        "id": "JlMPWnGlBNtM",
        "outputId": "266d2392-2edf-48a0-8de8-b2627e7f3f2a",
        "colab": {
          "base_uri": "https://localhost:8080/"
        }
      },
      "source": [
        "(perm_results['diff'] >= diferencia_en_proporcion).sum() / perm_results.shape[0]"
      ],
      "execution_count": 24,
      "outputs": [
        {
          "output_type": "execute_result",
          "data": {
            "text/plain": [
              "0.411"
            ]
          },
          "metadata": {},
          "execution_count": 24
        }
      ]
    },
    {
      "cell_type": "markdown",
      "metadata": {
        "id": "xW5jfZbmBNtN"
      },
      "source": [
        "Este valor quiere decir que el 41.6% de los test que hicimos obtuvieron un valor igual o más extremo que el obtenido en el experimento. Esto está extremadamente alejado de un Alfa de 5%, y por lo tanto definitivamente nuestro resultado **no es estadísticamente significativo**."
      ]
    },
    {
      "cell_type": "code",
      "metadata": {
        "id": "x_zvZchXBNtN"
      },
      "source": [
        ""
      ],
      "execution_count": null,
      "outputs": []
    }
  ]
}