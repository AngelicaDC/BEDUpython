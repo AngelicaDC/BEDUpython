{
  "nbformat": 4,
  "nbformat_minor": 0,
  "metadata": {
    "kernelspec": {
      "display_name": "Python (data_science)",
      "language": "python",
      "name": "data_science"
    },
    "language_info": {
      "codemirror_mode": {
        "name": "ipython",
        "version": 3
      },
      "file_extension": ".py",
      "mimetype": "text/x-python",
      "name": "python",
      "nbconvert_exporter": "python",
      "pygments_lexer": "ipython3",
      "version": "3.8.1"
    },
    "colab": {
      "name": "casting.ipynb",
      "provenance": []
    }
  },
  "cells": [
    {
      "cell_type": "markdown",
      "metadata": {
        "id": "MjPxXmLU5CFq"
      },
      "source": [
        "## Reto 1: Casting\n",
        "\n",
        "### 1. Objetivos:\n",
        "    - Aplicar diversas técnicas de casting a un dataset nuevo\n",
        " \n",
        "---\n",
        "    \n",
        "### 2. Desarrollo:"
      ]
    },
    {
      "cell_type": "markdown",
      "metadata": {
        "id": "I7TKSBvH5CFs"
      },
      "source": [
        "#### a) Transformando tipos de datos\n",
        "\n",
        "Vamos a trabajar con una versión un poco modificada del dataset que creaste en la sesión pasada. Si bien recuerdas, al final de la sesión pasada automatizamos un programa de Python para obtener un `DataFrame` con todos los objetos que orbitaron cerca de la Tierra en Enero y Febrero de 1995. Para construir este dataset, usamos el API gratuito que ofrece la [NASA](https://api.nasa.gov/).\n",
        "\n",
        "Me tomé la libertad de modificar un poco dicho dataset para que pudiera ser utilizado más efectivamente para los fines de esta sesión. Encontrarás la versión modificada en la ruta '../../Datasets/near_earth_objects-jan_feb_1995-dirty.csv'. Todos los Retos de esta sesión los harás con ese conjunto de datos.\n",
        "\n",
        "Te recomiendo que al finalizar cada reto guardes la nueva versión modificada de tu dataset bajo un nombre que indique el reto realizado (por ejemplo, 'near_earth_objects-jan_feb_1995-reto_1.csv'), para que puedas ir trabajando incrementalmente a través de los retos y no tengas que repetir procesos. Puedes guardar conjuntos de datos en formato `csv` usando el método `DataFrame.to_csv('ruta')`."
      ]
    },
    {
      "cell_type": "code",
      "metadata": {
        "colab": {
          "base_uri": "https://localhost:8080/"
        },
        "id": "6YsoPRoL5mDE",
        "outputId": "28e8fc36-2c9a-4e73-b1da-5c788d171f36"
      },
      "source": [
        "from google.colab import drive\n",
        "drive.mount('/content/drive')"
      ],
      "execution_count": 1,
      "outputs": [
        {
          "output_type": "stream",
          "text": [
            "Mounted at /content/drive\n"
          ],
          "name": "stdout"
        }
      ]
    },
    {
      "cell_type": "code",
      "metadata": {
        "id": "HHdIuDig5rTt"
      },
      "source": [
        "import pandas as pd\n",
        "df = pd.read_csv('drive/MyDrive/BEDU/Datasets/near_earth_objects-jan_feb_1995-dirty.csv', index_col=0)"
      ],
      "execution_count": 3,
      "outputs": []
    },
    {
      "cell_type": "code",
      "metadata": {
        "colab": {
          "base_uri": "https://localhost:8080/",
          "height": 412
        },
        "id": "3G6TJGFx56UL",
        "outputId": "05006985-9e06-4760-bd93-df215833b9ee"
      },
      "source": [
        "df.head()"
      ],
      "execution_count": 6,
      "outputs": [
        {
          "output_type": "execute_result",
          "data": {
            "text/html": [
              "<div>\n",
              "<style scoped>\n",
              "    .dataframe tbody tr th:only-of-type {\n",
              "        vertical-align: middle;\n",
              "    }\n",
              "\n",
              "    .dataframe tbody tr th {\n",
              "        vertical-align: top;\n",
              "    }\n",
              "\n",
              "    .dataframe thead th {\n",
              "        text-align: right;\n",
              "    }\n",
              "</style>\n",
              "<table border=\"1\" class=\"dataframe\">\n",
              "  <thead>\n",
              "    <tr style=\"text-align: right;\">\n",
              "      <th></th>\n",
              "      <th>id_name</th>\n",
              "      <th>is_potentially_hazardous_asteroid</th>\n",
              "      <th>estimated_diameter.meters.estimated_diameter_min</th>\n",
              "      <th>estimated_diameter.meters.estimated_diameter_max</th>\n",
              "      <th>close_approach_date</th>\n",
              "      <th>epoch_date_close_approach</th>\n",
              "      <th>orbiting_body</th>\n",
              "      <th>relative_velocity.kilometers_per_second</th>\n",
              "      <th>relative_velocity.kilometers_per_hour</th>\n",
              "      <th>orbit_class_description</th>\n",
              "    </tr>\n",
              "  </thead>\n",
              "  <tbody>\n",
              "    <tr>\n",
              "      <th>0</th>\n",
              "      <td>2154652-154652 (2004 EP20)</td>\n",
              "      <td>False</td>\n",
              "      <td>483.676488</td>\n",
              "      <td>1081.533507</td>\n",
              "      <td>1995-01-07</td>\n",
              "      <td>789467580000</td>\n",
              "      <td>earth</td>\n",
              "      <td>16.142864</td>\n",
              "      <td>58114.3086669449</td>\n",
              "      <td>Near-Earth-asteroid-orbits-similar-to-that-o...</td>\n",
              "    </tr>\n",
              "    <tr>\n",
              "      <th>1</th>\n",
              "      <td>3153509-(2003 HM)</td>\n",
              "      <td>True</td>\n",
              "      <td>96.506147</td>\n",
              "      <td>215.794305</td>\n",
              "      <td>1995-01-07</td>\n",
              "      <td>789491340000</td>\n",
              "      <td>earth</td>\n",
              "      <td>12.351044</td>\n",
              "      <td>44463.7577343496</td>\n",
              "      <td>Near-Earth-asteroid-orbits-which-cross-the-E...</td>\n",
              "    </tr>\n",
              "    <tr>\n",
              "      <th>2</th>\n",
              "      <td>3516633-(2010 HA)</td>\n",
              "      <td>False</td>\n",
              "      <td>44.111820</td>\n",
              "      <td>98.637028</td>\n",
              "      <td>1995-01-07</td>\n",
              "      <td>789446820000</td>\n",
              "      <td>earth</td>\n",
              "      <td>6.220435</td>\n",
              "      <td>Unknown</td>\n",
              "      <td>Near-Earth-asteroid-orbits-similar-to-that-o...</td>\n",
              "    </tr>\n",
              "    <tr>\n",
              "      <th>3</th>\n",
              "      <td>3837644-(2019 AY3)</td>\n",
              "      <td>False</td>\n",
              "      <td>46.190746</td>\n",
              "      <td>103.285648</td>\n",
              "      <td>1995-01-07</td>\n",
              "      <td>789513900000</td>\n",
              "      <td>earth</td>\n",
              "      <td>22.478615</td>\n",
              "      <td>80923.0150213416</td>\n",
              "      <td>Near-Earth-asteroid-orbits-similar-to-that-o...</td>\n",
              "    </tr>\n",
              "    <tr>\n",
              "      <th>4</th>\n",
              "      <td>3843493-(2019 PY)</td>\n",
              "      <td>False</td>\n",
              "      <td>22.108281</td>\n",
              "      <td>49.435619</td>\n",
              "      <td>1995-01-07</td>\n",
              "      <td>789446700000</td>\n",
              "      <td>earth</td>\n",
              "      <td>4.998691</td>\n",
              "      <td>17995.2883553078</td>\n",
              "      <td>Near-Earth-asteroid-orbits-similar-to-that-of...</td>\n",
              "    </tr>\n",
              "  </tbody>\n",
              "</table>\n",
              "</div>"
            ],
            "text/plain": [
              "                      id_name  ...                            orbit_class_description\n",
              "0  2154652-154652 (2004 EP20)  ...    Near-Earth-asteroid-orbits-similar-to-that-o...\n",
              "1           3153509-(2003 HM)  ...    Near-Earth-asteroid-orbits-which-cross-the-E...\n",
              "2           3516633-(2010 HA)  ...    Near-Earth-asteroid-orbits-similar-to-that-o...\n",
              "3          3837644-(2019 AY3)  ...    Near-Earth-asteroid-orbits-similar-to-that-o...\n",
              "4           3843493-(2019 PY)  ...   Near-Earth-asteroid-orbits-similar-to-that-of...\n",
              "\n",
              "[5 rows x 10 columns]"
            ]
          },
          "metadata": {
            "tags": []
          },
          "execution_count": 6
        }
      ]
    },
    {
      "cell_type": "code",
      "metadata": {
        "colab": {
          "base_uri": "https://localhost:8080/"
        },
        "id": "q8Z9wKwW6BJL",
        "outputId": "ab4ea7f4-8c80-40ec-d691-ba8018d85e3a"
      },
      "source": [
        "df.info"
      ],
      "execution_count": 7,
      "outputs": [
        {
          "output_type": "execute_result",
          "data": {
            "text/plain": [
              "<bound method DataFrame.info of                          id_name  ...                            orbit_class_description\n",
              "0     2154652-154652 (2004 EP20)  ...    Near-Earth-asteroid-orbits-similar-to-that-o...\n",
              "1              3153509-(2003 HM)  ...    Near-Earth-asteroid-orbits-which-cross-the-E...\n",
              "2              3516633-(2010 HA)  ...    Near-Earth-asteroid-orbits-similar-to-that-o...\n",
              "3             3837644-(2019 AY3)  ...    Near-Earth-asteroid-orbits-similar-to-that-o...\n",
              "4              3843493-(2019 PY)  ...   Near-Earth-asteroid-orbits-similar-to-that-of...\n",
              "..                           ...  ...                                                ...\n",
              "328  2267136-267136 (2000 EF104)  ...    Near-Earth-asteroid-orbits-similar-to-that-o...\n",
              "329           3360486-(2006 WE4)  ...    Near-Earth-asteroid-orbits-which-cross-the-E...\n",
              "330           3656919-(2014 BG3)  ...   An-asteroid-orbit-contained-entirely-within-t...\n",
              "331           3803762-(2018 GY4)  ...    Near-Earth-asteroid-orbits-similar-to-that-o...\n",
              "332           3989652-(2020 CH1)  ...   Near-Earth-asteroid-orbits-similar-to-that-of...\n",
              "\n",
              "[333 rows x 10 columns]>"
            ]
          },
          "metadata": {
            "tags": []
          },
          "execution_count": 7
        }
      ]
    },
    {
      "cell_type": "code",
      "metadata": {
        "colab": {
          "base_uri": "https://localhost:8080/"
        },
        "id": "ez88Kf6H6Y9D",
        "outputId": "df1ed877-79f5-4666-b3d7-de89aa4f68d6"
      },
      "source": [
        "df.dtypes"
      ],
      "execution_count": 30,
      "outputs": [
        {
          "output_type": "execute_result",
          "data": {
            "text/plain": [
              "id_name                                                     object\n",
              "is_potentially_hazardous_asteroid                             bool\n",
              "estimated_diameter.meters.estimated_diameter_min           float64\n",
              "estimated_diameter.meters.estimated_diameter_max           float64\n",
              "close_approach_date                                 datetime64[ns]\n",
              "epoch_date_close_approach                           datetime64[ns]\n",
              "orbiting_body                                               object\n",
              "relative_velocity.kilometers_per_second                    float64\n",
              "relative_velocity.kilometers_per_hour                      float64\n",
              "orbit_class_description                                     object\n",
              "dtype: object"
            ]
          },
          "metadata": {
            "tags": []
          },
          "execution_count": 30
        }
      ]
    },
    {
      "cell_type": "markdown",
      "metadata": {
        "id": "KZSKsp9X5CFt"
      },
      "source": [
        "Tu primer Reto consistirá en seguir los siguientes pasos:\n",
        "\n",
        "1. Lee el dataset y crea un `DataFrame` con él.\n",
        "2. Realiza una pequeña exploración para familiarizarte con él.\n",
        "3. Convierte la columna `relative_velocity.kilometers_per_hour` de `object` a `float64`.\n",
        "4. Convierte la columna `close_approach_date` a tipo de dato `datetime64[ms]` usando el método `astype` y un diccionario de conversión.\n",
        "5. Convierte la columna `epoch_date_close_approach` a tipo de dato `datetime64[ms]` usando el método `to_datetime`.\n",
        "6. Asigna el `DataFrame` resultante a la variable `df_reto_1`.\n",
        "7. Guarda tu resultado en un archivo .csv."
      ]
    },
    {
      "cell_type": "code",
      "metadata": {
        "id": "byP0M4Qg5CFu"
      },
      "source": [
        "df['relative_velocity.kilometers_per_hour'] = pd.to_numeric(df['relative_velocity.kilometers_per_hour'], errors='coerce')"
      ],
      "execution_count": 11,
      "outputs": []
    },
    {
      "cell_type": "code",
      "metadata": {
        "id": "oZdNkVbS7nk-"
      },
      "source": [
        "diccionario_de_conversion={\n",
        "    \"close_approach_date\":\"datetime64[ms]\"\n",
        "}"
      ],
      "execution_count": 15,
      "outputs": []
    },
    {
      "cell_type": "code",
      "metadata": {
        "id": "oblI96aC6-04"
      },
      "source": [
        "df = df.astype(diccionario_de_conversion)"
      ],
      "execution_count": 16,
      "outputs": []
    },
    {
      "cell_type": "code",
      "metadata": {
        "id": "UK_URj1P7_jN"
      },
      "source": [
        "df['epoch_date_close_approach'] = pd.to_datetime(df['epoch_date_close_approach'], unit='ms')"
      ],
      "execution_count": 29,
      "outputs": []
    },
    {
      "cell_type": "markdown",
      "metadata": {
        "id": "Jpes6nwG5CFu"
      },
      "source": [
        "Pídele a tu experta la función de verificación `checar_conversiones` (encontrada en el archivo `helpers.py` de la carpeta donde se encuentra este Reto), pégala debajo y corre la celda para verificar tu resultado:"
      ]
    },
    {
      "cell_type": "code",
      "metadata": {
        "id": "gGE-8cKI8W0L"
      },
      "source": [
        "df_reto_1 = df.copy()\n",
        "df_reto_1.to_csv('drive/MyDrive/BEDU/df_reto_1.csv')"
      ],
      "execution_count": 26,
      "outputs": []
    },
    {
      "cell_type": "code",
      "metadata": {
        "colab": {
          "base_uri": "https://localhost:8080/"
        },
        "id": "U805Nwn65CFv",
        "outputId": "62bb4cd4-e5d1-42c3-bdac-ea24461fef17"
      },
      "source": [
        "def checar_conversiones(df_reto_1):\n",
        "    \n",
        "    import pandas as pd\n",
        "    import pandas.api.types as ptypes\n",
        "    \n",
        "    assert ptypes.is_float_dtype(df_reto_1['relative_velocity.kilometers_per_hour']), 'Cuidado... La columna `relative_velocity.kilometers_per_hour` no es de tipo `float64`'\n",
        "    assert ptypes.is_datetime64_any_dtype(df_reto_1['close_approach_date']), 'Cuidado... La columna `close_approach_date` no es de tipo `datetime64[ns]`'\n",
        "    assert ptypes.is_datetime64_any_dtype(df_reto_1['epoch_date_close_approach']), 'Cuidado... La columna `epoch_date_close_approach` no es de tipo `datetime64[ns]'\n",
        "    \n",
        "    print(f'¡Éxito! ¡Todas tus conversiones fueron realizadas adecuadamente!')\n",
        "\n",
        "checar_conversiones(df_reto_1)"
      ],
      "execution_count": 28,
      "outputs": [
        {
          "output_type": "stream",
          "text": [
            "¡Éxito! ¡Todas tus conversiones fueron realizadas adecuadamente!\n"
          ],
          "name": "stdout"
        }
      ]
    },
    {
      "cell_type": "markdown",
      "metadata": {
        "id": "2ae2VLfE5CFv"
      },
      "source": [
        "<details><summary>Solución</summary>\n",
        "\n",
        "```python\n",
        "df = pd.read_csv('../../Datasets/near_earth_objects-jan_feb_1995-dirty.csv', index_col=0)\n",
        "df['relative_velocity.kilometers_per_hour'] = pd.to_numeric(df['relative_velocity.kilometers_per_hour'], errors='coerce')\n",
        "df = df.dropna(axis=0).reset_index(drop=True)\n",
        "df['relative_velocity.kilometers_per_hour'] = df['relative_velocity.kilometers_per_hour'].astype(float)\n",
        "diccionario_de_conversion = {\n",
        "    'close_approach_date': 'datetime64[ms]'\n",
        "}\n",
        "df = df.astype(diccionario_de_conversion)\n",
        "df['epoch_date_close_approach'] = pd.to_datetime(df['epoch_date_close_approach'], unit='ms')\n",
        "df_reto_1 = df.copy()\n",
        "```\n",
        "    \n",
        "</details>"
      ]
    },
    {
      "cell_type": "code",
      "metadata": {
        "id": "eKIQdiQbDY1k"
      },
      "source": [
        "df_reto_2 = pd.read_csv(\"drive/MyDrive/BEDU/df_reto_1.csv\")"
      ],
      "execution_count": 41,
      "outputs": []
    },
    {
      "cell_type": "code",
      "metadata": {
        "id": "Cs3-XyfsEY3g",
        "outputId": "3c887265-f3b1-4fb5-bd75-168ea3ea52bd",
        "colab": {
          "base_uri": "https://localhost:8080/"
        }
      },
      "source": [
        "df_reto_2[\"orbit_class_description\"]"
      ],
      "execution_count": 46,
      "outputs": [
        {
          "output_type": "execute_result",
          "data": {
            "text/plain": [
              "0      Near Earth asteroid orbits similar to that of ...\n",
              "1      Near Earth asteroid orbits which cross the Ear...\n",
              "2      Near Earth asteroid orbits similar to that of ...\n",
              "3      Near Earth asteroid orbits similar to that of ...\n",
              "4      Near Earth asteroid orbits similar to that of ...\n",
              "                             ...                        \n",
              "328    Near Earth asteroid orbits similar to that of ...\n",
              "329    Near Earth asteroid orbits which cross the Ear...\n",
              "330    An asteroid orbit contained entirely within th...\n",
              "331    Near Earth asteroid orbits similar to that of ...\n",
              "332    Near Earth asteroid orbits similar to that of ...\n",
              "Name: orbit_class_description, Length: 333, dtype: object"
            ]
          },
          "metadata": {
            "tags": []
          },
          "execution_count": 46
        }
      ]
    },
    {
      "cell_type": "code",
      "metadata": {
        "id": "i5gRrXE-EFNC"
      },
      "source": [
        "df_reto_2[\"orbit_class_description\"]=df_reto_2['orbit_class_description'].str.replace('-', ' ')\n",
        "df_reto_2[\"orbit_class_description\"]=df_reto_2[\"orbit_class_description\"].str.strip()"
      ],
      "execution_count": 45,
      "outputs": []
    },
    {
      "cell_type": "code",
      "metadata": {
        "colab": {
          "base_uri": "https://localhost:8080/"
        },
        "id": "PeQ8G2L45CFv",
        "outputId": "44cd19a4-6384-4797-a513-ade1f814e7f3"
      },
      "source": [
        "df_reto_2[['id', 'name']] = df_reto_2['id_name'].str.split('-', expand=True)"
      ],
      "execution_count": 43,
      "outputs": [
        {
          "output_type": "execute_result",
          "data": {
            "text/plain": [
              "0      Near-Earth-asteroid-orbits-similar-to-that-of-...\n",
              "1      Near-Earth-asteroid-orbits-which-cross-the-Ear...\n",
              "2      Near-Earth-asteroid-orbits-similar-to-that-of-...\n",
              "3      Near-Earth-asteroid-orbits-similar-to-that-of-...\n",
              "4      Near-Earth-asteroid-orbits-similar-to-that-of-...\n",
              "                             ...                        \n",
              "328    Near-Earth-asteroid-orbits-similar-to-that-of-...\n",
              "329    Near-Earth-asteroid-orbits-which-cross-the-Ear...\n",
              "330    An-asteroid-orbit-contained-entirely-within-th...\n",
              "331    Near-Earth-asteroid-orbits-similar-to-that-of-...\n",
              "332    Near-Earth-asteroid-orbits-similar-to-that-of-...\n",
              "Name: orbit_class_description, Length: 333, dtype: object"
            ]
          },
          "metadata": {
            "tags": []
          },
          "execution_count": 43
        }
      ]
    },
    {
      "cell_type": "code",
      "metadata": {
        "id": "S8Ba66Q_DQeV"
      },
      "source": [
        "df_reto_2[\"orbiting_body\"]= df_reto_2[\"orbiting_body\"].str.title()"
      ],
      "execution_count": 52,
      "outputs": []
    },
    {
      "cell_type": "code",
      "metadata": {
        "id": "_nXPhOxg_P59"
      },
      "source": [
        "df_reto_2.to_csv('drive/MyDrive/BEDU/df_reto_2.csv')"
      ],
      "execution_count": 53,
      "outputs": []
    },
    {
      "cell_type": "code",
      "metadata": {
        "id": "m4IQ1bBRKWOA"
      },
      "source": [
        "df_reto_3 = pd.read_csv(\"drive/MyDrive/BEDU/df_reto_2.csv\")"
      ],
      "execution_count": 54,
      "outputs": []
    },
    {
      "cell_type": "code",
      "metadata": {
        "id": "RYrhJA2CE7Hx",
        "outputId": "0ce06508-2c70-4386-b51a-9c20a3698084",
        "colab": {
          "base_uri": "https://localhost:8080/"
        }
      },
      "source": [
        "df_reto_3[\"is_potentially_hazardous_asteroid\"]"
      ],
      "execution_count": 55,
      "outputs": [
        {
          "output_type": "execute_result",
          "data": {
            "text/plain": [
              "0      False\n",
              "1       True\n",
              "2      False\n",
              "3      False\n",
              "4      False\n",
              "       ...  \n",
              "328    False\n",
              "329    False\n",
              "330    False\n",
              "331    False\n",
              "332    False\n",
              "Name: is_potentially_hazardous_asteroid, Length: 333, dtype: bool"
            ]
          },
          "metadata": {
            "tags": []
          },
          "execution_count": 55
        }
      ]
    },
    {
      "cell_type": "code",
      "metadata": {
        "id": "PMYrsk8kKfjL"
      },
      "source": [
        "dicbol={\n",
        "    False:0,\n",
        "    True:1\n",
        "}\n"
      ],
      "execution_count": 60,
      "outputs": []
    },
    {
      "cell_type": "code",
      "metadata": {
        "id": "Uhfz051IKsXe"
      },
      "source": [
        "df_reto_3['is_potentially_hazardous_asteroid']=df_reto_3['is_potentially_hazardous_asteroid'].map(dicbol)"
      ],
      "execution_count": 64,
      "outputs": []
    },
    {
      "cell_type": "code",
      "metadata": {
        "id": "7X0yH39MKz4L",
        "outputId": "3df252b3-aceb-4364-815f-50dd0fc04dae",
        "colab": {
          "base_uri": "https://localhost:8080/"
        }
      },
      "source": [
        "df_reto_3['is_potentially_hazardous_asteroid']"
      ],
      "execution_count": 65,
      "outputs": [
        {
          "output_type": "execute_result",
          "data": {
            "text/plain": [
              "0      0\n",
              "1      1\n",
              "2      0\n",
              "3      0\n",
              "4      0\n",
              "      ..\n",
              "328    0\n",
              "329    0\n",
              "330    0\n",
              "331    0\n",
              "332    0\n",
              "Name: is_potentially_hazardous_asteroid, Length: 333, dtype: int64"
            ]
          },
          "metadata": {
            "tags": []
          },
          "execution_count": 65
        }
      ]
    },
    {
      "cell_type": "code",
      "metadata": {
        "id": "qSrSGv-vMNBg"
      },
      "source": [
        "def aminutos(val):\n",
        "  return val/60"
      ],
      "execution_count": 69,
      "outputs": []
    },
    {
      "cell_type": "code",
      "metadata": {
        "id": "NnaORNkiMWD3",
        "outputId": "0650629c-842e-478b-82fd-609d9d75ee94",
        "colab": {
          "base_uri": "https://localhost:8080/"
        }
      },
      "source": [
        "df_reto_3[\"relative_velocity.kilometers_per_hour\"].map(aminutos)"
      ],
      "execution_count": 70,
      "outputs": [
        {
          "output_type": "execute_result",
          "data": {
            "text/plain": [
              "0       968.571811\n",
              "1       741.062629\n",
              "2              NaN\n",
              "3      1348.716917\n",
              "4       299.921473\n",
              "          ...     \n",
              "328     970.823503\n",
              "329     906.368411\n",
              "330    1220.590392\n",
              "331    1783.945551\n",
              "332            NaN\n",
              "Name: relative_velocity.kilometers_per_hour, Length: 333, dtype: float64"
            ]
          },
          "metadata": {
            "tags": []
          },
          "execution_count": 70
        }
      ]
    },
    {
      "cell_type": "code",
      "metadata": {
        "id": "h5b3WyGELjE3"
      },
      "source": [
        "df_reto_3[\"relative_velocity.kilometers_per_minute\"]=df_reto_3[\"relative_velocity.kilometers_per_hour\"].map(aminutos)"
      ],
      "execution_count": 71,
      "outputs": []
    },
    {
      "cell_type": "code",
      "metadata": {
        "id": "9VSTq9fDL1Y9"
      },
      "source": [
        "df_reto_3.to_csv('drive/MyDrive/BEDU/df_reto_3.csv')"
      ],
      "execution_count": 74,
      "outputs": []
    },
    {
      "cell_type": "code",
      "metadata": {
        "id": "WJ7sljxoMiH7",
        "outputId": "6a4ec136-c6a5-4fcd-8c59-33e5c4001c87",
        "colab": {
          "base_uri": "https://localhost:8080/"
        }
      },
      "source": [
        "def revisar_resultados(df_reto_3):\n",
        "    \n",
        "    import pandas as np\n",
        "    import pandas.api.types as pdtypes\n",
        "    \n",
        "    assert pdtypes.is_int64_dtype(df_reto_3['is_potentially_hazardous_asteroid']), 'La columna \"is_potentially_hazardous_asteroid\" no ha sido transformada a tipo numerico'\n",
        "    assert len(df_reto_3['is_potentially_hazardous_asteroid'].unique()) == 2, 'Hubo un error con la correspondencia de valores booleanos a numéricos. Hay más de dos valores posibles en la columna resultante'\n",
        "    assert df_reto_3['relative_velocity.kilometers_per_minute'].equals(df_reto_3['relative_velocity.kilometers_per_hour'] / 60), 'La conversión de kilometros por hora a kilómetros por minuto no fue realizada correctamente'\n",
        "    \n",
        "    print(f'Todos los procesos fueron realizados exitosamente!')\n",
        "\n",
        "revisar_resultados(df_reto_3)"
      ],
      "execution_count": 75,
      "outputs": [
        {
          "output_type": "stream",
          "text": [
            "Todos los procesos fueron realizados exitosamente!\n"
          ],
          "name": "stdout"
        }
      ]
    },
    {
      "cell_type": "code",
      "metadata": {
        "id": "PCdii3oYM5Gk"
      },
      "source": [
        "df_reto_4 = pd.read_csv(\"drive/MyDrive/BEDU/df_reto_3.csv\")"
      ],
      "execution_count": 76,
      "outputs": []
    },
    {
      "cell_type": "code",
      "metadata": {
        "id": "OQ5quGNwP8dD"
      },
      "source": [
        "def diametro(val):\n",
        "  return val/12742000"
      ],
      "execution_count": 78,
      "outputs": []
    },
    {
      "cell_type": "code",
      "metadata": {
        "id": "1MxBtDoMPtlH",
        "outputId": "c2a6c170-423d-42f2-e8c7-234cbf1a22d7",
        "colab": {
          "base_uri": "https://localhost:8080/",
          "height": 831
        }
      },
      "source": [
        "df_reto_4"
      ],
      "execution_count": 77,
      "outputs": [
        {
          "output_type": "execute_result",
          "data": {
            "text/html": [
              "<div>\n",
              "<style scoped>\n",
              "    .dataframe tbody tr th:only-of-type {\n",
              "        vertical-align: middle;\n",
              "    }\n",
              "\n",
              "    .dataframe tbody tr th {\n",
              "        vertical-align: top;\n",
              "    }\n",
              "\n",
              "    .dataframe thead th {\n",
              "        text-align: right;\n",
              "    }\n",
              "</style>\n",
              "<table border=\"1\" class=\"dataframe\">\n",
              "  <thead>\n",
              "    <tr style=\"text-align: right;\">\n",
              "      <th></th>\n",
              "      <th>Unnamed: 0</th>\n",
              "      <th>Unnamed: 0.1</th>\n",
              "      <th>Unnamed: 0.1.1</th>\n",
              "      <th>id_name</th>\n",
              "      <th>is_potentially_hazardous_asteroid</th>\n",
              "      <th>estimated_diameter.meters.estimated_diameter_min</th>\n",
              "      <th>estimated_diameter.meters.estimated_diameter_max</th>\n",
              "      <th>close_approach_date</th>\n",
              "      <th>epoch_date_close_approach</th>\n",
              "      <th>orbiting_body</th>\n",
              "      <th>relative_velocity.kilometers_per_second</th>\n",
              "      <th>relative_velocity.kilometers_per_hour</th>\n",
              "      <th>orbit_class_description</th>\n",
              "      <th>relative_velocity.kilometers_per_minute</th>\n",
              "    </tr>\n",
              "  </thead>\n",
              "  <tbody>\n",
              "    <tr>\n",
              "      <th>0</th>\n",
              "      <td>0</td>\n",
              "      <td>0</td>\n",
              "      <td>0</td>\n",
              "      <td>2154652-154652 (2004 EP20)</td>\n",
              "      <td>0</td>\n",
              "      <td>483.676488</td>\n",
              "      <td>1081.533507</td>\n",
              "      <td>1995-01-07</td>\n",
              "      <td>1995-01-07 08:33:00</td>\n",
              "      <td>Earth</td>\n",
              "      <td>16.142864</td>\n",
              "      <td>58114.308667</td>\n",
              "      <td>Near Earth asteroid orbits similar to that of ...</td>\n",
              "      <td>968.571811</td>\n",
              "    </tr>\n",
              "    <tr>\n",
              "      <th>1</th>\n",
              "      <td>1</td>\n",
              "      <td>1</td>\n",
              "      <td>1</td>\n",
              "      <td>3153509-(2003 HM)</td>\n",
              "      <td>1</td>\n",
              "      <td>96.506147</td>\n",
              "      <td>215.794305</td>\n",
              "      <td>1995-01-07</td>\n",
              "      <td>1995-01-07 15:09:00</td>\n",
              "      <td>Earth</td>\n",
              "      <td>12.351044</td>\n",
              "      <td>44463.757734</td>\n",
              "      <td>Near Earth asteroid orbits which cross the Ear...</td>\n",
              "      <td>741.062629</td>\n",
              "    </tr>\n",
              "    <tr>\n",
              "      <th>2</th>\n",
              "      <td>2</td>\n",
              "      <td>2</td>\n",
              "      <td>2</td>\n",
              "      <td>3516633-(2010 HA)</td>\n",
              "      <td>0</td>\n",
              "      <td>44.111820</td>\n",
              "      <td>98.637028</td>\n",
              "      <td>1995-01-07</td>\n",
              "      <td>1995-01-07 02:47:00</td>\n",
              "      <td>Earth</td>\n",
              "      <td>6.220435</td>\n",
              "      <td>NaN</td>\n",
              "      <td>Near Earth asteroid orbits similar to that of ...</td>\n",
              "      <td>NaN</td>\n",
              "    </tr>\n",
              "    <tr>\n",
              "      <th>3</th>\n",
              "      <td>3</td>\n",
              "      <td>3</td>\n",
              "      <td>3</td>\n",
              "      <td>3837644-(2019 AY3)</td>\n",
              "      <td>0</td>\n",
              "      <td>46.190746</td>\n",
              "      <td>103.285648</td>\n",
              "      <td>1995-01-07</td>\n",
              "      <td>1995-01-07 21:25:00</td>\n",
              "      <td>Earth</td>\n",
              "      <td>22.478615</td>\n",
              "      <td>80923.015021</td>\n",
              "      <td>Near Earth asteroid orbits similar to that of ...</td>\n",
              "      <td>1348.716917</td>\n",
              "    </tr>\n",
              "    <tr>\n",
              "      <th>4</th>\n",
              "      <td>4</td>\n",
              "      <td>4</td>\n",
              "      <td>4</td>\n",
              "      <td>3843493-(2019 PY)</td>\n",
              "      <td>0</td>\n",
              "      <td>22.108281</td>\n",
              "      <td>49.435619</td>\n",
              "      <td>1995-01-07</td>\n",
              "      <td>1995-01-07 02:45:00</td>\n",
              "      <td>Earth</td>\n",
              "      <td>4.998691</td>\n",
              "      <td>17995.288355</td>\n",
              "      <td>Near Earth asteroid orbits similar to that of ...</td>\n",
              "      <td>299.921473</td>\n",
              "    </tr>\n",
              "    <tr>\n",
              "      <th>...</th>\n",
              "      <td>...</td>\n",
              "      <td>...</td>\n",
              "      <td>...</td>\n",
              "      <td>...</td>\n",
              "      <td>...</td>\n",
              "      <td>...</td>\n",
              "      <td>...</td>\n",
              "      <td>...</td>\n",
              "      <td>...</td>\n",
              "      <td>...</td>\n",
              "      <td>...</td>\n",
              "      <td>...</td>\n",
              "      <td>...</td>\n",
              "      <td>...</td>\n",
              "    </tr>\n",
              "    <tr>\n",
              "      <th>328</th>\n",
              "      <td>328</td>\n",
              "      <td>328</td>\n",
              "      <td>328</td>\n",
              "      <td>2267136-267136 (2000 EF104)</td>\n",
              "      <td>0</td>\n",
              "      <td>441.118200</td>\n",
              "      <td>986.370281</td>\n",
              "      <td>1995-02-21</td>\n",
              "      <td>1995-02-21 04:17:00</td>\n",
              "      <td>Earth</td>\n",
              "      <td>16.180392</td>\n",
              "      <td>58249.410194</td>\n",
              "      <td>Near Earth asteroid orbits similar to that of ...</td>\n",
              "      <td>970.823503</td>\n",
              "    </tr>\n",
              "    <tr>\n",
              "      <th>329</th>\n",
              "      <td>329</td>\n",
              "      <td>329</td>\n",
              "      <td>329</td>\n",
              "      <td>3360486-(2006 WE4)</td>\n",
              "      <td>0</td>\n",
              "      <td>441.118200</td>\n",
              "      <td>986.370281</td>\n",
              "      <td>1995-02-21</td>\n",
              "      <td>1995-02-21 15:44:00</td>\n",
              "      <td>Earth</td>\n",
              "      <td>15.106140</td>\n",
              "      <td>54382.104639</td>\n",
              "      <td>Near Earth asteroid orbits which cross the Ear...</td>\n",
              "      <td>906.368411</td>\n",
              "    </tr>\n",
              "    <tr>\n",
              "      <th>330</th>\n",
              "      <td>330</td>\n",
              "      <td>330</td>\n",
              "      <td>330</td>\n",
              "      <td>3656919-(2014 BG3)</td>\n",
              "      <td>0</td>\n",
              "      <td>160.160338</td>\n",
              "      <td>358.129403</td>\n",
              "      <td>1995-02-21</td>\n",
              "      <td>1995-02-21 12:08:00</td>\n",
              "      <td>Earth</td>\n",
              "      <td>20.343173</td>\n",
              "      <td>73235.423517</td>\n",
              "      <td>An asteroid orbit contained entirely within th...</td>\n",
              "      <td>1220.590392</td>\n",
              "    </tr>\n",
              "    <tr>\n",
              "      <th>331</th>\n",
              "      <td>331</td>\n",
              "      <td>331</td>\n",
              "      <td>331</td>\n",
              "      <td>3803762-(2018 GY4)</td>\n",
              "      <td>0</td>\n",
              "      <td>421.264611</td>\n",
              "      <td>941.976306</td>\n",
              "      <td>1995-02-21</td>\n",
              "      <td>1995-02-21 12:54:00</td>\n",
              "      <td>Earth</td>\n",
              "      <td>29.732426</td>\n",
              "      <td>107036.733058</td>\n",
              "      <td>Near Earth asteroid orbits similar to that of ...</td>\n",
              "      <td>1783.945551</td>\n",
              "    </tr>\n",
              "    <tr>\n",
              "      <th>332</th>\n",
              "      <td>332</td>\n",
              "      <td>332</td>\n",
              "      <td>332</td>\n",
              "      <td>3989652-(2020 CH1)</td>\n",
              "      <td>0</td>\n",
              "      <td>21.525586</td>\n",
              "      <td>48.132673</td>\n",
              "      <td>1995-02-21</td>\n",
              "      <td>1995-02-21 22:15:00</td>\n",
              "      <td>Earth</td>\n",
              "      <td>6.998083</td>\n",
              "      <td>NaN</td>\n",
              "      <td>Near Earth asteroid orbits similar to that of ...</td>\n",
              "      <td>NaN</td>\n",
              "    </tr>\n",
              "  </tbody>\n",
              "</table>\n",
              "<p>333 rows × 14 columns</p>\n",
              "</div>"
            ],
            "text/plain": [
              "     Unnamed: 0  ...  relative_velocity.kilometers_per_minute\n",
              "0             0  ...                               968.571811\n",
              "1             1  ...                               741.062629\n",
              "2             2  ...                                      NaN\n",
              "3             3  ...                              1348.716917\n",
              "4             4  ...                               299.921473\n",
              "..          ...  ...                                      ...\n",
              "328         328  ...                               970.823503\n",
              "329         329  ...                               906.368411\n",
              "330         330  ...                              1220.590392\n",
              "331         331  ...                              1783.945551\n",
              "332         332  ...                                      NaN\n",
              "\n",
              "[333 rows x 14 columns]"
            ]
          },
          "metadata": {
            "tags": []
          },
          "execution_count": 77
        }
      ]
    },
    {
      "cell_type": "code",
      "metadata": {
        "id": "CRoLXSGLP3Ls"
      },
      "source": [
        "df_reto_4[\"proportion_of_max_diameter_to_earth\"]=df_reto_4['estimated_diameter.meters.estimated_diameter_max'].apply(diametro)"
      ],
      "execution_count": 80,
      "outputs": []
    },
    {
      "cell_type": "code",
      "metadata": {
        "id": "UFe_aARrQt-3"
      },
      "source": [
        "df_reto_4.to_csv('drive/MyDrive/BEDU/df_reto_4.csv')"
      ],
      "execution_count": 83,
      "outputs": []
    },
    {
      "cell_type": "code",
      "metadata": {
        "id": "ZlM1cJjSQ8uf",
        "outputId": "10cea139-1a48-4f41-a79e-e5542c39fb73",
        "colab": {
          "base_uri": "https://localhost:8080/"
        }
      },
      "source": [
        "def revisar_aplicacion(df_reto_4):\n",
        "    \n",
        "    assert 'proportion_of_max_diameter_to_earth' in df_reto_4, 'No existe una columna llamada \"proportion_of_max_diameter_to_earth\" en el DataFrame'\n",
        "    assert df_reto_4['proportion_of_max_diameter_to_earth'].equals(df_reto_4['estimated_diameter.meters.estimated_diameter_max'] / 12742000), 'La transformacion no fue realizada adecuadamente'\n",
        "    \n",
        "    print(f'La transformación y creación de una nueva columna fue realizada exitosamente!')\n",
        "\n",
        "revisar_aplicacion(df_reto_4)"
      ],
      "execution_count": 82,
      "outputs": [
        {
          "output_type": "stream",
          "text": [
            "La transformación y creación de una nueva columna fue realizada exitosamente!\n"
          ],
          "name": "stdout"
        }
      ]
    },
    {
      "cell_type": "code",
      "metadata": {
        "id": "EkuKRJ83Un-O"
      },
      "source": [
        "df_reto_5 = pd.read_csv(\"drive/MyDrive/BEDU/df_reto_4.csv\")"
      ],
      "execution_count": 84,
      "outputs": []
    },
    {
      "cell_type": "code",
      "metadata": {
        "id": "iPsiDNB3RIaX"
      },
      "source": [
        "filtro_1_1= df_reto_5[\"is_potentially_hazardous_asteroid\"] == True \n",
        "filtro_1_2=df_reto_5[\"is_potentially_hazardous_asteroid\"]==1"
      ],
      "execution_count": 86,
      "outputs": []
    },
    {
      "cell_type": "code",
      "metadata": {
        "id": "d40WX9S6U2tn"
      },
      "source": [
        "df_hazardous = df_reto_5[filtro_1_1 | filtro_1_2]"
      ],
      "execution_count": 88,
      "outputs": []
    },
    {
      "cell_type": "code",
      "metadata": {
        "id": "iBfrsHsoVbCx"
      },
      "source": [
        "df_bigger_than_1000 = df_reto_5[df_reto_5[\"estimated_diameter.meters.estimated_diameter_max\"]>1000]"
      ],
      "execution_count": 91,
      "outputs": []
    },
    {
      "cell_type": "code",
      "metadata": {
        "id": "rn-Ldn2lVyrL",
        "outputId": "13be551e-33f8-4dbe-a252-4b1fa215af20",
        "colab": {
          "base_uri": "https://localhost:8080/"
        }
      },
      "source": [
        "pd.to_datetime(df_reto_5[\"epoch_date_close_approach\"])=='1995-02'"
      ],
      "execution_count": 99,
      "outputs": [
        {
          "output_type": "execute_result",
          "data": {
            "text/plain": [
              "0      False\n",
              "1      False\n",
              "2      False\n",
              "3      False\n",
              "4      False\n",
              "       ...  \n",
              "328    False\n",
              "329    False\n",
              "330    False\n",
              "331    False\n",
              "332    False\n",
              "Name: epoch_date_close_approach, Length: 333, dtype: bool"
            ]
          },
          "metadata": {
            "tags": []
          },
          "execution_count": 99
        }
      ]
    },
    {
      "cell_type": "code",
      "metadata": {
        "id": "DH4Pfaz0Vz6z",
        "outputId": "dd1e4027-9538-4b66-8795-75781663d0a1",
        "colab": {
          "base_uri": "https://localhost:8080/"
        }
      },
      "source": [
        "df_reto_5[\"epoch_date_close_approach\"]"
      ],
      "execution_count": 100,
      "outputs": [
        {
          "output_type": "execute_result",
          "data": {
            "text/plain": [
              "0      1995-01-07 08:33:00\n",
              "1      1995-01-07 15:09:00\n",
              "2      1995-01-07 02:47:00\n",
              "3      1995-01-07 21:25:00\n",
              "4      1995-01-07 02:45:00\n",
              "              ...         \n",
              "328    1995-02-21 04:17:00\n",
              "329    1995-02-21 15:44:00\n",
              "330    1995-02-21 12:08:00\n",
              "331    1995-02-21 12:54:00\n",
              "332    1995-02-21 22:15:00\n",
              "Name: epoch_date_close_approach, Length: 333, dtype: object"
            ]
          },
          "metadata": {
            "tags": []
          },
          "execution_count": 100
        }
      ]
    },
    {
      "cell_type": "code",
      "metadata": {
        "id": "I0YFh3OBWy63"
      },
      "source": [
        "df_february =\n",
        "Febrero de 1995"
      ],
      "execution_count": null,
      "outputs": []
    }
  ]
}